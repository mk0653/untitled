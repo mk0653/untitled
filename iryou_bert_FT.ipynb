{
  "nbformat": 4,
  "nbformat_minor": 0,
  "metadata": {
    "colab": {
      "name": "iryou_bert_FT.ipynb",
      "provenance": [],
      "collapsed_sections": [],
      "machine_shape": "hm",
      "mount_file_id": "1ro2nPQVtCcqIcvT5a7ixAbAmqRz3VmOn",
      "authorship_tag": "ABX9TyN6h1jKaQIixrY6Hgr4Wpk3",
      "include_colab_link": true
    },
    "kernelspec": {
      "name": "python3",
      "display_name": "Python 3"
    },
    "language_info": {
      "name": "python"
    },
    "widgets": {
      "application/vnd.jupyter.widget-state+json": {
        "6cd33fd7a3a54dac99fef5e66e5075e0": {
          "model_module": "@jupyter-widgets/controls",
          "model_name": "HBoxModel",
          "model_module_version": "1.5.0",
          "state": {
            "_view_name": "HBoxView",
            "_dom_classes": [],
            "_model_name": "HBoxModel",
            "_view_module": "@jupyter-widgets/controls",
            "_model_module_version": "1.5.0",
            "_view_count": null,
            "_view_module_version": "1.5.0",
            "box_style": "",
            "layout": "IPY_MODEL_9e0b3d94267a45af9758cdde65dbe3ed",
            "_model_module": "@jupyter-widgets/controls",
            "children": [
              "IPY_MODEL_71b9b511f3d742c7a41b9251130174ab",
              "IPY_MODEL_5d9c617c928c4d9e98a37beab30a3dba",
              "IPY_MODEL_4dbf0983019d4222b48d8d2377237f72"
            ]
          }
        },
        "9e0b3d94267a45af9758cdde65dbe3ed": {
          "model_module": "@jupyter-widgets/base",
          "model_name": "LayoutModel",
          "model_module_version": "1.2.0",
          "state": {
            "_view_name": "LayoutView",
            "grid_template_rows": null,
            "right": null,
            "justify_content": null,
            "_view_module": "@jupyter-widgets/base",
            "overflow": null,
            "_model_module_version": "1.2.0",
            "_view_count": null,
            "flex_flow": null,
            "width": null,
            "min_width": null,
            "border": null,
            "align_items": null,
            "bottom": null,
            "_model_module": "@jupyter-widgets/base",
            "top": null,
            "grid_column": null,
            "overflow_y": null,
            "overflow_x": null,
            "grid_auto_flow": null,
            "grid_area": null,
            "grid_template_columns": null,
            "flex": null,
            "_model_name": "LayoutModel",
            "justify_items": null,
            "grid_row": null,
            "max_height": null,
            "align_content": null,
            "visibility": null,
            "align_self": null,
            "height": null,
            "min_height": null,
            "padding": null,
            "grid_auto_rows": null,
            "grid_gap": null,
            "max_width": null,
            "order": null,
            "_view_module_version": "1.2.0",
            "grid_template_areas": null,
            "object_position": null,
            "object_fit": null,
            "grid_auto_columns": null,
            "margin": null,
            "display": null,
            "left": null
          }
        },
        "71b9b511f3d742c7a41b9251130174ab": {
          "model_module": "@jupyter-widgets/controls",
          "model_name": "HTMLModel",
          "model_module_version": "1.5.0",
          "state": {
            "_view_name": "HTMLView",
            "style": "IPY_MODEL_13525907eddd46f1bf8f464fbcc870f0",
            "_dom_classes": [],
            "description": "",
            "_model_name": "HTMLModel",
            "placeholder": "​",
            "_view_module": "@jupyter-widgets/controls",
            "_model_module_version": "1.5.0",
            "value": "100%",
            "_view_count": null,
            "_view_module_version": "1.5.0",
            "description_tooltip": null,
            "_model_module": "@jupyter-widgets/controls",
            "layout": "IPY_MODEL_e9281cef345c4db1a07c0b1b4f73e194"
          }
        },
        "5d9c617c928c4d9e98a37beab30a3dba": {
          "model_module": "@jupyter-widgets/controls",
          "model_name": "FloatProgressModel",
          "model_module_version": "1.5.0",
          "state": {
            "_view_name": "ProgressView",
            "style": "IPY_MODEL_6d20993f8fd949c499111d309a742e46",
            "_dom_classes": [],
            "description": "",
            "_model_name": "FloatProgressModel",
            "bar_style": "success",
            "max": 2553,
            "_view_module": "@jupyter-widgets/controls",
            "_model_module_version": "1.5.0",
            "value": 2553,
            "_view_count": null,
            "_view_module_version": "1.5.0",
            "orientation": "horizontal",
            "min": 0,
            "description_tooltip": null,
            "_model_module": "@jupyter-widgets/controls",
            "layout": "IPY_MODEL_332feca646004f69b7a7ba126fe7b361"
          }
        },
        "4dbf0983019d4222b48d8d2377237f72": {
          "model_module": "@jupyter-widgets/controls",
          "model_name": "HTMLModel",
          "model_module_version": "1.5.0",
          "state": {
            "_view_name": "HTMLView",
            "style": "IPY_MODEL_c6d83d3b47c84f00b2a343a893f954fe",
            "_dom_classes": [],
            "description": "",
            "_model_name": "HTMLModel",
            "placeholder": "​",
            "_view_module": "@jupyter-widgets/controls",
            "_model_module_version": "1.5.0",
            "value": " 2553/2553 [03:05&lt;00:00, 13.81it/s]",
            "_view_count": null,
            "_view_module_version": "1.5.0",
            "description_tooltip": null,
            "_model_module": "@jupyter-widgets/controls",
            "layout": "IPY_MODEL_c1fd0787fbe948baa1380e560ae172f0"
          }
        },
        "13525907eddd46f1bf8f464fbcc870f0": {
          "model_module": "@jupyter-widgets/controls",
          "model_name": "DescriptionStyleModel",
          "model_module_version": "1.5.0",
          "state": {
            "_view_name": "StyleView",
            "_model_name": "DescriptionStyleModel",
            "description_width": "",
            "_view_module": "@jupyter-widgets/base",
            "_model_module_version": "1.5.0",
            "_view_count": null,
            "_view_module_version": "1.2.0",
            "_model_module": "@jupyter-widgets/controls"
          }
        },
        "e9281cef345c4db1a07c0b1b4f73e194": {
          "model_module": "@jupyter-widgets/base",
          "model_name": "LayoutModel",
          "model_module_version": "1.2.0",
          "state": {
            "_view_name": "LayoutView",
            "grid_template_rows": null,
            "right": null,
            "justify_content": null,
            "_view_module": "@jupyter-widgets/base",
            "overflow": null,
            "_model_module_version": "1.2.0",
            "_view_count": null,
            "flex_flow": null,
            "width": null,
            "min_width": null,
            "border": null,
            "align_items": null,
            "bottom": null,
            "_model_module": "@jupyter-widgets/base",
            "top": null,
            "grid_column": null,
            "overflow_y": null,
            "overflow_x": null,
            "grid_auto_flow": null,
            "grid_area": null,
            "grid_template_columns": null,
            "flex": null,
            "_model_name": "LayoutModel",
            "justify_items": null,
            "grid_row": null,
            "max_height": null,
            "align_content": null,
            "visibility": null,
            "align_self": null,
            "height": null,
            "min_height": null,
            "padding": null,
            "grid_auto_rows": null,
            "grid_gap": null,
            "max_width": null,
            "order": null,
            "_view_module_version": "1.2.0",
            "grid_template_areas": null,
            "object_position": null,
            "object_fit": null,
            "grid_auto_columns": null,
            "margin": null,
            "display": null,
            "left": null
          }
        },
        "6d20993f8fd949c499111d309a742e46": {
          "model_module": "@jupyter-widgets/controls",
          "model_name": "ProgressStyleModel",
          "model_module_version": "1.5.0",
          "state": {
            "_view_name": "StyleView",
            "_model_name": "ProgressStyleModel",
            "description_width": "",
            "_view_module": "@jupyter-widgets/base",
            "_model_module_version": "1.5.0",
            "_view_count": null,
            "_view_module_version": "1.2.0",
            "bar_color": null,
            "_model_module": "@jupyter-widgets/controls"
          }
        },
        "332feca646004f69b7a7ba126fe7b361": {
          "model_module": "@jupyter-widgets/base",
          "model_name": "LayoutModel",
          "model_module_version": "1.2.0",
          "state": {
            "_view_name": "LayoutView",
            "grid_template_rows": null,
            "right": null,
            "justify_content": null,
            "_view_module": "@jupyter-widgets/base",
            "overflow": null,
            "_model_module_version": "1.2.0",
            "_view_count": null,
            "flex_flow": null,
            "width": null,
            "min_width": null,
            "border": null,
            "align_items": null,
            "bottom": null,
            "_model_module": "@jupyter-widgets/base",
            "top": null,
            "grid_column": null,
            "overflow_y": null,
            "overflow_x": null,
            "grid_auto_flow": null,
            "grid_area": null,
            "grid_template_columns": null,
            "flex": null,
            "_model_name": "LayoutModel",
            "justify_items": null,
            "grid_row": null,
            "max_height": null,
            "align_content": null,
            "visibility": null,
            "align_self": null,
            "height": null,
            "min_height": null,
            "padding": null,
            "grid_auto_rows": null,
            "grid_gap": null,
            "max_width": null,
            "order": null,
            "_view_module_version": "1.2.0",
            "grid_template_areas": null,
            "object_position": null,
            "object_fit": null,
            "grid_auto_columns": null,
            "margin": null,
            "display": null,
            "left": null
          }
        },
        "c6d83d3b47c84f00b2a343a893f954fe": {
          "model_module": "@jupyter-widgets/controls",
          "model_name": "DescriptionStyleModel",
          "model_module_version": "1.5.0",
          "state": {
            "_view_name": "StyleView",
            "_model_name": "DescriptionStyleModel",
            "description_width": "",
            "_view_module": "@jupyter-widgets/base",
            "_model_module_version": "1.5.0",
            "_view_count": null,
            "_view_module_version": "1.2.0",
            "_model_module": "@jupyter-widgets/controls"
          }
        },
        "c1fd0787fbe948baa1380e560ae172f0": {
          "model_module": "@jupyter-widgets/base",
          "model_name": "LayoutModel",
          "model_module_version": "1.2.0",
          "state": {
            "_view_name": "LayoutView",
            "grid_template_rows": null,
            "right": null,
            "justify_content": null,
            "_view_module": "@jupyter-widgets/base",
            "overflow": null,
            "_model_module_version": "1.2.0",
            "_view_count": null,
            "flex_flow": null,
            "width": null,
            "min_width": null,
            "border": null,
            "align_items": null,
            "bottom": null,
            "_model_module": "@jupyter-widgets/base",
            "top": null,
            "grid_column": null,
            "overflow_y": null,
            "overflow_x": null,
            "grid_auto_flow": null,
            "grid_area": null,
            "grid_template_columns": null,
            "flex": null,
            "_model_name": "LayoutModel",
            "justify_items": null,
            "grid_row": null,
            "max_height": null,
            "align_content": null,
            "visibility": null,
            "align_self": null,
            "height": null,
            "min_height": null,
            "padding": null,
            "grid_auto_rows": null,
            "grid_gap": null,
            "max_width": null,
            "order": null,
            "_view_module_version": "1.2.0",
            "grid_template_areas": null,
            "object_position": null,
            "object_fit": null,
            "grid_auto_columns": null,
            "margin": null,
            "display": null,
            "left": null
          }
        },
        "6bf3bae5f98647c5a587517d55561f2b": {
          "model_module": "@jupyter-widgets/controls",
          "model_name": "HBoxModel",
          "model_module_version": "1.5.0",
          "state": {
            "_view_name": "HBoxView",
            "_dom_classes": [],
            "_model_name": "HBoxModel",
            "_view_module": "@jupyter-widgets/controls",
            "_model_module_version": "1.5.0",
            "_view_count": null,
            "_view_module_version": "1.5.0",
            "box_style": "",
            "layout": "IPY_MODEL_30cceba8ecbf400ca15108ea1dac21cd",
            "_model_module": "@jupyter-widgets/controls",
            "children": [
              "IPY_MODEL_ede6ac89fd744bcc9e1ee7fa6df2ae77",
              "IPY_MODEL_9349efcbce644208bfd4590b30ae5e42",
              "IPY_MODEL_3327e7c9343e4717b476ea59b0ef5730"
            ]
          }
        },
        "30cceba8ecbf400ca15108ea1dac21cd": {
          "model_module": "@jupyter-widgets/base",
          "model_name": "LayoutModel",
          "model_module_version": "1.2.0",
          "state": {
            "_view_name": "LayoutView",
            "grid_template_rows": null,
            "right": null,
            "justify_content": null,
            "_view_module": "@jupyter-widgets/base",
            "overflow": null,
            "_model_module_version": "1.2.0",
            "_view_count": null,
            "flex_flow": null,
            "width": null,
            "min_width": null,
            "border": null,
            "align_items": null,
            "bottom": null,
            "_model_module": "@jupyter-widgets/base",
            "top": null,
            "grid_column": null,
            "overflow_y": null,
            "overflow_x": null,
            "grid_auto_flow": null,
            "grid_area": null,
            "grid_template_columns": null,
            "flex": null,
            "_model_name": "LayoutModel",
            "justify_items": null,
            "grid_row": null,
            "max_height": null,
            "align_content": null,
            "visibility": null,
            "align_self": null,
            "height": null,
            "min_height": null,
            "padding": null,
            "grid_auto_rows": null,
            "grid_gap": null,
            "max_width": null,
            "order": null,
            "_view_module_version": "1.2.0",
            "grid_template_areas": null,
            "object_position": null,
            "object_fit": null,
            "grid_auto_columns": null,
            "margin": null,
            "display": null,
            "left": null
          }
        },
        "ede6ac89fd744bcc9e1ee7fa6df2ae77": {
          "model_module": "@jupyter-widgets/controls",
          "model_name": "HTMLModel",
          "model_module_version": "1.5.0",
          "state": {
            "_view_name": "HTMLView",
            "style": "IPY_MODEL_808066ca7cac47fba34ce9f1579f2d6e",
            "_dom_classes": [],
            "description": "",
            "_model_name": "HTMLModel",
            "placeholder": "​",
            "_view_module": "@jupyter-widgets/controls",
            "_model_module_version": "1.5.0",
            "value": "100%",
            "_view_count": null,
            "_view_module_version": "1.5.0",
            "description_tooltip": null,
            "_model_module": "@jupyter-widgets/controls",
            "layout": "IPY_MODEL_f6c848dd81cf40bda1456ebe97f74952"
          }
        },
        "9349efcbce644208bfd4590b30ae5e42": {
          "model_module": "@jupyter-widgets/controls",
          "model_name": "FloatProgressModel",
          "model_module_version": "1.5.0",
          "state": {
            "_view_name": "ProgressView",
            "style": "IPY_MODEL_a83e81c22d834356af01009cd04230af",
            "_dom_classes": [],
            "description": "",
            "_model_name": "FloatProgressModel",
            "bar_style": "success",
            "max": 2553,
            "_view_module": "@jupyter-widgets/controls",
            "_model_module_version": "1.5.0",
            "value": 2553,
            "_view_count": null,
            "_view_module_version": "1.5.0",
            "orientation": "horizontal",
            "min": 0,
            "description_tooltip": null,
            "_model_module": "@jupyter-widgets/controls",
            "layout": "IPY_MODEL_8920b25a85944849acebf85964440614"
          }
        },
        "3327e7c9343e4717b476ea59b0ef5730": {
          "model_module": "@jupyter-widgets/controls",
          "model_name": "HTMLModel",
          "model_module_version": "1.5.0",
          "state": {
            "_view_name": "HTMLView",
            "style": "IPY_MODEL_ccb196a8b47a4bfd9c9e5826cbce320f",
            "_dom_classes": [],
            "description": "",
            "_model_name": "HTMLModel",
            "placeholder": "​",
            "_view_module": "@jupyter-widgets/controls",
            "_model_module_version": "1.5.0",
            "value": " 2553/2553 [03:06&lt;00:00, 13.73it/s]",
            "_view_count": null,
            "_view_module_version": "1.5.0",
            "description_tooltip": null,
            "_model_module": "@jupyter-widgets/controls",
            "layout": "IPY_MODEL_1591701b40d84e959987d2983781d5e0"
          }
        },
        "808066ca7cac47fba34ce9f1579f2d6e": {
          "model_module": "@jupyter-widgets/controls",
          "model_name": "DescriptionStyleModel",
          "model_module_version": "1.5.0",
          "state": {
            "_view_name": "StyleView",
            "_model_name": "DescriptionStyleModel",
            "description_width": "",
            "_view_module": "@jupyter-widgets/base",
            "_model_module_version": "1.5.0",
            "_view_count": null,
            "_view_module_version": "1.2.0",
            "_model_module": "@jupyter-widgets/controls"
          }
        },
        "f6c848dd81cf40bda1456ebe97f74952": {
          "model_module": "@jupyter-widgets/base",
          "model_name": "LayoutModel",
          "model_module_version": "1.2.0",
          "state": {
            "_view_name": "LayoutView",
            "grid_template_rows": null,
            "right": null,
            "justify_content": null,
            "_view_module": "@jupyter-widgets/base",
            "overflow": null,
            "_model_module_version": "1.2.0",
            "_view_count": null,
            "flex_flow": null,
            "width": null,
            "min_width": null,
            "border": null,
            "align_items": null,
            "bottom": null,
            "_model_module": "@jupyter-widgets/base",
            "top": null,
            "grid_column": null,
            "overflow_y": null,
            "overflow_x": null,
            "grid_auto_flow": null,
            "grid_area": null,
            "grid_template_columns": null,
            "flex": null,
            "_model_name": "LayoutModel",
            "justify_items": null,
            "grid_row": null,
            "max_height": null,
            "align_content": null,
            "visibility": null,
            "align_self": null,
            "height": null,
            "min_height": null,
            "padding": null,
            "grid_auto_rows": null,
            "grid_gap": null,
            "max_width": null,
            "order": null,
            "_view_module_version": "1.2.0",
            "grid_template_areas": null,
            "object_position": null,
            "object_fit": null,
            "grid_auto_columns": null,
            "margin": null,
            "display": null,
            "left": null
          }
        },
        "a83e81c22d834356af01009cd04230af": {
          "model_module": "@jupyter-widgets/controls",
          "model_name": "ProgressStyleModel",
          "model_module_version": "1.5.0",
          "state": {
            "_view_name": "StyleView",
            "_model_name": "ProgressStyleModel",
            "description_width": "",
            "_view_module": "@jupyter-widgets/base",
            "_model_module_version": "1.5.0",
            "_view_count": null,
            "_view_module_version": "1.2.0",
            "bar_color": null,
            "_model_module": "@jupyter-widgets/controls"
          }
        },
        "8920b25a85944849acebf85964440614": {
          "model_module": "@jupyter-widgets/base",
          "model_name": "LayoutModel",
          "model_module_version": "1.2.0",
          "state": {
            "_view_name": "LayoutView",
            "grid_template_rows": null,
            "right": null,
            "justify_content": null,
            "_view_module": "@jupyter-widgets/base",
            "overflow": null,
            "_model_module_version": "1.2.0",
            "_view_count": null,
            "flex_flow": null,
            "width": null,
            "min_width": null,
            "border": null,
            "align_items": null,
            "bottom": null,
            "_model_module": "@jupyter-widgets/base",
            "top": null,
            "grid_column": null,
            "overflow_y": null,
            "overflow_x": null,
            "grid_auto_flow": null,
            "grid_area": null,
            "grid_template_columns": null,
            "flex": null,
            "_model_name": "LayoutModel",
            "justify_items": null,
            "grid_row": null,
            "max_height": null,
            "align_content": null,
            "visibility": null,
            "align_self": null,
            "height": null,
            "min_height": null,
            "padding": null,
            "grid_auto_rows": null,
            "grid_gap": null,
            "max_width": null,
            "order": null,
            "_view_module_version": "1.2.0",
            "grid_template_areas": null,
            "object_position": null,
            "object_fit": null,
            "grid_auto_columns": null,
            "margin": null,
            "display": null,
            "left": null
          }
        },
        "ccb196a8b47a4bfd9c9e5826cbce320f": {
          "model_module": "@jupyter-widgets/controls",
          "model_name": "DescriptionStyleModel",
          "model_module_version": "1.5.0",
          "state": {
            "_view_name": "StyleView",
            "_model_name": "DescriptionStyleModel",
            "description_width": "",
            "_view_module": "@jupyter-widgets/base",
            "_model_module_version": "1.5.0",
            "_view_count": null,
            "_view_module_version": "1.2.0",
            "_model_module": "@jupyter-widgets/controls"
          }
        },
        "1591701b40d84e959987d2983781d5e0": {
          "model_module": "@jupyter-widgets/base",
          "model_name": "LayoutModel",
          "model_module_version": "1.2.0",
          "state": {
            "_view_name": "LayoutView",
            "grid_template_rows": null,
            "right": null,
            "justify_content": null,
            "_view_module": "@jupyter-widgets/base",
            "overflow": null,
            "_model_module_version": "1.2.0",
            "_view_count": null,
            "flex_flow": null,
            "width": null,
            "min_width": null,
            "border": null,
            "align_items": null,
            "bottom": null,
            "_model_module": "@jupyter-widgets/base",
            "top": null,
            "grid_column": null,
            "overflow_y": null,
            "overflow_x": null,
            "grid_auto_flow": null,
            "grid_area": null,
            "grid_template_columns": null,
            "flex": null,
            "_model_name": "LayoutModel",
            "justify_items": null,
            "grid_row": null,
            "max_height": null,
            "align_content": null,
            "visibility": null,
            "align_self": null,
            "height": null,
            "min_height": null,
            "padding": null,
            "grid_auto_rows": null,
            "grid_gap": null,
            "max_width": null,
            "order": null,
            "_view_module_version": "1.2.0",
            "grid_template_areas": null,
            "object_position": null,
            "object_fit": null,
            "grid_auto_columns": null,
            "margin": null,
            "display": null,
            "left": null
          }
        },
        "943fae7a13af4c248a3fc0cf7e571474": {
          "model_module": "@jupyter-widgets/controls",
          "model_name": "HBoxModel",
          "model_module_version": "1.5.0",
          "state": {
            "_view_name": "HBoxView",
            "_dom_classes": [],
            "_model_name": "HBoxModel",
            "_view_module": "@jupyter-widgets/controls",
            "_model_module_version": "1.5.0",
            "_view_count": null,
            "_view_module_version": "1.5.0",
            "box_style": "",
            "layout": "IPY_MODEL_4ec493d90fb646d3ba9eb6c3c105efa4",
            "_model_module": "@jupyter-widgets/controls",
            "children": [
              "IPY_MODEL_291872a831e14632bb65296e92d2eb6a",
              "IPY_MODEL_0c0921a3366a475f9f996e4e0a9bae0a",
              "IPY_MODEL_5c267b554b98443abe571e6f74de70ef"
            ]
          }
        },
        "4ec493d90fb646d3ba9eb6c3c105efa4": {
          "model_module": "@jupyter-widgets/base",
          "model_name": "LayoutModel",
          "model_module_version": "1.2.0",
          "state": {
            "_view_name": "LayoutView",
            "grid_template_rows": null,
            "right": null,
            "justify_content": null,
            "_view_module": "@jupyter-widgets/base",
            "overflow": null,
            "_model_module_version": "1.2.0",
            "_view_count": null,
            "flex_flow": null,
            "width": null,
            "min_width": null,
            "border": null,
            "align_items": null,
            "bottom": null,
            "_model_module": "@jupyter-widgets/base",
            "top": null,
            "grid_column": null,
            "overflow_y": null,
            "overflow_x": null,
            "grid_auto_flow": null,
            "grid_area": null,
            "grid_template_columns": null,
            "flex": null,
            "_model_name": "LayoutModel",
            "justify_items": null,
            "grid_row": null,
            "max_height": null,
            "align_content": null,
            "visibility": null,
            "align_self": null,
            "height": null,
            "min_height": null,
            "padding": null,
            "grid_auto_rows": null,
            "grid_gap": null,
            "max_width": null,
            "order": null,
            "_view_module_version": "1.2.0",
            "grid_template_areas": null,
            "object_position": null,
            "object_fit": null,
            "grid_auto_columns": null,
            "margin": null,
            "display": null,
            "left": null
          }
        },
        "291872a831e14632bb65296e92d2eb6a": {
          "model_module": "@jupyter-widgets/controls",
          "model_name": "HTMLModel",
          "model_module_version": "1.5.0",
          "state": {
            "_view_name": "HTMLView",
            "style": "IPY_MODEL_6c8a0c8631d74eeca1da886ec7dd50e3",
            "_dom_classes": [],
            "description": "",
            "_model_name": "HTMLModel",
            "placeholder": "​",
            "_view_module": "@jupyter-widgets/controls",
            "_model_module_version": "1.5.0",
            "value": "100%",
            "_view_count": null,
            "_view_module_version": "1.5.0",
            "description_tooltip": null,
            "_model_module": "@jupyter-widgets/controls",
            "layout": "IPY_MODEL_1b8580d23abb42eb9efb25b0655f294d"
          }
        },
        "0c0921a3366a475f9f996e4e0a9bae0a": {
          "model_module": "@jupyter-widgets/controls",
          "model_name": "FloatProgressModel",
          "model_module_version": "1.5.0",
          "state": {
            "_view_name": "ProgressView",
            "style": "IPY_MODEL_836d9fe7cbef4be49cd9d38763877f14",
            "_dom_classes": [],
            "description": "",
            "_model_name": "FloatProgressModel",
            "bar_style": "success",
            "max": 2553,
            "_view_module": "@jupyter-widgets/controls",
            "_model_module_version": "1.5.0",
            "value": 2553,
            "_view_count": null,
            "_view_module_version": "1.5.0",
            "orientation": "horizontal",
            "min": 0,
            "description_tooltip": null,
            "_model_module": "@jupyter-widgets/controls",
            "layout": "IPY_MODEL_047bb2898e48484c9ced40cff23a3a68"
          }
        },
        "5c267b554b98443abe571e6f74de70ef": {
          "model_module": "@jupyter-widgets/controls",
          "model_name": "HTMLModel",
          "model_module_version": "1.5.0",
          "state": {
            "_view_name": "HTMLView",
            "style": "IPY_MODEL_9a7bbc7213a84b25837dbe8cc486a163",
            "_dom_classes": [],
            "description": "",
            "_model_name": "HTMLModel",
            "placeholder": "​",
            "_view_module": "@jupyter-widgets/controls",
            "_model_module_version": "1.5.0",
            "value": " 2553/2553 [03:05&lt;00:00, 13.55it/s]",
            "_view_count": null,
            "_view_module_version": "1.5.0",
            "description_tooltip": null,
            "_model_module": "@jupyter-widgets/controls",
            "layout": "IPY_MODEL_799c4a564c0047219524fc23a720b472"
          }
        },
        "6c8a0c8631d74eeca1da886ec7dd50e3": {
          "model_module": "@jupyter-widgets/controls",
          "model_name": "DescriptionStyleModel",
          "model_module_version": "1.5.0",
          "state": {
            "_view_name": "StyleView",
            "_model_name": "DescriptionStyleModel",
            "description_width": "",
            "_view_module": "@jupyter-widgets/base",
            "_model_module_version": "1.5.0",
            "_view_count": null,
            "_view_module_version": "1.2.0",
            "_model_module": "@jupyter-widgets/controls"
          }
        },
        "1b8580d23abb42eb9efb25b0655f294d": {
          "model_module": "@jupyter-widgets/base",
          "model_name": "LayoutModel",
          "model_module_version": "1.2.0",
          "state": {
            "_view_name": "LayoutView",
            "grid_template_rows": null,
            "right": null,
            "justify_content": null,
            "_view_module": "@jupyter-widgets/base",
            "overflow": null,
            "_model_module_version": "1.2.0",
            "_view_count": null,
            "flex_flow": null,
            "width": null,
            "min_width": null,
            "border": null,
            "align_items": null,
            "bottom": null,
            "_model_module": "@jupyter-widgets/base",
            "top": null,
            "grid_column": null,
            "overflow_y": null,
            "overflow_x": null,
            "grid_auto_flow": null,
            "grid_area": null,
            "grid_template_columns": null,
            "flex": null,
            "_model_name": "LayoutModel",
            "justify_items": null,
            "grid_row": null,
            "max_height": null,
            "align_content": null,
            "visibility": null,
            "align_self": null,
            "height": null,
            "min_height": null,
            "padding": null,
            "grid_auto_rows": null,
            "grid_gap": null,
            "max_width": null,
            "order": null,
            "_view_module_version": "1.2.0",
            "grid_template_areas": null,
            "object_position": null,
            "object_fit": null,
            "grid_auto_columns": null,
            "margin": null,
            "display": null,
            "left": null
          }
        },
        "836d9fe7cbef4be49cd9d38763877f14": {
          "model_module": "@jupyter-widgets/controls",
          "model_name": "ProgressStyleModel",
          "model_module_version": "1.5.0",
          "state": {
            "_view_name": "StyleView",
            "_model_name": "ProgressStyleModel",
            "description_width": "",
            "_view_module": "@jupyter-widgets/base",
            "_model_module_version": "1.5.0",
            "_view_count": null,
            "_view_module_version": "1.2.0",
            "bar_color": null,
            "_model_module": "@jupyter-widgets/controls"
          }
        },
        "047bb2898e48484c9ced40cff23a3a68": {
          "model_module": "@jupyter-widgets/base",
          "model_name": "LayoutModel",
          "model_module_version": "1.2.0",
          "state": {
            "_view_name": "LayoutView",
            "grid_template_rows": null,
            "right": null,
            "justify_content": null,
            "_view_module": "@jupyter-widgets/base",
            "overflow": null,
            "_model_module_version": "1.2.0",
            "_view_count": null,
            "flex_flow": null,
            "width": null,
            "min_width": null,
            "border": null,
            "align_items": null,
            "bottom": null,
            "_model_module": "@jupyter-widgets/base",
            "top": null,
            "grid_column": null,
            "overflow_y": null,
            "overflow_x": null,
            "grid_auto_flow": null,
            "grid_area": null,
            "grid_template_columns": null,
            "flex": null,
            "_model_name": "LayoutModel",
            "justify_items": null,
            "grid_row": null,
            "max_height": null,
            "align_content": null,
            "visibility": null,
            "align_self": null,
            "height": null,
            "min_height": null,
            "padding": null,
            "grid_auto_rows": null,
            "grid_gap": null,
            "max_width": null,
            "order": null,
            "_view_module_version": "1.2.0",
            "grid_template_areas": null,
            "object_position": null,
            "object_fit": null,
            "grid_auto_columns": null,
            "margin": null,
            "display": null,
            "left": null
          }
        },
        "9a7bbc7213a84b25837dbe8cc486a163": {
          "model_module": "@jupyter-widgets/controls",
          "model_name": "DescriptionStyleModel",
          "model_module_version": "1.5.0",
          "state": {
            "_view_name": "StyleView",
            "_model_name": "DescriptionStyleModel",
            "description_width": "",
            "_view_module": "@jupyter-widgets/base",
            "_model_module_version": "1.5.0",
            "_view_count": null,
            "_view_module_version": "1.2.0",
            "_model_module": "@jupyter-widgets/controls"
          }
        },
        "799c4a564c0047219524fc23a720b472": {
          "model_module": "@jupyter-widgets/base",
          "model_name": "LayoutModel",
          "model_module_version": "1.2.0",
          "state": {
            "_view_name": "LayoutView",
            "grid_template_rows": null,
            "right": null,
            "justify_content": null,
            "_view_module": "@jupyter-widgets/base",
            "overflow": null,
            "_model_module_version": "1.2.0",
            "_view_count": null,
            "flex_flow": null,
            "width": null,
            "min_width": null,
            "border": null,
            "align_items": null,
            "bottom": null,
            "_model_module": "@jupyter-widgets/base",
            "top": null,
            "grid_column": null,
            "overflow_y": null,
            "overflow_x": null,
            "grid_auto_flow": null,
            "grid_area": null,
            "grid_template_columns": null,
            "flex": null,
            "_model_name": "LayoutModel",
            "justify_items": null,
            "grid_row": null,
            "max_height": null,
            "align_content": null,
            "visibility": null,
            "align_self": null,
            "height": null,
            "min_height": null,
            "padding": null,
            "grid_auto_rows": null,
            "grid_gap": null,
            "max_width": null,
            "order": null,
            "_view_module_version": "1.2.0",
            "grid_template_areas": null,
            "object_position": null,
            "object_fit": null,
            "grid_auto_columns": null,
            "margin": null,
            "display": null,
            "left": null
          }
        },
        "006f0eec85d3480ea7dfe8b1f9e87cd3": {
          "model_module": "@jupyter-widgets/controls",
          "model_name": "HBoxModel",
          "model_module_version": "1.5.0",
          "state": {
            "_view_name": "HBoxView",
            "_dom_classes": [],
            "_model_name": "HBoxModel",
            "_view_module": "@jupyter-widgets/controls",
            "_model_module_version": "1.5.0",
            "_view_count": null,
            "_view_module_version": "1.5.0",
            "box_style": "",
            "layout": "IPY_MODEL_5095107680a640ecbeacf8b6bd74cbd9",
            "_model_module": "@jupyter-widgets/controls",
            "children": [
              "IPY_MODEL_230e8b5a64a343b3906ff4ece85bc174",
              "IPY_MODEL_b5575a7aa62e4e89a2a7b03739172a80",
              "IPY_MODEL_be60f4c28f324303bd8c43832108a8a5"
            ]
          }
        },
        "5095107680a640ecbeacf8b6bd74cbd9": {
          "model_module": "@jupyter-widgets/base",
          "model_name": "LayoutModel",
          "model_module_version": "1.2.0",
          "state": {
            "_view_name": "LayoutView",
            "grid_template_rows": null,
            "right": null,
            "justify_content": null,
            "_view_module": "@jupyter-widgets/base",
            "overflow": null,
            "_model_module_version": "1.2.0",
            "_view_count": null,
            "flex_flow": null,
            "width": null,
            "min_width": null,
            "border": null,
            "align_items": null,
            "bottom": null,
            "_model_module": "@jupyter-widgets/base",
            "top": null,
            "grid_column": null,
            "overflow_y": null,
            "overflow_x": null,
            "grid_auto_flow": null,
            "grid_area": null,
            "grid_template_columns": null,
            "flex": null,
            "_model_name": "LayoutModel",
            "justify_items": null,
            "grid_row": null,
            "max_height": null,
            "align_content": null,
            "visibility": null,
            "align_self": null,
            "height": null,
            "min_height": null,
            "padding": null,
            "grid_auto_rows": null,
            "grid_gap": null,
            "max_width": null,
            "order": null,
            "_view_module_version": "1.2.0",
            "grid_template_areas": null,
            "object_position": null,
            "object_fit": null,
            "grid_auto_columns": null,
            "margin": null,
            "display": null,
            "left": null
          }
        },
        "230e8b5a64a343b3906ff4ece85bc174": {
          "model_module": "@jupyter-widgets/controls",
          "model_name": "HTMLModel",
          "model_module_version": "1.5.0",
          "state": {
            "_view_name": "HTMLView",
            "style": "IPY_MODEL_b007a2c081124d55916f797e311d4728",
            "_dom_classes": [],
            "description": "",
            "_model_name": "HTMLModel",
            "placeholder": "​",
            "_view_module": "@jupyter-widgets/controls",
            "_model_module_version": "1.5.0",
            "value": "100%",
            "_view_count": null,
            "_view_module_version": "1.5.0",
            "description_tooltip": null,
            "_model_module": "@jupyter-widgets/controls",
            "layout": "IPY_MODEL_53ee035c4d0043a582233ebba3e966d5"
          }
        },
        "b5575a7aa62e4e89a2a7b03739172a80": {
          "model_module": "@jupyter-widgets/controls",
          "model_name": "FloatProgressModel",
          "model_module_version": "1.5.0",
          "state": {
            "_view_name": "ProgressView",
            "style": "IPY_MODEL_e8c8faf1890d4c01bc1f200f9b751984",
            "_dom_classes": [],
            "description": "",
            "_model_name": "FloatProgressModel",
            "bar_style": "success",
            "max": 2553,
            "_view_module": "@jupyter-widgets/controls",
            "_model_module_version": "1.5.0",
            "value": 2553,
            "_view_count": null,
            "_view_module_version": "1.5.0",
            "orientation": "horizontal",
            "min": 0,
            "description_tooltip": null,
            "_model_module": "@jupyter-widgets/controls",
            "layout": "IPY_MODEL_08d9d40bda2c453fbc01d234422fa3b4"
          }
        },
        "be60f4c28f324303bd8c43832108a8a5": {
          "model_module": "@jupyter-widgets/controls",
          "model_name": "HTMLModel",
          "model_module_version": "1.5.0",
          "state": {
            "_view_name": "HTMLView",
            "style": "IPY_MODEL_36586675a9b3422db4159cf6f98d4dc2",
            "_dom_classes": [],
            "description": "",
            "_model_name": "HTMLModel",
            "placeholder": "​",
            "_view_module": "@jupyter-widgets/controls",
            "_model_module_version": "1.5.0",
            "value": " 2553/2553 [03:06&lt;00:00, 13.78it/s]",
            "_view_count": null,
            "_view_module_version": "1.5.0",
            "description_tooltip": null,
            "_model_module": "@jupyter-widgets/controls",
            "layout": "IPY_MODEL_c7ea10b5c44641e5b1ad52fb204148d4"
          }
        },
        "b007a2c081124d55916f797e311d4728": {
          "model_module": "@jupyter-widgets/controls",
          "model_name": "DescriptionStyleModel",
          "model_module_version": "1.5.0",
          "state": {
            "_view_name": "StyleView",
            "_model_name": "DescriptionStyleModel",
            "description_width": "",
            "_view_module": "@jupyter-widgets/base",
            "_model_module_version": "1.5.0",
            "_view_count": null,
            "_view_module_version": "1.2.0",
            "_model_module": "@jupyter-widgets/controls"
          }
        },
        "53ee035c4d0043a582233ebba3e966d5": {
          "model_module": "@jupyter-widgets/base",
          "model_name": "LayoutModel",
          "model_module_version": "1.2.0",
          "state": {
            "_view_name": "LayoutView",
            "grid_template_rows": null,
            "right": null,
            "justify_content": null,
            "_view_module": "@jupyter-widgets/base",
            "overflow": null,
            "_model_module_version": "1.2.0",
            "_view_count": null,
            "flex_flow": null,
            "width": null,
            "min_width": null,
            "border": null,
            "align_items": null,
            "bottom": null,
            "_model_module": "@jupyter-widgets/base",
            "top": null,
            "grid_column": null,
            "overflow_y": null,
            "overflow_x": null,
            "grid_auto_flow": null,
            "grid_area": null,
            "grid_template_columns": null,
            "flex": null,
            "_model_name": "LayoutModel",
            "justify_items": null,
            "grid_row": null,
            "max_height": null,
            "align_content": null,
            "visibility": null,
            "align_self": null,
            "height": null,
            "min_height": null,
            "padding": null,
            "grid_auto_rows": null,
            "grid_gap": null,
            "max_width": null,
            "order": null,
            "_view_module_version": "1.2.0",
            "grid_template_areas": null,
            "object_position": null,
            "object_fit": null,
            "grid_auto_columns": null,
            "margin": null,
            "display": null,
            "left": null
          }
        },
        "e8c8faf1890d4c01bc1f200f9b751984": {
          "model_module": "@jupyter-widgets/controls",
          "model_name": "ProgressStyleModel",
          "model_module_version": "1.5.0",
          "state": {
            "_view_name": "StyleView",
            "_model_name": "ProgressStyleModel",
            "description_width": "",
            "_view_module": "@jupyter-widgets/base",
            "_model_module_version": "1.5.0",
            "_view_count": null,
            "_view_module_version": "1.2.0",
            "bar_color": null,
            "_model_module": "@jupyter-widgets/controls"
          }
        },
        "08d9d40bda2c453fbc01d234422fa3b4": {
          "model_module": "@jupyter-widgets/base",
          "model_name": "LayoutModel",
          "model_module_version": "1.2.0",
          "state": {
            "_view_name": "LayoutView",
            "grid_template_rows": null,
            "right": null,
            "justify_content": null,
            "_view_module": "@jupyter-widgets/base",
            "overflow": null,
            "_model_module_version": "1.2.0",
            "_view_count": null,
            "flex_flow": null,
            "width": null,
            "min_width": null,
            "border": null,
            "align_items": null,
            "bottom": null,
            "_model_module": "@jupyter-widgets/base",
            "top": null,
            "grid_column": null,
            "overflow_y": null,
            "overflow_x": null,
            "grid_auto_flow": null,
            "grid_area": null,
            "grid_template_columns": null,
            "flex": null,
            "_model_name": "LayoutModel",
            "justify_items": null,
            "grid_row": null,
            "max_height": null,
            "align_content": null,
            "visibility": null,
            "align_self": null,
            "height": null,
            "min_height": null,
            "padding": null,
            "grid_auto_rows": null,
            "grid_gap": null,
            "max_width": null,
            "order": null,
            "_view_module_version": "1.2.0",
            "grid_template_areas": null,
            "object_position": null,
            "object_fit": null,
            "grid_auto_columns": null,
            "margin": null,
            "display": null,
            "left": null
          }
        },
        "36586675a9b3422db4159cf6f98d4dc2": {
          "model_module": "@jupyter-widgets/controls",
          "model_name": "DescriptionStyleModel",
          "model_module_version": "1.5.0",
          "state": {
            "_view_name": "StyleView",
            "_model_name": "DescriptionStyleModel",
            "description_width": "",
            "_view_module": "@jupyter-widgets/base",
            "_model_module_version": "1.5.0",
            "_view_count": null,
            "_view_module_version": "1.2.0",
            "_model_module": "@jupyter-widgets/controls"
          }
        },
        "c7ea10b5c44641e5b1ad52fb204148d4": {
          "model_module": "@jupyter-widgets/base",
          "model_name": "LayoutModel",
          "model_module_version": "1.2.0",
          "state": {
            "_view_name": "LayoutView",
            "grid_template_rows": null,
            "right": null,
            "justify_content": null,
            "_view_module": "@jupyter-widgets/base",
            "overflow": null,
            "_model_module_version": "1.2.0",
            "_view_count": null,
            "flex_flow": null,
            "width": null,
            "min_width": null,
            "border": null,
            "align_items": null,
            "bottom": null,
            "_model_module": "@jupyter-widgets/base",
            "top": null,
            "grid_column": null,
            "overflow_y": null,
            "overflow_x": null,
            "grid_auto_flow": null,
            "grid_area": null,
            "grid_template_columns": null,
            "flex": null,
            "_model_name": "LayoutModel",
            "justify_items": null,
            "grid_row": null,
            "max_height": null,
            "align_content": null,
            "visibility": null,
            "align_self": null,
            "height": null,
            "min_height": null,
            "padding": null,
            "grid_auto_rows": null,
            "grid_gap": null,
            "max_width": null,
            "order": null,
            "_view_module_version": "1.2.0",
            "grid_template_areas": null,
            "object_position": null,
            "object_fit": null,
            "grid_auto_columns": null,
            "margin": null,
            "display": null,
            "left": null
          }
        },
        "beac807342c748cda413b465ba598bc7": {
          "model_module": "@jupyter-widgets/controls",
          "model_name": "HBoxModel",
          "model_module_version": "1.5.0",
          "state": {
            "_view_name": "HBoxView",
            "_dom_classes": [],
            "_model_name": "HBoxModel",
            "_view_module": "@jupyter-widgets/controls",
            "_model_module_version": "1.5.0",
            "_view_count": null,
            "_view_module_version": "1.5.0",
            "box_style": "",
            "layout": "IPY_MODEL_651004b280a846f8b39fafa4368c100a",
            "_model_module": "@jupyter-widgets/controls",
            "children": [
              "IPY_MODEL_c0818b59f50f4030a6ba8b3cdffe17f8",
              "IPY_MODEL_afebaac1aae146d4be2b4d4736d93327",
              "IPY_MODEL_6ed932bf75924301b3387cb865b2540d"
            ]
          }
        },
        "651004b280a846f8b39fafa4368c100a": {
          "model_module": "@jupyter-widgets/base",
          "model_name": "LayoutModel",
          "model_module_version": "1.2.0",
          "state": {
            "_view_name": "LayoutView",
            "grid_template_rows": null,
            "right": null,
            "justify_content": null,
            "_view_module": "@jupyter-widgets/base",
            "overflow": null,
            "_model_module_version": "1.2.0",
            "_view_count": null,
            "flex_flow": null,
            "width": null,
            "min_width": null,
            "border": null,
            "align_items": null,
            "bottom": null,
            "_model_module": "@jupyter-widgets/base",
            "top": null,
            "grid_column": null,
            "overflow_y": null,
            "overflow_x": null,
            "grid_auto_flow": null,
            "grid_area": null,
            "grid_template_columns": null,
            "flex": null,
            "_model_name": "LayoutModel",
            "justify_items": null,
            "grid_row": null,
            "max_height": null,
            "align_content": null,
            "visibility": null,
            "align_self": null,
            "height": null,
            "min_height": null,
            "padding": null,
            "grid_auto_rows": null,
            "grid_gap": null,
            "max_width": null,
            "order": null,
            "_view_module_version": "1.2.0",
            "grid_template_areas": null,
            "object_position": null,
            "object_fit": null,
            "grid_auto_columns": null,
            "margin": null,
            "display": null,
            "left": null
          }
        },
        "c0818b59f50f4030a6ba8b3cdffe17f8": {
          "model_module": "@jupyter-widgets/controls",
          "model_name": "HTMLModel",
          "model_module_version": "1.5.0",
          "state": {
            "_view_name": "HTMLView",
            "style": "IPY_MODEL_e25c0c8fffe04c71b1e820c3df650deb",
            "_dom_classes": [],
            "description": "",
            "_model_name": "HTMLModel",
            "placeholder": "​",
            "_view_module": "@jupyter-widgets/controls",
            "_model_module_version": "1.5.0",
            "value": "100%",
            "_view_count": null,
            "_view_module_version": "1.5.0",
            "description_tooltip": null,
            "_model_module": "@jupyter-widgets/controls",
            "layout": "IPY_MODEL_97d8b94d2166478dbdf070725c8c775e"
          }
        },
        "afebaac1aae146d4be2b4d4736d93327": {
          "model_module": "@jupyter-widgets/controls",
          "model_name": "FloatProgressModel",
          "model_module_version": "1.5.0",
          "state": {
            "_view_name": "ProgressView",
            "style": "IPY_MODEL_6fc82eeba0504f5bbadf50f377fe0cad",
            "_dom_classes": [],
            "description": "",
            "_model_name": "FloatProgressModel",
            "bar_style": "success",
            "max": 2553,
            "_view_module": "@jupyter-widgets/controls",
            "_model_module_version": "1.5.0",
            "value": 2553,
            "_view_count": null,
            "_view_module_version": "1.5.0",
            "orientation": "horizontal",
            "min": 0,
            "description_tooltip": null,
            "_model_module": "@jupyter-widgets/controls",
            "layout": "IPY_MODEL_7360bab2ab8647538235d1eb86fa9150"
          }
        },
        "6ed932bf75924301b3387cb865b2540d": {
          "model_module": "@jupyter-widgets/controls",
          "model_name": "HTMLModel",
          "model_module_version": "1.5.0",
          "state": {
            "_view_name": "HTMLView",
            "style": "IPY_MODEL_cac82db1c02144f88d7f21dcf7d748d8",
            "_dom_classes": [],
            "description": "",
            "_model_name": "HTMLModel",
            "placeholder": "​",
            "_view_module": "@jupyter-widgets/controls",
            "_model_module_version": "1.5.0",
            "value": " 2553/2553 [03:06&lt;00:00, 13.79it/s]",
            "_view_count": null,
            "_view_module_version": "1.5.0",
            "description_tooltip": null,
            "_model_module": "@jupyter-widgets/controls",
            "layout": "IPY_MODEL_738969305a8b46dcbca48684bb533377"
          }
        },
        "e25c0c8fffe04c71b1e820c3df650deb": {
          "model_module": "@jupyter-widgets/controls",
          "model_name": "DescriptionStyleModel",
          "model_module_version": "1.5.0",
          "state": {
            "_view_name": "StyleView",
            "_model_name": "DescriptionStyleModel",
            "description_width": "",
            "_view_module": "@jupyter-widgets/base",
            "_model_module_version": "1.5.0",
            "_view_count": null,
            "_view_module_version": "1.2.0",
            "_model_module": "@jupyter-widgets/controls"
          }
        },
        "97d8b94d2166478dbdf070725c8c775e": {
          "model_module": "@jupyter-widgets/base",
          "model_name": "LayoutModel",
          "model_module_version": "1.2.0",
          "state": {
            "_view_name": "LayoutView",
            "grid_template_rows": null,
            "right": null,
            "justify_content": null,
            "_view_module": "@jupyter-widgets/base",
            "overflow": null,
            "_model_module_version": "1.2.0",
            "_view_count": null,
            "flex_flow": null,
            "width": null,
            "min_width": null,
            "border": null,
            "align_items": null,
            "bottom": null,
            "_model_module": "@jupyter-widgets/base",
            "top": null,
            "grid_column": null,
            "overflow_y": null,
            "overflow_x": null,
            "grid_auto_flow": null,
            "grid_area": null,
            "grid_template_columns": null,
            "flex": null,
            "_model_name": "LayoutModel",
            "justify_items": null,
            "grid_row": null,
            "max_height": null,
            "align_content": null,
            "visibility": null,
            "align_self": null,
            "height": null,
            "min_height": null,
            "padding": null,
            "grid_auto_rows": null,
            "grid_gap": null,
            "max_width": null,
            "order": null,
            "_view_module_version": "1.2.0",
            "grid_template_areas": null,
            "object_position": null,
            "object_fit": null,
            "grid_auto_columns": null,
            "margin": null,
            "display": null,
            "left": null
          }
        },
        "6fc82eeba0504f5bbadf50f377fe0cad": {
          "model_module": "@jupyter-widgets/controls",
          "model_name": "ProgressStyleModel",
          "model_module_version": "1.5.0",
          "state": {
            "_view_name": "StyleView",
            "_model_name": "ProgressStyleModel",
            "description_width": "",
            "_view_module": "@jupyter-widgets/base",
            "_model_module_version": "1.5.0",
            "_view_count": null,
            "_view_module_version": "1.2.0",
            "bar_color": null,
            "_model_module": "@jupyter-widgets/controls"
          }
        },
        "7360bab2ab8647538235d1eb86fa9150": {
          "model_module": "@jupyter-widgets/base",
          "model_name": "LayoutModel",
          "model_module_version": "1.2.0",
          "state": {
            "_view_name": "LayoutView",
            "grid_template_rows": null,
            "right": null,
            "justify_content": null,
            "_view_module": "@jupyter-widgets/base",
            "overflow": null,
            "_model_module_version": "1.2.0",
            "_view_count": null,
            "flex_flow": null,
            "width": null,
            "min_width": null,
            "border": null,
            "align_items": null,
            "bottom": null,
            "_model_module": "@jupyter-widgets/base",
            "top": null,
            "grid_column": null,
            "overflow_y": null,
            "overflow_x": null,
            "grid_auto_flow": null,
            "grid_area": null,
            "grid_template_columns": null,
            "flex": null,
            "_model_name": "LayoutModel",
            "justify_items": null,
            "grid_row": null,
            "max_height": null,
            "align_content": null,
            "visibility": null,
            "align_self": null,
            "height": null,
            "min_height": null,
            "padding": null,
            "grid_auto_rows": null,
            "grid_gap": null,
            "max_width": null,
            "order": null,
            "_view_module_version": "1.2.0",
            "grid_template_areas": null,
            "object_position": null,
            "object_fit": null,
            "grid_auto_columns": null,
            "margin": null,
            "display": null,
            "left": null
          }
        },
        "cac82db1c02144f88d7f21dcf7d748d8": {
          "model_module": "@jupyter-widgets/controls",
          "model_name": "DescriptionStyleModel",
          "model_module_version": "1.5.0",
          "state": {
            "_view_name": "StyleView",
            "_model_name": "DescriptionStyleModel",
            "description_width": "",
            "_view_module": "@jupyter-widgets/base",
            "_model_module_version": "1.5.0",
            "_view_count": null,
            "_view_module_version": "1.2.0",
            "_model_module": "@jupyter-widgets/controls"
          }
        },
        "738969305a8b46dcbca48684bb533377": {
          "model_module": "@jupyter-widgets/base",
          "model_name": "LayoutModel",
          "model_module_version": "1.2.0",
          "state": {
            "_view_name": "LayoutView",
            "grid_template_rows": null,
            "right": null,
            "justify_content": null,
            "_view_module": "@jupyter-widgets/base",
            "overflow": null,
            "_model_module_version": "1.2.0",
            "_view_count": null,
            "flex_flow": null,
            "width": null,
            "min_width": null,
            "border": null,
            "align_items": null,
            "bottom": null,
            "_model_module": "@jupyter-widgets/base",
            "top": null,
            "grid_column": null,
            "overflow_y": null,
            "overflow_x": null,
            "grid_auto_flow": null,
            "grid_area": null,
            "grid_template_columns": null,
            "flex": null,
            "_model_name": "LayoutModel",
            "justify_items": null,
            "grid_row": null,
            "max_height": null,
            "align_content": null,
            "visibility": null,
            "align_self": null,
            "height": null,
            "min_height": null,
            "padding": null,
            "grid_auto_rows": null,
            "grid_gap": null,
            "max_width": null,
            "order": null,
            "_view_module_version": "1.2.0",
            "grid_template_areas": null,
            "object_position": null,
            "object_fit": null,
            "grid_auto_columns": null,
            "margin": null,
            "display": null,
            "left": null
          }
        }
      }
    },
    "accelerator": "GPU"
  },
  "cells": [
    {
      "cell_type": "markdown",
      "metadata": {
        "id": "view-in-github",
        "colab_type": "text"
      },
      "source": [
        "<a href=\"https://colab.research.google.com/github/mk0653/untitled/blob/master/iryou_bert_FT.ipynb\" target=\"_parent\"><img src=\"https://colab.research.google.com/assets/colab-badge.svg\" alt=\"Open In Colab\"/></a>"
      ]
    },
    {
      "cell_type": "code",
      "metadata": {
        "id": "JF3lVYr6gxII"
      },
      "source": [
        "import os\n",
        "import sys\n",
        "\n",
        "#from google.colab import drive\n",
        "#drive.mount('/gdrive')\n"
      ],
      "execution_count": 1,
      "outputs": []
    },
    {
      "cell_type": "code",
      "metadata": {
        "colab": {
          "base_uri": "https://localhost:8080/"
        },
        "id": "W3IXhos-hAla",
        "outputId": "6b77110d-6aec-4706-9530-98e92fa83576"
      },
      "source": [
        "!pip install -q transformers"
      ],
      "execution_count": 2,
      "outputs": [
        {
          "output_type": "stream",
          "name": "stdout",
          "text": [
            "\u001b[K     |████████████████████████████████| 2.8 MB 15.7 MB/s \n",
            "\u001b[K     |████████████████████████████████| 636 kB 82.0 MB/s \n",
            "\u001b[K     |████████████████████████████████| 3.3 MB 48.5 MB/s \n",
            "\u001b[K     |████████████████████████████████| 895 kB 52.6 MB/s \n",
            "\u001b[K     |████████████████████████████████| 52 kB 2.0 MB/s \n",
            "\u001b[?25h"
          ]
        }
      ]
    },
    {
      "cell_type": "code",
      "metadata": {
        "id": "dlHXZqF9hCxm"
      },
      "source": [
        "import math\n",
        "import random\n",
        "import time\n",
        "import warnings\n",
        "\n",
        "import numpy as np\n",
        "import pandas as pd\n",
        "import torch\n",
        "import torch.nn as nn\n",
        "import transformers as T\n",
        "import torch.optim as optim\n",
        "from transformers import (AutoModelForSequenceClassification, AutoTokenizer,AutoConfig,\n",
        "                          get_cosine_schedule_with_warmup)\n",
        "from sklearn.metrics import fbeta_score\n",
        "from sklearn.model_selection import StratifiedKFold\n",
        "from torch.utils.data import DataLoader, Dataset\n",
        "from tqdm.notebook import tqdm"
      ],
      "execution_count": 3,
      "outputs": []
    },
    {
      "cell_type": "code",
      "metadata": {
        "id": "k_jxoKBvhGmD"
      },
      "source": [
        "DATA_DIR = \"/content/drive/MyDrive/[NLP]医療論文仕分けコンペ/\"\n",
        "OUTPUT_DIR = \"/content/drive/MyDrive/output/models/\""
      ],
      "execution_count": 4,
      "outputs": []
    },
    {
      "cell_type": "code",
      "metadata": {
        "id": "zgj0OeoVhISu"
      },
      "source": [
        "warnings.filterwarnings(\"ignore\")"
      ],
      "execution_count": 5,
      "outputs": []
    },
    {
      "cell_type": "code",
      "metadata": {
        "id": "Rpp6yyfihJ51"
      },
      "source": [
        "device = torch.device(\"cuda\" if torch.cuda.is_available() else \"cpu\")\n"
      ],
      "execution_count": 6,
      "outputs": []
    },
    {
      "cell_type": "code",
      "metadata": {
        "id": "PM3ec2t2hMuT"
      },
      "source": [
        "def init_logger(log_file= \"./train.log\"):\n",
        "    from logging import INFO, FileHandler, Formatter, StreamHandler, getLogger\n",
        "\n",
        "    logger = getLogger(__name__)\n",
        "    logger.setLevel(INFO)\n",
        "    handler1 = StreamHandler()\n",
        "    handler1.setFormatter(Formatter(\"%(message)s\"))\n",
        "    handler2 = FileHandler(filename=log_file)\n",
        "    handler2.setFormatter(Formatter(\"%(message)s\"))\n",
        "    logger.addHandler(handler1)\n",
        "    logger.addHandler(handler2)\n",
        "    return logger\n",
        "\n",
        "LOGGER = init_logger()"
      ],
      "execution_count": 7,
      "outputs": []
    },
    {
      "cell_type": "code",
      "metadata": {
        "id": "-ITGYUlshRWc"
      },
      "source": [
        "def seed_torch(seed=42):\n",
        "    random.seed(seed)\n",
        "    os.environ[\"PYTHONHASHSEED\"] = str(seed)\n",
        "    np.random.seed(seed)\n",
        "    torch.manual_seed(seed)\n",
        "    torch.cuda.manual_seed(seed)\n",
        "    torch.cuda.manual_seed_all(seed)\n",
        "    torch.backends.cudnn.deterministic = True\n",
        "\n",
        "seed = 471\n",
        "seed_torch(seed)"
      ],
      "execution_count": 8,
      "outputs": []
    },
    {
      "cell_type": "code",
      "metadata": {
        "id": "XdBsYQ48mH76"
      },
      "source": [
        "class Config:\n",
        "  pretrained_model_path = '/content/drive/MyDrive/RoBERTa-base-PM-M3-Voc-train-longer/RoBERTa-base-PM-M3-Voc-train-longer-hf'\n",
        "  model_name = 'roberta-base'\n",
        "  batch_size = 16\n",
        "  lr = 2e-5"
      ],
      "execution_count": 9,
      "outputs": []
    },
    {
      "cell_type": "code",
      "metadata": {
        "id": "QUtIJe9bhU05"
      },
      "source": [
        "train = pd.read_csv(DATA_DIR + \"train.csv\")\n",
        "test = pd.read_csv(DATA_DIR + \"test.csv\")\n",
        "sub = pd.read_csv(DATA_DIR + \"sample_submit.csv\", header=None)\n",
        "sub.columns = [\"id\", \"judgement\"]\n",
        "train['title'] = train['title'].str.rstrip(\".\")\n",
        "test['title'] = test['title'].str.rstrip(\".\")\n",
        "train['abstract'] = train['title'].str.cat(train['abstract'],sep='.', na_rep='')\n",
        "test['abstract'] = test['title'].str.cat(test['abstract'],sep='.', na_rep='')\n"
      ],
      "execution_count": 10,
      "outputs": []
    },
    {
      "cell_type": "code",
      "metadata": {
        "id": "QtC-BSMcoqnm"
      },
      "source": [
        "test.to_csv(\"test_re.csv\")"
      ],
      "execution_count": 11,
      "outputs": []
    },
    {
      "cell_type": "code",
      "metadata": {
        "colab": {
          "base_uri": "https://localhost:8080/"
        },
        "id": "SSxjsE_nhW0P",
        "outputId": "eff5ded0-1949-4f35-84c7-9f39802db24e"
      },
      "source": [
        "# この値を境に、モデルの出力を 0 と 1 にします。\n",
        "#border = len(train[train[\"judgement\"] == 1]) / len(train[\"judgement\"])\n",
        "border = 0.020\n",
        "print(border)"
      ],
      "execution_count": 12,
      "outputs": [
        {
          "output_type": "stream",
          "name": "stdout",
          "text": [
            "0.02\n"
          ]
        }
      ]
    },
    {
      "cell_type": "code",
      "metadata": {
        "id": "-CnF49nYhc74"
      },
      "source": [
        "def get_train_data(train):\n",
        "\n",
        "    # 交差検証 用の番号を振ります。\n",
        "    Fold = StratifiedKFold(n_splits=5, shuffle=True, random_state=seed)\n",
        "    for n, (train_index, val_index) in enumerate(Fold.split(train, train[\"judgement\"])):\n",
        "        train.loc[val_index, \"fold\"] = int(n)\n",
        "    train[\"fold\"] = train[\"fold\"].astype(np.uint8)\n",
        "\n",
        "    return train"
      ],
      "execution_count": 13,
      "outputs": []
    },
    {
      "cell_type": "code",
      "metadata": {
        "id": "_hRsR_fPhe0L"
      },
      "source": [
        "def get_test_data(test):\n",
        "    return test"
      ],
      "execution_count": 14,
      "outputs": []
    },
    {
      "cell_type": "code",
      "metadata": {
        "id": "cWaZZkmDhgXH"
      },
      "source": [
        "train = get_train_data(train)"
      ],
      "execution_count": 15,
      "outputs": []
    },
    {
      "cell_type": "code",
      "metadata": {
        "colab": {
          "base_uri": "https://localhost:8080/",
          "height": 204
        },
        "id": "_vIaBKICCNco",
        "outputId": "84a9afea-2382-4098-ff7a-15366d99336a"
      },
      "source": [
        "train.head()"
      ],
      "execution_count": 16,
      "outputs": [
        {
          "output_type": "execute_result",
          "data": {
            "text/html": [
              "<div>\n",
              "<style scoped>\n",
              "    .dataframe tbody tr th:only-of-type {\n",
              "        vertical-align: middle;\n",
              "    }\n",
              "\n",
              "    .dataframe tbody tr th {\n",
              "        vertical-align: top;\n",
              "    }\n",
              "\n",
              "    .dataframe thead th {\n",
              "        text-align: right;\n",
              "    }\n",
              "</style>\n",
              "<table border=\"1\" class=\"dataframe\">\n",
              "  <thead>\n",
              "    <tr style=\"text-align: right;\">\n",
              "      <th></th>\n",
              "      <th>id</th>\n",
              "      <th>title</th>\n",
              "      <th>abstract</th>\n",
              "      <th>judgement</th>\n",
              "      <th>fold</th>\n",
              "    </tr>\n",
              "  </thead>\n",
              "  <tbody>\n",
              "    <tr>\n",
              "      <th>0</th>\n",
              "      <td>0</td>\n",
              "      <td>One-year age changes in MRI brain volumes in o...</td>\n",
              "      <td>One-year age changes in MRI brain volumes in o...</td>\n",
              "      <td>0</td>\n",
              "      <td>0</td>\n",
              "    </tr>\n",
              "    <tr>\n",
              "      <th>1</th>\n",
              "      <td>1</td>\n",
              "      <td>Supportive CSF biomarker evidence to enhance t...</td>\n",
              "      <td>Supportive CSF biomarker evidence to enhance t...</td>\n",
              "      <td>0</td>\n",
              "      <td>1</td>\n",
              "    </tr>\n",
              "    <tr>\n",
              "      <th>2</th>\n",
              "      <td>2</td>\n",
              "      <td>Occurrence of basal ganglia germ cell tumors w...</td>\n",
              "      <td>Occurrence of basal ganglia germ cell tumors w...</td>\n",
              "      <td>0</td>\n",
              "      <td>4</td>\n",
              "    </tr>\n",
              "    <tr>\n",
              "      <th>3</th>\n",
              "      <td>3</td>\n",
              "      <td>New developments in diagnosis and therapy of C...</td>\n",
              "      <td>New developments in diagnosis and therapy of C...</td>\n",
              "      <td>0</td>\n",
              "      <td>3</td>\n",
              "    </tr>\n",
              "    <tr>\n",
              "      <th>4</th>\n",
              "      <td>4</td>\n",
              "      <td>Prolonged shedding of SARS-CoV-2 in an elderly...</td>\n",
              "      <td>Prolonged shedding of SARS-CoV-2 in an elderly...</td>\n",
              "      <td>0</td>\n",
              "      <td>1</td>\n",
              "    </tr>\n",
              "  </tbody>\n",
              "</table>\n",
              "</div>"
            ],
            "text/plain": [
              "   id                                              title  ... judgement  fold\n",
              "0   0  One-year age changes in MRI brain volumes in o...  ...         0     0\n",
              "1   1  Supportive CSF biomarker evidence to enhance t...  ...         0     1\n",
              "2   2  Occurrence of basal ganglia germ cell tumors w...  ...         0     4\n",
              "3   3  New developments in diagnosis and therapy of C...  ...         0     3\n",
              "4   4  Prolonged shedding of SARS-CoV-2 in an elderly...  ...         0     1\n",
              "\n",
              "[5 rows x 5 columns]"
            ]
          },
          "metadata": {},
          "execution_count": 16
        }
      ]
    },
    {
      "cell_type": "code",
      "metadata": {
        "colab": {
          "base_uri": "https://localhost:8080/",
          "height": 204
        },
        "id": "WPtP5avKpXWm",
        "outputId": "b3b24df9-9b94-4e9e-c624-d98191a56c58"
      },
      "source": [
        "test.head()"
      ],
      "execution_count": 17,
      "outputs": [
        {
          "output_type": "execute_result",
          "data": {
            "text/html": [
              "<div>\n",
              "<style scoped>\n",
              "    .dataframe tbody tr th:only-of-type {\n",
              "        vertical-align: middle;\n",
              "    }\n",
              "\n",
              "    .dataframe tbody tr th {\n",
              "        vertical-align: top;\n",
              "    }\n",
              "\n",
              "    .dataframe thead th {\n",
              "        text-align: right;\n",
              "    }\n",
              "</style>\n",
              "<table border=\"1\" class=\"dataframe\">\n",
              "  <thead>\n",
              "    <tr style=\"text-align: right;\">\n",
              "      <th></th>\n",
              "      <th>id</th>\n",
              "      <th>title</th>\n",
              "      <th>abstract</th>\n",
              "    </tr>\n",
              "  </thead>\n",
              "  <tbody>\n",
              "    <tr>\n",
              "      <th>0</th>\n",
              "      <td>27145</td>\n",
              "      <td>Estimating the potential effects of COVID-19 p...</td>\n",
              "      <td>Estimating the potential effects of COVID-19 p...</td>\n",
              "    </tr>\n",
              "    <tr>\n",
              "      <th>1</th>\n",
              "      <td>27146</td>\n",
              "      <td>Leukoerythroblastic reaction in a patient with...</td>\n",
              "      <td>Leukoerythroblastic reaction in a patient with...</td>\n",
              "    </tr>\n",
              "    <tr>\n",
              "      <th>2</th>\n",
              "      <td>27147</td>\n",
              "      <td>[15O]-water PET and intraoperative brain mappi...</td>\n",
              "      <td>[15O]-water PET and intraoperative brain mappi...</td>\n",
              "    </tr>\n",
              "    <tr>\n",
              "      <th>3</th>\n",
              "      <td>27148</td>\n",
              "      <td>Adaptive image segmentation for robust measure...</td>\n",
              "      <td>Adaptive image segmentation for robust measure...</td>\n",
              "    </tr>\n",
              "    <tr>\n",
              "      <th>4</th>\n",
              "      <td>27149</td>\n",
              "      <td>Comparison of Epidemiological Variations in CO...</td>\n",
              "      <td>Comparison of Epidemiological Variations in CO...</td>\n",
              "    </tr>\n",
              "  </tbody>\n",
              "</table>\n",
              "</div>"
            ],
            "text/plain": [
              "      id  ...                                           abstract\n",
              "0  27145  ...  Estimating the potential effects of COVID-19 p...\n",
              "1  27146  ...  Leukoerythroblastic reaction in a patient with...\n",
              "2  27147  ...  [15O]-water PET and intraoperative brain mappi...\n",
              "3  27148  ...  Adaptive image segmentation for robust measure...\n",
              "4  27149  ...  Comparison of Epidemiological Variations in CO...\n",
              "\n",
              "[5 rows x 3 columns]"
            ]
          },
          "metadata": {},
          "execution_count": 17
        }
      ]
    },
    {
      "cell_type": "code",
      "metadata": {
        "id": "yAgwXhy8hj4U"
      },
      "source": [
        "class BaseDataset(Dataset):\n",
        "    def __init__(self, df, model_name, include_labels=True):\n",
        "        #tokenizer = T.BertTokenizer.from_pretrained(model_name)\n",
        "        tokenizer = AutoTokenizer.from_pretrained(Config.pretrained_model_path)\n",
        "\n",
        "        self.df = df\n",
        "        self.include_labels = include_labels\n",
        "\n",
        "        self.title = df[\"abstract\"].tolist()\n",
        "        self.encoded = tokenizer.batch_encode_plus(\n",
        "            self.title,\n",
        "            padding = 'max_length',            \n",
        "            max_length = 256,\n",
        "            truncation = True,\n",
        "            return_attention_mask=True\n",
        "        )\n",
        "        \n",
        "        if self.include_labels:\n",
        "            self.labels = df[\"judgement\"].values\n",
        "\n",
        "    def __len__(self):\n",
        "        return len(self.df)\n",
        "\n",
        "    def __getitem__(self, idx):\n",
        "        input_ids = torch.tensor(self.encoded['input_ids'][idx])\n",
        "        attention_mask = torch.tensor(self.encoded['attention_mask'][idx])\n",
        "\n",
        "        if self.include_labels:\n",
        "            label = torch.tensor(self.labels[idx]).float()\n",
        "            return input_ids, attention_mask, label\n",
        "\n",
        "        return input_ids, attention_mask"
      ],
      "execution_count": 18,
      "outputs": []
    },
    {
      "cell_type": "code",
      "metadata": {
        "id": "PTfWCMTihmZA"
      },
      "source": [
        "import torch\n",
        "import torch.nn as nn\n",
        "\n",
        "class AttentionHead(nn.Module):\n",
        "    def __init__(self, h_size, hidden_dim=512):\n",
        "        super().__init__()\n",
        "        self.W = nn.Linear(h_size, hidden_dim)\n",
        "        self.V = nn.Linear(hidden_dim, 1)\n",
        "        \n",
        "    def forward(self, features):\n",
        "        att = torch.tanh(self.W(features))\n",
        "        score = self.V(att)\n",
        "        attention_weights = torch.softmax(score, dim=1)\n",
        "        context_vector = attention_weights * features\n",
        "        context_vector = torch.sum(context_vector, dim=1)\n",
        "\n",
        "        return context_vector\n",
        "\n",
        "class BaseModel(nn.Module):\n",
        "    def __init__(self, model_name):\n",
        "        super().__init__()\n",
        "\n",
        "        #self.model = T.BertForSequenceClassification.from_pretrained(model_name, num_labels=1)\n",
        "        #self.model = AutoModelForSequenceClassification.from_pretrained(model_name, num_labels=1)\n",
        "        self.config = AutoConfig.from_pretrained(model_name, num_labels=1)\n",
        "        self.model = AutoModelForSequenceClassification.from_pretrained(model_name, config=self.config)\n",
        "        #self.h_size = config.hidden_size\n",
        "        #self.head = AttentionHead(self.h_size)\n",
        "        #self.linear = nn.Linear(self.h_size, 1)\n",
        "        self.sigmoid = nn.Sigmoid()\n",
        "\n",
        "\n",
        "    def forward(self, input_ids, attention_mask):\n",
        "        out = self.model(input_ids=input_ids, attention_mask=attention_mask)\n",
        "        #x = self.head(out.loss)\n",
        "        #x = self.linear(x)\n",
        "        #print(out)\n",
        "        #out = self.sigmoid(out.logits).squeeze()\n",
        "        #print(out)\n",
        "        out = self.sigmoid(out.logits).squeeze()\n",
        "        #out = self.linear(x)\n",
        "\n",
        "        return out"
      ],
      "execution_count": 19,
      "outputs": []
    },
    {
      "cell_type": "code",
      "metadata": {
        "id": "yAf8hqjehosu"
      },
      "source": [
        "class AverageMeter(object):\n",
        "    \"\"\"Computes and stores the average and current value\"\"\"\n",
        "\n",
        "    def __init__(self):\n",
        "        self.reset()\n",
        "\n",
        "    def reset(self):\n",
        "        self.val = 0\n",
        "        self.avg = 0\n",
        "        self.sum = 0\n",
        "        self.count = 0\n",
        "\n",
        "    def update(self, val, n=1):\n",
        "        self.val = val\n",
        "        self.sum += val * n\n",
        "        self.count += n\n",
        "        self.avg = self.sum / self.count\n",
        "        #print(self.sum,self.count,self.avg)\n",
        "\n",
        "\n",
        "def asMinutes(s):\n",
        "    m = math.floor(s / 60)\n",
        "    s -= m * 60\n",
        "    return \"%dm %ds\" % (m, s)\n",
        "\n",
        "\n",
        "def timeSince(since, percent):\n",
        "    now = time.time()\n",
        "    s = now - since\n",
        "    es = s / (percent)\n",
        "    rs = es - s\n",
        "    return \"%s (remain %s)\" % (asMinutes(s), asMinutes(rs))"
      ],
      "execution_count": 20,
      "outputs": []
    },
    {
      "cell_type": "code",
      "metadata": {
        "id": "CYwoOaqzhq1b"
      },
      "source": [
        "def train_fn(train_loader, model, criterion, optimizer, epoch, device):\n",
        "    start = end = time.time()\n",
        "    losses = AverageMeter()\n",
        "\n",
        "    # switch to train mode\n",
        "    model.train()\n",
        "\n",
        "    for step, (input_ids, attention_mask, labels) in enumerate(train_loader):\n",
        "        optimizer.zero_grad()\n",
        "\n",
        "        input_ids = input_ids.to(device)\n",
        "        attention_mask = attention_mask.to(device)\n",
        "        labels = labels.to(device)\n",
        "        batch_size = labels.size(0)\n",
        "        y_preds = model(input_ids, attention_mask)\n",
        "\n",
        "        loss = criterion(y_preds, labels)\n",
        "        # record loss\n",
        "        losses.update(loss.item(), batch_size)\n",
        "        loss.backward()\n",
        "\n",
        "        optimizer.step()\n",
        "\n",
        "        if step % 100 == 0 or step == (len(train_loader) - 1):\n",
        "            print(\n",
        "                f\"Epoch: [{epoch + 1}][{step}/{len(train_loader)}] \"\n",
        "                f\"Elapsed {timeSince(start, float(step + 1) / len(train_loader)):s} \"\n",
        "                f\"Loss: {losses.avg:.4f} \"\n",
        "            )\n",
        "\n",
        "    return losses.avg"
      ],
      "execution_count": 21,
      "outputs": []
    },
    {
      "cell_type": "code",
      "metadata": {
        "id": "zvoHRKQRhtaV"
      },
      "source": [
        "def valid_fn(valid_loader, model, criterion, device):\n",
        "    start = end = time.time()\n",
        "    losses = AverageMeter()\n",
        "\n",
        "    # switch to evaluation mode\n",
        "    model.eval()\n",
        "    preds = []\n",
        "\n",
        "    for step, (input_ids, attention_mask, labels) in enumerate(valid_loader):\n",
        "        input_ids = input_ids.to(device)\n",
        "        attention_mask = attention_mask.to(device)\n",
        "        labels = labels.to(device)\n",
        "        batch_size = labels.size(0)\n",
        "\n",
        "        # compute loss\n",
        "        with torch.no_grad():\n",
        "            y_preds = model(input_ids, attention_mask)\n",
        "\n",
        "        loss = criterion(y_preds, labels)\n",
        "        losses.update(loss.item(), batch_size)\n",
        "\n",
        "        # record score\n",
        "        preds.append(y_preds.to(\"cpu\").numpy())\n",
        "\n",
        "        if step % 100 == 0 or step == (len(valid_loader) - 1):\n",
        "            print(\n",
        "                f\"EVAL: [{step}/{len(valid_loader)}] \"\n",
        "                f\"Elapsed {timeSince(start, float(step + 1) / len(valid_loader)):s} \"\n",
        "                f\"Loss: {losses.avg:.4f} \"\n",
        "            )\n",
        "\n",
        "    predictions = np.concatenate(preds)\n",
        "    return losses.avg, predictions"
      ],
      "execution_count": 22,
      "outputs": []
    },
    {
      "cell_type": "code",
      "metadata": {
        "id": "7_64sqqIhvVg"
      },
      "source": [
        "def inference():\n",
        "    predictions = []\n",
        "\n",
        "    test_dataset = BaseDataset(test, Config.model_name, include_labels=False)\n",
        "    test_loader = DataLoader(\n",
        "        test_dataset, batch_size=16, shuffle=False, num_workers=4, pin_memory=True\n",
        "    )\n",
        "\n",
        "    for fold in range(5):\n",
        "        LOGGER.info(f\"========== model:robertaPMBase fold: {fold} inference ==========\")\n",
        "        model = BaseModel(Config.pretrained_model_path)\n",
        "        model.to(device)\n",
        "        model.load_state_dict(torch.load(OUTPUT_DIR + f\"robertaPMBase_fold{fold}_best.pth\")[\"model\"])\n",
        "        model.eval()\n",
        "        preds = []\n",
        "        for i, (input_ids, attention_mask) in tqdm(enumerate(test_loader), total=len(test_loader)):\n",
        "            input_ids = input_ids.to(device)\n",
        "            attention_mask = attention_mask.to(device)\n",
        "            with torch.no_grad():\n",
        "                y_preds = model(input_ids, attention_mask)\n",
        "            preds.append(y_preds.to(\"cpu\").numpy())\n",
        "        preds = np.concatenate(preds)\n",
        "        predictions.append(preds)\n",
        "    predictions = np.mean(predictions, axis=0)\n",
        "\n",
        "    return predictions"
      ],
      "execution_count": 23,
      "outputs": []
    },
    {
      "cell_type": "code",
      "metadata": {
        "id": "PrgVBqvmOYsQ"
      },
      "source": [
        "def create_optimizer(model):\n",
        "    named_parameters = list(model.named_parameters())    \n",
        "    \n",
        "    roberta_parameters = named_parameters[:197]    \n",
        "    attention_parameters = named_parameters[199:203]\n",
        "    regressor_parameters = named_parameters[203:]\n",
        "        \n",
        "    attention_group = [params for (name, params) in attention_parameters]\n",
        "    regressor_group = [params for (name, params) in regressor_parameters]\n",
        "\n",
        "    parameters = []\n",
        "    parameters.append({\"params\": attention_group})\n",
        "    parameters.append({\"params\": regressor_group})\n",
        "\n",
        "    for layer_num, (name, params) in enumerate(roberta_parameters):\n",
        "        weight_decay = 0.0 if \"bias\" in name else 0.01\n",
        "\n",
        "        lr = Config.lr\n",
        "\n",
        "        if layer_num >= 69:        \n",
        "            lr = Config.lr * 2.5\n",
        "\n",
        "        if layer_num >= 133:\n",
        "            lr = Config.lr * 5\n",
        "\n",
        "        parameters.append({\"params\": params,\n",
        "                           \"weight_decay\": weight_decay,\n",
        "                           \"lr\": lr})\n",
        "        \n",
        "    return optim.AdamW(parameters)"
      ],
      "execution_count": 24,
      "outputs": []
    },
    {
      "cell_type": "code",
      "metadata": {
        "id": "XFUPpJzxhxoy"
      },
      "source": [
        "def train_loop(train, fold):\n",
        "\n",
        "    LOGGER.info(f\"========== fold: {fold} training ==========\")\n",
        "\n",
        "    # ====================================================\n",
        "    # Data Loader\n",
        "    # ====================================================\n",
        "    trn_idx = train[train[\"fold\"] != fold].index\n",
        "    val_idx = train[train[\"fold\"] == fold].index\n",
        "\n",
        "    train_folds = train.loc[trn_idx].reset_index(drop=True)\n",
        "    valid_folds = train.loc[val_idx].reset_index(drop=True)\n",
        "\n",
        "    train_dataset = BaseDataset(train_folds, Config.model_name)\n",
        "    valid_dataset = BaseDataset(valid_folds, Config.model_name)\n",
        "\n",
        "    train_loader = DataLoader(\n",
        "        train_dataset,\n",
        "        batch_size=Config.batch_size,\n",
        "        shuffle=True,\n",
        "        num_workers=0,\n",
        "        pin_memory=True,\n",
        "        drop_last=True,\n",
        "    )\n",
        "    valid_loader = DataLoader(\n",
        "        valid_dataset,\n",
        "        batch_size=Config.batch_size,\n",
        "        shuffle=False,\n",
        "        num_workers=0,\n",
        "        pin_memory=True,\n",
        "        drop_last=False,\n",
        "    )\n",
        "\n",
        "    # ====================================================\n",
        "    # Model\n",
        "    # ====================================================\n",
        "    model = BaseModel(Config.pretrained_model_path)\n",
        "    model.to(device)\n",
        "\n",
        "    #optimizer = create_optimizer(model)\n",
        "    optimizer =optim.AdamW(model.parameters(), lr=2e-5)\n",
        "\n",
        "    criterion = nn.BCELoss()\n",
        "\n",
        "    # ====================================================\n",
        "    # Loop\n",
        "    # ====================================================\n",
        "    best_score = -1\n",
        "    best_loss = np.inf\n",
        "\n",
        "    for epoch in range(3):\n",
        "        start_time = time.time()\n",
        "        \n",
        "        # train\n",
        "        avg_loss = train_fn(train_loader, model, criterion, optimizer, epoch, device)\n",
        "\n",
        "        # eval\n",
        "        avg_val_loss, preds = valid_fn(valid_loader, model, criterion, device)\n",
        "        valid_labels = valid_folds[\"judgement\"].values\n",
        "\n",
        "        # scoring\n",
        "        score = fbeta_score(valid_labels, np.where(preds < border, 0, 1), beta=7.0)\n",
        "\n",
        "        elapsed = time.time() - start_time\n",
        "        LOGGER.info(\n",
        "            f\"Epoch {epoch+1} - avg_train_loss: {avg_loss:.4f}  avg_val_loss: {avg_val_loss:.4f}  time: {elapsed:.0f}s\"\n",
        "        )\n",
        "        LOGGER.info(f\"Epoch {epoch+1} - Score: {score}\")\n",
        "\n",
        "        if score > best_score:\n",
        "            best_score = score\n",
        "            LOGGER.info(f\"Epoch {epoch+1} - Save Best Score: {best_score:.4f} Model\")\n",
        "            torch.save(\n",
        "                {\"model\": model.state_dict(), \"preds\": preds}, OUTPUT_DIR + f\"robertaPMBase_fold{fold}_best.pth\"\n",
        "            )\n",
        "\n",
        "    check_point = torch.load(OUTPUT_DIR + f\"robertaPMBase_fold{fold}_best.pth\")\n",
        "\n",
        "    valid_folds[\"preds\"] = check_point[\"preds\"]\n",
        "\n",
        "    return valid_folds"
      ],
      "execution_count": 25,
      "outputs": []
    },
    {
      "cell_type": "code",
      "metadata": {
        "id": "OkeSPSxahzaL"
      },
      "source": [
        "def get_result(result_df):\n",
        "    preds = result_df[\"preds\"].values\n",
        "    labels = result_df[\"judgement\"].values\n",
        "    score = fbeta_score(labels, np.where(preds < border, 0, 1), beta=7.0)\n",
        "    LOGGER.info(f\"Score: {score:<.5f}\")"
      ],
      "execution_count": 26,
      "outputs": []
    },
    {
      "cell_type": "code",
      "metadata": {
        "id": "XXWmH4j6h1gM"
      },
      "source": [
        "def main():\n",
        "    # Training\n",
        "    oof_df = pd.DataFrame()\n",
        "    for fold in range(5):\n",
        "        _oof_df = train_loop(train, fold)\n",
        "        oof_df = pd.concat([oof_df, _oof_df])\n",
        "        LOGGER.info(f\"========== fold: {fold} result ==========\")\n",
        "        get_result(_oof_df)\n",
        "    \n",
        "    # CV result\n",
        "    LOGGER.info(f\"========== CV ==========\")\n",
        "    get_result(oof_df)\n",
        "    \n",
        "    # Save OOF result\n",
        "    oof_df.to_csv(OUTPUT_DIR + \"oof_df.csv\", index=False)\n",
        "\n",
        "    # Inference\n",
        "    predictions = inference()\n",
        "    predictions = np.where(predictions < border, 0, 1)\n",
        "\n",
        "    # submission\n",
        "    sub[\"judgement\"] = predictions\n",
        "    sub.to_csv(OUTPUT_DIR + \"submission.csv\", index=False, header=False)\n",
        "      "
      ],
      "execution_count": 27,
      "outputs": []
    },
    {
      "cell_type": "code",
      "metadata": {
        "colab": {
          "base_uri": "https://localhost:8080/",
          "height": 1000,
          "referenced_widgets": [
            "6cd33fd7a3a54dac99fef5e66e5075e0",
            "9e0b3d94267a45af9758cdde65dbe3ed",
            "71b9b511f3d742c7a41b9251130174ab",
            "5d9c617c928c4d9e98a37beab30a3dba",
            "4dbf0983019d4222b48d8d2377237f72",
            "13525907eddd46f1bf8f464fbcc870f0",
            "e9281cef345c4db1a07c0b1b4f73e194",
            "6d20993f8fd949c499111d309a742e46",
            "332feca646004f69b7a7ba126fe7b361",
            "c6d83d3b47c84f00b2a343a893f954fe",
            "c1fd0787fbe948baa1380e560ae172f0",
            "6bf3bae5f98647c5a587517d55561f2b",
            "30cceba8ecbf400ca15108ea1dac21cd",
            "ede6ac89fd744bcc9e1ee7fa6df2ae77",
            "9349efcbce644208bfd4590b30ae5e42",
            "3327e7c9343e4717b476ea59b0ef5730",
            "808066ca7cac47fba34ce9f1579f2d6e",
            "f6c848dd81cf40bda1456ebe97f74952",
            "a83e81c22d834356af01009cd04230af",
            "8920b25a85944849acebf85964440614",
            "ccb196a8b47a4bfd9c9e5826cbce320f",
            "1591701b40d84e959987d2983781d5e0",
            "943fae7a13af4c248a3fc0cf7e571474",
            "4ec493d90fb646d3ba9eb6c3c105efa4",
            "291872a831e14632bb65296e92d2eb6a",
            "0c0921a3366a475f9f996e4e0a9bae0a",
            "5c267b554b98443abe571e6f74de70ef",
            "6c8a0c8631d74eeca1da886ec7dd50e3",
            "1b8580d23abb42eb9efb25b0655f294d",
            "836d9fe7cbef4be49cd9d38763877f14",
            "047bb2898e48484c9ced40cff23a3a68",
            "9a7bbc7213a84b25837dbe8cc486a163",
            "799c4a564c0047219524fc23a720b472",
            "006f0eec85d3480ea7dfe8b1f9e87cd3",
            "5095107680a640ecbeacf8b6bd74cbd9",
            "230e8b5a64a343b3906ff4ece85bc174",
            "b5575a7aa62e4e89a2a7b03739172a80",
            "be60f4c28f324303bd8c43832108a8a5",
            "b007a2c081124d55916f797e311d4728",
            "53ee035c4d0043a582233ebba3e966d5",
            "e8c8faf1890d4c01bc1f200f9b751984",
            "08d9d40bda2c453fbc01d234422fa3b4",
            "36586675a9b3422db4159cf6f98d4dc2",
            "c7ea10b5c44641e5b1ad52fb204148d4",
            "beac807342c748cda413b465ba598bc7",
            "651004b280a846f8b39fafa4368c100a",
            "c0818b59f50f4030a6ba8b3cdffe17f8",
            "afebaac1aae146d4be2b4d4736d93327",
            "6ed932bf75924301b3387cb865b2540d",
            "e25c0c8fffe04c71b1e820c3df650deb",
            "97d8b94d2166478dbdf070725c8c775e",
            "6fc82eeba0504f5bbadf50f377fe0cad",
            "7360bab2ab8647538235d1eb86fa9150",
            "cac82db1c02144f88d7f21dcf7d748d8",
            "738969305a8b46dcbca48684bb533377"
          ]
        },
        "id": "up_Q9rPeh3HG",
        "outputId": "4879c268-07d0-45a5-dd01-77549708879e"
      },
      "source": [
        "if __name__ == \"__main__\":\n",
        "    main()"
      ],
      "execution_count": 28,
      "outputs": [
        {
          "output_type": "stream",
          "name": "stderr",
          "text": [
            "========== fold: 0 training ==========\n",
            "Special tokens have been added in the vocabulary, make sure the associated word embeddings are fine-tuned or trained.\n",
            "Special tokens have been added in the vocabulary, make sure the associated word embeddings are fine-tuned or trained.\n",
            "Special tokens have been added in the vocabulary, make sure the associated word embeddings are fine-tuned or trained.\n",
            "Special tokens have been added in the vocabulary, make sure the associated word embeddings are fine-tuned or trained.\n",
            "Some weights of the model checkpoint at /content/drive/MyDrive/RoBERTa-base-PM-M3-Voc-train-longer/RoBERTa-base-PM-M3-Voc-train-longer-hf were not used when initializing RobertaForSequenceClassification: ['lm_head.layer_norm.bias', 'lm_head.bias', 'lm_head.decoder.bias', 'roberta.pooler.dense.bias', 'lm_head.dense.bias', 'lm_head.layer_norm.weight', 'lm_head.dense.weight', 'lm_head.decoder.weight', 'roberta.pooler.dense.weight']\n",
            "- This IS expected if you are initializing RobertaForSequenceClassification from the checkpoint of a model trained on another task or with another architecture (e.g. initializing a BertForSequenceClassification model from a BertForPreTraining model).\n",
            "- This IS NOT expected if you are initializing RobertaForSequenceClassification from the checkpoint of a model that you expect to be exactly identical (initializing a BertForSequenceClassification model from a BertForSequenceClassification model).\n",
            "Some weights of RobertaForSequenceClassification were not initialized from the model checkpoint at /content/drive/MyDrive/RoBERTa-base-PM-M3-Voc-train-longer/RoBERTa-base-PM-M3-Voc-train-longer-hf and are newly initialized: ['classifier.out_proj.weight', 'classifier.out_proj.bias', 'classifier.dense.weight', 'classifier.dense.bias']\n",
            "You should probably TRAIN this model on a down-stream task to be able to use it for predictions and inference.\n"
          ]
        },
        {
          "output_type": "stream",
          "name": "stdout",
          "text": [
            "Epoch: [1][0/1357] Elapsed 0m 0s (remain 9m 4s) Loss: 0.6284 \n",
            "Epoch: [1][100/1357] Elapsed 0m 23s (remain 4m 48s) Loss: 0.1507 \n",
            "Epoch: [1][200/1357] Elapsed 0m 46s (remain 4m 24s) Loss: 0.1370 \n",
            "Epoch: [1][300/1357] Elapsed 1m 8s (remain 4m 2s) Loss: 0.1225 \n",
            "Epoch: [1][400/1357] Elapsed 1m 31s (remain 3m 39s) Loss: 0.1128 \n",
            "Epoch: [1][500/1357] Elapsed 1m 54s (remain 3m 16s) Loss: 0.1048 \n",
            "Epoch: [1][600/1357] Elapsed 2m 17s (remain 2m 53s) Loss: 0.0977 \n",
            "Epoch: [1][700/1357] Elapsed 2m 40s (remain 2m 30s) Loss: 0.0941 \n",
            "Epoch: [1][800/1357] Elapsed 3m 3s (remain 2m 7s) Loss: 0.0893 \n",
            "Epoch: [1][900/1357] Elapsed 3m 26s (remain 1m 44s) Loss: 0.0850 \n",
            "Epoch: [1][1000/1357] Elapsed 3m 49s (remain 1m 21s) Loss: 0.0817 \n",
            "Epoch: [1][1100/1357] Elapsed 4m 12s (remain 0m 58s) Loss: 0.0788 \n",
            "Epoch: [1][1200/1357] Elapsed 4m 35s (remain 0m 35s) Loss: 0.0756 \n",
            "Epoch: [1][1300/1357] Elapsed 4m 58s (remain 0m 12s) Loss: 0.0735 \n",
            "Epoch: [1][1356/1357] Elapsed 5m 11s (remain 0m 0s) Loss: 0.0723 \n",
            "EVAL: [0/340] Elapsed 0m 0s (remain 0m 24s) Loss: 0.0025 \n",
            "EVAL: [100/340] Elapsed 0m 7s (remain 0m 17s) Loss: 0.0360 \n",
            "EVAL: [200/340] Elapsed 0m 14s (remain 0m 10s) Loss: 0.0414 \n",
            "EVAL: [300/340] Elapsed 0m 21s (remain 0m 2s) Loss: 0.0404 \n"
          ]
        },
        {
          "output_type": "stream",
          "name": "stderr",
          "text": [
            "Epoch 1 - avg_train_loss: 0.0723  avg_val_loss: 0.0397  time: 336s\n",
            "Epoch 1 - Score: 0.9142685851318945\n",
            "Epoch 1 - Save Best Score: 0.9143 Model\n"
          ]
        },
        {
          "output_type": "stream",
          "name": "stdout",
          "text": [
            "EVAL: [339/340] Elapsed 0m 24s (remain 0m 0s) Loss: 0.0397 \n",
            "Epoch: [2][0/1357] Elapsed 0m 0s (remain 5m 33s) Loss: 0.0030 \n",
            "Epoch: [2][100/1357] Elapsed 0m 23s (remain 4m 48s) Loss: 0.0302 \n",
            "Epoch: [2][200/1357] Elapsed 0m 46s (remain 4m 25s) Loss: 0.0293 \n",
            "Epoch: [2][300/1357] Elapsed 1m 9s (remain 4m 2s) Loss: 0.0375 \n",
            "Epoch: [2][400/1357] Elapsed 1m 32s (remain 3m 39s) Loss: 0.0396 \n",
            "Epoch: [2][500/1357] Elapsed 1m 55s (remain 3m 16s) Loss: 0.0400 \n",
            "Epoch: [2][600/1357] Elapsed 2m 17s (remain 2m 53s) Loss: 0.0377 \n",
            "Epoch: [2][700/1357] Elapsed 2m 40s (remain 2m 30s) Loss: 0.0364 \n",
            "Epoch: [2][800/1357] Elapsed 3m 3s (remain 2m 7s) Loss: 0.0354 \n",
            "Epoch: [2][900/1357] Elapsed 3m 26s (remain 1m 44s) Loss: 0.0348 \n",
            "Epoch: [2][1000/1357] Elapsed 3m 49s (remain 1m 21s) Loss: 0.0341 \n",
            "Epoch: [2][1100/1357] Elapsed 4m 12s (remain 0m 58s) Loss: 0.0343 \n",
            "Epoch: [2][1200/1357] Elapsed 4m 35s (remain 0m 35s) Loss: 0.0359 \n",
            "Epoch: [2][1300/1357] Elapsed 4m 58s (remain 0m 12s) Loss: 0.0366 \n",
            "Epoch: [2][1356/1357] Elapsed 5m 11s (remain 0m 0s) Loss: 0.0364 \n",
            "EVAL: [0/340] Elapsed 0m 0s (remain 0m 25s) Loss: 0.0008 \n",
            "EVAL: [100/340] Elapsed 0m 7s (remain 0m 17s) Loss: 0.0361 \n",
            "EVAL: [200/340] Elapsed 0m 14s (remain 0m 10s) Loss: 0.0431 \n",
            "EVAL: [300/340] Elapsed 0m 21s (remain 0m 2s) Loss: 0.0415 \n"
          ]
        },
        {
          "output_type": "stream",
          "name": "stderr",
          "text": [
            "Epoch 2 - avg_train_loss: 0.0364  avg_val_loss: 0.0410  time: 336s\n",
            "Epoch 2 - Score: 0.9151030452168565\n",
            "Epoch 2 - Save Best Score: 0.9151 Model\n"
          ]
        },
        {
          "output_type": "stream",
          "name": "stdout",
          "text": [
            "EVAL: [339/340] Elapsed 0m 24s (remain 0m 0s) Loss: 0.0410 \n",
            "Epoch: [3][0/1357] Elapsed 0m 0s (remain 5m 15s) Loss: 0.0122 \n",
            "Epoch: [3][100/1357] Elapsed 0m 23s (remain 4m 48s) Loss: 0.0242 \n",
            "Epoch: [3][200/1357] Elapsed 0m 46s (remain 4m 25s) Loss: 0.0224 \n",
            "Epoch: [3][300/1357] Elapsed 1m 9s (remain 4m 2s) Loss: 0.0231 \n",
            "Epoch: [3][400/1357] Elapsed 1m 32s (remain 3m 39s) Loss: 0.0224 \n",
            "Epoch: [3][500/1357] Elapsed 1m 55s (remain 3m 16s) Loss: 0.0233 \n",
            "Epoch: [3][600/1357] Elapsed 2m 18s (remain 2m 53s) Loss: 0.0234 \n",
            "Epoch: [3][700/1357] Elapsed 2m 40s (remain 2m 30s) Loss: 0.0242 \n",
            "Epoch: [3][800/1357] Elapsed 3m 3s (remain 2m 7s) Loss: 0.0241 \n",
            "Epoch: [3][900/1357] Elapsed 3m 26s (remain 1m 44s) Loss: 0.0249 \n",
            "Epoch: [3][1000/1357] Elapsed 3m 49s (remain 1m 21s) Loss: 0.0258 \n",
            "Epoch: [3][1100/1357] Elapsed 4m 12s (remain 0m 58s) Loss: 0.0263 \n",
            "Epoch: [3][1200/1357] Elapsed 4m 35s (remain 0m 35s) Loss: 0.0259 \n",
            "Epoch: [3][1300/1357] Elapsed 4m 58s (remain 0m 12s) Loss: 0.0251 \n",
            "Epoch: [3][1356/1357] Elapsed 5m 11s (remain 0m 0s) Loss: 0.0248 \n",
            "EVAL: [0/340] Elapsed 0m 0s (remain 0m 24s) Loss: 0.0002 \n",
            "EVAL: [100/340] Elapsed 0m 7s (remain 0m 17s) Loss: 0.0420 \n",
            "EVAL: [200/340] Elapsed 0m 14s (remain 0m 10s) Loss: 0.0447 \n",
            "EVAL: [300/340] Elapsed 0m 21s (remain 0m 2s) Loss: 0.0436 \n"
          ]
        },
        {
          "output_type": "stream",
          "name": "stderr",
          "text": [
            "Epoch 3 - avg_train_loss: 0.0248  avg_val_loss: 0.0444  time: 336s\n",
            "Epoch 3 - Score: 0.8522283033620016\n"
          ]
        },
        {
          "output_type": "stream",
          "name": "stdout",
          "text": [
            "EVAL: [339/340] Elapsed 0m 24s (remain 0m 0s) Loss: 0.0444 \n"
          ]
        },
        {
          "output_type": "stream",
          "name": "stderr",
          "text": [
            "========== fold: 0 result ==========\n",
            "Score: 0.91510\n",
            "========== fold: 1 training ==========\n",
            "Special tokens have been added in the vocabulary, make sure the associated word embeddings are fine-tuned or trained.\n",
            "Special tokens have been added in the vocabulary, make sure the associated word embeddings are fine-tuned or trained.\n",
            "Special tokens have been added in the vocabulary, make sure the associated word embeddings are fine-tuned or trained.\n",
            "Special tokens have been added in the vocabulary, make sure the associated word embeddings are fine-tuned or trained.\n",
            "Some weights of the model checkpoint at /content/drive/MyDrive/RoBERTa-base-PM-M3-Voc-train-longer/RoBERTa-base-PM-M3-Voc-train-longer-hf were not used when initializing RobertaForSequenceClassification: ['lm_head.layer_norm.bias', 'lm_head.bias', 'lm_head.decoder.bias', 'roberta.pooler.dense.bias', 'lm_head.dense.bias', 'lm_head.layer_norm.weight', 'lm_head.dense.weight', 'lm_head.decoder.weight', 'roberta.pooler.dense.weight']\n",
            "- This IS expected if you are initializing RobertaForSequenceClassification from the checkpoint of a model trained on another task or with another architecture (e.g. initializing a BertForSequenceClassification model from a BertForPreTraining model).\n",
            "- This IS NOT expected if you are initializing RobertaForSequenceClassification from the checkpoint of a model that you expect to be exactly identical (initializing a BertForSequenceClassification model from a BertForSequenceClassification model).\n",
            "Some weights of RobertaForSequenceClassification were not initialized from the model checkpoint at /content/drive/MyDrive/RoBERTa-base-PM-M3-Voc-train-longer/RoBERTa-base-PM-M3-Voc-train-longer-hf and are newly initialized: ['classifier.out_proj.weight', 'classifier.out_proj.bias', 'classifier.dense.weight', 'classifier.dense.bias']\n",
            "You should probably TRAIN this model on a down-stream task to be able to use it for predictions and inference.\n"
          ]
        },
        {
          "output_type": "stream",
          "name": "stdout",
          "text": [
            "Epoch: [1][0/1357] Elapsed 0m 0s (remain 5m 36s) Loss: 0.7075 \n",
            "Epoch: [1][100/1357] Elapsed 0m 23s (remain 4m 47s) Loss: 0.1501 \n",
            "Epoch: [1][200/1357] Elapsed 0m 46s (remain 4m 25s) Loss: 0.1269 \n",
            "Epoch: [1][300/1357] Elapsed 1m 9s (remain 4m 2s) Loss: 0.1098 \n",
            "Epoch: [1][400/1357] Elapsed 1m 32s (remain 3m 39s) Loss: 0.1023 \n",
            "Epoch: [1][500/1357] Elapsed 1m 55s (remain 3m 16s) Loss: 0.0936 \n",
            "Epoch: [1][600/1357] Elapsed 2m 17s (remain 2m 53s) Loss: 0.0895 \n",
            "Epoch: [1][700/1357] Elapsed 2m 40s (remain 2m 30s) Loss: 0.0843 \n",
            "Epoch: [1][800/1357] Elapsed 3m 3s (remain 2m 7s) Loss: 0.0792 \n",
            "Epoch: [1][900/1357] Elapsed 3m 26s (remain 1m 44s) Loss: 0.0770 \n",
            "Epoch: [1][1000/1357] Elapsed 3m 49s (remain 1m 21s) Loss: 0.0758 \n",
            "Epoch: [1][1100/1357] Elapsed 4m 12s (remain 0m 58s) Loss: 0.0733 \n",
            "Epoch: [1][1200/1357] Elapsed 4m 35s (remain 0m 35s) Loss: 0.0721 \n",
            "Epoch: [1][1300/1357] Elapsed 4m 58s (remain 0m 12s) Loss: 0.0695 \n",
            "Epoch: [1][1356/1357] Elapsed 5m 11s (remain 0m 0s) Loss: 0.0681 \n",
            "EVAL: [0/340] Elapsed 0m 0s (remain 0m 25s) Loss: 0.1228 \n",
            "EVAL: [100/340] Elapsed 0m 7s (remain 0m 17s) Loss: 0.0469 \n",
            "EVAL: [200/340] Elapsed 0m 14s (remain 0m 10s) Loss: 0.0442 \n",
            "EVAL: [300/340] Elapsed 0m 21s (remain 0m 2s) Loss: 0.0431 \n"
          ]
        },
        {
          "output_type": "stream",
          "name": "stderr",
          "text": [
            "Epoch 1 - avg_train_loss: 0.0681  avg_val_loss: 0.0463  time: 336s\n",
            "Epoch 1 - Score: 0.8728564807662601\n",
            "Epoch 1 - Save Best Score: 0.8729 Model\n"
          ]
        },
        {
          "output_type": "stream",
          "name": "stdout",
          "text": [
            "EVAL: [339/340] Elapsed 0m 24s (remain 0m 0s) Loss: 0.0463 \n",
            "Epoch: [2][0/1357] Elapsed 0m 0s (remain 5m 39s) Loss: 0.0061 \n",
            "Epoch: [2][100/1357] Elapsed 0m 23s (remain 4m 49s) Loss: 0.0363 \n",
            "Epoch: [2][200/1357] Elapsed 0m 46s (remain 4m 25s) Loss: 0.0379 \n",
            "Epoch: [2][300/1357] Elapsed 1m 9s (remain 4m 2s) Loss: 0.0374 \n",
            "Epoch: [2][400/1357] Elapsed 1m 32s (remain 3m 39s) Loss: 0.0391 \n",
            "Epoch: [2][500/1357] Elapsed 1m 55s (remain 3m 16s) Loss: 0.0372 \n",
            "Epoch: [2][600/1357] Elapsed 2m 18s (remain 2m 53s) Loss: 0.0380 \n",
            "Epoch: [2][700/1357] Elapsed 2m 41s (remain 2m 30s) Loss: 0.0373 \n",
            "Epoch: [2][800/1357] Elapsed 3m 4s (remain 2m 7s) Loss: 0.0373 \n",
            "Epoch: [2][900/1357] Elapsed 3m 27s (remain 1m 44s) Loss: 0.0373 \n",
            "Epoch: [2][1000/1357] Elapsed 3m 50s (remain 1m 21s) Loss: 0.0380 \n",
            "Epoch: [2][1100/1357] Elapsed 4m 13s (remain 0m 58s) Loss: 0.0379 \n",
            "Epoch: [2][1200/1357] Elapsed 4m 35s (remain 0m 35s) Loss: 0.0379 \n",
            "Epoch: [2][1300/1357] Elapsed 4m 58s (remain 0m 12s) Loss: 0.0372 \n",
            "Epoch: [2][1356/1357] Elapsed 5m 11s (remain 0m 0s) Loss: 0.0371 \n",
            "EVAL: [0/340] Elapsed 0m 0s (remain 0m 24s) Loss: 0.0746 \n",
            "EVAL: [100/340] Elapsed 0m 7s (remain 0m 17s) Loss: 0.0387 \n",
            "EVAL: [200/340] Elapsed 0m 14s (remain 0m 10s) Loss: 0.0351 \n",
            "EVAL: [300/340] Elapsed 0m 21s (remain 0m 2s) Loss: 0.0354 \n"
          ]
        },
        {
          "output_type": "stream",
          "name": "stderr",
          "text": [
            "Epoch 2 - avg_train_loss: 0.0371  avg_val_loss: 0.0383  time: 336s\n",
            "Epoch 2 - Score: 0.891621829362029\n",
            "Epoch 2 - Save Best Score: 0.8916 Model\n"
          ]
        },
        {
          "output_type": "stream",
          "name": "stdout",
          "text": [
            "EVAL: [339/340] Elapsed 0m 24s (remain 0m 0s) Loss: 0.0383 \n",
            "Epoch: [3][0/1357] Elapsed 0m 0s (remain 5m 14s) Loss: 0.0059 \n",
            "Epoch: [3][100/1357] Elapsed 0m 23s (remain 4m 48s) Loss: 0.0183 \n",
            "Epoch: [3][200/1357] Elapsed 0m 46s (remain 4m 25s) Loss: 0.0188 \n",
            "Epoch: [3][300/1357] Elapsed 1m 9s (remain 4m 2s) Loss: 0.0289 \n",
            "Epoch: [3][400/1357] Elapsed 1m 32s (remain 3m 39s) Loss: 0.0266 \n",
            "Epoch: [3][500/1357] Elapsed 1m 55s (remain 3m 16s) Loss: 0.0262 \n",
            "Epoch: [3][600/1357] Elapsed 2m 18s (remain 2m 53s) Loss: 0.0251 \n",
            "Epoch: [3][700/1357] Elapsed 2m 40s (remain 2m 30s) Loss: 0.0268 \n",
            "Epoch: [3][800/1357] Elapsed 3m 3s (remain 2m 7s) Loss: 0.0275 \n",
            "Epoch: [3][900/1357] Elapsed 3m 26s (remain 1m 44s) Loss: 0.0272 \n",
            "Epoch: [3][1000/1357] Elapsed 3m 49s (remain 1m 21s) Loss: 0.0277 \n",
            "Epoch: [3][1100/1357] Elapsed 4m 12s (remain 0m 58s) Loss: 0.0267 \n",
            "Epoch: [3][1200/1357] Elapsed 4m 35s (remain 0m 35s) Loss: 0.0262 \n",
            "Epoch: [3][1300/1357] Elapsed 4m 58s (remain 0m 12s) Loss: 0.0263 \n",
            "Epoch: [3][1356/1357] Elapsed 5m 11s (remain 0m 0s) Loss: 0.0275 \n",
            "EVAL: [0/340] Elapsed 0m 0s (remain 0m 25s) Loss: 0.2857 \n",
            "EVAL: [100/340] Elapsed 0m 7s (remain 0m 17s) Loss: 0.0488 \n",
            "EVAL: [200/340] Elapsed 0m 14s (remain 0m 10s) Loss: 0.0433 \n",
            "EVAL: [300/340] Elapsed 0m 21s (remain 0m 2s) Loss: 0.0422 \n"
          ]
        },
        {
          "output_type": "stream",
          "name": "stderr",
          "text": [
            "Epoch 3 - avg_train_loss: 0.0275  avg_val_loss: 0.0441  time: 336s\n",
            "Epoch 3 - Score: 0.9195402298850575\n",
            "Epoch 3 - Save Best Score: 0.9195 Model\n"
          ]
        },
        {
          "output_type": "stream",
          "name": "stdout",
          "text": [
            "EVAL: [339/340] Elapsed 0m 24s (remain 0m 0s) Loss: 0.0441 \n"
          ]
        },
        {
          "output_type": "stream",
          "name": "stderr",
          "text": [
            "========== fold: 1 result ==========\n",
            "Score: 0.91954\n",
            "========== fold: 2 training ==========\n",
            "Special tokens have been added in the vocabulary, make sure the associated word embeddings are fine-tuned or trained.\n",
            "Special tokens have been added in the vocabulary, make sure the associated word embeddings are fine-tuned or trained.\n",
            "Special tokens have been added in the vocabulary, make sure the associated word embeddings are fine-tuned or trained.\n",
            "Special tokens have been added in the vocabulary, make sure the associated word embeddings are fine-tuned or trained.\n",
            "Some weights of the model checkpoint at /content/drive/MyDrive/RoBERTa-base-PM-M3-Voc-train-longer/RoBERTa-base-PM-M3-Voc-train-longer-hf were not used when initializing RobertaForSequenceClassification: ['lm_head.layer_norm.bias', 'lm_head.bias', 'lm_head.decoder.bias', 'roberta.pooler.dense.bias', 'lm_head.dense.bias', 'lm_head.layer_norm.weight', 'lm_head.dense.weight', 'lm_head.decoder.weight', 'roberta.pooler.dense.weight']\n",
            "- This IS expected if you are initializing RobertaForSequenceClassification from the checkpoint of a model trained on another task or with another architecture (e.g. initializing a BertForSequenceClassification model from a BertForPreTraining model).\n",
            "- This IS NOT expected if you are initializing RobertaForSequenceClassification from the checkpoint of a model that you expect to be exactly identical (initializing a BertForSequenceClassification model from a BertForSequenceClassification model).\n",
            "Some weights of RobertaForSequenceClassification were not initialized from the model checkpoint at /content/drive/MyDrive/RoBERTa-base-PM-M3-Voc-train-longer/RoBERTa-base-PM-M3-Voc-train-longer-hf and are newly initialized: ['classifier.out_proj.weight', 'classifier.out_proj.bias', 'classifier.dense.weight', 'classifier.dense.bias']\n",
            "You should probably TRAIN this model on a down-stream task to be able to use it for predictions and inference.\n"
          ]
        },
        {
          "output_type": "stream",
          "name": "stdout",
          "text": [
            "Epoch: [1][0/1357] Elapsed 0m 0s (remain 5m 40s) Loss: 0.6346 \n",
            "Epoch: [1][100/1357] Elapsed 0m 23s (remain 4m 48s) Loss: 0.1487 \n",
            "Epoch: [1][200/1357] Elapsed 0m 46s (remain 4m 25s) Loss: 0.1326 \n",
            "Epoch: [1][300/1357] Elapsed 1m 9s (remain 4m 2s) Loss: 0.1202 \n",
            "Epoch: [1][400/1357] Elapsed 1m 32s (remain 3m 39s) Loss: 0.1074 \n",
            "Epoch: [1][500/1357] Elapsed 1m 55s (remain 3m 16s) Loss: 0.1003 \n",
            "Epoch: [1][600/1357] Elapsed 2m 18s (remain 2m 53s) Loss: 0.0928 \n",
            "Epoch: [1][700/1357] Elapsed 2m 41s (remain 2m 30s) Loss: 0.0851 \n",
            "Epoch: [1][800/1357] Elapsed 3m 4s (remain 2m 7s) Loss: 0.0827 \n",
            "Epoch: [1][900/1357] Elapsed 3m 27s (remain 1m 44s) Loss: 0.0824 \n",
            "Epoch: [1][1000/1357] Elapsed 3m 50s (remain 1m 21s) Loss: 0.0791 \n",
            "Epoch: [1][1100/1357] Elapsed 4m 13s (remain 0m 58s) Loss: 0.0764 \n",
            "Epoch: [1][1200/1357] Elapsed 4m 36s (remain 0m 35s) Loss: 0.0758 \n",
            "Epoch: [1][1300/1357] Elapsed 4m 59s (remain 0m 12s) Loss: 0.0741 \n",
            "Epoch: [1][1356/1357] Elapsed 5m 12s (remain 0m 0s) Loss: 0.0727 \n",
            "EVAL: [0/340] Elapsed 0m 0s (remain 0m 25s) Loss: 0.0060 \n",
            "EVAL: [100/340] Elapsed 0m 7s (remain 0m 17s) Loss: 0.0446 \n",
            "EVAL: [200/340] Elapsed 0m 14s (remain 0m 10s) Loss: 0.0478 \n",
            "EVAL: [300/340] Elapsed 0m 21s (remain 0m 2s) Loss: 0.0536 \n"
          ]
        },
        {
          "output_type": "stream",
          "name": "stderr",
          "text": [
            "Epoch 1 - avg_train_loss: 0.0727  avg_val_loss: 0.0521  time: 337s\n",
            "Epoch 1 - Score: 0.7772423441629098\n",
            "Epoch 1 - Save Best Score: 0.7772 Model\n"
          ]
        },
        {
          "output_type": "stream",
          "name": "stdout",
          "text": [
            "EVAL: [339/340] Elapsed 0m 24s (remain 0m 0s) Loss: 0.0521 \n",
            "Epoch: [2][0/1357] Elapsed 0m 0s (remain 5m 48s) Loss: 0.0033 \n",
            "Epoch: [2][100/1357] Elapsed 0m 23s (remain 4m 49s) Loss: 0.0377 \n",
            "Epoch: [2][200/1357] Elapsed 0m 46s (remain 4m 26s) Loss: 0.0345 \n",
            "Epoch: [2][300/1357] Elapsed 1m 9s (remain 4m 3s) Loss: 0.0328 \n",
            "Epoch: [2][400/1357] Elapsed 1m 32s (remain 3m 39s) Loss: 0.0356 \n",
            "Epoch: [2][500/1357] Elapsed 1m 55s (remain 3m 16s) Loss: 0.0365 \n",
            "Epoch: [2][600/1357] Elapsed 2m 18s (remain 2m 53s) Loss: 0.0390 \n",
            "Epoch: [2][700/1357] Elapsed 2m 41s (remain 2m 30s) Loss: 0.0392 \n",
            "Epoch: [2][800/1357] Elapsed 3m 4s (remain 2m 7s) Loss: 0.0387 \n",
            "Epoch: [2][900/1357] Elapsed 3m 27s (remain 1m 44s) Loss: 0.0379 \n",
            "Epoch: [2][1000/1357] Elapsed 3m 50s (remain 1m 21s) Loss: 0.0379 \n",
            "Epoch: [2][1100/1357] Elapsed 4m 13s (remain 0m 58s) Loss: 0.0384 \n",
            "Epoch: [2][1200/1357] Elapsed 4m 36s (remain 0m 35s) Loss: 0.0385 \n",
            "Epoch: [2][1300/1357] Elapsed 4m 59s (remain 0m 12s) Loss: 0.0385 \n",
            "Epoch: [2][1356/1357] Elapsed 5m 12s (remain 0m 0s) Loss: 0.0382 \n",
            "EVAL: [0/340] Elapsed 0m 0s (remain 0m 25s) Loss: 0.0082 \n",
            "EVAL: [100/340] Elapsed 0m 7s (remain 0m 17s) Loss: 0.0328 \n",
            "EVAL: [200/340] Elapsed 0m 14s (remain 0m 10s) Loss: 0.0392 \n",
            "EVAL: [300/340] Elapsed 0m 21s (remain 0m 2s) Loss: 0.0427 \n"
          ]
        },
        {
          "output_type": "stream",
          "name": "stderr",
          "text": [
            "Epoch 2 - avg_train_loss: 0.0382  avg_val_loss: 0.0422  time: 337s\n",
            "Epoch 2 - Score: 0.9140353527723221\n",
            "Epoch 2 - Save Best Score: 0.9140 Model\n"
          ]
        },
        {
          "output_type": "stream",
          "name": "stdout",
          "text": [
            "EVAL: [339/340] Elapsed 0m 24s (remain 0m 0s) Loss: 0.0422 \n",
            "Epoch: [3][0/1357] Elapsed 0m 0s (remain 5m 16s) Loss: 0.1022 \n",
            "Epoch: [3][100/1357] Elapsed 0m 23s (remain 4m 49s) Loss: 0.0197 \n",
            "Epoch: [3][200/1357] Elapsed 0m 46s (remain 4m 25s) Loss: 0.0239 \n",
            "Epoch: [3][300/1357] Elapsed 1m 9s (remain 4m 2s) Loss: 0.0238 \n",
            "Epoch: [3][400/1357] Elapsed 1m 32s (remain 3m 39s) Loss: 0.0261 \n",
            "Epoch: [3][500/1357] Elapsed 1m 55s (remain 3m 16s) Loss: 0.0246 \n",
            "Epoch: [3][600/1357] Elapsed 2m 18s (remain 2m 53s) Loss: 0.0243 \n",
            "Epoch: [3][700/1357] Elapsed 2m 41s (remain 2m 30s) Loss: 0.0249 \n",
            "Epoch: [3][800/1357] Elapsed 3m 3s (remain 2m 7s) Loss: 0.0268 \n",
            "Epoch: [3][900/1357] Elapsed 3m 26s (remain 1m 44s) Loss: 0.0265 \n",
            "Epoch: [3][1000/1357] Elapsed 3m 49s (remain 1m 21s) Loss: 0.0272 \n",
            "Epoch: [3][1100/1357] Elapsed 4m 12s (remain 0m 58s) Loss: 0.0265 \n",
            "Epoch: [3][1200/1357] Elapsed 4m 35s (remain 0m 35s) Loss: 0.0260 \n",
            "Epoch: [3][1300/1357] Elapsed 4m 58s (remain 0m 12s) Loss: 0.0260 \n",
            "Epoch: [3][1356/1357] Elapsed 5m 11s (remain 0m 0s) Loss: 0.0264 \n",
            "EVAL: [0/340] Elapsed 0m 0s (remain 0m 25s) Loss: 0.0100 \n",
            "EVAL: [100/340] Elapsed 0m 7s (remain 0m 17s) Loss: 0.0329 \n",
            "EVAL: [200/340] Elapsed 0m 14s (remain 0m 10s) Loss: 0.0379 \n",
            "EVAL: [300/340] Elapsed 0m 21s (remain 0m 2s) Loss: 0.0380 \n"
          ]
        },
        {
          "output_type": "stream",
          "name": "stderr",
          "text": [
            "Epoch 3 - avg_train_loss: 0.0264  avg_val_loss: 0.0371  time: 336s\n",
            "Epoch 3 - Score: 0.906183368869936\n"
          ]
        },
        {
          "output_type": "stream",
          "name": "stdout",
          "text": [
            "EVAL: [339/340] Elapsed 0m 24s (remain 0m 0s) Loss: 0.0371 \n"
          ]
        },
        {
          "output_type": "stream",
          "name": "stderr",
          "text": [
            "========== fold: 2 result ==========\n",
            "Score: 0.91404\n",
            "========== fold: 3 training ==========\n",
            "Special tokens have been added in the vocabulary, make sure the associated word embeddings are fine-tuned or trained.\n",
            "Special tokens have been added in the vocabulary, make sure the associated word embeddings are fine-tuned or trained.\n",
            "Special tokens have been added in the vocabulary, make sure the associated word embeddings are fine-tuned or trained.\n",
            "Special tokens have been added in the vocabulary, make sure the associated word embeddings are fine-tuned or trained.\n",
            "Some weights of the model checkpoint at /content/drive/MyDrive/RoBERTa-base-PM-M3-Voc-train-longer/RoBERTa-base-PM-M3-Voc-train-longer-hf were not used when initializing RobertaForSequenceClassification: ['lm_head.layer_norm.bias', 'lm_head.bias', 'lm_head.decoder.bias', 'roberta.pooler.dense.bias', 'lm_head.dense.bias', 'lm_head.layer_norm.weight', 'lm_head.dense.weight', 'lm_head.decoder.weight', 'roberta.pooler.dense.weight']\n",
            "- This IS expected if you are initializing RobertaForSequenceClassification from the checkpoint of a model trained on another task or with another architecture (e.g. initializing a BertForSequenceClassification model from a BertForPreTraining model).\n",
            "- This IS NOT expected if you are initializing RobertaForSequenceClassification from the checkpoint of a model that you expect to be exactly identical (initializing a BertForSequenceClassification model from a BertForSequenceClassification model).\n",
            "Some weights of RobertaForSequenceClassification were not initialized from the model checkpoint at /content/drive/MyDrive/RoBERTa-base-PM-M3-Voc-train-longer/RoBERTa-base-PM-M3-Voc-train-longer-hf and are newly initialized: ['classifier.out_proj.weight', 'classifier.out_proj.bias', 'classifier.dense.weight', 'classifier.dense.bias']\n",
            "You should probably TRAIN this model on a down-stream task to be able to use it for predictions and inference.\n"
          ]
        },
        {
          "output_type": "stream",
          "name": "stdout",
          "text": [
            "Epoch: [1][0/1357] Elapsed 0m 0s (remain 5m 40s) Loss: 0.6095 \n",
            "Epoch: [1][100/1357] Elapsed 0m 23s (remain 4m 47s) Loss: 0.1448 \n",
            "Epoch: [1][200/1357] Elapsed 0m 46s (remain 4m 25s) Loss: 0.1240 \n",
            "Epoch: [1][300/1357] Elapsed 1m 9s (remain 4m 2s) Loss: 0.1094 \n",
            "Epoch: [1][400/1357] Elapsed 1m 32s (remain 3m 39s) Loss: 0.1004 \n",
            "Epoch: [1][500/1357] Elapsed 1m 55s (remain 3m 16s) Loss: 0.0945 \n",
            "Epoch: [1][600/1357] Elapsed 2m 17s (remain 2m 53s) Loss: 0.0899 \n",
            "Epoch: [1][700/1357] Elapsed 2m 40s (remain 2m 30s) Loss: 0.0864 \n",
            "Epoch: [1][800/1357] Elapsed 3m 3s (remain 2m 7s) Loss: 0.0816 \n",
            "Epoch: [1][900/1357] Elapsed 3m 26s (remain 1m 44s) Loss: 0.0790 \n",
            "Epoch: [1][1000/1357] Elapsed 3m 49s (remain 1m 21s) Loss: 0.0774 \n",
            "Epoch: [1][1100/1357] Elapsed 4m 12s (remain 0m 58s) Loss: 0.0747 \n",
            "Epoch: [1][1200/1357] Elapsed 4m 35s (remain 0m 35s) Loss: 0.0722 \n",
            "Epoch: [1][1300/1357] Elapsed 4m 58s (remain 0m 12s) Loss: 0.0712 \n",
            "Epoch: [1][1356/1357] Elapsed 5m 11s (remain 0m 0s) Loss: 0.0701 \n",
            "EVAL: [0/340] Elapsed 0m 0s (remain 0m 24s) Loss: 0.0476 \n",
            "EVAL: [100/340] Elapsed 0m 7s (remain 0m 17s) Loss: 0.0515 \n",
            "EVAL: [200/340] Elapsed 0m 14s (remain 0m 10s) Loss: 0.0543 \n",
            "EVAL: [300/340] Elapsed 0m 21s (remain 0m 2s) Loss: 0.0521 \n"
          ]
        },
        {
          "output_type": "stream",
          "name": "stderr",
          "text": [
            "Epoch 1 - avg_train_loss: 0.0701  avg_val_loss: 0.0496  time: 336s\n",
            "Epoch 1 - Score: 0.8219178082191781\n",
            "Epoch 1 - Save Best Score: 0.8219 Model\n"
          ]
        },
        {
          "output_type": "stream",
          "name": "stdout",
          "text": [
            "EVAL: [339/340] Elapsed 0m 24s (remain 0m 0s) Loss: 0.0496 \n",
            "Epoch: [2][0/1357] Elapsed 0m 0s (remain 5m 40s) Loss: 0.0354 \n",
            "Epoch: [2][100/1357] Elapsed 0m 23s (remain 4m 49s) Loss: 0.0367 \n",
            "Epoch: [2][200/1357] Elapsed 0m 46s (remain 4m 25s) Loss: 0.0367 \n",
            "Epoch: [2][300/1357] Elapsed 1m 9s (remain 4m 2s) Loss: 0.0333 \n",
            "Epoch: [2][400/1357] Elapsed 1m 32s (remain 3m 39s) Loss: 0.0387 \n",
            "Epoch: [2][500/1357] Elapsed 1m 55s (remain 3m 16s) Loss: 0.0383 \n",
            "Epoch: [2][600/1357] Elapsed 2m 18s (remain 2m 53s) Loss: 0.0378 \n",
            "Epoch: [2][700/1357] Elapsed 2m 41s (remain 2m 30s) Loss: 0.0369 \n",
            "Epoch: [2][800/1357] Elapsed 3m 4s (remain 2m 7s) Loss: 0.0369 \n",
            "Epoch: [2][900/1357] Elapsed 3m 27s (remain 1m 44s) Loss: 0.0378 \n",
            "Epoch: [2][1000/1357] Elapsed 3m 49s (remain 1m 21s) Loss: 0.0390 \n",
            "Epoch: [2][1100/1357] Elapsed 4m 12s (remain 0m 58s) Loss: 0.0399 \n",
            "Epoch: [2][1200/1357] Elapsed 4m 35s (remain 0m 35s) Loss: 0.0389 \n",
            "Epoch: [2][1300/1357] Elapsed 4m 58s (remain 0m 12s) Loss: 0.0390 \n",
            "Epoch: [2][1356/1357] Elapsed 5m 11s (remain 0m 0s) Loss: 0.0385 \n",
            "EVAL: [0/340] Elapsed 0m 0s (remain 0m 24s) Loss: 0.0086 \n",
            "EVAL: [100/340] Elapsed 0m 7s (remain 0m 17s) Loss: 0.0510 \n",
            "EVAL: [200/340] Elapsed 0m 14s (remain 0m 10s) Loss: 0.0502 \n",
            "EVAL: [300/340] Elapsed 0m 21s (remain 0m 2s) Loss: 0.0508 \n"
          ]
        },
        {
          "output_type": "stream",
          "name": "stderr",
          "text": [
            "Epoch 2 - avg_train_loss: 0.0385  avg_val_loss: 0.0484  time: 337s\n",
            "Epoch 2 - Score: 0.8487536320538308\n",
            "Epoch 2 - Save Best Score: 0.8488 Model\n"
          ]
        },
        {
          "output_type": "stream",
          "name": "stdout",
          "text": [
            "EVAL: [339/340] Elapsed 0m 24s (remain 0m 0s) Loss: 0.0484 \n",
            "Epoch: [3][0/1357] Elapsed 0m 0s (remain 5m 20s) Loss: 0.0030 \n",
            "Epoch: [3][100/1357] Elapsed 0m 23s (remain 4m 49s) Loss: 0.0250 \n",
            "Epoch: [3][200/1357] Elapsed 0m 46s (remain 4m 25s) Loss: 0.0251 \n",
            "Epoch: [3][300/1357] Elapsed 1m 9s (remain 4m 2s) Loss: 0.0238 \n",
            "Epoch: [3][400/1357] Elapsed 1m 32s (remain 3m 39s) Loss: 0.0239 \n",
            "Epoch: [3][500/1357] Elapsed 1m 55s (remain 3m 16s) Loss: 0.0246 \n",
            "Epoch: [3][600/1357] Elapsed 2m 18s (remain 2m 53s) Loss: 0.0249 \n",
            "Epoch: [3][700/1357] Elapsed 2m 40s (remain 2m 30s) Loss: 0.0253 \n",
            "Epoch: [3][800/1357] Elapsed 3m 3s (remain 2m 7s) Loss: 0.0265 \n",
            "Epoch: [3][900/1357] Elapsed 3m 26s (remain 1m 44s) Loss: 0.0273 \n",
            "Epoch: [3][1000/1357] Elapsed 3m 49s (remain 1m 21s) Loss: 0.0275 \n",
            "Epoch: [3][1100/1357] Elapsed 4m 12s (remain 0m 58s) Loss: 0.0280 \n",
            "Epoch: [3][1200/1357] Elapsed 4m 35s (remain 0m 35s) Loss: 0.0276 \n",
            "Epoch: [3][1300/1357] Elapsed 4m 58s (remain 0m 12s) Loss: 0.0279 \n",
            "Epoch: [3][1356/1357] Elapsed 5m 11s (remain 0m 0s) Loss: 0.0279 \n",
            "EVAL: [0/340] Elapsed 0m 0s (remain 0m 25s) Loss: 0.0430 \n",
            "EVAL: [100/340] Elapsed 0m 7s (remain 0m 17s) Loss: 0.0450 \n",
            "EVAL: [200/340] Elapsed 0m 14s (remain 0m 10s) Loss: 0.0472 \n",
            "EVAL: [300/340] Elapsed 0m 21s (remain 0m 2s) Loss: 0.0470 \n"
          ]
        },
        {
          "output_type": "stream",
          "name": "stderr",
          "text": [
            "Epoch 3 - avg_train_loss: 0.0279  avg_val_loss: 0.0469  time: 336s\n",
            "Epoch 3 - Score: 0.8680555555555555\n",
            "Epoch 3 - Save Best Score: 0.8681 Model\n"
          ]
        },
        {
          "output_type": "stream",
          "name": "stdout",
          "text": [
            "EVAL: [339/340] Elapsed 0m 24s (remain 0m 0s) Loss: 0.0469 \n"
          ]
        },
        {
          "output_type": "stream",
          "name": "stderr",
          "text": [
            "========== fold: 3 result ==========\n",
            "Score: 0.86806\n",
            "========== fold: 4 training ==========\n",
            "Special tokens have been added in the vocabulary, make sure the associated word embeddings are fine-tuned or trained.\n",
            "Special tokens have been added in the vocabulary, make sure the associated word embeddings are fine-tuned or trained.\n",
            "Special tokens have been added in the vocabulary, make sure the associated word embeddings are fine-tuned or trained.\n",
            "Special tokens have been added in the vocabulary, make sure the associated word embeddings are fine-tuned or trained.\n",
            "Some weights of the model checkpoint at /content/drive/MyDrive/RoBERTa-base-PM-M3-Voc-train-longer/RoBERTa-base-PM-M3-Voc-train-longer-hf were not used when initializing RobertaForSequenceClassification: ['lm_head.layer_norm.bias', 'lm_head.bias', 'lm_head.decoder.bias', 'roberta.pooler.dense.bias', 'lm_head.dense.bias', 'lm_head.layer_norm.weight', 'lm_head.dense.weight', 'lm_head.decoder.weight', 'roberta.pooler.dense.weight']\n",
            "- This IS expected if you are initializing RobertaForSequenceClassification from the checkpoint of a model trained on another task or with another architecture (e.g. initializing a BertForSequenceClassification model from a BertForPreTraining model).\n",
            "- This IS NOT expected if you are initializing RobertaForSequenceClassification from the checkpoint of a model that you expect to be exactly identical (initializing a BertForSequenceClassification model from a BertForSequenceClassification model).\n",
            "Some weights of RobertaForSequenceClassification were not initialized from the model checkpoint at /content/drive/MyDrive/RoBERTa-base-PM-M3-Voc-train-longer/RoBERTa-base-PM-M3-Voc-train-longer-hf and are newly initialized: ['classifier.out_proj.weight', 'classifier.out_proj.bias', 'classifier.dense.weight', 'classifier.dense.bias']\n",
            "You should probably TRAIN this model on a down-stream task to be able to use it for predictions and inference.\n"
          ]
        },
        {
          "output_type": "stream",
          "name": "stdout",
          "text": [
            "Epoch: [1][0/1357] Elapsed 0m 0s (remain 5m 25s) Loss: 0.6261 \n",
            "Epoch: [1][100/1357] Elapsed 0m 23s (remain 4m 48s) Loss: 0.1430 \n",
            "Epoch: [1][200/1357] Elapsed 0m 46s (remain 4m 25s) Loss: 0.1300 \n",
            "Epoch: [1][300/1357] Elapsed 1m 9s (remain 4m 2s) Loss: 0.1147 \n",
            "Epoch: [1][400/1357] Elapsed 1m 32s (remain 3m 39s) Loss: 0.1065 \n",
            "Epoch: [1][500/1357] Elapsed 1m 54s (remain 3m 16s) Loss: 0.0953 \n",
            "Epoch: [1][600/1357] Elapsed 2m 17s (remain 2m 53s) Loss: 0.0922 \n",
            "Epoch: [1][700/1357] Elapsed 2m 40s (remain 2m 30s) Loss: 0.0849 \n",
            "Epoch: [1][800/1357] Elapsed 3m 3s (remain 2m 7s) Loss: 0.0802 \n",
            "Epoch: [1][900/1357] Elapsed 3m 26s (remain 1m 44s) Loss: 0.0767 \n",
            "Epoch: [1][1000/1357] Elapsed 3m 49s (remain 1m 21s) Loss: 0.0747 \n",
            "Epoch: [1][1100/1357] Elapsed 4m 12s (remain 0m 58s) Loss: 0.0719 \n",
            "Epoch: [1][1200/1357] Elapsed 4m 35s (remain 0m 35s) Loss: 0.0698 \n",
            "Epoch: [1][1300/1357] Elapsed 4m 58s (remain 0m 12s) Loss: 0.0697 \n",
            "Epoch: [1][1356/1357] Elapsed 5m 11s (remain 0m 0s) Loss: 0.0686 \n",
            "EVAL: [0/340] Elapsed 0m 0s (remain 0m 24s) Loss: 0.0042 \n",
            "EVAL: [100/340] Elapsed 0m 7s (remain 0m 17s) Loss: 0.0496 \n",
            "EVAL: [200/340] Elapsed 0m 14s (remain 0m 10s) Loss: 0.0465 \n",
            "EVAL: [300/340] Elapsed 0m 21s (remain 0m 2s) Loss: 0.0495 \n"
          ]
        },
        {
          "output_type": "stream",
          "name": "stderr",
          "text": [
            "Epoch 1 - avg_train_loss: 0.0686  avg_val_loss: 0.0489  time: 336s\n",
            "Epoch 1 - Score: 0.8806986382474836\n",
            "Epoch 1 - Save Best Score: 0.8807 Model\n"
          ]
        },
        {
          "output_type": "stream",
          "name": "stdout",
          "text": [
            "EVAL: [339/340] Elapsed 0m 24s (remain 0m 0s) Loss: 0.0489 \n",
            "Epoch: [2][0/1357] Elapsed 0m 0s (remain 5m 39s) Loss: 0.0896 \n",
            "Epoch: [2][100/1357] Elapsed 0m 23s (remain 4m 48s) Loss: 0.0291 \n",
            "Epoch: [2][200/1357] Elapsed 0m 46s (remain 4m 25s) Loss: 0.0388 \n",
            "Epoch: [2][300/1357] Elapsed 1m 9s (remain 4m 2s) Loss: 0.0367 \n",
            "Epoch: [2][400/1357] Elapsed 1m 31s (remain 3m 39s) Loss: 0.0379 \n",
            "Epoch: [2][500/1357] Elapsed 1m 54s (remain 3m 16s) Loss: 0.0400 \n",
            "Epoch: [2][600/1357] Elapsed 2m 17s (remain 2m 53s) Loss: 0.0381 \n",
            "Epoch: [2][700/1357] Elapsed 2m 40s (remain 2m 30s) Loss: 0.0388 \n",
            "Epoch: [2][800/1357] Elapsed 3m 3s (remain 2m 7s) Loss: 0.0378 \n",
            "Epoch: [2][900/1357] Elapsed 3m 26s (remain 1m 44s) Loss: 0.0365 \n",
            "Epoch: [2][1000/1357] Elapsed 3m 49s (remain 1m 21s) Loss: 0.0365 \n",
            "Epoch: [2][1100/1357] Elapsed 4m 12s (remain 0m 58s) Loss: 0.0365 \n",
            "Epoch: [2][1200/1357] Elapsed 4m 35s (remain 0m 35s) Loss: 0.0366 \n",
            "Epoch: [2][1300/1357] Elapsed 4m 58s (remain 0m 12s) Loss: 0.0371 \n",
            "Epoch: [2][1356/1357] Elapsed 5m 11s (remain 0m 0s) Loss: 0.0375 \n",
            "EVAL: [0/340] Elapsed 0m 0s (remain 0m 24s) Loss: 0.0016 \n",
            "EVAL: [100/340] Elapsed 0m 7s (remain 0m 17s) Loss: 0.0377 \n",
            "EVAL: [200/340] Elapsed 0m 14s (remain 0m 10s) Loss: 0.0400 \n",
            "EVAL: [300/340] Elapsed 0m 21s (remain 0m 2s) Loss: 0.0410 \n"
          ]
        },
        {
          "output_type": "stream",
          "name": "stderr",
          "text": [
            "Epoch 2 - avg_train_loss: 0.0375  avg_val_loss: 0.0418  time: 336s\n",
            "Epoch 2 - Score: 0.8724428399518652\n"
          ]
        },
        {
          "output_type": "stream",
          "name": "stdout",
          "text": [
            "EVAL: [339/340] Elapsed 0m 24s (remain 0m 0s) Loss: 0.0418 \n",
            "Epoch: [3][0/1357] Elapsed 0m 0s (remain 5m 18s) Loss: 0.0015 \n",
            "Epoch: [3][100/1357] Elapsed 0m 23s (remain 4m 48s) Loss: 0.0196 \n",
            "Epoch: [3][200/1357] Elapsed 0m 46s (remain 4m 25s) Loss: 0.0211 \n",
            "Epoch: [3][300/1357] Elapsed 1m 9s (remain 4m 2s) Loss: 0.0253 \n",
            "Epoch: [3][400/1357] Elapsed 1m 31s (remain 3m 39s) Loss: 0.0263 \n",
            "Epoch: [3][500/1357] Elapsed 1m 54s (remain 3m 16s) Loss: 0.0262 \n",
            "Epoch: [3][600/1357] Elapsed 2m 17s (remain 2m 53s) Loss: 0.0264 \n",
            "Epoch: [3][700/1357] Elapsed 2m 40s (remain 2m 30s) Loss: 0.0267 \n",
            "Epoch: [3][800/1357] Elapsed 3m 3s (remain 2m 7s) Loss: 0.0281 \n",
            "Epoch: [3][900/1357] Elapsed 3m 26s (remain 1m 44s) Loss: 0.0275 \n",
            "Epoch: [3][1000/1357] Elapsed 3m 49s (remain 1m 21s) Loss: 0.0266 \n",
            "Epoch: [3][1100/1357] Elapsed 4m 12s (remain 0m 58s) Loss: 0.0274 \n",
            "Epoch: [3][1200/1357] Elapsed 4m 35s (remain 0m 35s) Loss: 0.0268 \n",
            "Epoch: [3][1300/1357] Elapsed 4m 58s (remain 0m 12s) Loss: 0.0276 \n",
            "Epoch: [3][1356/1357] Elapsed 5m 11s (remain 0m 0s) Loss: 0.0275 \n",
            "EVAL: [0/340] Elapsed 0m 0s (remain 0m 24s) Loss: 0.0009 \n",
            "EVAL: [100/340] Elapsed 0m 7s (remain 0m 17s) Loss: 0.0396 \n",
            "EVAL: [200/340] Elapsed 0m 14s (remain 0m 10s) Loss: 0.0392 \n",
            "EVAL: [300/340] Elapsed 0m 21s (remain 0m 2s) Loss: 0.0422 \n"
          ]
        },
        {
          "output_type": "stream",
          "name": "stderr",
          "text": [
            "Epoch 3 - avg_train_loss: 0.0275  avg_val_loss: 0.0413  time: 336s\n",
            "Epoch 3 - Score: 0.8968266135213859\n",
            "Epoch 3 - Save Best Score: 0.8968 Model\n"
          ]
        },
        {
          "output_type": "stream",
          "name": "stdout",
          "text": [
            "EVAL: [339/340] Elapsed 0m 24s (remain 0m 0s) Loss: 0.0413 \n"
          ]
        },
        {
          "output_type": "stream",
          "name": "stderr",
          "text": [
            "========== fold: 4 result ==========\n",
            "Score: 0.89683\n",
            "========== CV ==========\n",
            "Score: 0.90263\n",
            "Special tokens have been added in the vocabulary, make sure the associated word embeddings are fine-tuned or trained.\n",
            "Special tokens have been added in the vocabulary, make sure the associated word embeddings are fine-tuned or trained.\n",
            "========== model:robertaPMBase fold: 0 inference ==========\n",
            "Some weights of the model checkpoint at /content/drive/MyDrive/RoBERTa-base-PM-M3-Voc-train-longer/RoBERTa-base-PM-M3-Voc-train-longer-hf were not used when initializing RobertaForSequenceClassification: ['lm_head.layer_norm.bias', 'lm_head.bias', 'lm_head.decoder.bias', 'roberta.pooler.dense.bias', 'lm_head.dense.bias', 'lm_head.layer_norm.weight', 'lm_head.dense.weight', 'lm_head.decoder.weight', 'roberta.pooler.dense.weight']\n",
            "- This IS expected if you are initializing RobertaForSequenceClassification from the checkpoint of a model trained on another task or with another architecture (e.g. initializing a BertForSequenceClassification model from a BertForPreTraining model).\n",
            "- This IS NOT expected if you are initializing RobertaForSequenceClassification from the checkpoint of a model that you expect to be exactly identical (initializing a BertForSequenceClassification model from a BertForSequenceClassification model).\n",
            "Some weights of RobertaForSequenceClassification were not initialized from the model checkpoint at /content/drive/MyDrive/RoBERTa-base-PM-M3-Voc-train-longer/RoBERTa-base-PM-M3-Voc-train-longer-hf and are newly initialized: ['classifier.out_proj.weight', 'classifier.out_proj.bias', 'classifier.dense.weight', 'classifier.dense.bias']\n",
            "You should probably TRAIN this model on a down-stream task to be able to use it for predictions and inference.\n"
          ]
        },
        {
          "output_type": "display_data",
          "data": {
            "application/vnd.jupyter.widget-view+json": {
              "model_id": "6cd33fd7a3a54dac99fef5e66e5075e0",
              "version_minor": 0,
              "version_major": 2
            },
            "text/plain": [
              "  0%|          | 0/2553 [00:00<?, ?it/s]"
            ]
          },
          "metadata": {}
        },
        {
          "output_type": "stream",
          "name": "stderr",
          "text": [
            "========== model:robertaPMBase fold: 1 inference ==========\n",
            "Some weights of the model checkpoint at /content/drive/MyDrive/RoBERTa-base-PM-M3-Voc-train-longer/RoBERTa-base-PM-M3-Voc-train-longer-hf were not used when initializing RobertaForSequenceClassification: ['lm_head.layer_norm.bias', 'lm_head.bias', 'lm_head.decoder.bias', 'roberta.pooler.dense.bias', 'lm_head.dense.bias', 'lm_head.layer_norm.weight', 'lm_head.dense.weight', 'lm_head.decoder.weight', 'roberta.pooler.dense.weight']\n",
            "- This IS expected if you are initializing RobertaForSequenceClassification from the checkpoint of a model trained on another task or with another architecture (e.g. initializing a BertForSequenceClassification model from a BertForPreTraining model).\n",
            "- This IS NOT expected if you are initializing RobertaForSequenceClassification from the checkpoint of a model that you expect to be exactly identical (initializing a BertForSequenceClassification model from a BertForSequenceClassification model).\n",
            "Some weights of RobertaForSequenceClassification were not initialized from the model checkpoint at /content/drive/MyDrive/RoBERTa-base-PM-M3-Voc-train-longer/RoBERTa-base-PM-M3-Voc-train-longer-hf and are newly initialized: ['classifier.out_proj.weight', 'classifier.out_proj.bias', 'classifier.dense.weight', 'classifier.dense.bias']\n",
            "You should probably TRAIN this model on a down-stream task to be able to use it for predictions and inference.\n"
          ]
        },
        {
          "output_type": "display_data",
          "data": {
            "application/vnd.jupyter.widget-view+json": {
              "model_id": "6bf3bae5f98647c5a587517d55561f2b",
              "version_minor": 0,
              "version_major": 2
            },
            "text/plain": [
              "  0%|          | 0/2553 [00:00<?, ?it/s]"
            ]
          },
          "metadata": {}
        },
        {
          "output_type": "stream",
          "name": "stderr",
          "text": [
            "========== model:robertaPMBase fold: 2 inference ==========\n",
            "Some weights of the model checkpoint at /content/drive/MyDrive/RoBERTa-base-PM-M3-Voc-train-longer/RoBERTa-base-PM-M3-Voc-train-longer-hf were not used when initializing RobertaForSequenceClassification: ['lm_head.layer_norm.bias', 'lm_head.bias', 'lm_head.decoder.bias', 'roberta.pooler.dense.bias', 'lm_head.dense.bias', 'lm_head.layer_norm.weight', 'lm_head.dense.weight', 'lm_head.decoder.weight', 'roberta.pooler.dense.weight']\n",
            "- This IS expected if you are initializing RobertaForSequenceClassification from the checkpoint of a model trained on another task or with another architecture (e.g. initializing a BertForSequenceClassification model from a BertForPreTraining model).\n",
            "- This IS NOT expected if you are initializing RobertaForSequenceClassification from the checkpoint of a model that you expect to be exactly identical (initializing a BertForSequenceClassification model from a BertForSequenceClassification model).\n",
            "Some weights of RobertaForSequenceClassification were not initialized from the model checkpoint at /content/drive/MyDrive/RoBERTa-base-PM-M3-Voc-train-longer/RoBERTa-base-PM-M3-Voc-train-longer-hf and are newly initialized: ['classifier.out_proj.weight', 'classifier.out_proj.bias', 'classifier.dense.weight', 'classifier.dense.bias']\n",
            "You should probably TRAIN this model on a down-stream task to be able to use it for predictions and inference.\n"
          ]
        },
        {
          "output_type": "display_data",
          "data": {
            "application/vnd.jupyter.widget-view+json": {
              "model_id": "943fae7a13af4c248a3fc0cf7e571474",
              "version_minor": 0,
              "version_major": 2
            },
            "text/plain": [
              "  0%|          | 0/2553 [00:00<?, ?it/s]"
            ]
          },
          "metadata": {}
        },
        {
          "output_type": "stream",
          "name": "stderr",
          "text": [
            "========== model:robertaPMBase fold: 3 inference ==========\n",
            "Some weights of the model checkpoint at /content/drive/MyDrive/RoBERTa-base-PM-M3-Voc-train-longer/RoBERTa-base-PM-M3-Voc-train-longer-hf were not used when initializing RobertaForSequenceClassification: ['lm_head.layer_norm.bias', 'lm_head.bias', 'lm_head.decoder.bias', 'roberta.pooler.dense.bias', 'lm_head.dense.bias', 'lm_head.layer_norm.weight', 'lm_head.dense.weight', 'lm_head.decoder.weight', 'roberta.pooler.dense.weight']\n",
            "- This IS expected if you are initializing RobertaForSequenceClassification from the checkpoint of a model trained on another task or with another architecture (e.g. initializing a BertForSequenceClassification model from a BertForPreTraining model).\n",
            "- This IS NOT expected if you are initializing RobertaForSequenceClassification from the checkpoint of a model that you expect to be exactly identical (initializing a BertForSequenceClassification model from a BertForSequenceClassification model).\n",
            "Some weights of RobertaForSequenceClassification were not initialized from the model checkpoint at /content/drive/MyDrive/RoBERTa-base-PM-M3-Voc-train-longer/RoBERTa-base-PM-M3-Voc-train-longer-hf and are newly initialized: ['classifier.out_proj.weight', 'classifier.out_proj.bias', 'classifier.dense.weight', 'classifier.dense.bias']\n",
            "You should probably TRAIN this model on a down-stream task to be able to use it for predictions and inference.\n"
          ]
        },
        {
          "output_type": "display_data",
          "data": {
            "application/vnd.jupyter.widget-view+json": {
              "model_id": "006f0eec85d3480ea7dfe8b1f9e87cd3",
              "version_minor": 0,
              "version_major": 2
            },
            "text/plain": [
              "  0%|          | 0/2553 [00:00<?, ?it/s]"
            ]
          },
          "metadata": {}
        },
        {
          "output_type": "stream",
          "name": "stderr",
          "text": [
            "========== model:robertaPMBase fold: 4 inference ==========\n",
            "Some weights of the model checkpoint at /content/drive/MyDrive/RoBERTa-base-PM-M3-Voc-train-longer/RoBERTa-base-PM-M3-Voc-train-longer-hf were not used when initializing RobertaForSequenceClassification: ['lm_head.layer_norm.bias', 'lm_head.bias', 'lm_head.decoder.bias', 'roberta.pooler.dense.bias', 'lm_head.dense.bias', 'lm_head.layer_norm.weight', 'lm_head.dense.weight', 'lm_head.decoder.weight', 'roberta.pooler.dense.weight']\n",
            "- This IS expected if you are initializing RobertaForSequenceClassification from the checkpoint of a model trained on another task or with another architecture (e.g. initializing a BertForSequenceClassification model from a BertForPreTraining model).\n",
            "- This IS NOT expected if you are initializing RobertaForSequenceClassification from the checkpoint of a model that you expect to be exactly identical (initializing a BertForSequenceClassification model from a BertForSequenceClassification model).\n",
            "Some weights of RobertaForSequenceClassification were not initialized from the model checkpoint at /content/drive/MyDrive/RoBERTa-base-PM-M3-Voc-train-longer/RoBERTa-base-PM-M3-Voc-train-longer-hf and are newly initialized: ['classifier.out_proj.weight', 'classifier.out_proj.bias', 'classifier.dense.weight', 'classifier.dense.bias']\n",
            "You should probably TRAIN this model on a down-stream task to be able to use it for predictions and inference.\n"
          ]
        },
        {
          "output_type": "display_data",
          "data": {
            "application/vnd.jupyter.widget-view+json": {
              "model_id": "beac807342c748cda413b465ba598bc7",
              "version_minor": 0,
              "version_major": 2
            },
            "text/plain": [
              "  0%|          | 0/2553 [00:00<?, ?it/s]"
            ]
          },
          "metadata": {}
        }
      ]
    },
    {
      "cell_type": "code",
      "metadata": {
        "id": "0qRE1mpEv4lU",
        "colab": {
          "base_uri": "https://localhost:8080/",
          "height": 168
        },
        "outputId": "661cf046-aae8-408d-8ad1-1b456b1e25f6"
      },
      "source": [
        "b"
      ],
      "execution_count": 29,
      "outputs": [
        {
          "output_type": "error",
          "ename": "NameError",
          "evalue": "ignored",
          "traceback": [
            "\u001b[0;31m---------------------------------------------------------------------------\u001b[0m",
            "\u001b[0;31mNameError\u001b[0m                                 Traceback (most recent call last)",
            "\u001b[0;32m<ipython-input-29-89e6c98d9288>\u001b[0m in \u001b[0;36m<module>\u001b[0;34m()\u001b[0m\n\u001b[0;32m----> 1\u001b[0;31m \u001b[0mb\u001b[0m\u001b[0;34m\u001b[0m\u001b[0;34m\u001b[0m\u001b[0m\n\u001b[0m",
            "\u001b[0;31mNameError\u001b[0m: name 'b' is not defined"
          ]
        }
      ]
    },
    {
      "cell_type": "code",
      "metadata": {
        "id": "4gMN0WOew-Fm"
      },
      "source": [
        "border = 0.018"
      ],
      "execution_count": null,
      "outputs": []
    },
    {
      "cell_type": "code",
      "metadata": {
        "id": "dsZtLxxJwj46"
      },
      "source": [
        "    oof_df = pd.read_csv(\"/content/oof_df (1).csv\")\n",
        "    \n",
        "    # CV result\n",
        "    LOGGER.info(f\"========== CV ==========\")\n",
        "    get_result(oof_df)\n",
        "    "
      ],
      "execution_count": null,
      "outputs": []
    },
    {
      "cell_type": "code",
      "metadata": {
        "id": "dix4xghuP-iU"
      },
      "source": [
        "# Save OOF result\n",
        "#oof_df.to_csv(\"/content/preds.csv\", index=False)\n",
        "\n",
        "    # Inference\n",
        "predictions = inference()\n",
        "predictions = np.where(predictions < border, 0, 1)\n",
        "\n",
        "    # submission\n",
        "sub[\"judgement\"] = predictions\n",
        "sub.to_csv(\"/content/submission.csv\", index=False, header=False)\n",
        "\n"
      ],
      "execution_count": null,
      "outputs": []
    },
    {
      "cell_type": "code",
      "metadata": {
        "id": "X8b-vUyE5vn4"
      },
      "source": [
        "border = 0.015"
      ],
      "execution_count": null,
      "outputs": []
    },
    {
      "cell_type": "code",
      "metadata": {
        "id": "zfwEE4g2lVwc"
      },
      "source": [
        "# Save OOF result\n",
        "oof_df.to_csv(\"/content/preds2.csv\", index=False)\n",
        "\n",
        "    # Inference\n",
        "predictions = inference()\n",
        "predictions = np.where(predictions < border, 0, 1)\n",
        "\n",
        "    # submission\n",
        "sub[\"judgement\"] = predictions\n",
        "sub.to_csv(\"/content/submission2.csv\", index=False, header=False)"
      ],
      "execution_count": null,
      "outputs": []
    },
    {
      "cell_type": "code",
      "metadata": {
        "id": "fzMeiczmlXHM"
      },
      "source": [
        ""
      ],
      "execution_count": null,
      "outputs": []
    }
  ]
}