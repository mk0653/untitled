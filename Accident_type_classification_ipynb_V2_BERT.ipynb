{
  "nbformat": 4,
  "nbformat_minor": 0,
  "metadata": {
    "colab": {
      "name": "Accident_type_classification_ipynb_V2_BERT",
      "provenance": [],
      "collapsed_sections": [],
      "include_colab_link": true
    },
    "kernelspec": {
      "name": "python3",
      "display_name": "Python 3"
    },
    "language_info": {
      "name": "python"
    },
    "accelerator": "GPU",
    "widgets": {
      "application/vnd.jupyter.widget-state+json": {
        "2cc00cb8acfc405ea7e703ca43e8437c": {
          "model_module": "@jupyter-widgets/controls",
          "model_name": "HBoxModel",
          "model_module_version": "1.5.0",
          "state": {
            "_view_name": "HBoxView",
            "_dom_classes": [],
            "_model_name": "HBoxModel",
            "_view_module": "@jupyter-widgets/controls",
            "_model_module_version": "1.5.0",
            "_view_count": null,
            "_view_module_version": "1.5.0",
            "box_style": "",
            "layout": "IPY_MODEL_5847495639d14b66bd6afc9d61196859",
            "_model_module": "@jupyter-widgets/controls",
            "children": [
              "IPY_MODEL_27b8eadb22dc41f38f5f1d730be34624",
              "IPY_MODEL_cfa5571fde6443c19a16502668e74598",
              "IPY_MODEL_a952f967919e4f8aab5d88b0af8ec1da"
            ]
          }
        },
        "5847495639d14b66bd6afc9d61196859": {
          "model_module": "@jupyter-widgets/base",
          "model_name": "LayoutModel",
          "model_module_version": "1.2.0",
          "state": {
            "_view_name": "LayoutView",
            "grid_template_rows": null,
            "right": null,
            "justify_content": null,
            "_view_module": "@jupyter-widgets/base",
            "overflow": null,
            "_model_module_version": "1.2.0",
            "_view_count": null,
            "flex_flow": null,
            "width": null,
            "min_width": null,
            "border": null,
            "align_items": null,
            "bottom": null,
            "_model_module": "@jupyter-widgets/base",
            "top": null,
            "grid_column": null,
            "overflow_y": null,
            "overflow_x": null,
            "grid_auto_flow": null,
            "grid_area": null,
            "grid_template_columns": null,
            "flex": null,
            "_model_name": "LayoutModel",
            "justify_items": null,
            "grid_row": null,
            "max_height": null,
            "align_content": null,
            "visibility": null,
            "align_self": null,
            "height": null,
            "min_height": null,
            "padding": null,
            "grid_auto_rows": null,
            "grid_gap": null,
            "max_width": null,
            "order": null,
            "_view_module_version": "1.2.0",
            "grid_template_areas": null,
            "object_position": null,
            "object_fit": null,
            "grid_auto_columns": null,
            "margin": null,
            "display": null,
            "left": null
          }
        },
        "27b8eadb22dc41f38f5f1d730be34624": {
          "model_module": "@jupyter-widgets/controls",
          "model_name": "HTMLModel",
          "model_module_version": "1.5.0",
          "state": {
            "_view_name": "HTMLView",
            "style": "IPY_MODEL_2c2488b9359a40ee93d120072569ded8",
            "_dom_classes": [],
            "description": "",
            "_model_name": "HTMLModel",
            "placeholder": "​",
            "_view_module": "@jupyter-widgets/controls",
            "_model_module_version": "1.5.0",
            "value": "Downloading: 100%",
            "_view_count": null,
            "_view_module_version": "1.5.0",
            "description_tooltip": null,
            "_model_module": "@jupyter-widgets/controls",
            "layout": "IPY_MODEL_3e2ba746c738487bb3579a0ba4e78f9a"
          }
        },
        "cfa5571fde6443c19a16502668e74598": {
          "model_module": "@jupyter-widgets/controls",
          "model_name": "FloatProgressModel",
          "model_module_version": "1.5.0",
          "state": {
            "_view_name": "ProgressView",
            "style": "IPY_MODEL_1955b9c16a4c4d5187e308e833e25b6b",
            "_dom_classes": [],
            "description": "",
            "_model_name": "FloatProgressModel",
            "bar_style": "success",
            "max": 236001,
            "_view_module": "@jupyter-widgets/controls",
            "_model_module_version": "1.5.0",
            "value": 236001,
            "_view_count": null,
            "_view_module_version": "1.5.0",
            "orientation": "horizontal",
            "min": 0,
            "description_tooltip": null,
            "_model_module": "@jupyter-widgets/controls",
            "layout": "IPY_MODEL_51c704b415484953853ff56287051a23"
          }
        },
        "a952f967919e4f8aab5d88b0af8ec1da": {
          "model_module": "@jupyter-widgets/controls",
          "model_name": "HTMLModel",
          "model_module_version": "1.5.0",
          "state": {
            "_view_name": "HTMLView",
            "style": "IPY_MODEL_3d053a3ca5d447e280e2d7259da050e0",
            "_dom_classes": [],
            "description": "",
            "_model_name": "HTMLModel",
            "placeholder": "​",
            "_view_module": "@jupyter-widgets/controls",
            "_model_module_version": "1.5.0",
            "value": " 230k/230k [00:00&lt;00:00, 391kB/s]",
            "_view_count": null,
            "_view_module_version": "1.5.0",
            "description_tooltip": null,
            "_model_module": "@jupyter-widgets/controls",
            "layout": "IPY_MODEL_c06f759deecb4acd85df1001120779ac"
          }
        },
        "2c2488b9359a40ee93d120072569ded8": {
          "model_module": "@jupyter-widgets/controls",
          "model_name": "DescriptionStyleModel",
          "model_module_version": "1.5.0",
          "state": {
            "_view_name": "StyleView",
            "_model_name": "DescriptionStyleModel",
            "description_width": "",
            "_view_module": "@jupyter-widgets/base",
            "_model_module_version": "1.5.0",
            "_view_count": null,
            "_view_module_version": "1.2.0",
            "_model_module": "@jupyter-widgets/controls"
          }
        },
        "3e2ba746c738487bb3579a0ba4e78f9a": {
          "model_module": "@jupyter-widgets/base",
          "model_name": "LayoutModel",
          "model_module_version": "1.2.0",
          "state": {
            "_view_name": "LayoutView",
            "grid_template_rows": null,
            "right": null,
            "justify_content": null,
            "_view_module": "@jupyter-widgets/base",
            "overflow": null,
            "_model_module_version": "1.2.0",
            "_view_count": null,
            "flex_flow": null,
            "width": null,
            "min_width": null,
            "border": null,
            "align_items": null,
            "bottom": null,
            "_model_module": "@jupyter-widgets/base",
            "top": null,
            "grid_column": null,
            "overflow_y": null,
            "overflow_x": null,
            "grid_auto_flow": null,
            "grid_area": null,
            "grid_template_columns": null,
            "flex": null,
            "_model_name": "LayoutModel",
            "justify_items": null,
            "grid_row": null,
            "max_height": null,
            "align_content": null,
            "visibility": null,
            "align_self": null,
            "height": null,
            "min_height": null,
            "padding": null,
            "grid_auto_rows": null,
            "grid_gap": null,
            "max_width": null,
            "order": null,
            "_view_module_version": "1.2.0",
            "grid_template_areas": null,
            "object_position": null,
            "object_fit": null,
            "grid_auto_columns": null,
            "margin": null,
            "display": null,
            "left": null
          }
        },
        "1955b9c16a4c4d5187e308e833e25b6b": {
          "model_module": "@jupyter-widgets/controls",
          "model_name": "ProgressStyleModel",
          "model_module_version": "1.5.0",
          "state": {
            "_view_name": "StyleView",
            "_model_name": "ProgressStyleModel",
            "description_width": "",
            "_view_module": "@jupyter-widgets/base",
            "_model_module_version": "1.5.0",
            "_view_count": null,
            "_view_module_version": "1.2.0",
            "bar_color": null,
            "_model_module": "@jupyter-widgets/controls"
          }
        },
        "51c704b415484953853ff56287051a23": {
          "model_module": "@jupyter-widgets/base",
          "model_name": "LayoutModel",
          "model_module_version": "1.2.0",
          "state": {
            "_view_name": "LayoutView",
            "grid_template_rows": null,
            "right": null,
            "justify_content": null,
            "_view_module": "@jupyter-widgets/base",
            "overflow": null,
            "_model_module_version": "1.2.0",
            "_view_count": null,
            "flex_flow": null,
            "width": null,
            "min_width": null,
            "border": null,
            "align_items": null,
            "bottom": null,
            "_model_module": "@jupyter-widgets/base",
            "top": null,
            "grid_column": null,
            "overflow_y": null,
            "overflow_x": null,
            "grid_auto_flow": null,
            "grid_area": null,
            "grid_template_columns": null,
            "flex": null,
            "_model_name": "LayoutModel",
            "justify_items": null,
            "grid_row": null,
            "max_height": null,
            "align_content": null,
            "visibility": null,
            "align_self": null,
            "height": null,
            "min_height": null,
            "padding": null,
            "grid_auto_rows": null,
            "grid_gap": null,
            "max_width": null,
            "order": null,
            "_view_module_version": "1.2.0",
            "grid_template_areas": null,
            "object_position": null,
            "object_fit": null,
            "grid_auto_columns": null,
            "margin": null,
            "display": null,
            "left": null
          }
        },
        "3d053a3ca5d447e280e2d7259da050e0": {
          "model_module": "@jupyter-widgets/controls",
          "model_name": "DescriptionStyleModel",
          "model_module_version": "1.5.0",
          "state": {
            "_view_name": "StyleView",
            "_model_name": "DescriptionStyleModel",
            "description_width": "",
            "_view_module": "@jupyter-widgets/base",
            "_model_module_version": "1.5.0",
            "_view_count": null,
            "_view_module_version": "1.2.0",
            "_model_module": "@jupyter-widgets/controls"
          }
        },
        "c06f759deecb4acd85df1001120779ac": {
          "model_module": "@jupyter-widgets/base",
          "model_name": "LayoutModel",
          "model_module_version": "1.2.0",
          "state": {
            "_view_name": "LayoutView",
            "grid_template_rows": null,
            "right": null,
            "justify_content": null,
            "_view_module": "@jupyter-widgets/base",
            "overflow": null,
            "_model_module_version": "1.2.0",
            "_view_count": null,
            "flex_flow": null,
            "width": null,
            "min_width": null,
            "border": null,
            "align_items": null,
            "bottom": null,
            "_model_module": "@jupyter-widgets/base",
            "top": null,
            "grid_column": null,
            "overflow_y": null,
            "overflow_x": null,
            "grid_auto_flow": null,
            "grid_area": null,
            "grid_template_columns": null,
            "flex": null,
            "_model_name": "LayoutModel",
            "justify_items": null,
            "grid_row": null,
            "max_height": null,
            "align_content": null,
            "visibility": null,
            "align_self": null,
            "height": null,
            "min_height": null,
            "padding": null,
            "grid_auto_rows": null,
            "grid_gap": null,
            "max_width": null,
            "order": null,
            "_view_module_version": "1.2.0",
            "grid_template_areas": null,
            "object_position": null,
            "object_fit": null,
            "grid_auto_columns": null,
            "margin": null,
            "display": null,
            "left": null
          }
        },
        "3284f16405d54848abe737e3033d5d61": {
          "model_module": "@jupyter-widgets/controls",
          "model_name": "HBoxModel",
          "model_module_version": "1.5.0",
          "state": {
            "_view_name": "HBoxView",
            "_dom_classes": [],
            "_model_name": "HBoxModel",
            "_view_module": "@jupyter-widgets/controls",
            "_model_module_version": "1.5.0",
            "_view_count": null,
            "_view_module_version": "1.5.0",
            "box_style": "",
            "layout": "IPY_MODEL_84a4d16163a84422b02cc3d7cea7d071",
            "_model_module": "@jupyter-widgets/controls",
            "children": [
              "IPY_MODEL_86d2f6d3ebd24aa0ac8b88c68ee26b9b",
              "IPY_MODEL_5fe88b68d15141f9afa1fe63297dcedf",
              "IPY_MODEL_ac6e0b359843443eb52a3df69383792d"
            ]
          }
        },
        "84a4d16163a84422b02cc3d7cea7d071": {
          "model_module": "@jupyter-widgets/base",
          "model_name": "LayoutModel",
          "model_module_version": "1.2.0",
          "state": {
            "_view_name": "LayoutView",
            "grid_template_rows": null,
            "right": null,
            "justify_content": null,
            "_view_module": "@jupyter-widgets/base",
            "overflow": null,
            "_model_module_version": "1.2.0",
            "_view_count": null,
            "flex_flow": null,
            "width": null,
            "min_width": null,
            "border": null,
            "align_items": null,
            "bottom": null,
            "_model_module": "@jupyter-widgets/base",
            "top": null,
            "grid_column": null,
            "overflow_y": null,
            "overflow_x": null,
            "grid_auto_flow": null,
            "grid_area": null,
            "grid_template_columns": null,
            "flex": null,
            "_model_name": "LayoutModel",
            "justify_items": null,
            "grid_row": null,
            "max_height": null,
            "align_content": null,
            "visibility": null,
            "align_self": null,
            "height": null,
            "min_height": null,
            "padding": null,
            "grid_auto_rows": null,
            "grid_gap": null,
            "max_width": null,
            "order": null,
            "_view_module_version": "1.2.0",
            "grid_template_areas": null,
            "object_position": null,
            "object_fit": null,
            "grid_auto_columns": null,
            "margin": null,
            "display": null,
            "left": null
          }
        },
        "86d2f6d3ebd24aa0ac8b88c68ee26b9b": {
          "model_module": "@jupyter-widgets/controls",
          "model_name": "HTMLModel",
          "model_module_version": "1.5.0",
          "state": {
            "_view_name": "HTMLView",
            "style": "IPY_MODEL_72a40e4e0a2d4e5ba38e0389ba611e06",
            "_dom_classes": [],
            "description": "",
            "_model_name": "HTMLModel",
            "placeholder": "​",
            "_view_module": "@jupyter-widgets/controls",
            "_model_module_version": "1.5.0",
            "value": "Downloading: 100%",
            "_view_count": null,
            "_view_module_version": "1.5.0",
            "description_tooltip": null,
            "_model_module": "@jupyter-widgets/controls",
            "layout": "IPY_MODEL_e7128ee4a88b4ce49edb321ef72c2d60"
          }
        },
        "5fe88b68d15141f9afa1fe63297dcedf": {
          "model_module": "@jupyter-widgets/controls",
          "model_name": "FloatProgressModel",
          "model_module_version": "1.5.0",
          "state": {
            "_view_name": "ProgressView",
            "style": "IPY_MODEL_8a0549059aed4020b210b8523ee13c26",
            "_dom_classes": [],
            "description": "",
            "_model_name": "FloatProgressModel",
            "bar_style": "success",
            "max": 1354281605,
            "_view_module": "@jupyter-widgets/controls",
            "_model_module_version": "1.5.0",
            "value": 1354281605,
            "_view_count": null,
            "_view_module_version": "1.5.0",
            "orientation": "horizontal",
            "min": 0,
            "description_tooltip": null,
            "_model_module": "@jupyter-widgets/controls",
            "layout": "IPY_MODEL_53a9b59a44ef49848bd48e86af173d24"
          }
        },
        "ac6e0b359843443eb52a3df69383792d": {
          "model_module": "@jupyter-widgets/controls",
          "model_name": "HTMLModel",
          "model_module_version": "1.5.0",
          "state": {
            "_view_name": "HTMLView",
            "style": "IPY_MODEL_65f13341c72b47eab88985503247eb02",
            "_dom_classes": [],
            "description": "",
            "_model_name": "HTMLModel",
            "placeholder": "​",
            "_view_module": "@jupyter-widgets/controls",
            "_model_module_version": "1.5.0",
            "value": " 1.26G/1.26G [00:39&lt;00:00, 35.2MB/s]",
            "_view_count": null,
            "_view_module_version": "1.5.0",
            "description_tooltip": null,
            "_model_module": "@jupyter-widgets/controls",
            "layout": "IPY_MODEL_f16b7f138f764bc6ba14e78c61db1595"
          }
        },
        "72a40e4e0a2d4e5ba38e0389ba611e06": {
          "model_module": "@jupyter-widgets/controls",
          "model_name": "DescriptionStyleModel",
          "model_module_version": "1.5.0",
          "state": {
            "_view_name": "StyleView",
            "_model_name": "DescriptionStyleModel",
            "description_width": "",
            "_view_module": "@jupyter-widgets/base",
            "_model_module_version": "1.5.0",
            "_view_count": null,
            "_view_module_version": "1.2.0",
            "_model_module": "@jupyter-widgets/controls"
          }
        },
        "e7128ee4a88b4ce49edb321ef72c2d60": {
          "model_module": "@jupyter-widgets/base",
          "model_name": "LayoutModel",
          "model_module_version": "1.2.0",
          "state": {
            "_view_name": "LayoutView",
            "grid_template_rows": null,
            "right": null,
            "justify_content": null,
            "_view_module": "@jupyter-widgets/base",
            "overflow": null,
            "_model_module_version": "1.2.0",
            "_view_count": null,
            "flex_flow": null,
            "width": null,
            "min_width": null,
            "border": null,
            "align_items": null,
            "bottom": null,
            "_model_module": "@jupyter-widgets/base",
            "top": null,
            "grid_column": null,
            "overflow_y": null,
            "overflow_x": null,
            "grid_auto_flow": null,
            "grid_area": null,
            "grid_template_columns": null,
            "flex": null,
            "_model_name": "LayoutModel",
            "justify_items": null,
            "grid_row": null,
            "max_height": null,
            "align_content": null,
            "visibility": null,
            "align_self": null,
            "height": null,
            "min_height": null,
            "padding": null,
            "grid_auto_rows": null,
            "grid_gap": null,
            "max_width": null,
            "order": null,
            "_view_module_version": "1.2.0",
            "grid_template_areas": null,
            "object_position": null,
            "object_fit": null,
            "grid_auto_columns": null,
            "margin": null,
            "display": null,
            "left": null
          }
        },
        "8a0549059aed4020b210b8523ee13c26": {
          "model_module": "@jupyter-widgets/controls",
          "model_name": "ProgressStyleModel",
          "model_module_version": "1.5.0",
          "state": {
            "_view_name": "StyleView",
            "_model_name": "ProgressStyleModel",
            "description_width": "",
            "_view_module": "@jupyter-widgets/base",
            "_model_module_version": "1.5.0",
            "_view_count": null,
            "_view_module_version": "1.2.0",
            "bar_color": null,
            "_model_module": "@jupyter-widgets/controls"
          }
        },
        "53a9b59a44ef49848bd48e86af173d24": {
          "model_module": "@jupyter-widgets/base",
          "model_name": "LayoutModel",
          "model_module_version": "1.2.0",
          "state": {
            "_view_name": "LayoutView",
            "grid_template_rows": null,
            "right": null,
            "justify_content": null,
            "_view_module": "@jupyter-widgets/base",
            "overflow": null,
            "_model_module_version": "1.2.0",
            "_view_count": null,
            "flex_flow": null,
            "width": null,
            "min_width": null,
            "border": null,
            "align_items": null,
            "bottom": null,
            "_model_module": "@jupyter-widgets/base",
            "top": null,
            "grid_column": null,
            "overflow_y": null,
            "overflow_x": null,
            "grid_auto_flow": null,
            "grid_area": null,
            "grid_template_columns": null,
            "flex": null,
            "_model_name": "LayoutModel",
            "justify_items": null,
            "grid_row": null,
            "max_height": null,
            "align_content": null,
            "visibility": null,
            "align_self": null,
            "height": null,
            "min_height": null,
            "padding": null,
            "grid_auto_rows": null,
            "grid_gap": null,
            "max_width": null,
            "order": null,
            "_view_module_version": "1.2.0",
            "grid_template_areas": null,
            "object_position": null,
            "object_fit": null,
            "grid_auto_columns": null,
            "margin": null,
            "display": null,
            "left": null
          }
        },
        "65f13341c72b47eab88985503247eb02": {
          "model_module": "@jupyter-widgets/controls",
          "model_name": "DescriptionStyleModel",
          "model_module_version": "1.5.0",
          "state": {
            "_view_name": "StyleView",
            "_model_name": "DescriptionStyleModel",
            "description_width": "",
            "_view_module": "@jupyter-widgets/base",
            "_model_module_version": "1.5.0",
            "_view_count": null,
            "_view_module_version": "1.2.0",
            "_model_module": "@jupyter-widgets/controls"
          }
        },
        "f16b7f138f764bc6ba14e78c61db1595": {
          "model_module": "@jupyter-widgets/base",
          "model_name": "LayoutModel",
          "model_module_version": "1.2.0",
          "state": {
            "_view_name": "LayoutView",
            "grid_template_rows": null,
            "right": null,
            "justify_content": null,
            "_view_module": "@jupyter-widgets/base",
            "overflow": null,
            "_model_module_version": "1.2.0",
            "_view_count": null,
            "flex_flow": null,
            "width": null,
            "min_width": null,
            "border": null,
            "align_items": null,
            "bottom": null,
            "_model_module": "@jupyter-widgets/base",
            "top": null,
            "grid_column": null,
            "overflow_y": null,
            "overflow_x": null,
            "grid_auto_flow": null,
            "grid_area": null,
            "grid_template_columns": null,
            "flex": null,
            "_model_name": "LayoutModel",
            "justify_items": null,
            "grid_row": null,
            "max_height": null,
            "align_content": null,
            "visibility": null,
            "align_self": null,
            "height": null,
            "min_height": null,
            "padding": null,
            "grid_auto_rows": null,
            "grid_gap": null,
            "max_width": null,
            "order": null,
            "_view_module_version": "1.2.0",
            "grid_template_areas": null,
            "object_position": null,
            "object_fit": null,
            "grid_auto_columns": null,
            "margin": null,
            "display": null,
            "left": null
          }
        }
      }
    }
  },
  "cells": [
    {
      "cell_type": "markdown",
      "metadata": {
        "id": "view-in-github",
        "colab_type": "text"
      },
      "source": [
        "<a href=\"https://colab.research.google.com/github/mk0653/untitled/blob/master/Accident_type_classification_ipynb_V2_BERT.ipynb\" target=\"_parent\"><img src=\"https://colab.research.google.com/assets/colab-badge.svg\" alt=\"Open In Colab\"/></a>"
      ]
    },
    {
      "cell_type": "code",
      "metadata": {
        "colab": {
          "base_uri": "https://localhost:8080/"
        },
        "id": "Uh-vOIEoLX14",
        "outputId": "e62073b8-d4b8-4188-f156-52b84da752e1"
      },
      "source": [
        "import os\n",
        "import sys\n",
        "import re\n",
        "\n",
        "from google.colab import drive\n",
        "drive.mount('/gdrive')\n"
      ],
      "execution_count": 1,
      "outputs": [
        {
          "output_type": "stream",
          "name": "stdout",
          "text": [
            "Mounted at /gdrive\n"
          ]
        }
      ]
    },
    {
      "cell_type": "code",
      "metadata": {
        "colab": {
          "base_uri": "https://localhost:8080/"
        },
        "id": "RnZkN5thQmh5",
        "outputId": "ad724bdb-878c-40ad-dc98-46d673e7657e"
      },
      "source": [
        "from google.colab import drive\n",
        "drive.mount('/content/drive')"
      ],
      "execution_count": 2,
      "outputs": [
        {
          "output_type": "stream",
          "name": "stdout",
          "text": [
            "Mounted at /content/drive\n"
          ]
        }
      ]
    },
    {
      "cell_type": "code",
      "metadata": {
        "colab": {
          "base_uri": "https://localhost:8080/"
        },
        "id": "50Tyr6BLoh-S",
        "outputId": "4da7105a-0165-4c78-e1d6-ac8743f5edf8"
      },
      "source": [
        "!pip install transformers"
      ],
      "execution_count": 3,
      "outputs": [
        {
          "output_type": "stream",
          "name": "stdout",
          "text": [
            "Collecting transformers\n",
            "  Downloading transformers-4.11.3-py3-none-any.whl (2.9 MB)\n",
            "\u001b[K     |████████████████████████████████| 2.9 MB 9.7 MB/s \n",
            "\u001b[?25hRequirement already satisfied: packaging>=20.0 in /usr/local/lib/python3.7/dist-packages (from transformers) (21.0)\n",
            "Collecting huggingface-hub>=0.0.17\n",
            "  Downloading huggingface_hub-0.0.19-py3-none-any.whl (56 kB)\n",
            "\u001b[K     |████████████████████████████████| 56 kB 5.5 MB/s \n",
            "\u001b[?25hRequirement already satisfied: numpy>=1.17 in /usr/local/lib/python3.7/dist-packages (from transformers) (1.19.5)\n",
            "Requirement already satisfied: regex!=2019.12.17 in /usr/local/lib/python3.7/dist-packages (from transformers) (2019.12.20)\n",
            "Requirement already satisfied: importlib-metadata in /usr/local/lib/python3.7/dist-packages (from transformers) (4.8.1)\n",
            "Requirement already satisfied: filelock in /usr/local/lib/python3.7/dist-packages (from transformers) (3.3.0)\n",
            "Collecting pyyaml>=5.1\n",
            "  Downloading PyYAML-5.4.1-cp37-cp37m-manylinux1_x86_64.whl (636 kB)\n",
            "\u001b[K     |████████████████████████████████| 636 kB 45.0 MB/s \n",
            "\u001b[?25hCollecting sacremoses\n",
            "  Downloading sacremoses-0.0.46-py3-none-any.whl (895 kB)\n",
            "\u001b[K     |████████████████████████████████| 895 kB 38.6 MB/s \n",
            "\u001b[?25hRequirement already satisfied: tqdm>=4.27 in /usr/local/lib/python3.7/dist-packages (from transformers) (4.62.3)\n",
            "Collecting tokenizers<0.11,>=0.10.1\n",
            "  Downloading tokenizers-0.10.3-cp37-cp37m-manylinux_2_5_x86_64.manylinux1_x86_64.manylinux_2_12_x86_64.manylinux2010_x86_64.whl (3.3 MB)\n",
            "\u001b[K     |████████████████████████████████| 3.3 MB 34.7 MB/s \n",
            "\u001b[?25hRequirement already satisfied: requests in /usr/local/lib/python3.7/dist-packages (from transformers) (2.23.0)\n",
            "Requirement already satisfied: typing-extensions in /usr/local/lib/python3.7/dist-packages (from huggingface-hub>=0.0.17->transformers) (3.7.4.3)\n",
            "Requirement already satisfied: pyparsing>=2.0.2 in /usr/local/lib/python3.7/dist-packages (from packaging>=20.0->transformers) (2.4.7)\n",
            "Requirement already satisfied: zipp>=0.5 in /usr/local/lib/python3.7/dist-packages (from importlib-metadata->transformers) (3.6.0)\n",
            "Requirement already satisfied: chardet<4,>=3.0.2 in /usr/local/lib/python3.7/dist-packages (from requests->transformers) (3.0.4)\n",
            "Requirement already satisfied: certifi>=2017.4.17 in /usr/local/lib/python3.7/dist-packages (from requests->transformers) (2021.5.30)\n",
            "Requirement already satisfied: urllib3!=1.25.0,!=1.25.1,<1.26,>=1.21.1 in /usr/local/lib/python3.7/dist-packages (from requests->transformers) (1.24.3)\n",
            "Requirement already satisfied: idna<3,>=2.5 in /usr/local/lib/python3.7/dist-packages (from requests->transformers) (2.10)\n",
            "Requirement already satisfied: click in /usr/local/lib/python3.7/dist-packages (from sacremoses->transformers) (7.1.2)\n",
            "Requirement already satisfied: joblib in /usr/local/lib/python3.7/dist-packages (from sacremoses->transformers) (1.0.1)\n",
            "Requirement already satisfied: six in /usr/local/lib/python3.7/dist-packages (from sacremoses->transformers) (1.15.0)\n",
            "Installing collected packages: pyyaml, tokenizers, sacremoses, huggingface-hub, transformers\n",
            "  Attempting uninstall: pyyaml\n",
            "    Found existing installation: PyYAML 3.13\n",
            "    Uninstalling PyYAML-3.13:\n",
            "      Successfully uninstalled PyYAML-3.13\n",
            "Successfully installed huggingface-hub-0.0.19 pyyaml-5.4.1 sacremoses-0.0.46 tokenizers-0.10.3 transformers-4.11.3\n"
          ]
        }
      ]
    },
    {
      "cell_type": "code",
      "metadata": {
        "colab": {
          "base_uri": "https://localhost:8080/"
        },
        "id": "Xuts7o0pzArM",
        "outputId": "0ef2f6f4-73c7-42e3-f18b-5b7362e47dfd"
      },
      "source": [
        "!pip install spacy"
      ],
      "execution_count": 4,
      "outputs": [
        {
          "output_type": "stream",
          "name": "stdout",
          "text": [
            "Requirement already satisfied: spacy in /usr/local/lib/python3.7/dist-packages (2.2.4)\n",
            "Requirement already satisfied: tqdm<5.0.0,>=4.38.0 in /usr/local/lib/python3.7/dist-packages (from spacy) (4.62.3)\n",
            "Requirement already satisfied: blis<0.5.0,>=0.4.0 in /usr/local/lib/python3.7/dist-packages (from spacy) (0.4.1)\n",
            "Requirement already satisfied: cymem<2.1.0,>=2.0.2 in /usr/local/lib/python3.7/dist-packages (from spacy) (2.0.5)\n",
            "Requirement already satisfied: numpy>=1.15.0 in /usr/local/lib/python3.7/dist-packages (from spacy) (1.19.5)\n",
            "Requirement already satisfied: preshed<3.1.0,>=3.0.2 in /usr/local/lib/python3.7/dist-packages (from spacy) (3.0.5)\n",
            "Requirement already satisfied: catalogue<1.1.0,>=0.0.7 in /usr/local/lib/python3.7/dist-packages (from spacy) (1.0.0)\n",
            "Requirement already satisfied: srsly<1.1.0,>=1.0.2 in /usr/local/lib/python3.7/dist-packages (from spacy) (1.0.5)\n",
            "Requirement already satisfied: plac<1.2.0,>=0.9.6 in /usr/local/lib/python3.7/dist-packages (from spacy) (1.1.3)\n",
            "Requirement already satisfied: thinc==7.4.0 in /usr/local/lib/python3.7/dist-packages (from spacy) (7.4.0)\n",
            "Requirement already satisfied: setuptools in /usr/local/lib/python3.7/dist-packages (from spacy) (57.4.0)\n",
            "Requirement already satisfied: requests<3.0.0,>=2.13.0 in /usr/local/lib/python3.7/dist-packages (from spacy) (2.23.0)\n",
            "Requirement already satisfied: wasabi<1.1.0,>=0.4.0 in /usr/local/lib/python3.7/dist-packages (from spacy) (0.8.2)\n",
            "Requirement already satisfied: murmurhash<1.1.0,>=0.28.0 in /usr/local/lib/python3.7/dist-packages (from spacy) (1.0.5)\n",
            "Requirement already satisfied: importlib-metadata>=0.20 in /usr/local/lib/python3.7/dist-packages (from catalogue<1.1.0,>=0.0.7->spacy) (4.8.1)\n",
            "Requirement already satisfied: zipp>=0.5 in /usr/local/lib/python3.7/dist-packages (from importlib-metadata>=0.20->catalogue<1.1.0,>=0.0.7->spacy) (3.6.0)\n",
            "Requirement already satisfied: typing-extensions>=3.6.4 in /usr/local/lib/python3.7/dist-packages (from importlib-metadata>=0.20->catalogue<1.1.0,>=0.0.7->spacy) (3.7.4.3)\n",
            "Requirement already satisfied: chardet<4,>=3.0.2 in /usr/local/lib/python3.7/dist-packages (from requests<3.0.0,>=2.13.0->spacy) (3.0.4)\n",
            "Requirement already satisfied: certifi>=2017.4.17 in /usr/local/lib/python3.7/dist-packages (from requests<3.0.0,>=2.13.0->spacy) (2021.5.30)\n",
            "Requirement already satisfied: idna<3,>=2.5 in /usr/local/lib/python3.7/dist-packages (from requests<3.0.0,>=2.13.0->spacy) (2.10)\n",
            "Requirement already satisfied: urllib3!=1.25.0,!=1.25.1,<1.26,>=1.21.1 in /usr/local/lib/python3.7/dist-packages (from requests<3.0.0,>=2.13.0->spacy) (1.24.3)\n"
          ]
        }
      ]
    },
    {
      "cell_type": "code",
      "metadata": {
        "colab": {
          "base_uri": "https://localhost:8080/"
        },
        "id": "5A7GZv3j1Kgc",
        "outputId": "c9f9d7fa-47a8-4b1b-f848-266a25feaa17"
      },
      "source": [
        "!pip install japanize-matplotlib"
      ],
      "execution_count": 5,
      "outputs": [
        {
          "output_type": "stream",
          "name": "stdout",
          "text": [
            "Collecting japanize-matplotlib\n",
            "  Downloading japanize-matplotlib-1.1.3.tar.gz (4.1 MB)\n",
            "\u001b[K     |████████████████████████████████| 4.1 MB 7.8 MB/s \n",
            "\u001b[?25hRequirement already satisfied: matplotlib in /usr/local/lib/python3.7/dist-packages (from japanize-matplotlib) (3.2.2)\n",
            "Requirement already satisfied: python-dateutil>=2.1 in /usr/local/lib/python3.7/dist-packages (from matplotlib->japanize-matplotlib) (2.8.2)\n",
            "Requirement already satisfied: pyparsing!=2.0.4,!=2.1.2,!=2.1.6,>=2.0.1 in /usr/local/lib/python3.7/dist-packages (from matplotlib->japanize-matplotlib) (2.4.7)\n",
            "Requirement already satisfied: kiwisolver>=1.0.1 in /usr/local/lib/python3.7/dist-packages (from matplotlib->japanize-matplotlib) (1.3.2)\n",
            "Requirement already satisfied: numpy>=1.11 in /usr/local/lib/python3.7/dist-packages (from matplotlib->japanize-matplotlib) (1.19.5)\n",
            "Requirement already satisfied: cycler>=0.10 in /usr/local/lib/python3.7/dist-packages (from matplotlib->japanize-matplotlib) (0.10.0)\n",
            "Requirement already satisfied: six in /usr/local/lib/python3.7/dist-packages (from cycler>=0.10->matplotlib->japanize-matplotlib) (1.15.0)\n",
            "Building wheels for collected packages: japanize-matplotlib\n",
            "  Building wheel for japanize-matplotlib (setup.py) ... \u001b[?25l\u001b[?25hdone\n",
            "  Created wheel for japanize-matplotlib: filename=japanize_matplotlib-1.1.3-py3-none-any.whl size=4120274 sha256=4c1dcbdd78e8d3291421b40ec61d98fbb4c4f0ea811e6724a561daff970a1219\n",
            "  Stored in directory: /root/.cache/pip/wheels/83/97/6b/e9e0cde099cc40f972b8dd23367308f7705ae06cd6d4714658\n",
            "Successfully built japanize-matplotlib\n",
            "Installing collected packages: japanize-matplotlib\n",
            "Successfully installed japanize-matplotlib-1.1.3\n"
          ]
        }
      ]
    },
    {
      "cell_type": "code",
      "metadata": {
        "colab": {
          "base_uri": "https://localhost:8080/"
        },
        "id": "a0buLD9RXiWa",
        "outputId": "8c6c4a8f-acac-48dd-8ccc-bce5b36151cb"
      },
      "source": [
        "!pip install sentencepiece"
      ],
      "execution_count": 6,
      "outputs": [
        {
          "output_type": "stream",
          "name": "stdout",
          "text": [
            "Collecting sentencepiece\n",
            "  Downloading sentencepiece-0.1.96-cp37-cp37m-manylinux_2_17_x86_64.manylinux2014_x86_64.whl (1.2 MB)\n",
            "\u001b[?25l\r\u001b[K     |▎                               | 10 kB 24.5 MB/s eta 0:00:01\r\u001b[K     |▌                               | 20 kB 22.1 MB/s eta 0:00:01\r\u001b[K     |▉                               | 30 kB 16.4 MB/s eta 0:00:01\r\u001b[K     |█                               | 40 kB 14.7 MB/s eta 0:00:01\r\u001b[K     |█▍                              | 51 kB 7.1 MB/s eta 0:00:01\r\u001b[K     |█▋                              | 61 kB 8.2 MB/s eta 0:00:01\r\u001b[K     |██                              | 71 kB 8.7 MB/s eta 0:00:01\r\u001b[K     |██▏                             | 81 kB 8.2 MB/s eta 0:00:01\r\u001b[K     |██▍                             | 92 kB 6.8 MB/s eta 0:00:01\r\u001b[K     |██▊                             | 102 kB 7.4 MB/s eta 0:00:01\r\u001b[K     |███                             | 112 kB 7.4 MB/s eta 0:00:01\r\u001b[K     |███▎                            | 122 kB 7.4 MB/s eta 0:00:01\r\u001b[K     |███▌                            | 133 kB 7.4 MB/s eta 0:00:01\r\u001b[K     |███▉                            | 143 kB 7.4 MB/s eta 0:00:01\r\u001b[K     |████                            | 153 kB 7.4 MB/s eta 0:00:01\r\u001b[K     |████▎                           | 163 kB 7.4 MB/s eta 0:00:01\r\u001b[K     |████▋                           | 174 kB 7.4 MB/s eta 0:00:01\r\u001b[K     |████▉                           | 184 kB 7.4 MB/s eta 0:00:01\r\u001b[K     |█████▏                          | 194 kB 7.4 MB/s eta 0:00:01\r\u001b[K     |█████▍                          | 204 kB 7.4 MB/s eta 0:00:01\r\u001b[K     |█████▊                          | 215 kB 7.4 MB/s eta 0:00:01\r\u001b[K     |██████                          | 225 kB 7.4 MB/s eta 0:00:01\r\u001b[K     |██████▏                         | 235 kB 7.4 MB/s eta 0:00:01\r\u001b[K     |██████▌                         | 245 kB 7.4 MB/s eta 0:00:01\r\u001b[K     |██████▊                         | 256 kB 7.4 MB/s eta 0:00:01\r\u001b[K     |███████                         | 266 kB 7.4 MB/s eta 0:00:01\r\u001b[K     |███████▎                        | 276 kB 7.4 MB/s eta 0:00:01\r\u001b[K     |███████▋                        | 286 kB 7.4 MB/s eta 0:00:01\r\u001b[K     |███████▉                        | 296 kB 7.4 MB/s eta 0:00:01\r\u001b[K     |████████                        | 307 kB 7.4 MB/s eta 0:00:01\r\u001b[K     |████████▍                       | 317 kB 7.4 MB/s eta 0:00:01\r\u001b[K     |████████▋                       | 327 kB 7.4 MB/s eta 0:00:01\r\u001b[K     |█████████                       | 337 kB 7.4 MB/s eta 0:00:01\r\u001b[K     |█████████▏                      | 348 kB 7.4 MB/s eta 0:00:01\r\u001b[K     |█████████▌                      | 358 kB 7.4 MB/s eta 0:00:01\r\u001b[K     |█████████▊                      | 368 kB 7.4 MB/s eta 0:00:01\r\u001b[K     |██████████                      | 378 kB 7.4 MB/s eta 0:00:01\r\u001b[K     |██████████▎                     | 389 kB 7.4 MB/s eta 0:00:01\r\u001b[K     |██████████▌                     | 399 kB 7.4 MB/s eta 0:00:01\r\u001b[K     |██████████▉                     | 409 kB 7.4 MB/s eta 0:00:01\r\u001b[K     |███████████                     | 419 kB 7.4 MB/s eta 0:00:01\r\u001b[K     |███████████▍                    | 430 kB 7.4 MB/s eta 0:00:01\r\u001b[K     |███████████▋                    | 440 kB 7.4 MB/s eta 0:00:01\r\u001b[K     |███████████▉                    | 450 kB 7.4 MB/s eta 0:00:01\r\u001b[K     |████████████▏                   | 460 kB 7.4 MB/s eta 0:00:01\r\u001b[K     |████████████▍                   | 471 kB 7.4 MB/s eta 0:00:01\r\u001b[K     |████████████▊                   | 481 kB 7.4 MB/s eta 0:00:01\r\u001b[K     |█████████████                   | 491 kB 7.4 MB/s eta 0:00:01\r\u001b[K     |█████████████▎                  | 501 kB 7.4 MB/s eta 0:00:01\r\u001b[K     |█████████████▌                  | 512 kB 7.4 MB/s eta 0:00:01\r\u001b[K     |█████████████▊                  | 522 kB 7.4 MB/s eta 0:00:01\r\u001b[K     |██████████████                  | 532 kB 7.4 MB/s eta 0:00:01\r\u001b[K     |██████████████▎                 | 542 kB 7.4 MB/s eta 0:00:01\r\u001b[K     |██████████████▋                 | 552 kB 7.4 MB/s eta 0:00:01\r\u001b[K     |██████████████▉                 | 563 kB 7.4 MB/s eta 0:00:01\r\u001b[K     |███████████████▏                | 573 kB 7.4 MB/s eta 0:00:01\r\u001b[K     |███████████████▍                | 583 kB 7.4 MB/s eta 0:00:01\r\u001b[K     |███████████████▋                | 593 kB 7.4 MB/s eta 0:00:01\r\u001b[K     |████████████████                | 604 kB 7.4 MB/s eta 0:00:01\r\u001b[K     |████████████████▏               | 614 kB 7.4 MB/s eta 0:00:01\r\u001b[K     |████████████████▌               | 624 kB 7.4 MB/s eta 0:00:01\r\u001b[K     |████████████████▊               | 634 kB 7.4 MB/s eta 0:00:01\r\u001b[K     |█████████████████               | 645 kB 7.4 MB/s eta 0:00:01\r\u001b[K     |█████████████████▎              | 655 kB 7.4 MB/s eta 0:00:01\r\u001b[K     |█████████████████▌              | 665 kB 7.4 MB/s eta 0:00:01\r\u001b[K     |█████████████████▉              | 675 kB 7.4 MB/s eta 0:00:01\r\u001b[K     |██████████████████              | 686 kB 7.4 MB/s eta 0:00:01\r\u001b[K     |██████████████████▍             | 696 kB 7.4 MB/s eta 0:00:01\r\u001b[K     |██████████████████▋             | 706 kB 7.4 MB/s eta 0:00:01\r\u001b[K     |███████████████████             | 716 kB 7.4 MB/s eta 0:00:01\r\u001b[K     |███████████████████▏            | 727 kB 7.4 MB/s eta 0:00:01\r\u001b[K     |███████████████████▍            | 737 kB 7.4 MB/s eta 0:00:01\r\u001b[K     |███████████████████▊            | 747 kB 7.4 MB/s eta 0:00:01\r\u001b[K     |████████████████████            | 757 kB 7.4 MB/s eta 0:00:01\r\u001b[K     |████████████████████▎           | 768 kB 7.4 MB/s eta 0:00:01\r\u001b[K     |████████████████████▌           | 778 kB 7.4 MB/s eta 0:00:01\r\u001b[K     |████████████████████▉           | 788 kB 7.4 MB/s eta 0:00:01\r\u001b[K     |█████████████████████           | 798 kB 7.4 MB/s eta 0:00:01\r\u001b[K     |█████████████████████▎          | 808 kB 7.4 MB/s eta 0:00:01\r\u001b[K     |█████████████████████▋          | 819 kB 7.4 MB/s eta 0:00:01\r\u001b[K     |█████████████████████▉          | 829 kB 7.4 MB/s eta 0:00:01\r\u001b[K     |██████████████████████▏         | 839 kB 7.4 MB/s eta 0:00:01\r\u001b[K     |██████████████████████▍         | 849 kB 7.4 MB/s eta 0:00:01\r\u001b[K     |██████████████████████▊         | 860 kB 7.4 MB/s eta 0:00:01\r\u001b[K     |███████████████████████         | 870 kB 7.4 MB/s eta 0:00:01\r\u001b[K     |███████████████████████▏        | 880 kB 7.4 MB/s eta 0:00:01\r\u001b[K     |███████████████████████▌        | 890 kB 7.4 MB/s eta 0:00:01\r\u001b[K     |███████████████████████▊        | 901 kB 7.4 MB/s eta 0:00:01\r\u001b[K     |████████████████████████        | 911 kB 7.4 MB/s eta 0:00:01\r\u001b[K     |████████████████████████▎       | 921 kB 7.4 MB/s eta 0:00:01\r\u001b[K     |████████████████████████▋       | 931 kB 7.4 MB/s eta 0:00:01\r\u001b[K     |████████████████████████▉       | 942 kB 7.4 MB/s eta 0:00:01\r\u001b[K     |█████████████████████████       | 952 kB 7.4 MB/s eta 0:00:01\r\u001b[K     |█████████████████████████▍      | 962 kB 7.4 MB/s eta 0:00:01\r\u001b[K     |█████████████████████████▋      | 972 kB 7.4 MB/s eta 0:00:01\r\u001b[K     |██████████████████████████      | 983 kB 7.4 MB/s eta 0:00:01\r\u001b[K     |██████████████████████████▏     | 993 kB 7.4 MB/s eta 0:00:01\r\u001b[K     |██████████████████████████▌     | 1.0 MB 7.4 MB/s eta 0:00:01\r\u001b[K     |██████████████████████████▊     | 1.0 MB 7.4 MB/s eta 0:00:01\r\u001b[K     |███████████████████████████     | 1.0 MB 7.4 MB/s eta 0:00:01\r\u001b[K     |███████████████████████████▎    | 1.0 MB 7.4 MB/s eta 0:00:01\r\u001b[K     |███████████████████████████▌    | 1.0 MB 7.4 MB/s eta 0:00:01\r\u001b[K     |███████████████████████████▉    | 1.1 MB 7.4 MB/s eta 0:00:01\r\u001b[K     |████████████████████████████    | 1.1 MB 7.4 MB/s eta 0:00:01\r\u001b[K     |████████████████████████████▍   | 1.1 MB 7.4 MB/s eta 0:00:01\r\u001b[K     |████████████████████████████▋   | 1.1 MB 7.4 MB/s eta 0:00:01\r\u001b[K     |████████████████████████████▉   | 1.1 MB 7.4 MB/s eta 0:00:01\r\u001b[K     |█████████████████████████████▏  | 1.1 MB 7.4 MB/s eta 0:00:01\r\u001b[K     |█████████████████████████████▍  | 1.1 MB 7.4 MB/s eta 0:00:01\r\u001b[K     |█████████████████████████████▊  | 1.1 MB 7.4 MB/s eta 0:00:01\r\u001b[K     |██████████████████████████████  | 1.1 MB 7.4 MB/s eta 0:00:01\r\u001b[K     |██████████████████████████████▎ | 1.1 MB 7.4 MB/s eta 0:00:01\r\u001b[K     |██████████████████████████████▌ | 1.2 MB 7.4 MB/s eta 0:00:01\r\u001b[K     |██████████████████████████████▊ | 1.2 MB 7.4 MB/s eta 0:00:01\r\u001b[K     |███████████████████████████████ | 1.2 MB 7.4 MB/s eta 0:00:01\r\u001b[K     |███████████████████████████████▎| 1.2 MB 7.4 MB/s eta 0:00:01\r\u001b[K     |███████████████████████████████▋| 1.2 MB 7.4 MB/s eta 0:00:01\r\u001b[K     |███████████████████████████████▉| 1.2 MB 7.4 MB/s eta 0:00:01\r\u001b[K     |████████████████████████████████| 1.2 MB 7.4 MB/s \n",
            "\u001b[?25hInstalling collected packages: sentencepiece\n",
            "Successfully installed sentencepiece-0.1.96\n"
          ]
        }
      ]
    },
    {
      "cell_type": "code",
      "metadata": {
        "id": "7gBcPNxvseWt"
      },
      "source": [
        "import warnings\n",
        "warnings.filterwarnings('ignore', category=DeprecationWarning)\n",
        "warnings.filterwarnings('ignore', category=FutureWarning)\n",
        "\n",
        "import os\n",
        "import re\n",
        "import json\n",
        "import glob\n",
        "from collections import defaultdict\n",
        "from textblob import TextBlob\n",
        "from functools import partial\n",
        "\n",
        "import pandas as pd\n",
        "import numpy as np\n",
        "\n",
        "import torch\n",
        "import matplotlib.pyplot as plt\n",
        "import plotly.express as px\n",
        "import plotly.graph_objects as go\n",
        "import seaborn as sns\n",
        "import japanize_matplotlib \n",
        "import random\n",
        "\n",
        "import nltk\n",
        "import spacy\n",
        "from nltk.probability import FreqDist\n",
        "from wordcloud import WordCloud, STOPWORDS\n",
        "\n",
        "from transformers.file_utils import is_tf_available, is_torch_available, is_torch_tpu_available\n",
        "from transformers import BertTokenizerFast, BertForSequenceClassification,RobertaTokenizerFast,RobertaForSequenceClassification,T5TokenizerFast, AutoModelForSequenceClassification\n",
        "from transformers import Trainer, TrainingArguments\n",
        "from torch.utils.data import DataLoader, Dataset\n",
        "\n",
        "from sklearn.model_selection import train_test_split\n",
        "from tqdm.autonotebook import tqdm\n",
        "import string\n",
        "\n",
        "%matplotlib inline"
      ],
      "execution_count": 7,
      "outputs": []
    },
    {
      "cell_type": "markdown",
      "metadata": {
        "id": "nz4qD6YIv7ke"
      },
      "source": [
        "厚生労働省　職場の安全ガイドより死亡災害DBの情報を取得。\n",
        "\n",
        "https://anzeninfo.mhlw.go.jp/anzen_pg/SIB_FND.aspx\n",
        "\n",
        "ひとまず平成30年～15年の16年分のデータで試してみる。"
      ]
    },
    {
      "cell_type": "code",
      "metadata": {
        "id": "LCWD7uSwsMf4"
      },
      "source": [
        "train_df = pd.read_csv('/content/drive/MyDrive/事故の型分類/sibou_db_h30_15.csv')\n",
        "train_df_clean = pd.read_csv('/content/drive/MyDrive/事故の型分類/sibou_db_h30_15_label.csv')"
      ],
      "execution_count": 8,
      "outputs": []
    },
    {
      "cell_type": "code",
      "metadata": {
        "id": "ZIkuYqdYuaVk",
        "colab": {
          "base_uri": "https://localhost:8080/"
        },
        "outputId": "d6b445df-1a8c-42ba-b8b0-2c748320bb1a"
      },
      "source": [
        "train_df.head"
      ],
      "execution_count": 9,
      "outputs": [
        {
          "output_type": "execute_result",
          "data": {
            "text/plain": [
              "<bound method NDFrame.head of          ID   月 発生\\n時間  ... 業種(小分類)コード     業種(小分類)        事故の型\n",
              "0         1  12  14～15  ...      10109  その他の食料品製造業  はさまれ、巻き込まれ\n",
              "1         2  12  21～22  ...      40201  ハイヤー・タクシー業    交通事故（道路）\n",
              "2         3  12  16～17  ...      40101      鉄道・軌道業       墜落、転落\n",
              "3         4  12  10～11  ...      30202   木造家屋建築工事業       墜落、転落\n",
              "4         5  12  12～13  ...     150101   ビルメンテナンス業       墜落、転落\n",
              "...     ...  ..    ...  ...        ...         ...         ...\n",
              "19111  1624  12  11～12  ...        418     建築物、構築物         おぼれ\n",
              "19112  1625  12  13～14  ...        418     建築物、構築物       墜落、転落\n",
              "19113  1626  12    4～5  ...        221        トラック    交通事故（道路）\n",
              "19114  1627  12  14～15  ...        231  乗用車、バス、バイク    交通事故（道路）\n",
              "19115  1628  12   9～10  ...        221        トラック       墜落、転落\n",
              "\n",
              "[19116 rows x 11 columns]>"
            ]
          },
          "metadata": {},
          "execution_count": 9
        }
      ]
    },
    {
      "cell_type": "code",
      "metadata": {
        "id": "HIwSLD1K6dB-",
        "colab": {
          "base_uri": "https://localhost:8080/",
          "height": 235
        },
        "outputId": "43b5b3b3-6d24-44fe-8345-1a2355ad2e1a"
      },
      "source": [
        "train_df_clean.head(6)"
      ],
      "execution_count": 10,
      "outputs": [
        {
          "output_type": "execute_result",
          "data": {
            "text/html": [
              "<div>\n",
              "<style scoped>\n",
              "    .dataframe tbody tr th:only-of-type {\n",
              "        vertical-align: middle;\n",
              "    }\n",
              "\n",
              "    .dataframe tbody tr th {\n",
              "        vertical-align: top;\n",
              "    }\n",
              "\n",
              "    .dataframe thead th {\n",
              "        text-align: right;\n",
              "    }\n",
              "</style>\n",
              "<table border=\"1\" class=\"dataframe\">\n",
              "  <thead>\n",
              "    <tr style=\"text-align: right;\">\n",
              "      <th></th>\n",
              "      <th>label</th>\n",
              "      <th>sentence</th>\n",
              "    </tr>\n",
              "  </thead>\n",
              "  <tbody>\n",
              "    <tr>\n",
              "      <th>0</th>\n",
              "      <td>7</td>\n",
              "      <td>災害発生現場において、元請事業場の労働者２名がＡタンク内の飼料の清掃作業に従事していた。Ａタ...</td>\n",
              "    </tr>\n",
              "    <tr>\n",
              "      <th>1</th>\n",
              "      <td>17</td>\n",
              "      <td>国道沿いにある飲食店の駐車場から下り三車線を横切って上り線に右折しようとしていたタクシーと、...</td>\n",
              "    </tr>\n",
              "    <tr>\n",
              "      <th>2</th>\n",
              "      <td>1</td>\n",
              "      <td>同日、駅に入線する８名（本）の電車の運転士に対し、実設訓練を行っていた。被災者は２本目の電車...</td>\n",
              "    </tr>\n",
              "    <tr>\n",
              "      <th>3</th>\n",
              "      <td>1</td>\n",
              "      <td>木造２階建新築住宅建設において、前日の基礎コンクリート打設作業に続き、モルタルの敷均しを行う...</td>\n",
              "    </tr>\n",
              "    <tr>\n",
              "      <th>4</th>\n",
              "      <td>1</td>\n",
              "      <td>マンションの清掃業務終了後、共用棟内のロッカー室において、地下へ通じる階段下に被災者が倒れて...</td>\n",
              "    </tr>\n",
              "    <tr>\n",
              "      <th>5</th>\n",
              "      <td>17</td>\n",
              "      <td>現場で負傷した労働者を乗せた救急車が、自動車道を走行中、道を譲ったトラックを追い越す際、路肩...</td>\n",
              "    </tr>\n",
              "  </tbody>\n",
              "</table>\n",
              "</div>"
            ],
            "text/plain": [
              "   label                                           sentence\n",
              "0      7  災害発生現場において、元請事業場の労働者２名がＡタンク内の飼料の清掃作業に従事していた。Ａタ...\n",
              "1     17  国道沿いにある飲食店の駐車場から下り三車線を横切って上り線に右折しようとしていたタクシーと、...\n",
              "2      1  同日、駅に入線する８名（本）の電車の運転士に対し、実設訓練を行っていた。被災者は２本目の電車...\n",
              "3      1  木造２階建新築住宅建設において、前日の基礎コンクリート打設作業に続き、モルタルの敷均しを行う...\n",
              "4      1  マンションの清掃業務終了後、共用棟内のロッカー室において、地下へ通じる階段下に被災者が倒れて...\n",
              "5     17  現場で負傷した労働者を乗せた救急車が、自動車道を走行中、道を譲ったトラックを追い越す際、路肩..."
            ]
          },
          "metadata": {},
          "execution_count": 10
        }
      ]
    },
    {
      "cell_type": "code",
      "metadata": {
        "id": "OeABYmCY9Wqq",
        "colab": {
          "base_uri": "https://localhost:8080/"
        },
        "outputId": "72f107a3-5d0d-48cd-b27b-461f2655f5a2"
      },
      "source": [
        "print(train_df_clean)"
      ],
      "execution_count": 11,
      "outputs": [
        {
          "output_type": "stream",
          "name": "stdout",
          "text": [
            "       label                                           sentence\n",
            "0          7  災害発生現場において、元請事業場の労働者２名がＡタンク内の飼料の清掃作業に従事していた。Ａタ...\n",
            "1         17  国道沿いにある飲食店の駐車場から下り三車線を横切って上り線に右折しようとしていたタクシーと、...\n",
            "2          1  同日、駅に入線する８名（本）の電車の運転士に対し、実設訓練を行っていた。被災者は２本目の電車...\n",
            "3          1  木造２階建新築住宅建設において、前日の基礎コンクリート打設作業に続き、モルタルの敷均しを行う...\n",
            "4          1  マンションの清掃業務終了後、共用棟内のロッカー室において、地下へ通じる階段下に被災者が倒れて...\n",
            "...      ...                                                ...\n",
            "19111     10  事業場の駐車場脇の生コン車洗浄用水等の浄化沈殿槽内でコンビニで昼食を買った被災者が近道をする...\n",
            "19112      1  エレベーターの昇降路塔の上部で、校舎の「ひさし」を解体したときの「コンクリートがら」を地上に...\n",
            "19113     17  10tトラックで国道を走行中、信号待ちで停車しようとしていた前方の大型トレーラーの後部に気付...\n",
            "19114     17  中国上海へ出張し、取引先の労働者が運転する乗用車に同乗して取引先に向かって高速道路を走行中、...\n",
            "19115      1  パワーゲート付き4tトラックで荷物を搬入し、パワーゲート上（高さ地上より約106cm）にパレ...\n",
            "\n",
            "[19116 rows x 2 columns]\n"
          ]
        }
      ]
    },
    {
      "cell_type": "code",
      "metadata": {
        "id": "9cr1Js1NBCDV"
      },
      "source": [
        "train_df_clean = train_df_clean.astype(str)"
      ],
      "execution_count": 12,
      "outputs": []
    },
    {
      "cell_type": "code",
      "metadata": {
        "id": "e77xwEowAMUp",
        "colab": {
          "base_uri": "https://localhost:8080/"
        },
        "outputId": "8dada5ba-25af-48e5-98a4-f0b383eb78c7"
      },
      "source": [
        "train_df_clean.info()"
      ],
      "execution_count": 13,
      "outputs": [
        {
          "output_type": "stream",
          "name": "stdout",
          "text": [
            "<class 'pandas.core.frame.DataFrame'>\n",
            "RangeIndex: 19116 entries, 0 to 19115\n",
            "Data columns (total 2 columns):\n",
            " #   Column    Non-Null Count  Dtype \n",
            "---  ------    --------------  ----- \n",
            " 0   label     19116 non-null  object\n",
            " 1   sentence  19116 non-null  object\n",
            "dtypes: object(2)\n",
            "memory usage: 298.8+ KB\n"
          ]
        }
      ]
    },
    {
      "cell_type": "markdown",
      "metadata": {
        "id": "tBLHOLEZ2-9p"
      },
      "source": [
        "テキストの件数と事故の型の件数を確認してみる。事故の型は定義されているものが全部で22種類のため、必要な分類パターンはありそう"
      ]
    },
    {
      "cell_type": "code",
      "metadata": {
        "id": "kQJRXWXvAtRR"
      },
      "source": [
        "train_df['事故の型'] = train_df['事故の型'].replace('高温、低温の物との接触', '高温・低温の物との接触').replace('墜落・転落', '墜落、転落').replace('動作の反動無理な動作', '動作の反動、無理な動作').replace('飛来・落下', '飛来、落下').replace('有害物との接触', '有害物等との接触').replace('交通事故(道路)', '交通事故（道路）')"
      ],
      "execution_count": 14,
      "outputs": []
    },
    {
      "cell_type": "code",
      "metadata": {
        "id": "lKOiPQ5y-Si9",
        "colab": {
          "base_uri": "https://localhost:8080/"
        },
        "outputId": "888ffebd-d4b7-4eac-b72e-34dccdfde2ac"
      },
      "source": [
        "print(len(train_df['災害状況'].unique()))\n",
        "print(len(train_df['事故の型'].unique()))"
      ],
      "execution_count": 15,
      "outputs": [
        {
          "output_type": "stream",
          "name": "stdout",
          "text": [
            "18740\n",
            "22\n"
          ]
        }
      ]
    },
    {
      "cell_type": "code",
      "metadata": {
        "id": "iUv40la780pT"
      },
      "source": [
        "train_df_clean = train_df_clean.replace('90', '20')\n",
        "train_df_clean = train_df_clean.replace('99', '21')\n",
        "train_df_clean[\"label\"] = train_df_clean[\"label\"].astype(np.int64) -1"
      ],
      "execution_count": 16,
      "outputs": []
    },
    {
      "cell_type": "code",
      "metadata": {
        "colab": {
          "base_uri": "https://localhost:8080/",
          "height": 419
        },
        "id": "fJlOHQOzCkd0",
        "outputId": "8f600de0-b511-4e91-a652-d7e6c7b6fe54"
      },
      "source": [
        "train_df_clean"
      ],
      "execution_count": 17,
      "outputs": [
        {
          "output_type": "execute_result",
          "data": {
            "text/html": [
              "<div>\n",
              "<style scoped>\n",
              "    .dataframe tbody tr th:only-of-type {\n",
              "        vertical-align: middle;\n",
              "    }\n",
              "\n",
              "    .dataframe tbody tr th {\n",
              "        vertical-align: top;\n",
              "    }\n",
              "\n",
              "    .dataframe thead th {\n",
              "        text-align: right;\n",
              "    }\n",
              "</style>\n",
              "<table border=\"1\" class=\"dataframe\">\n",
              "  <thead>\n",
              "    <tr style=\"text-align: right;\">\n",
              "      <th></th>\n",
              "      <th>label</th>\n",
              "      <th>sentence</th>\n",
              "    </tr>\n",
              "  </thead>\n",
              "  <tbody>\n",
              "    <tr>\n",
              "      <th>0</th>\n",
              "      <td>6</td>\n",
              "      <td>災害発生現場において、元請事業場の労働者２名がＡタンク内の飼料の清掃作業に従事していた。Ａタ...</td>\n",
              "    </tr>\n",
              "    <tr>\n",
              "      <th>1</th>\n",
              "      <td>16</td>\n",
              "      <td>国道沿いにある飲食店の駐車場から下り三車線を横切って上り線に右折しようとしていたタクシーと、...</td>\n",
              "    </tr>\n",
              "    <tr>\n",
              "      <th>2</th>\n",
              "      <td>0</td>\n",
              "      <td>同日、駅に入線する８名（本）の電車の運転士に対し、実設訓練を行っていた。被災者は２本目の電車...</td>\n",
              "    </tr>\n",
              "    <tr>\n",
              "      <th>3</th>\n",
              "      <td>0</td>\n",
              "      <td>木造２階建新築住宅建設において、前日の基礎コンクリート打設作業に続き、モルタルの敷均しを行う...</td>\n",
              "    </tr>\n",
              "    <tr>\n",
              "      <th>4</th>\n",
              "      <td>0</td>\n",
              "      <td>マンションの清掃業務終了後、共用棟内のロッカー室において、地下へ通じる階段下に被災者が倒れて...</td>\n",
              "    </tr>\n",
              "    <tr>\n",
              "      <th>...</th>\n",
              "      <td>...</td>\n",
              "      <td>...</td>\n",
              "    </tr>\n",
              "    <tr>\n",
              "      <th>19111</th>\n",
              "      <td>9</td>\n",
              "      <td>事業場の駐車場脇の生コン車洗浄用水等の浄化沈殿槽内でコンビニで昼食を買った被災者が近道をする...</td>\n",
              "    </tr>\n",
              "    <tr>\n",
              "      <th>19112</th>\n",
              "      <td>0</td>\n",
              "      <td>エレベーターの昇降路塔の上部で、校舎の「ひさし」を解体したときの「コンクリートがら」を地上に...</td>\n",
              "    </tr>\n",
              "    <tr>\n",
              "      <th>19113</th>\n",
              "      <td>16</td>\n",
              "      <td>10tトラックで国道を走行中、信号待ちで停車しようとしていた前方の大型トレーラーの後部に気付...</td>\n",
              "    </tr>\n",
              "    <tr>\n",
              "      <th>19114</th>\n",
              "      <td>16</td>\n",
              "      <td>中国上海へ出張し、取引先の労働者が運転する乗用車に同乗して取引先に向かって高速道路を走行中、...</td>\n",
              "    </tr>\n",
              "    <tr>\n",
              "      <th>19115</th>\n",
              "      <td>0</td>\n",
              "      <td>パワーゲート付き4tトラックで荷物を搬入し、パワーゲート上（高さ地上より約106cm）にパレ...</td>\n",
              "    </tr>\n",
              "  </tbody>\n",
              "</table>\n",
              "<p>19116 rows × 2 columns</p>\n",
              "</div>"
            ],
            "text/plain": [
              "       label                                           sentence\n",
              "0          6  災害発生現場において、元請事業場の労働者２名がＡタンク内の飼料の清掃作業に従事していた。Ａタ...\n",
              "1         16  国道沿いにある飲食店の駐車場から下り三車線を横切って上り線に右折しようとしていたタクシーと、...\n",
              "2          0  同日、駅に入線する８名（本）の電車の運転士に対し、実設訓練を行っていた。被災者は２本目の電車...\n",
              "3          0  木造２階建新築住宅建設において、前日の基礎コンクリート打設作業に続き、モルタルの敷均しを行う...\n",
              "4          0  マンションの清掃業務終了後、共用棟内のロッカー室において、地下へ通じる階段下に被災者が倒れて...\n",
              "...      ...                                                ...\n",
              "19111      9  事業場の駐車場脇の生コン車洗浄用水等の浄化沈殿槽内でコンビニで昼食を買った被災者が近道をする...\n",
              "19112      0  エレベーターの昇降路塔の上部で、校舎の「ひさし」を解体したときの「コンクリートがら」を地上に...\n",
              "19113     16  10tトラックで国道を走行中、信号待ちで停車しようとしていた前方の大型トレーラーの後部に気付...\n",
              "19114     16  中国上海へ出張し、取引先の労働者が運転する乗用車に同乗して取引先に向かって高速道路を走行中、...\n",
              "19115      0  パワーゲート付き4tトラックで荷物を搬入し、パワーゲート上（高さ地上より約106cm）にパレ...\n",
              "\n",
              "[19116 rows x 2 columns]"
            ]
          },
          "metadata": {},
          "execution_count": 17
        }
      ]
    },
    {
      "cell_type": "code",
      "metadata": {
        "id": "pMkQsmYRUiF3"
      },
      "source": [
        "num = len(train_df_clean)\n",
        "train_df_clean[:int(num*0.8)].to_csv('/content/drive/MyDrive/事故の型分類/train.csv', sep=',', index=False)\n",
        "train_df_clean[int(num*0.8):].to_csv('/content/drive/MyDrive/事故の型分類/dev.csv', sep=',', index=False)"
      ],
      "execution_count": 18,
      "outputs": []
    },
    {
      "cell_type": "code",
      "metadata": {
        "id": "O2m65O8Txw_-"
      },
      "source": [
        "words =list( train_df['事故の型'].values)\n",
        "split_words=[]\n",
        "for word in words:\n",
        "    lo_w=[]\n",
        "    list_of_words=str(word).split()\n",
        "    for w in list_of_words:\n",
        "        lo_w.append(w)\n",
        "    split_words.append(lo_w)\n",
        "allwords = []\n",
        "for wordlist in split_words:\n",
        "    allwords += wordlist"
      ],
      "execution_count": 19,
      "outputs": []
    },
    {
      "cell_type": "code",
      "metadata": {
        "id": "erMxTxuEyosD",
        "colab": {
          "base_uri": "https://localhost:8080/",
          "height": 583
        },
        "outputId": "a2612081-2205-49db-d802-38f360b5e353"
      },
      "source": [
        "mostcommon_small = FreqDist(allwords).most_common(21)\n",
        "x, y = zip(*mostcommon_small)\n",
        "plt.figure(figsize=(50,30))\n",
        "plt.margins(0.02)\n",
        "plt.bar(x, y)\n",
        "plt.xlabel('Words', fontsize=50)\n",
        "plt.ylabel('Frequency of Words', fontsize=50)\n",
        "plt.yticks(fontsize=40)\n",
        "plt.xticks(rotation=60, fontsize=40)\n",
        "plt.tight_layout(pad=0)\n",
        "plt.title('事故の型ごとのラベル件数', fontsize=60)\n",
        "plt.show()"
      ],
      "execution_count": 20,
      "outputs": [
        {
          "output_type": "display_data",
          "data": {
            "image/png": "[encoded data removed]",
            "text/plain": [
              "<Figure size 3600x2160 with 1 Axes>"
            ]
          },
          "metadata": {
            "needs_background": "light"
          }
        }
      ]
    },
    {
      "cell_type": "markdown",
      "metadata": {
        "id": "kohewUwT2L7F"
      },
      "source": [
        "ここからが学習データでのファインチューニングを行う。"
      ]
    },
    {
      "cell_type": "code",
      "metadata": {
        "id": "Holog_ZkPci4",
        "colab": {
          "base_uri": "https://localhost:8080/"
        },
        "outputId": "c3a3e1d9-1214-43f8-dd3d-d73506dea7af"
      },
      "source": [
        "!pip install fugashi[unidic-lite]\n",
        "!pip install ipadic"
      ],
      "execution_count": 21,
      "outputs": [
        {
          "output_type": "stream",
          "name": "stdout",
          "text": [
            "Collecting fugashi[unidic-lite]\n",
            "  Downloading fugashi-1.1.1-cp37-cp37m-manylinux_2_5_x86_64.manylinux1_x86_64.whl (490 kB)\n",
            "\u001b[?25l\r\u001b[K     |▊                               | 10 kB 26.3 MB/s eta 0:00:01\r\u001b[K     |█▍                              | 20 kB 27.1 MB/s eta 0:00:01\r\u001b[K     |██                              | 30 kB 20.8 MB/s eta 0:00:01\r\u001b[K     |██▊                             | 40 kB 16.9 MB/s eta 0:00:01\r\u001b[K     |███▍                            | 51 kB 9.7 MB/s eta 0:00:01\r\u001b[K     |████                            | 61 kB 9.4 MB/s eta 0:00:01\r\u001b[K     |████▊                           | 71 kB 9.7 MB/s eta 0:00:01\r\u001b[K     |█████▍                          | 81 kB 10.7 MB/s eta 0:00:01\r\u001b[K     |██████                          | 92 kB 8.4 MB/s eta 0:00:01\r\u001b[K     |██████▊                         | 102 kB 9.1 MB/s eta 0:00:01\r\u001b[K     |███████▍                        | 112 kB 9.1 MB/s eta 0:00:01\r\u001b[K     |████████                        | 122 kB 9.1 MB/s eta 0:00:01\r\u001b[K     |████████▊                       | 133 kB 9.1 MB/s eta 0:00:01\r\u001b[K     |█████████▍                      | 143 kB 9.1 MB/s eta 0:00:01\r\u001b[K     |██████████                      | 153 kB 9.1 MB/s eta 0:00:01\r\u001b[K     |██████████▊                     | 163 kB 9.1 MB/s eta 0:00:01\r\u001b[K     |███████████▍                    | 174 kB 9.1 MB/s eta 0:00:01\r\u001b[K     |████████████                    | 184 kB 9.1 MB/s eta 0:00:01\r\u001b[K     |████████████▊                   | 194 kB 9.1 MB/s eta 0:00:01\r\u001b[K     |█████████████▍                  | 204 kB 9.1 MB/s eta 0:00:01\r\u001b[K     |██████████████                  | 215 kB 9.1 MB/s eta 0:00:01\r\u001b[K     |██████████████▊                 | 225 kB 9.1 MB/s eta 0:00:01\r\u001b[K     |███████████████▍                | 235 kB 9.1 MB/s eta 0:00:01\r\u001b[K     |████████████████                | 245 kB 9.1 MB/s eta 0:00:01\r\u001b[K     |████████████████▊               | 256 kB 9.1 MB/s eta 0:00:01\r\u001b[K     |█████████████████▍              | 266 kB 9.1 MB/s eta 0:00:01\r\u001b[K     |██████████████████              | 276 kB 9.1 MB/s eta 0:00:01\r\u001b[K     |██████████████████▊             | 286 kB 9.1 MB/s eta 0:00:01\r\u001b[K     |███████████████████▍            | 296 kB 9.1 MB/s eta 0:00:01\r\u001b[K     |████████████████████            | 307 kB 9.1 MB/s eta 0:00:01\r\u001b[K     |████████████████████▊           | 317 kB 9.1 MB/s eta 0:00:01\r\u001b[K     |█████████████████████▍          | 327 kB 9.1 MB/s eta 0:00:01\r\u001b[K     |██████████████████████          | 337 kB 9.1 MB/s eta 0:00:01\r\u001b[K     |██████████████████████▊         | 348 kB 9.1 MB/s eta 0:00:01\r\u001b[K     |███████████████████████▍        | 358 kB 9.1 MB/s eta 0:00:01\r\u001b[K     |████████████████████████        | 368 kB 9.1 MB/s eta 0:00:01\r\u001b[K     |████████████████████████▊       | 378 kB 9.1 MB/s eta 0:00:01\r\u001b[K     |█████████████████████████▍      | 389 kB 9.1 MB/s eta 0:00:01\r\u001b[K     |██████████████████████████      | 399 kB 9.1 MB/s eta 0:00:01\r\u001b[K     |██████████████████████████▊     | 409 kB 9.1 MB/s eta 0:00:01\r\u001b[K     |███████████████████████████▍    | 419 kB 9.1 MB/s eta 0:00:01\r\u001b[K     |████████████████████████████    | 430 kB 9.1 MB/s eta 0:00:01\r\u001b[K     |████████████████████████████▊   | 440 kB 9.1 MB/s eta 0:00:01\r\u001b[K     |█████████████████████████████▍  | 450 kB 9.1 MB/s eta 0:00:01\r\u001b[K     |██████████████████████████████  | 460 kB 9.1 MB/s eta 0:00:01\r\u001b[K     |██████████████████████████████▊ | 471 kB 9.1 MB/s eta 0:00:01\r\u001b[K     |███████████████████████████████▍| 481 kB 9.1 MB/s eta 0:00:01\r\u001b[K     |████████████████████████████████| 490 kB 9.1 MB/s \n",
            "\u001b[?25hCollecting unidic-lite\n",
            "  Downloading unidic-lite-1.0.8.tar.gz (47.4 MB)\n",
            "\u001b[K     |████████████████████████████████| 47.4 MB 71 kB/s \n",
            "\u001b[?25hBuilding wheels for collected packages: unidic-lite\n",
            "  Building wheel for unidic-lite (setup.py) ... \u001b[?25l\u001b[?25hdone\n",
            "  Created wheel for unidic-lite: filename=unidic_lite-1.0.8-py3-none-any.whl size=47658836 sha256=f6e451a7aeeaa615854abd21b3f8231f2c440f5dd116f4fa62217740a7dd1a9b\n",
            "  Stored in directory: /root/.cache/pip/wheels/de/69/b1/112140b599f2b13f609d485a99e357ba68df194d2079c5b1a2\n",
            "Successfully built unidic-lite\n",
            "Installing collected packages: unidic-lite, fugashi\n",
            "Successfully installed fugashi-1.1.1 unidic-lite-1.0.8\n",
            "Collecting ipadic\n",
            "  Downloading ipadic-1.0.0.tar.gz (13.4 MB)\n",
            "\u001b[K     |████████████████████████████████| 13.4 MB 7.5 MB/s \n",
            "\u001b[?25hBuilding wheels for collected packages: ipadic\n",
            "  Building wheel for ipadic (setup.py) ... \u001b[?25l\u001b[?25hdone\n",
            "  Created wheel for ipadic: filename=ipadic-1.0.0-py3-none-any.whl size=13556723 sha256=6a339d03264ea30d028ed075e529b8d4e8b2dbfaa41857f4df6490aa759bdb8a\n",
            "  Stored in directory: /root/.cache/pip/wheels/33/8b/99/cf0d27191876637cd3639a560f93aa982d7855ce826c94348b\n",
            "Successfully built ipadic\n",
            "Installing collected packages: ipadic\n",
            "Successfully installed ipadic-1.0.0\n"
          ]
        }
      ]
    },
    {
      "cell_type": "code",
      "metadata": {
        "id": "2CmdimSFPcXj",
        "colab": {
          "base_uri": "https://localhost:8080/"
        },
        "outputId": "7698c79f-7078-48cc-c2ff-7f0bf321a97d"
      },
      "source": [
        "# Huggingface Datasetsのインストール\n",
        "!pip install datasets"
      ],
      "execution_count": 22,
      "outputs": [
        {
          "output_type": "stream",
          "name": "stdout",
          "text": [
            "Collecting datasets\n",
            "  Downloading datasets-1.12.1-py3-none-any.whl (270 kB)\n",
            "\u001b[K     |████████████████████████████████| 270 kB 7.5 MB/s \n",
            "\u001b[?25hRequirement already satisfied: tqdm>=4.62.1 in /usr/local/lib/python3.7/dist-packages (from datasets) (4.62.3)\n",
            "Requirement already satisfied: pyarrow!=4.0.0,>=1.0.0 in /usr/local/lib/python3.7/dist-packages (from datasets) (3.0.0)\n",
            "Collecting fsspec[http]>=2021.05.0\n",
            "  Downloading fsspec-2021.10.0-py3-none-any.whl (125 kB)\n",
            "\u001b[K     |████████████████████████████████| 125 kB 58.4 MB/s \n",
            "\u001b[?25hRequirement already satisfied: numpy>=1.17 in /usr/local/lib/python3.7/dist-packages (from datasets) (1.19.5)\n",
            "Requirement already satisfied: huggingface-hub<0.1.0,>=0.0.14 in /usr/local/lib/python3.7/dist-packages (from datasets) (0.0.19)\n",
            "Requirement already satisfied: packaging in /usr/local/lib/python3.7/dist-packages (from datasets) (21.0)\n",
            "Requirement already satisfied: multiprocess in /usr/local/lib/python3.7/dist-packages (from datasets) (0.70.12.2)\n",
            "Requirement already satisfied: importlib-metadata in /usr/local/lib/python3.7/dist-packages (from datasets) (4.8.1)\n",
            "Requirement already satisfied: requests>=2.19.0 in /usr/local/lib/python3.7/dist-packages (from datasets) (2.23.0)\n",
            "Collecting aiohttp\n",
            "  Downloading aiohttp-3.7.4.post0-cp37-cp37m-manylinux2014_x86_64.whl (1.3 MB)\n",
            "\u001b[K     |████████████████████████████████| 1.3 MB 48.7 MB/s \n",
            "\u001b[?25hCollecting xxhash\n",
            "  Downloading xxhash-2.0.2-cp37-cp37m-manylinux2010_x86_64.whl (243 kB)\n",
            "\u001b[K     |████████████████████████████████| 243 kB 66.5 MB/s \n",
            "\u001b[?25hRequirement already satisfied: pandas in /usr/local/lib/python3.7/dist-packages (from datasets) (1.1.5)\n",
            "Requirement already satisfied: dill in /usr/local/lib/python3.7/dist-packages (from datasets) (0.3.4)\n",
            "Requirement already satisfied: pyyaml in /usr/local/lib/python3.7/dist-packages (from huggingface-hub<0.1.0,>=0.0.14->datasets) (5.4.1)\n",
            "Requirement already satisfied: typing-extensions in /usr/local/lib/python3.7/dist-packages (from huggingface-hub<0.1.0,>=0.0.14->datasets) (3.7.4.3)\n",
            "Requirement already satisfied: filelock in /usr/local/lib/python3.7/dist-packages (from huggingface-hub<0.1.0,>=0.0.14->datasets) (3.3.0)\n",
            "Requirement already satisfied: pyparsing>=2.0.2 in /usr/local/lib/python3.7/dist-packages (from packaging->datasets) (2.4.7)\n",
            "Requirement already satisfied: urllib3!=1.25.0,!=1.25.1,<1.26,>=1.21.1 in /usr/local/lib/python3.7/dist-packages (from requests>=2.19.0->datasets) (1.24.3)\n",
            "Requirement already satisfied: chardet<4,>=3.0.2 in /usr/local/lib/python3.7/dist-packages (from requests>=2.19.0->datasets) (3.0.4)\n",
            "Requirement already satisfied: certifi>=2017.4.17 in /usr/local/lib/python3.7/dist-packages (from requests>=2.19.0->datasets) (2021.5.30)\n",
            "Requirement already satisfied: idna<3,>=2.5 in /usr/local/lib/python3.7/dist-packages (from requests>=2.19.0->datasets) (2.10)\n",
            "Requirement already satisfied: attrs>=17.3.0 in /usr/local/lib/python3.7/dist-packages (from aiohttp->datasets) (21.2.0)\n",
            "Collecting multidict<7.0,>=4.5\n",
            "  Downloading multidict-5.2.0-cp37-cp37m-manylinux_2_5_x86_64.manylinux1_x86_64.manylinux_2_12_x86_64.manylinux2010_x86_64.whl (160 kB)\n",
            "\u001b[K     |████████████████████████████████| 160 kB 44.2 MB/s \n",
            "\u001b[?25hCollecting async-timeout<4.0,>=3.0\n",
            "  Downloading async_timeout-3.0.1-py3-none-any.whl (8.2 kB)\n",
            "Collecting yarl<2.0,>=1.0\n",
            "  Downloading yarl-1.7.0-cp37-cp37m-manylinux_2_5_x86_64.manylinux1_x86_64.manylinux_2_12_x86_64.manylinux2010_x86_64.whl (271 kB)\n",
            "\u001b[K     |████████████████████████████████| 271 kB 58.2 MB/s \n",
            "\u001b[?25hRequirement already satisfied: zipp>=0.5 in /usr/local/lib/python3.7/dist-packages (from importlib-metadata->datasets) (3.6.0)\n",
            "Requirement already satisfied: python-dateutil>=2.7.3 in /usr/local/lib/python3.7/dist-packages (from pandas->datasets) (2.8.2)\n",
            "Requirement already satisfied: pytz>=2017.2 in /usr/local/lib/python3.7/dist-packages (from pandas->datasets) (2018.9)\n",
            "Requirement already satisfied: six>=1.5 in /usr/local/lib/python3.7/dist-packages (from python-dateutil>=2.7.3->pandas->datasets) (1.15.0)\n",
            "Installing collected packages: multidict, yarl, async-timeout, fsspec, aiohttp, xxhash, datasets\n",
            "Successfully installed aiohttp-3.7.4.post0 async-timeout-3.0.1 datasets-1.12.1 fsspec-2021.10.0 multidict-5.2.0 xxhash-2.0.2 yarl-1.7.0\n"
          ]
        }
      ]
    },
    {
      "cell_type": "markdown",
      "metadata": {
        "id": "Eisku___-LLN"
      },
      "source": [
        "###サンプルでの学習から変更"
      ]
    },
    {
      "cell_type": "markdown",
      "metadata": {
        "id": "-pGp5GigCjJz"
      },
      "source": [
        "###過去実装分"
      ]
    },
    {
      "cell_type": "code",
      "metadata": {
        "id": "skngAakjf3mh",
        "colab": {
          "base_uri": "https://localhost:8080/"
        },
        "outputId": "c3ea7970-f808-4a76-ef09-78e4cff640aa"
      },
      "source": [
        "!nvidia-smi"
      ],
      "execution_count": 23,
      "outputs": [
        {
          "output_type": "stream",
          "name": "stdout",
          "text": [
            "Tue Oct 12 06:05:54 2021       \n",
            "+-----------------------------------------------------------------------------+\n",
            "| NVIDIA-SMI 470.74       Driver Version: 460.32.03    CUDA Version: 11.2     |\n",
            "|-------------------------------+----------------------+----------------------+\n",
            "| GPU  Name        Persistence-M| Bus-Id        Disp.A | Volatile Uncorr. ECC |\n",
            "| Fan  Temp  Perf  Pwr:Usage/Cap|         Memory-Usage | GPU-Util  Compute M. |\n",
            "|                               |                      |               MIG M. |\n",
            "|===============================+======================+======================|\n",
            "|   0  Tesla P100-PCIE...  Off  | 00000000:00:04.0 Off |                    0 |\n",
            "| N/A   43C    P0    27W / 250W |      0MiB / 16280MiB |      0%      Default |\n",
            "|                               |                      |                  N/A |\n",
            "+-------------------------------+----------------------+----------------------+\n",
            "                                                                               \n",
            "+-----------------------------------------------------------------------------+\n",
            "| Processes:                                                                  |\n",
            "|  GPU   GI   CI        PID   Type   Process name                  GPU Memory |\n",
            "|        ID   ID                                                   Usage      |\n",
            "|=============================================================================|\n",
            "|  No running processes found                                                 |\n",
            "+-----------------------------------------------------------------------------+\n"
          ]
        }
      ]
    },
    {
      "cell_type": "markdown",
      "metadata": {
        "id": "qonm85Xbm1dg"
      },
      "source": [
        "シード値から生成される乱数の固定化"
      ]
    },
    {
      "cell_type": "code",
      "metadata": {
        "id": "JGD5fjN2m0Ol"
      },
      "source": [
        "def set_seed(seed: int):\n",
        "    \"\"\"\n",
        "    Helper function for reproducible behavior to set the seed in ``random``, ``numpy``, ``torch`` and/or ``tf`` (if\n",
        "    installed).\n",
        "\n",
        "    Args:\n",
        "        seed (:obj:`int`): The seed to set.\n",
        "    \"\"\"\n",
        "    random.seed(seed)\n",
        "    np.random.seed(seed)\n",
        "    if is_torch_available():\n",
        "        torch.manual_seed(seed)\n",
        "        torch.cuda.manual_seed_all(seed)\n",
        "        # ^^ safe to call this function even if cuda is not available\n",
        "    if is_tf_available():\n",
        "        import tensorflow as tf\n",
        "\n",
        "        tf.random.set_seed(seed)\n",
        "\n",
        "set_seed(1)"
      ],
      "execution_count": 24,
      "outputs": []
    },
    {
      "cell_type": "code",
      "metadata": {
        "id": "oJ9GNyqNq9aS"
      },
      "source": [
        "train = pd.read_csv(\"/content/drive/MyDrive/事故の型分類/train.csv\")\n",
        "valid =pd.read_csv(\"/content/drive/MyDrive/事故の型分類/dev.csv\")"
      ],
      "execution_count": 25,
      "outputs": []
    },
    {
      "cell_type": "code",
      "metadata": {
        "colab": {
          "base_uri": "https://localhost:8080/",
          "height": 419
        },
        "id": "r3IeDld6q-VD",
        "outputId": "fff454cc-e51c-44b8-9e67-b27ab869aac2"
      },
      "source": [
        "train"
      ],
      "execution_count": 26,
      "outputs": [
        {
          "output_type": "execute_result",
          "data": {
            "text/html": [
              "<div>\n",
              "<style scoped>\n",
              "    .dataframe tbody tr th:only-of-type {\n",
              "        vertical-align: middle;\n",
              "    }\n",
              "\n",
              "    .dataframe tbody tr th {\n",
              "        vertical-align: top;\n",
              "    }\n",
              "\n",
              "    .dataframe thead th {\n",
              "        text-align: right;\n",
              "    }\n",
              "</style>\n",
              "<table border=\"1\" class=\"dataframe\">\n",
              "  <thead>\n",
              "    <tr style=\"text-align: right;\">\n",
              "      <th></th>\n",
              "      <th>label</th>\n",
              "      <th>sentence</th>\n",
              "    </tr>\n",
              "  </thead>\n",
              "  <tbody>\n",
              "    <tr>\n",
              "      <th>0</th>\n",
              "      <td>6</td>\n",
              "      <td>災害発生現場において、元請事業場の労働者２名がＡタンク内の飼料の清掃作業に従事していた。Ａタ...</td>\n",
              "    </tr>\n",
              "    <tr>\n",
              "      <th>1</th>\n",
              "      <td>16</td>\n",
              "      <td>国道沿いにある飲食店の駐車場から下り三車線を横切って上り線に右折しようとしていたタクシーと、...</td>\n",
              "    </tr>\n",
              "    <tr>\n",
              "      <th>2</th>\n",
              "      <td>0</td>\n",
              "      <td>同日、駅に入線する８名（本）の電車の運転士に対し、実設訓練を行っていた。被災者は２本目の電車...</td>\n",
              "    </tr>\n",
              "    <tr>\n",
              "      <th>3</th>\n",
              "      <td>0</td>\n",
              "      <td>木造２階建新築住宅建設において、前日の基礎コンクリート打設作業に続き、モルタルの敷均しを行う...</td>\n",
              "    </tr>\n",
              "    <tr>\n",
              "      <th>4</th>\n",
              "      <td>0</td>\n",
              "      <td>マンションの清掃業務終了後、共用棟内のロッカー室において、地下へ通じる階段下に被災者が倒れて...</td>\n",
              "    </tr>\n",
              "    <tr>\n",
              "      <th>...</th>\n",
              "      <td>...</td>\n",
              "      <td>...</td>\n",
              "    </tr>\n",
              "    <tr>\n",
              "      <th>15287</th>\n",
              "      <td>16</td>\n",
              "      <td>ダンプトラックを運転中、交差点で一旦停止を怠り交差点に進入したため、軽自動車と衝突した。</td>\n",
              "    </tr>\n",
              "    <tr>\n",
              "      <th>15288</th>\n",
              "      <td>0</td>\n",
              "      <td>木造2階建民間家屋の1階屋根に設置されたエアコンの室外機の撤去作業中、屋根（高さ4m）から墜...</td>\n",
              "    </tr>\n",
              "    <tr>\n",
              "      <th>15289</th>\n",
              "      <td>0</td>\n",
              "      <td>熱風排風機のフィルターのつまり具合を確認しようと屋根にはしごをかけ、片足をかけた時にバランス...</td>\n",
              "    </tr>\n",
              "    <tr>\n",
              "      <th>15290</th>\n",
              "      <td>6</td>\n",
              "      <td>テーブルリフターの修理作業中、下降したテーブルに挟まれた。</td>\n",
              "    </tr>\n",
              "    <tr>\n",
              "      <th>15291</th>\n",
              "      <td>6</td>\n",
              "      <td>小型移動式クレーンで、運搬してきたプラント用発電機を地上に降ろそうと当該クレーンを操作し旋回...</td>\n",
              "    </tr>\n",
              "  </tbody>\n",
              "</table>\n",
              "<p>15292 rows × 2 columns</p>\n",
              "</div>"
            ],
            "text/plain": [
              "       label                                           sentence\n",
              "0          6  災害発生現場において、元請事業場の労働者２名がＡタンク内の飼料の清掃作業に従事していた。Ａタ...\n",
              "1         16  国道沿いにある飲食店の駐車場から下り三車線を横切って上り線に右折しようとしていたタクシーと、...\n",
              "2          0  同日、駅に入線する８名（本）の電車の運転士に対し、実設訓練を行っていた。被災者は２本目の電車...\n",
              "3          0  木造２階建新築住宅建設において、前日の基礎コンクリート打設作業に続き、モルタルの敷均しを行う...\n",
              "4          0  マンションの清掃業務終了後、共用棟内のロッカー室において、地下へ通じる階段下に被災者が倒れて...\n",
              "...      ...                                                ...\n",
              "15287     16      ダンプトラックを運転中、交差点で一旦停止を怠り交差点に進入したため、軽自動車と衝突した。 \n",
              "15288      0  木造2階建民間家屋の1階屋根に設置されたエアコンの室外機の撤去作業中、屋根（高さ4m）から墜...\n",
              "15289      0  熱風排風機のフィルターのつまり具合を確認しようと屋根にはしごをかけ、片足をかけた時にバランス...\n",
              "15290      6                      テーブルリフターの修理作業中、下降したテーブルに挟まれた。\n",
              "15291      6  小型移動式クレーンで、運搬してきたプラント用発電機を地上に降ろそうと当該クレーンを操作し旋回...\n",
              "\n",
              "[15292 rows x 2 columns]"
            ]
          },
          "metadata": {},
          "execution_count": 26
        }
      ]
    },
    {
      "cell_type": "code",
      "metadata": {
        "colab": {
          "base_uri": "https://localhost:8080/"
        },
        "id": "1CdvMFSh1QeQ",
        "outputId": "b439cfd6-c390-4c95-e816-53cad6d1066f"
      },
      "source": [
        "train['label'].nunique()"
      ],
      "execution_count": 27,
      "outputs": [
        {
          "output_type": "execute_result",
          "data": {
            "text/plain": [
              "21"
            ]
          },
          "metadata": {},
          "execution_count": 27
        }
      ]
    },
    {
      "cell_type": "code",
      "metadata": {
        "id": "B95aeFrppXnX",
        "colab": {
          "base_uri": "https://localhost:8080/",
          "height": 235,
          "referenced_widgets": [
            "2cc00cb8acfc405ea7e703ca43e8437c",
            "5847495639d14b66bd6afc9d61196859",
            "27b8eadb22dc41f38f5f1d730be34624",
            "cfa5571fde6443c19a16502668e74598",
            "a952f967919e4f8aab5d88b0af8ec1da",
            "2c2488b9359a40ee93d120072569ded8",
            "3e2ba746c738487bb3579a0ba4e78f9a",
            "1955b9c16a4c4d5187e308e833e25b6b",
            "51c704b415484953853ff56287051a23",
            "3d053a3ca5d447e280e2d7259da050e0",
            "c06f759deecb4acd85df1001120779ac"
          ]
        },
        "outputId": "11ce434c-d205-479c-eba2-f8b5924fdc0b"
      },
      "source": [
        "train_texts = train[\"sentence\"].tolist()\n",
        "valid_texts = valid[\"sentence\"].tolist()\n",
        "train_labels = train[\"label\"].tolist()\n",
        "valid_labels = valid[\"label\"].tolist()\n",
        "\n",
        "# the model we gonna train, base uncased BERT\n",
        "# check text classification models here: https://huggingface.co/models?filter=text-classification\n",
        "model_name = \"cl-tohoku/bert-large-japanese\"\n",
        "# max sequence length for each document/sentence sample\n",
        "max_length = 256\n",
        "\n",
        "#tokenizer = BertTokenizerFast.from_pretrained(model_name, do_lower_case=True)\n",
        "tokenizer = BertTokenizerFast.from_pretrained(model_name, do_lower_case=True)\n",
        "\n",
        "# tokenize the dataset, truncate when passed `max_length`, \n",
        "# and pad with 0's when less than `max_length`\n",
        "train_encodings = tokenizer(train_texts, truncation=True, padding=True, max_length=max_length)\n",
        "valid_encodings = tokenizer(valid_texts, truncation=True, padding=True, max_length=max_length)"
      ],
      "execution_count": 28,
      "outputs": [
        {
          "output_type": "display_data",
          "data": {
            "application/vnd.jupyter.widget-view+json": {
              "model_id": "2cc00cb8acfc405ea7e703ca43e8437c",
              "version_minor": 0,
              "version_major": 2
            },
            "text/plain": [
              "Downloading:   0%|          | 0.00/230k [00:00<?, ?B/s]"
            ]
          },
          "metadata": {}
        },
        {
          "output_type": "display_data",
          "data": {
            "application/vnd.jupyter.widget-view+json": {
              "model_id": "4a069990bd5b44178f1c83af15169840",
              "version_minor": 0,
              "version_major": 2
            },
            "text/plain": [
              "Downloading:   0%|          | 0.00/174 [00:00<?, ?B/s]"
            ]
          },
          "metadata": {}
        },
        {
          "output_type": "display_data",
          "data": {
            "application/vnd.jupyter.widget-view+json": {
              "model_id": "a7d25252ea4d48b786a61d9546aac4a3",
              "version_minor": 0,
              "version_major": 2
            },
            "text/plain": [
              "Downloading:   0%|          | 0.00/518 [00:00<?, ?B/s]"
            ]
          },
          "metadata": {}
        },
        {
          "output_type": "stream",
          "name": "stderr",
          "text": [
            "The tokenizer class you load from this checkpoint is not the same type as the class this function is called from. It may result in unexpected tokenization. \n",
            "The tokenizer class you load from this checkpoint is 'BertJapaneseTokenizer'. \n",
            "The class this function is called from is 'BertTokenizer'.\n",
            "The tokenizer class you load from this checkpoint is not the same type as the class this function is called from. It may result in unexpected tokenization. \n",
            "The tokenizer class you load from this checkpoint is 'BertJapaneseTokenizer'. \n",
            "The class this function is called from is 'BertTokenizerFast'.\n"
          ]
        }
      ]
    },
    {
      "cell_type": "code",
      "metadata": {
        "id": "GMBMz8OVsXjr"
      },
      "source": [
        "class NewsGroupsDataset(torch.utils.data.Dataset):\n",
        "    def __init__(self, encodings, labels):\n",
        "        self.encodings = encodings\n",
        "        self.labels = labels\n",
        "\n",
        "    def __getitem__(self, idx):\n",
        "        item = {k: torch.tensor(v[idx]) for k, v in self.encodings.items()}\n",
        "        item[\"labels\"] = torch.tensor([self.labels[idx]])\n",
        "        return item\n",
        "\n",
        "    def __len__(self):\n",
        "        return len(self.labels)\n",
        "\n",
        "# convert our tokenized data into a torch Dataset\n",
        "train_dataset = NewsGroupsDataset(train_encodings, train_labels)\n",
        "valid_dataset = NewsGroupsDataset(valid_encodings, valid_labels)"
      ],
      "execution_count": 29,
      "outputs": []
    },
    {
      "cell_type": "code",
      "metadata": {
        "id": "bpIpGSxSTd6n"
      },
      "source": [
        "class BaseDataset(Dataset):\n",
        "    def __init__(self, df, model_name, include_labels=True):\n",
        "        #tokenizer = T.BertTokenizer.from_pretrained(model_name)\n",
        "        tokenizer = BertTokenizerFast.from_pretrained(model_name, do_lower_case=True)\n",
        "\n",
        "        self.df = df\n",
        "        self.include_labels = include_labels\n",
        "\n",
        "        self.title = df[\"sentence\"].tolist()\n",
        "        self.encoded = tokenizer.batch_encode_plus(\n",
        "            self.title,\n",
        "            padding = 'max_length',            \n",
        "            max_length = 256,\n",
        "            truncation = True,\n",
        "            return_attention_mask=True\n",
        "        )\n",
        "        \n",
        "        if self.include_labels:\n",
        "            self.labels = df[\"label\"].values\n",
        "\n",
        "    def __len__(self):\n",
        "        return len(self.df)\n",
        "\n",
        "    def __getitem__(self, idx):\n",
        "        input_ids = torch.tensor(self.encoded['input_ids'][idx])\n",
        "        attention_mask = torch.tensor(self.encoded['attention_mask'][idx])\n",
        "\n",
        "        if self.include_labels:\n",
        "            label = torch.tensor(self.labels[idx]).float()\n",
        "            return input_ids, attention_mask, label\n",
        "\n",
        "        return input_ids, attention_mask"
      ],
      "execution_count": 30,
      "outputs": []
    },
    {
      "cell_type": "code",
      "metadata": {
        "id": "nXgmCvGJ0EM4"
      },
      "source": [
        "device = torch.device(\"cuda\" if torch.cuda.is_available() else \"cpu\")"
      ],
      "execution_count": 31,
      "outputs": []
    },
    {
      "cell_type": "code",
      "metadata": {
        "id": "dO0DmpBLwdGt"
      },
      "source": [
        "from sklearn.metrics import accuracy_score,fbeta_score\n",
        "\n",
        "def compute_metrics(pred):\n",
        "  labels = pred.label_ids\n",
        "  preds = pred.predictions.argmax(-1)\n",
        "  # calculate accuracy using sklearn's function\n",
        "  #acc = accuracy_score(labels, preds)\n",
        "  fbeta = fbeta_score(labels, preds,average='micro', beta=0.5)\n",
        "  return {\n",
        "      'micro_mean': fbeta,\n",
        "  }"
      ],
      "execution_count": 32,
      "outputs": []
    },
    {
      "cell_type": "code",
      "metadata": {
        "colab": {
          "base_uri": "https://localhost:8080/"
        },
        "id": "-HSNhZbw4Ndl",
        "outputId": "e75f3269-d8af-4d03-ff6f-f2e62d69e161"
      },
      "source": [
        "train['label'].nunique()"
      ],
      "execution_count": 33,
      "outputs": [
        {
          "output_type": "execute_result",
          "data": {
            "text/plain": [
              "21"
            ]
          },
          "metadata": {},
          "execution_count": 33
        }
      ]
    },
    {
      "cell_type": "code",
      "metadata": {
        "colab": {
          "base_uri": "https://localhost:8080/"
        },
        "id": "9_B-ojcT4gl1",
        "outputId": "935b34f9-60a7-41fd-def0-016e52717dce"
      },
      "source": [
        "valid['label'].nunique()"
      ],
      "execution_count": 34,
      "outputs": [
        {
          "output_type": "execute_result",
          "data": {
            "text/plain": [
              "20"
            ]
          },
          "metadata": {},
          "execution_count": 34
        }
      ]
    },
    {
      "cell_type": "code",
      "metadata": {
        "colab": {
          "base_uri": "https://localhost:8080/",
          "height": 154,
          "referenced_widgets": [
            "3284f16405d54848abe737e3033d5d61",
            "84a4d16163a84422b02cc3d7cea7d071",
            "86d2f6d3ebd24aa0ac8b88c68ee26b9b",
            "5fe88b68d15141f9afa1fe63297dcedf",
            "ac6e0b359843443eb52a3df69383792d",
            "72a40e4e0a2d4e5ba38e0389ba611e06",
            "e7128ee4a88b4ce49edb321ef72c2d60",
            "8a0549059aed4020b210b8523ee13c26",
            "53a9b59a44ef49848bd48e86af173d24",
            "65f13341c72b47eab88985503247eb02",
            "f16b7f138f764bc6ba14e78c61db1595"
          ]
        },
        "id": "OjbyD1K9s18J",
        "outputId": "f45600a3-3711-460f-a4b8-a0372c4a041e"
      },
      "source": [
        "# load the model and pass to CUDA\n",
        "#model = BertForSequenceClassification.from_pretrained(model_name, num_labels=train['label'].nunique()).to(device)\n",
        "model = AutoModelForSequenceClassification.from_pretrained(model_name, num_labels=train['label'].nunique()).to(device)"
      ],
      "execution_count": 35,
      "outputs": [
        {
          "output_type": "display_data",
          "data": {
            "application/vnd.jupyter.widget-view+json": {
              "model_id": "3284f16405d54848abe737e3033d5d61",
              "version_minor": 0,
              "version_major": 2
            },
            "text/plain": [
              "Downloading:   0%|          | 0.00/1.26G [00:00<?, ?B/s]"
            ]
          },
          "metadata": {}
        },
        {
          "output_type": "stream",
          "name": "stderr",
          "text": [
            "Some weights of the model checkpoint at cl-tohoku/bert-large-japanese were not used when initializing BertForSequenceClassification: ['cls.seq_relationship.bias', 'cls.predictions.transform.dense.weight', 'cls.predictions.bias', 'cls.seq_relationship.weight', 'cls.predictions.transform.LayerNorm.bias', 'cls.predictions.transform.LayerNorm.weight', 'cls.predictions.transform.dense.bias', 'cls.predictions.decoder.weight', 'cls.predictions.decoder.bias']\n",
            "- This IS expected if you are initializing BertForSequenceClassification from the checkpoint of a model trained on another task or with another architecture (e.g. initializing a BertForSequenceClassification model from a BertForPreTraining model).\n",
            "- This IS NOT expected if you are initializing BertForSequenceClassification from the checkpoint of a model that you expect to be exactly identical (initializing a BertForSequenceClassification model from a BertForSequenceClassification model).\n",
            "Some weights of BertForSequenceClassification were not initialized from the model checkpoint at cl-tohoku/bert-large-japanese and are newly initialized: ['classifier.weight', 'classifier.bias']\n",
            "You should probably TRAIN this model on a down-stream task to be able to use it for predictions and inference.\n"
          ]
        }
      ]
    },
    {
      "cell_type": "code",
      "metadata": {
        "id": "1D5aLdOntb-g"
      },
      "source": [
        "training_args = TrainingArguments(\n",
        "    output_dir='./results',          # output directory\n",
        "    num_train_epochs=4,              # total number of training epochs\n",
        "    learning_rate = 1e-5,\n",
        "    per_device_train_batch_size=8,  # batch size per device during training\n",
        "    per_device_eval_batch_size=8,   # batch size for evaluation\n",
        "    warmup_steps=100,                # number of warmup steps for learning rate scheduler\n",
        "    weight_decay=0.01,               # strength of weight decay\n",
        "    logging_dir='./logs',            # directory for storing logs\n",
        "    load_best_model_at_end=True,     # load the best model when finished training (default metric is loss)\n",
        "    # but you can specify `metric_for_best_model` argument to change to accuracy or other metric\n",
        "    logging_steps=250,               # log & save weights each logging_steps\n",
        "    evaluation_strategy=\"steps\",     # evaluate each `logging_steps`\n",
        ")"
      ],
      "execution_count": 36,
      "outputs": []
    },
    {
      "cell_type": "code",
      "metadata": {
        "id": "F6o_MmqIs2mO"
      },
      "source": [
        "from torch import nn\n",
        "from transformers import Trainer\n",
        "\n",
        "class MultilabelTrainer(Trainer):\n",
        "    def compute_loss(self, model, inputs, return_outputs=False):\n",
        "        labels = inputs.get(\"labels\")\n",
        "        outputs = model(**inputs)\n",
        "        logits = outputs.get('logits')\n",
        "        loss_fct = nn.BCEWithLogitsLoss()\n",
        "        loss = loss_fct(logits.view(-1, self.model.config.num_labels),\n",
        "                        labels.float().view(-1, self.model.config.num_labels))\n",
        "        return (loss, outputs) if return_outputs else loss"
      ],
      "execution_count": 37,
      "outputs": []
    },
    {
      "cell_type": "code",
      "metadata": {
        "id": "dajJ24rmte-e"
      },
      "source": [
        "trainer = Trainer(\n",
        "    model=model,                         # the instantiated Transformers model to be trained\n",
        "    args=training_args,                  # training arguments, defined above\n",
        "    train_dataset=train_dataset,         # training dataset\n",
        "    eval_dataset=valid_dataset,          # evaluation dataset\n",
        "    compute_metrics=compute_metrics,     # the callback that computes metrics of interest\n",
        ")"
      ],
      "execution_count": 38,
      "outputs": []
    },
    {
      "cell_type": "code",
      "metadata": {
        "id": "rFaG7e4KuTUa",
        "colab": {
          "base_uri": "https://localhost:8080/"
        },
        "outputId": "7c2ab89c-229f-4989-cf1c-e3667ae81636"
      },
      "source": [
        "!nvidia-smi"
      ],
      "execution_count": 39,
      "outputs": [
        {
          "output_type": "stream",
          "name": "stdout",
          "text": [
            "Tue Oct 12 06:07:00 2021       \n",
            "+-----------------------------------------------------------------------------+\n",
            "| NVIDIA-SMI 470.74       Driver Version: 460.32.03    CUDA Version: 11.2     |\n",
            "|-------------------------------+----------------------+----------------------+\n",
            "| GPU  Name        Persistence-M| Bus-Id        Disp.A | Volatile Uncorr. ECC |\n",
            "| Fan  Temp  Perf  Pwr:Usage/Cap|         Memory-Usage | GPU-Util  Compute M. |\n",
            "|                               |                      |               MIG M. |\n",
            "|===============================+======================+======================|\n",
            "|   0  Tesla P100-PCIE...  Off  | 00000000:00:04.0 Off |                    0 |\n",
            "| N/A   44C    P0    39W / 250W |   2377MiB / 16280MiB |      0%      Default |\n",
            "|                               |                      |                  N/A |\n",
            "+-------------------------------+----------------------+----------------------+\n",
            "                                                                               \n",
            "+-----------------------------------------------------------------------------+\n",
            "| Processes:                                                                  |\n",
            "|  GPU   GI   CI        PID   Type   Process name                  GPU Memory |\n",
            "|        ID   ID                                                   Usage      |\n",
            "|=============================================================================|\n",
            "|  No running processes found                                                 |\n",
            "+-----------------------------------------------------------------------------+\n"
          ]
        }
      ]
    },
    {
      "cell_type": "markdown",
      "metadata": {
        "id": "5RPPLgLLIQ6N"
      },
      "source": [
        "学習の実行。データのうち8割を学習データ。残りの2割を評価用データとした。"
      ]
    },
    {
      "cell_type": "code",
      "metadata": {
        "id": "_L5k2Nm9thF3",
        "colab": {
          "base_uri": "https://localhost:8080/",
          "height": 1000
        },
        "outputId": "f287c5e8-f481-4ca7-8ce7-1fab6819c890"
      },
      "source": [
        "# train the model\n",
        "trainer.train()"
      ],
      "execution_count": 40,
      "outputs": [
        {
          "output_type": "stream",
          "name": "stderr",
          "text": [
            "***** Running training *****\n",
            "  Num examples = 15292\n",
            "  Num Epochs = 4\n",
            "  Instantaneous batch size per device = 8\n",
            "  Total train batch size (w. parallel, distributed & accumulation) = 8\n",
            "  Gradient Accumulation steps = 1\n",
            "  Total optimization steps = 7648\n"
          ]
        },
        {
          "output_type": "display_data",
          "data": {
            "text/html": [
              "\n",
              "    <div>\n",
              "      \n",
              "      <progress value='7648' max='7648' style='width:300px; height:20px; vertical-align: middle;'></progress>\n",
              "      [7648/7648 2:28:38, Epoch 4/4]\n",
              "    </div>\n",
              "    <table border=\"1\" class=\"dataframe\">\n",
              "  <thead>\n",
              "    <tr style=\"text-align: left;\">\n",
              "      <th>Step</th>\n",
              "      <th>Training Loss</th>\n",
              "      <th>Validation Loss</th>\n",
              "      <th>Micro Mean</th>\n",
              "    </tr>\n",
              "  </thead>\n",
              "  <tbody>\n",
              "    <tr>\n",
              "      <td>250</td>\n",
              "      <td>1.791800</td>\n",
              "      <td>1.056000</td>\n",
              "      <td>0.700314</td>\n",
              "    </tr>\n",
              "    <tr>\n",
              "      <td>500</td>\n",
              "      <td>1.068000</td>\n",
              "      <td>0.746633</td>\n",
              "      <td>0.798640</td>\n",
              "    </tr>\n",
              "    <tr>\n",
              "      <td>750</td>\n",
              "      <td>0.808900</td>\n",
              "      <td>0.650235</td>\n",
              "      <td>0.821391</td>\n",
              "    </tr>\n",
              "    <tr>\n",
              "      <td>1000</td>\n",
              "      <td>0.711900</td>\n",
              "      <td>0.656591</td>\n",
              "      <td>0.822699</td>\n",
              "    </tr>\n",
              "    <tr>\n",
              "      <td>1250</td>\n",
              "      <td>0.677700</td>\n",
              "      <td>0.623286</td>\n",
              "      <td>0.836036</td>\n",
              "    </tr>\n",
              "    <tr>\n",
              "      <td>1500</td>\n",
              "      <td>0.706200</td>\n",
              "      <td>0.602257</td>\n",
              "      <td>0.838389</td>\n",
              "    </tr>\n",
              "    <tr>\n",
              "      <td>1750</td>\n",
              "      <td>0.686900</td>\n",
              "      <td>0.548139</td>\n",
              "      <td>0.844142</td>\n",
              "    </tr>\n",
              "    <tr>\n",
              "      <td>2000</td>\n",
              "      <td>0.568700</td>\n",
              "      <td>0.591511</td>\n",
              "      <td>0.842312</td>\n",
              "    </tr>\n",
              "    <tr>\n",
              "      <td>2250</td>\n",
              "      <td>0.468200</td>\n",
              "      <td>0.593743</td>\n",
              "      <td>0.851203</td>\n",
              "    </tr>\n",
              "    <tr>\n",
              "      <td>2500</td>\n",
              "      <td>0.464000</td>\n",
              "      <td>0.609966</td>\n",
              "      <td>0.843619</td>\n",
              "    </tr>\n",
              "    <tr>\n",
              "      <td>2750</td>\n",
              "      <td>0.539400</td>\n",
              "      <td>0.566420</td>\n",
              "      <td>0.848588</td>\n",
              "    </tr>\n",
              "    <tr>\n",
              "      <td>3000</td>\n",
              "      <td>0.499100</td>\n",
              "      <td>0.570154</td>\n",
              "      <td>0.851987</td>\n",
              "    </tr>\n",
              "    <tr>\n",
              "      <td>3250</td>\n",
              "      <td>0.491700</td>\n",
              "      <td>0.536662</td>\n",
              "      <td>0.860356</td>\n",
              "    </tr>\n",
              "    <tr>\n",
              "      <td>3500</td>\n",
              "      <td>0.503100</td>\n",
              "      <td>0.527103</td>\n",
              "      <td>0.855649</td>\n",
              "    </tr>\n",
              "    <tr>\n",
              "      <td>3750</td>\n",
              "      <td>0.431800</td>\n",
              "      <td>0.580081</td>\n",
              "      <td>0.857218</td>\n",
              "    </tr>\n",
              "    <tr>\n",
              "      <td>4000</td>\n",
              "      <td>0.352600</td>\n",
              "      <td>0.610574</td>\n",
              "      <td>0.854864</td>\n",
              "    </tr>\n",
              "    <tr>\n",
              "      <td>4250</td>\n",
              "      <td>0.396000</td>\n",
              "      <td>0.591501</td>\n",
              "      <td>0.853033</td>\n",
              "    </tr>\n",
              "    <tr>\n",
              "      <td>4500</td>\n",
              "      <td>0.338300</td>\n",
              "      <td>0.590033</td>\n",
              "      <td>0.861925</td>\n",
              "    </tr>\n",
              "    <tr>\n",
              "      <td>4750</td>\n",
              "      <td>0.315500</td>\n",
              "      <td>0.619321</td>\n",
              "      <td>0.854341</td>\n",
              "    </tr>\n",
              "    <tr>\n",
              "      <td>5000</td>\n",
              "      <td>0.346100</td>\n",
              "      <td>0.627964</td>\n",
              "      <td>0.856172</td>\n",
              "    </tr>\n",
              "    <tr>\n",
              "      <td>5250</td>\n",
              "      <td>0.316000</td>\n",
              "      <td>0.636377</td>\n",
              "      <td>0.855910</td>\n",
              "    </tr>\n",
              "    <tr>\n",
              "      <td>5500</td>\n",
              "      <td>0.321500</td>\n",
              "      <td>0.593493</td>\n",
              "      <td>0.862709</td>\n",
              "    </tr>\n",
              "    <tr>\n",
              "      <td>5750</td>\n",
              "      <td>0.277100</td>\n",
              "      <td>0.626670</td>\n",
              "      <td>0.859833</td>\n",
              "    </tr>\n",
              "    <tr>\n",
              "      <td>6000</td>\n",
              "      <td>0.250800</td>\n",
              "      <td>0.626189</td>\n",
              "      <td>0.862709</td>\n",
              "    </tr>\n",
              "    <tr>\n",
              "      <td>6250</td>\n",
              "      <td>0.204800</td>\n",
              "      <td>0.652168</td>\n",
              "      <td>0.858787</td>\n",
              "    </tr>\n",
              "    <tr>\n",
              "      <td>6500</td>\n",
              "      <td>0.217000</td>\n",
              "      <td>0.663525</td>\n",
              "      <td>0.859571</td>\n",
              "    </tr>\n",
              "    <tr>\n",
              "      <td>6750</td>\n",
              "      <td>0.214700</td>\n",
              "      <td>0.669714</td>\n",
              "      <td>0.858787</td>\n",
              "    </tr>\n",
              "    <tr>\n",
              "      <td>7000</td>\n",
              "      <td>0.221000</td>\n",
              "      <td>0.666004</td>\n",
              "      <td>0.859310</td>\n",
              "    </tr>\n",
              "    <tr>\n",
              "      <td>7250</td>\n",
              "      <td>0.221200</td>\n",
              "      <td>0.670910</td>\n",
              "      <td>0.860617</td>\n",
              "    </tr>\n",
              "    <tr>\n",
              "      <td>7500</td>\n",
              "      <td>0.187700</td>\n",
              "      <td>0.672244</td>\n",
              "      <td>0.860879</td>\n",
              "    </tr>\n",
              "  </tbody>\n",
              "</table><p>"
            ],
            "text/plain": [
              "<IPython.core.display.HTML object>"
            ]
          },
          "metadata": {}
        },
        {
          "output_type": "stream",
          "name": "stderr",
          "text": [
            "***** Running Evaluation *****\n",
            "  Num examples = 3824\n",
            "  Batch size = 8\n",
            "Saving model checkpoint to ./results/checkpoint-250\n",
            "Configuration saved in ./results/checkpoint-250/config.json\n",
            "Model weights saved in ./results/checkpoint-250/pytorch_model.bin\n",
            "***** Running Evaluation *****\n",
            "  Num examples = 3824\n",
            "  Batch size = 8\n",
            "Saving model checkpoint to ./results/checkpoint-500\n",
            "Configuration saved in ./results/checkpoint-500/config.json\n",
            "Model weights saved in ./results/checkpoint-500/pytorch_model.bin\n",
            "***** Running Evaluation *****\n",
            "  Num examples = 3824\n",
            "  Batch size = 8\n",
            "Saving model checkpoint to ./results/checkpoint-750\n",
            "Configuration saved in ./results/checkpoint-750/config.json\n",
            "Model weights saved in ./results/checkpoint-750/pytorch_model.bin\n",
            "***** Running Evaluation *****\n",
            "  Num examples = 3824\n",
            "  Batch size = 8\n",
            "Saving model checkpoint to ./results/checkpoint-1000\n",
            "Configuration saved in ./results/checkpoint-1000/config.json\n",
            "Model weights saved in ./results/checkpoint-1000/pytorch_model.bin\n",
            "***** Running Evaluation *****\n",
            "  Num examples = 3824\n",
            "  Batch size = 8\n",
            "Saving model checkpoint to ./results/checkpoint-1250\n",
            "Configuration saved in ./results/checkpoint-1250/config.json\n",
            "Model weights saved in ./results/checkpoint-1250/pytorch_model.bin\n",
            "***** Running Evaluation *****\n",
            "  Num examples = 3824\n",
            "  Batch size = 8\n",
            "Saving model checkpoint to ./results/checkpoint-1500\n",
            "Configuration saved in ./results/checkpoint-1500/config.json\n",
            "Model weights saved in ./results/checkpoint-1500/pytorch_model.bin\n",
            "***** Running Evaluation *****\n",
            "  Num examples = 3824\n",
            "  Batch size = 8\n",
            "Saving model checkpoint to ./results/checkpoint-1750\n",
            "Configuration saved in ./results/checkpoint-1750/config.json\n",
            "Model weights saved in ./results/checkpoint-1750/pytorch_model.bin\n",
            "***** Running Evaluation *****\n",
            "  Num examples = 3824\n",
            "  Batch size = 8\n",
            "Saving model checkpoint to ./results/checkpoint-2000\n",
            "Configuration saved in ./results/checkpoint-2000/config.json\n",
            "Model weights saved in ./results/checkpoint-2000/pytorch_model.bin\n",
            "***** Running Evaluation *****\n",
            "  Num examples = 3824\n",
            "  Batch size = 8\n",
            "Saving model checkpoint to ./results/checkpoint-2250\n",
            "Configuration saved in ./results/checkpoint-2250/config.json\n",
            "Model weights saved in ./results/checkpoint-2250/pytorch_model.bin\n",
            "***** Running Evaluation *****\n",
            "  Num examples = 3824\n",
            "  Batch size = 8\n",
            "Saving model checkpoint to ./results/checkpoint-2500\n",
            "Configuration saved in ./results/checkpoint-2500/config.json\n",
            "Model weights saved in ./results/checkpoint-2500/pytorch_model.bin\n",
            "***** Running Evaluation *****\n",
            "  Num examples = 3824\n",
            "  Batch size = 8\n",
            "Saving model checkpoint to ./results/checkpoint-2750\n",
            "Configuration saved in ./results/checkpoint-2750/config.json\n",
            "Model weights saved in ./results/checkpoint-2750/pytorch_model.bin\n",
            "***** Running Evaluation *****\n",
            "  Num examples = 3824\n",
            "  Batch size = 8\n",
            "Saving model checkpoint to ./results/checkpoint-3000\n",
            "Configuration saved in ./results/checkpoint-3000/config.json\n",
            "Model weights saved in ./results/checkpoint-3000/pytorch_model.bin\n",
            "***** Running Evaluation *****\n",
            "  Num examples = 3824\n",
            "  Batch size = 8\n",
            "Saving model checkpoint to ./results/checkpoint-3250\n",
            "Configuration saved in ./results/checkpoint-3250/config.json\n",
            "Model weights saved in ./results/checkpoint-3250/pytorch_model.bin\n",
            "***** Running Evaluation *****\n",
            "  Num examples = 3824\n",
            "  Batch size = 8\n",
            "Saving model checkpoint to ./results/checkpoint-3500\n",
            "Configuration saved in ./results/checkpoint-3500/config.json\n",
            "Model weights saved in ./results/checkpoint-3500/pytorch_model.bin\n",
            "***** Running Evaluation *****\n",
            "  Num examples = 3824\n",
            "  Batch size = 8\n",
            "Saving model checkpoint to ./results/checkpoint-3750\n",
            "Configuration saved in ./results/checkpoint-3750/config.json\n",
            "Model weights saved in ./results/checkpoint-3750/pytorch_model.bin\n",
            "***** Running Evaluation *****\n",
            "  Num examples = 3824\n",
            "  Batch size = 8\n",
            "Saving model checkpoint to ./results/checkpoint-4000\n",
            "Configuration saved in ./results/checkpoint-4000/config.json\n",
            "Model weights saved in ./results/checkpoint-4000/pytorch_model.bin\n",
            "***** Running Evaluation *****\n",
            "  Num examples = 3824\n",
            "  Batch size = 8\n",
            "Saving model checkpoint to ./results/checkpoint-4250\n",
            "Configuration saved in ./results/checkpoint-4250/config.json\n",
            "Model weights saved in ./results/checkpoint-4250/pytorch_model.bin\n",
            "***** Running Evaluation *****\n",
            "  Num examples = 3824\n",
            "  Batch size = 8\n",
            "Saving model checkpoint to ./results/checkpoint-4500\n",
            "Configuration saved in ./results/checkpoint-4500/config.json\n",
            "Model weights saved in ./results/checkpoint-4500/pytorch_model.bin\n",
            "***** Running Evaluation *****\n",
            "  Num examples = 3824\n",
            "  Batch size = 8\n",
            "Saving model checkpoint to ./results/checkpoint-4750\n",
            "Configuration saved in ./results/checkpoint-4750/config.json\n",
            "Model weights saved in ./results/checkpoint-4750/pytorch_model.bin\n",
            "***** Running Evaluation *****\n",
            "  Num examples = 3824\n",
            "  Batch size = 8\n",
            "Saving model checkpoint to ./results/checkpoint-5000\n",
            "Configuration saved in ./results/checkpoint-5000/config.json\n",
            "Model weights saved in ./results/checkpoint-5000/pytorch_model.bin\n",
            "***** Running Evaluation *****\n",
            "  Num examples = 3824\n",
            "  Batch size = 8\n",
            "Saving model checkpoint to ./results/checkpoint-5250\n",
            "Configuration saved in ./results/checkpoint-5250/config.json\n",
            "Model weights saved in ./results/checkpoint-5250/pytorch_model.bin\n",
            "***** Running Evaluation *****\n",
            "  Num examples = 3824\n",
            "  Batch size = 8\n",
            "Saving model checkpoint to ./results/checkpoint-5500\n",
            "Configuration saved in ./results/checkpoint-5500/config.json\n",
            "Model weights saved in ./results/checkpoint-5500/pytorch_model.bin\n",
            "***** Running Evaluation *****\n",
            "  Num examples = 3824\n",
            "  Batch size = 8\n",
            "Saving model checkpoint to ./results/checkpoint-5750\n",
            "Configuration saved in ./results/checkpoint-5750/config.json\n",
            "Model weights saved in ./results/checkpoint-5750/pytorch_model.bin\n",
            "***** Running Evaluation *****\n",
            "  Num examples = 3824\n",
            "  Batch size = 8\n",
            "Saving model checkpoint to ./results/checkpoint-6000\n",
            "Configuration saved in ./results/checkpoint-6000/config.json\n",
            "Model weights saved in ./results/checkpoint-6000/pytorch_model.bin\n",
            "***** Running Evaluation *****\n",
            "  Num examples = 3824\n",
            "  Batch size = 8\n",
            "Saving model checkpoint to ./results/checkpoint-6250\n",
            "Configuration saved in ./results/checkpoint-6250/config.json\n",
            "Model weights saved in ./results/checkpoint-6250/pytorch_model.bin\n",
            "***** Running Evaluation *****\n",
            "  Num examples = 3824\n",
            "  Batch size = 8\n",
            "Saving model checkpoint to ./results/checkpoint-6500\n",
            "Configuration saved in ./results/checkpoint-6500/config.json\n",
            "Model weights saved in ./results/checkpoint-6500/pytorch_model.bin\n",
            "***** Running Evaluation *****\n",
            "  Num examples = 3824\n",
            "  Batch size = 8\n",
            "Saving model checkpoint to ./results/checkpoint-6750\n",
            "Configuration saved in ./results/checkpoint-6750/config.json\n",
            "Model weights saved in ./results/checkpoint-6750/pytorch_model.bin\n",
            "***** Running Evaluation *****\n",
            "  Num examples = 3824\n",
            "  Batch size = 8\n",
            "Saving model checkpoint to ./results/checkpoint-7000\n",
            "Configuration saved in ./results/checkpoint-7000/config.json\n",
            "Model weights saved in ./results/checkpoint-7000/pytorch_model.bin\n",
            "***** Running Evaluation *****\n",
            "  Num examples = 3824\n",
            "  Batch size = 8\n",
            "Saving model checkpoint to ./results/checkpoint-7250\n",
            "Configuration saved in ./results/checkpoint-7250/config.json\n",
            "Model weights saved in ./results/checkpoint-7250/pytorch_model.bin\n",
            "***** Running Evaluation *****\n",
            "  Num examples = 3824\n",
            "  Batch size = 8\n",
            "Saving model checkpoint to ./results/checkpoint-7500\n",
            "Configuration saved in ./results/checkpoint-7500/config.json\n",
            "Model weights saved in ./results/checkpoint-7500/pytorch_model.bin\n",
            "\n",
            "\n",
            "Training completed. Do not forget to share your model on huggingface.co/models =)\n",
            "\n",
            "\n",
            "Loading best model from ./results/checkpoint-3500 (score: 0.5271025896072388).\n"
          ]
        },
        {
          "output_type": "execute_result",
          "data": {
            "text/plain": [
              "TrainOutput(global_step=7648, training_loss=0.48160572381199157, metrics={'train_runtime': 8919.3047, 'train_samples_per_second': 6.858, 'train_steps_per_second': 0.857, 'total_flos': 2.5943110652610336e+16, 'train_loss': 0.48160572381199157, 'epoch': 4.0})"
            ]
          },
          "metadata": {},
          "execution_count": 40
        }
      ]
    },
    {
      "cell_type": "markdown",
      "metadata": {
        "id": "2ojV24h_Li46"
      },
      "source": [
        "学習の結果として検証データに対する精度は82.28%となった。\n",
        "試しに未知のデータである、令和3年の労災事例のテキストを与えて実際に推論させてみる。\n",
        "\n",
        "墜落事例\n",
        "https://anzeninfo.mhlw.go.jp/anzen_pg/SAI_DET.aspx?joho_no=101610"
      ]
    },
    {
      "cell_type": "code",
      "metadata": {
        "id": "p6iSJlbNNLRH",
        "colab": {
          "base_uri": "https://localhost:8080/",
          "height": 1000
        },
        "outputId": "0bfc9123-6636-4828-eaf9-902df3aa866a"
      },
      "source": [
        "import torch\n",
        "import torch.nn as nn\n",
        "from transformers import BertJapaneseTokenizer, AutoModelForSequenceClassification\n",
        "\n",
        "predictions = []\n",
        "test_dataset = BaseDataset(valid,model_name, include_labels=False)\n",
        "test_loader = DataLoader(\n",
        "    test_dataset, batch_size=16, shuffle=False, num_workers=4, pin_memory=True\n",
        ")\n",
        "\n",
        "model =  BertForSequenceClassification.from_pretrained('/content/results/checkpoint-6000')\n",
        "model.to(device)\n",
        "model.eval()\n",
        "preds = []\n",
        "m= nn.Softmax(dim=0)\n",
        "for i in tqdm(range(len(valid_texts))):\n",
        "    tokenized_text = tokenizer.tokenize(valid_texts[i])\n",
        "    indexed_tokens = tokenizer.convert_tokens_to_ids(tokenized_text)\n",
        "    tokens_tensor = torch.tensor([indexed_tokens])\n",
        "    with torch.no_grad():\n",
        "        y_preds = model(tokens_tensor.to(device))[0]\n",
        "    preds.append(torch.argmax(y_preds).item())"
      ],
      "execution_count": 47,
      "outputs": [
        {
          "output_type": "stream",
          "name": "stderr",
          "text": [
            "loading file https://huggingface.co/cl-tohoku/bert-large-japanese/resolve/main/vocab.txt from cache at /root/.cache/huggingface/transformers/f72fabacb613199f5743b8eb41afb53916af3e9611999cb673ed141e4b5995e5.49eeeaed2051802f574bb8508bc9b90ddd068743c7b9c17dd1afcc18c5fc82fd\n",
            "loading file https://huggingface.co/cl-tohoku/bert-large-japanese/resolve/main/tokenizer.json from cache at None\n",
            "loading file https://huggingface.co/cl-tohoku/bert-large-japanese/resolve/main/added_tokens.json from cache at None\n",
            "loading file https://huggingface.co/cl-tohoku/bert-large-japanese/resolve/main/special_tokens_map.json from cache at None\n",
            "loading file https://huggingface.co/cl-tohoku/bert-large-japanese/resolve/main/tokenizer_config.json from cache at /root/.cache/huggingface/transformers/ba3e6178ea496d4db8a3d9bc24f9b2e4c103d635b166729642024a19bae201dc.8e4e731c1d54dbc728a7894b3ad143b386987a5f85322fdc7685570a9ec962e3\n",
            "loading configuration file https://huggingface.co/cl-tohoku/bert-large-japanese/resolve/main/config.json from cache at /root/.cache/huggingface/transformers/d49f3356a181491359f3f12fe5d60f7441304c3a4796734cbc22de66c1765f0a.0c1afb078c78251713eee5aa225d29cf9899eb0f0bd8d2ba7c4967f586db290c\n",
            "Model config BertConfig {\n",
            "  \"architectures\": [\n",
            "    \"BertForMaskedLM\"\n",
            "  ],\n",
            "  \"attention_probs_dropout_prob\": 0.1,\n",
            "  \"classifier_dropout\": null,\n",
            "  \"hidden_act\": \"gelu\",\n",
            "  \"hidden_dropout_prob\": 0.1,\n",
            "  \"hidden_size\": 1024,\n",
            "  \"initializer_range\": 0.02,\n",
            "  \"intermediate_size\": 4096,\n",
            "  \"layer_norm_eps\": 1e-12,\n",
            "  \"max_position_embeddings\": 512,\n",
            "  \"model_type\": \"bert\",\n",
            "  \"num_attention_heads\": 16,\n",
            "  \"num_hidden_layers\": 24,\n",
            "  \"pad_token_id\": 0,\n",
            "  \"position_embedding_type\": \"absolute\",\n",
            "  \"tokenizer_class\": \"BertJapaneseTokenizer\",\n",
            "  \"transformers_version\": \"4.11.3\",\n",
            "  \"type_vocab_size\": 2,\n",
            "  \"use_cache\": true,\n",
            "  \"vocab_size\": 32768\n",
            "}\n",
            "\n",
            "The tokenizer class you load from this checkpoint is not the same type as the class this function is called from. It may result in unexpected tokenization. \n",
            "The tokenizer class you load from this checkpoint is 'BertJapaneseTokenizer'. \n",
            "The class this function is called from is 'BertTokenizer'.\n",
            "loading configuration file https://huggingface.co/cl-tohoku/bert-large-japanese/resolve/main/config.json from cache at /root/.cache/huggingface/transformers/d49f3356a181491359f3f12fe5d60f7441304c3a4796734cbc22de66c1765f0a.0c1afb078c78251713eee5aa225d29cf9899eb0f0bd8d2ba7c4967f586db290c\n",
            "Model config BertConfig {\n",
            "  \"architectures\": [\n",
            "    \"BertForMaskedLM\"\n",
            "  ],\n",
            "  \"attention_probs_dropout_prob\": 0.1,\n",
            "  \"classifier_dropout\": null,\n",
            "  \"hidden_act\": \"gelu\",\n",
            "  \"hidden_dropout_prob\": 0.1,\n",
            "  \"hidden_size\": 1024,\n",
            "  \"initializer_range\": 0.02,\n",
            "  \"intermediate_size\": 4096,\n",
            "  \"layer_norm_eps\": 1e-12,\n",
            "  \"max_position_embeddings\": 512,\n",
            "  \"model_type\": \"bert\",\n",
            "  \"num_attention_heads\": 16,\n",
            "  \"num_hidden_layers\": 24,\n",
            "  \"pad_token_id\": 0,\n",
            "  \"position_embedding_type\": \"absolute\",\n",
            "  \"tokenizer_class\": \"BertJapaneseTokenizer\",\n",
            "  \"transformers_version\": \"4.11.3\",\n",
            "  \"type_vocab_size\": 2,\n",
            "  \"use_cache\": true,\n",
            "  \"vocab_size\": 32768\n",
            "}\n",
            "\n",
            "The tokenizer class you load from this checkpoint is not the same type as the class this function is called from. It may result in unexpected tokenization. \n",
            "The tokenizer class you load from this checkpoint is 'BertJapaneseTokenizer'. \n",
            "The class this function is called from is 'BertTokenizerFast'.\n",
            "/usr/local/lib/python3.7/dist-packages/torch/utils/data/dataloader.py:481: UserWarning:\n",
            "\n",
            "This DataLoader will create 4 worker processes in total. Our suggested max number of worker in current system is 2, which is smaller than what this DataLoader is going to create. Please be aware that excessive worker creation might get DataLoader running slow or even freeze, lower the worker number to avoid potential slowness/freeze if necessary.\n",
            "\n",
            "loading configuration file /content/results/checkpoint-6000/config.json\n",
            "Model config BertConfig {\n",
            "  \"_name_or_path\": \"cl-tohoku/bert-large-japanese\",\n",
            "  \"architectures\": [\n",
            "    \"BertForSequenceClassification\"\n",
            "  ],\n",
            "  \"attention_probs_dropout_prob\": 0.1,\n",
            "  \"classifier_dropout\": null,\n",
            "  \"hidden_act\": \"gelu\",\n",
            "  \"hidden_dropout_prob\": 0.1,\n",
            "  \"hidden_size\": 1024,\n",
            "  \"id2label\": {\n",
            "    \"0\": \"LABEL_0\",\n",
            "    \"1\": \"LABEL_1\",\n",
            "    \"2\": \"LABEL_2\",\n",
            "    \"3\": \"LABEL_3\",\n",
            "    \"4\": \"LABEL_4\",\n",
            "    \"5\": \"LABEL_5\",\n",
            "    \"6\": \"LABEL_6\",\n",
            "    \"7\": \"LABEL_7\",\n",
            "    \"8\": \"LABEL_8\",\n",
            "    \"9\": \"LABEL_9\",\n",
            "    \"10\": \"LABEL_10\",\n",
            "    \"11\": \"LABEL_11\",\n",
            "    \"12\": \"LABEL_12\",\n",
            "    \"13\": \"LABEL_13\",\n",
            "    \"14\": \"LABEL_14\",\n",
            "    \"15\": \"LABEL_15\",\n",
            "    \"16\": \"LABEL_16\",\n",
            "    \"17\": \"LABEL_17\",\n",
            "    \"18\": \"LABEL_18\",\n",
            "    \"19\": \"LABEL_19\",\n",
            "    \"20\": \"LABEL_20\"\n",
            "  },\n",
            "  \"initializer_range\": 0.02,\n",
            "  \"intermediate_size\": 4096,\n",
            "  \"label2id\": {\n",
            "    \"LABEL_0\": 0,\n",
            "    \"LABEL_1\": 1,\n",
            "    \"LABEL_10\": 10,\n",
            "    \"LABEL_11\": 11,\n",
            "    \"LABEL_12\": 12,\n",
            "    \"LABEL_13\": 13,\n",
            "    \"LABEL_14\": 14,\n",
            "    \"LABEL_15\": 15,\n",
            "    \"LABEL_16\": 16,\n",
            "    \"LABEL_17\": 17,\n",
            "    \"LABEL_18\": 18,\n",
            "    \"LABEL_19\": 19,\n",
            "    \"LABEL_2\": 2,\n",
            "    \"LABEL_20\": 20,\n",
            "    \"LABEL_3\": 3,\n",
            "    \"LABEL_4\": 4,\n",
            "    \"LABEL_5\": 5,\n",
            "    \"LABEL_6\": 6,\n",
            "    \"LABEL_7\": 7,\n",
            "    \"LABEL_8\": 8,\n",
            "    \"LABEL_9\": 9\n",
            "  },\n",
            "  \"layer_norm_eps\": 1e-12,\n",
            "  \"max_position_embeddings\": 512,\n",
            "  \"model_type\": \"bert\",\n",
            "  \"num_attention_heads\": 16,\n",
            "  \"num_hidden_layers\": 24,\n",
            "  \"pad_token_id\": 0,\n",
            "  \"position_embedding_type\": \"absolute\",\n",
            "  \"problem_type\": \"single_label_classification\",\n",
            "  \"tokenizer_class\": \"BertJapaneseTokenizer\",\n",
            "  \"torch_dtype\": \"float32\",\n",
            "  \"transformers_version\": \"4.11.3\",\n",
            "  \"type_vocab_size\": 2,\n",
            "  \"use_cache\": true,\n",
            "  \"vocab_size\": 32768\n",
            "}\n",
            "\n",
            "loading weights file /content/results/checkpoint-6000/pytorch_model.bin\n",
            "All model checkpoint weights were used when initializing BertForSequenceClassification.\n",
            "\n",
            "All the weights of BertForSequenceClassification were initialized from the model checkpoint at /content/results/checkpoint-6000.\n",
            "If your task is similar to the task the model of the checkpoint was trained on, you can already use BertForSequenceClassification for predictions without further training.\n"
          ]
        },
        {
          "output_type": "display_data",
          "data": {
            "application/vnd.jupyter.widget-view+json": {
              "model_id": "0032f8152111465ca84553f83858f0b9",
              "version_minor": 0,
              "version_major": 2
            },
            "text/plain": [
              "  0%|          | 0/3824 [00:00<?, ?it/s]"
            ]
          },
          "metadata": {}
        }
      ]
    },
    {
      "cell_type": "markdown",
      "metadata": {
        "id": "LEgyY9uQsXVt"
      },
      "source": [
        "推論結果の確認"
      ]
    },
    {
      "cell_type": "code",
      "metadata": {
        "id": "zy3rtUQ5Vxth",
        "colab": {
          "base_uri": "https://localhost:8080/"
        },
        "outputId": "53d95cab-b749-4a69-f65b-7db2de17a10d"
      },
      "source": [
        "print(preds)"
      ],
      "execution_count": 48,
      "outputs": [
        {
          "output_type": "stream",
          "name": "stdout",
          "text": [
            "[5, 16, 0, 1, 16, 0, 0, 0, 0, 6, 6, 16, 5, 0, 0, 4, 6, 16, 1, 6, 16, 16, 0, 6, 6, 19, 0, 0, 0, 3, 19, 0, 3, 4, 16, 0, 0, 17, 3, 16, 0, 16, 19, 16, 12, 16, 0, 16, 0, 16, 0, 3, 6, 3, 0, 16, 16, 0, 5, 6, 6, 4, 4, 16, 16, 16, 0, 16, 0, 16, 6, 9, 16, 6, 0, 6, 1, 4, 0, 4, 16, 3, 0, 3, 4, 3, 12, 16, 3, 0, 4, 6, 6, 6, 16, 16, 0, 0, 3, 6, 3, 5, 16, 16, 16, 0, 0, 4, 16, 16, 16, 16, 16, 19, 5, 13, 13, 16, 16, 6, 16, 6, 14, 6, 12, 16, 6, 5, 6, 5, 0, 16, 12, 16, 0, 16, 4, 16, 3, 16, 3, 0, 16, 12, 16, 16, 6, 16, 10, 16, 0, 16, 0, 5, 3, 16, 0, 5, 13, 5, 16, 4, 12, 10, 16, 13, 16, 16, 16, 0, 16, 16, 16, 0, 16, 0, 0, 0, 6, 0, 5, 6, 3, 0, 16, 0, 10, 10, 16, 0, 2, 16, 4, 10, 15, 6, 6, 0, 16, 16, 6, 10, 12, 9, 0, 0, 9, 16, 5, 16, 0, 3, 16, 16, 6, 0, 9, 16, 16, 12, 12, 16, 16, 16, 1, 6, 16, 0, 16, 16, 6, 0, 1, 19, 9, 16, 6, 11, 11, 4, 6, 5, 16, 9, 16, 5, 16, 11, 5, 0, 3, 5, 16, 0, 16, 6, 16, 6, 0, 16, 5, 12, 0, 16, 0, 16, 0, 3, 16, 16, 6, 19, 5, 16, 16, 16, 6, 16, 16, 0, 0, 5, 16, 0, 16, 4, 16, 19, 16, 0, 12, 6, 16, 16, 0, 6, 16, 16, 4, 0, 4, 6, 5, 3, 16, 16, 16, 16, 0, 6, 16, 16, 2, 16, 4, 16, 4, 16, 16, 0, 6, 5, 16, 5, 6, 16, 0, 0, 5, 4, 16, 16, 5, 6, 16, 0, 0, 0, 6, 16, 0, 0, 16, 16, 10, 4, 6, 0, 16, 16, 0, 16, 9, 0, 9, 4, 9, 16, 0, 0, 16, 0, 4, 0, 16, 16, 6, 6, 0, 5, 0, 4, 5, 5, 6, 19, 10, 16, 0, 0, 0, 16, 0, 9, 3, 0, 16, 0, 5, 0, 3, 16, 0, 16, 6, 9, 0, 4, 6, 4, 5, 16, 16, 4, 0, 5, 0, 0, 16, 16, 0, 6, 16, 16, 16, 0, 16, 16, 6, 16, 0, 16, 16, 19, 0, 0, 0, 16, 16, 5, 16, 0, 5, 9, 16, 4, 6, 0, 6, 16, 0, 0, 16, 0, 4, 6, 5, 0, 6, 16, 5, 16, 16, 19, 6, 6, 6, 0, 0, 16, 6, 16, 16, 4, 10, 0, 19, 16, 6, 3, 11, 0, 12, 3, 9, 4, 0, 16, 4, 16, 0, 10, 16, 16, 6, 0, 16, 0, 12, 10, 16, 6, 4, 0, 16, 6, 5, 0, 16, 15, 0, 6, 16, 0, 3, 16, 0, 4, 0, 6, 12, 11, 12, 16, 5, 16, 16, 16, 16, 5, 0, 5, 6, 0, 6, 0, 0, 9, 9, 0, 4, 16, 16, 5, 0, 7, 0, 0, 0, 16, 5, 5, 16, 10, 1, 6, 16, 0, 5, 16, 0, 16, 0, 16, 0, 5, 0, 16, 3, 6, 6, 6, 17, 6, 5, 6, 9, 0, 19, 5, 16, 16, 4, 5, 12, 0, 16, 6, 16, 0, 0, 16, 16, 0, 16, 13, 6, 16, 0, 16, 16, 19, 0, 0, 6, 16, 16, 6, 16, 4, 0, 6, 9, 16, 3, 0, 3, 16, 4, 6, 16, 16, 16, 16, 0, 16, 5, 16, 4, 3, 16, 16, 14, 6, 6, 0, 16, 4, 6, 0, 11, 6, 0, 6, 9, 16, 16, 16, 16, 5, 6, 0, 11, 3, 0, 16, 16, 0, 10, 6, 16, 11, 4, 6, 16, 9, 0, 0, 16, 6, 5, 9, 6, 6, 0, 16, 0, 16, 5, 0, 3, 5, 16, 16, 0, 6, 12, 3, 0, 6, 19, 4, 16, 0, 4, 6, 4, 0, 16, 16, 16, 10, 3, 16, 4, 0, 3, 12, 11, 16, 3, 0, 6, 16, 6, 4, 19, 0, 4, 16, 4, 3, 4, 6, 16, 6, 6, 6, 6, 6, 5, 0, 0, 16, 5, 4, 0, 16, 0, 4, 19, 5, 16, 6, 6, 16, 0, 16, 19, 3, 16, 11, 1, 5, 16, 16, 19, 0, 16, 0, 0, 19, 0, 16, 3, 16, 0, 4, 16, 3, 16, 16, 4, 4, 0, 1, 0, 0, 12, 1, 3, 0, 0, 4, 7, 16, 0, 0, 16, 6, 6, 0, 0, 16, 5, 16, 5, 0, 9, 5, 1, 0, 16, 16, 16, 6, 16, 0, 0, 9, 6, 6, 0, 4, 16, 3, 16, 6, 5, 4, 16, 16, 0, 0, 0, 16, 5, 0, 12, 0, 4, 0, 4, 16, 6, 16, 4, 19, 3, 6, 6, 0, 16, 3, 16, 6, 16, 0, 16, 3, 0, 16, 3, 0, 6, 11, 3, 0, 0, 16, 6, 16, 0, 16, 0, 0, 16, 16, 16, 16, 16, 5, 0, 16, 16, 16, 6, 5, 16, 16, 5, 6, 1, 0, 6, 6, 16, 5, 0, 10, 0, 1, 3, 0, 16, 6, 16, 0, 0, 16, 5, 6, 0, 16, 11, 4, 5, 6, 3, 16, 10, 19, 16, 16, 16, 0, 0, 16, 5, 5, 3, 6, 7, 0, 16, 0, 0, 0, 16, 12, 16, 0, 6, 0, 0, 0, 15, 15, 15, 5, 0, 4, 0, 15, 6, 16, 5, 16, 0, 0, 0, 13, 16, 4, 4, 16, 10, 1, 5, 6, 6, 0, 10, 6, 16, 16, 0, 16, 16, 4, 3, 6, 0, 0, 16, 0, 9, 3, 0, 5, 0, 16, 4, 16, 5, 4, 16, 4, 6, 4, 0, 0, 6, 16, 0, 5, 3, 5, 0, 0, 3, 6, 6, 6, 5, 4, 6, 0, 0, 6, 9, 0, 0, 4, 6, 6, 5, 16, 0, 16, 6, 0, 4, 16, 5, 1, 16, 0, 0, 0, 0, 0, 9, 16, 16, 3, 16, 16, 16, 16, 6, 3, 6, 11, 5, 16, 13, 3, 0, 9, 9, 6, 0, 6, 4, 0, 0, 7, 16, 19, 0, 6, 19, 16, 6, 16, 3, 4, 0, 10, 4, 16, 6, 0, 5, 6, 0, 16, 16, 0, 0, 10, 16, 0, 0, 0, 16, 12, 0, 0, 0, 6, 0, 16, 0, 6, 4, 19, 16, 19, 13, 13, 4, 12, 16, 6, 11, 0, 16, 19, 5, 3, 6, 0, 3, 0, 6, 0, 16, 0, 4, 6, 0, 0, 3, 16, 0, 16, 16, 0, 0, 6, 16, 0, 6, 16, 16, 4, 3, 0, 6, 19, 17, 17, 17, 0, 1, 6, 19, 10, 19, 19, 16, 0, 16, 16, 0, 1, 4, 6, 5, 0, 6, 0, 6, 16, 16, 3, 11, 16, 5, 6, 4, 4, 0, 9, 5, 16, 9, 0, 0, 0, 3, 0, 17, 16, 16, 0, 0, 16, 16, 5, 19, 5, 16, 16, 0, 13, 16, 16, 0, 0, 16, 6, 0, 4, 0, 6, 6, 16, 0, 16, 16, 4, 1, 0, 19, 16, 0, 0, 0, 5, 3, 16, 16, 16, 3, 16, 0, 16, 19, 0, 6, 16, 0, 16, 16, 9, 9, 16, 0, 19, 6, 5, 0, 6, 6, 5, 16, 16, 11, 0, 16, 0, 4, 4, 0, 6, 9, 6, 0, 16, 16, 16, 0, 6, 16, 0, 0, 6, 0, 4, 0, 6, 16, 6, 5, 16, 16, 0, 4, 0, 4, 6, 0, 5, 1, 16, 4, 5, 0, 3, 0, 0, 0, 4, 0, 16, 16, 10, 10, 10, 10, 10, 6, 16, 10, 6, 6, 6, 0, 16, 5, 16, 16, 16, 16, 4, 0, 5, 5, 0, 0, 0, 16, 5, 0, 5, 17, 17, 16, 16, 5, 6, 3, 6, 0, 6, 16, 3, 17, 17, 0, 16, 11, 16, 0, 6, 3, 16, 16, 1, 16, 16, 6, 6, 19, 11, 1, 16, 0, 5, 16, 0, 19, 0, 16, 16, 16, 0, 16, 6, 0, 6, 13, 5, 6, 13, 16, 6, 16, 16, 6, 0, 0, 16, 16, 16, 16, 6, 6, 16, 5, 0, 16, 3, 10, 4, 6, 0, 16, 16, 5, 16, 0, 1, 16, 4, 1, 17, 16, 16, 0, 4, 0, 5, 0, 0, 16, 12, 5, 0, 9, 0, 6, 1, 6, 13, 6, 3, 5, 3, 16, 0, 0, 0, 4, 0, 16, 0, 0, 0, 16, 16, 16, 0, 4, 4, 0, 6, 0, 6, 0, 16, 19, 19, 4, 4, 6, 0, 6, 6, 16, 16, 16, 6, 5, 16, 4, 12, 3, 0, 0, 0, 0, 6, 6, 16, 0, 16, 0, 4, 0, 0, 12, 16, 0, 0, 0, 6, 6, 16, 0, 0, 16, 16, 16, 0, 1, 19, 19, 6, 16, 2, 6, 16, 0, 12, 3, 6, 1, 0, 16, 16, 6, 0, 15, 16, 6, 0, 3, 6, 10, 5, 3, 0, 16, 0, 16, 0, 16, 16, 3, 16, 6, 6, 16, 16, 0, 16, 16, 0, 16, 5, 0, 16, 16, 16, 6, 6, 3, 16, 0, 16, 16, 3, 16, 0, 0, 0, 16, 16, 3, 6, 4, 16, 3, 16, 16, 16, 16, 19, 16, 16, 4, 4, 3, 0, 16, 16, 0, 16, 4, 16, 12, 13, 0, 0, 0, 16, 6, 6, 6, 6, 6, 0, 0, 16, 0, 5, 4, 19, 0, 7, 1, 16, 16, 0, 16, 0, 16, 4, 16, 0, 11, 0, 6, 0, 3, 6, 16, 0, 6, 16, 0, 15, 5, 11, 11, 6, 4, 19, 11, 0, 16, 0, 0, 4, 0, 16, 0, 0, 5, 16, 16, 0, 4, 6, 5, 0, 3, 1, 6, 16, 19, 19, 6, 4, 16, 0, 16, 16, 16, 16, 4, 1, 16, 5, 1, 0, 0, 0, 16, 0, 0, 1, 4, 16, 6, 0, 5, 5, 0, 3, 0, 6, 0, 0, 16, 0, 0, 0, 16, 6, 4, 16, 9, 9, 6, 9, 0, 5, 1, 0, 16, 16, 0, 12, 0, 3, 3, 0, 6, 5, 16, 6, 3, 0, 4, 0, 16, 6, 10, 0, 16, 9, 16, 16, 11, 0, 0, 0, 12, 0, 16, 16, 4, 0, 0, 0, 6, 0, 6, 16, 16, 6, 6, 0, 16, 16, 0, 6, 0, 9, 16, 0, 0, 3, 0, 16, 0, 6, 0, 16, 0, 16, 5, 4, 16, 0, 6, 16, 3, 6, 9, 4, 0, 0, 16, 6, 11, 0, 4, 16, 0, 6, 9, 0, 5, 1, 16, 4, 1, 6, 0, 16, 0, 1, 5, 6, 16, 16, 16, 16, 16, 1, 3, 6, 16, 16, 16, 16, 5, 16, 16, 6, 0, 3, 6, 16, 0, 4, 1, 16, 0, 16, 4, 16, 0, 5, 0, 0, 0, 0, 0, 6, 0, 0, 6, 0, 6, 16, 16, 3, 16, 16, 0, 16, 5, 16, 0, 5, 16, 19, 6, 5, 4, 4, 6, 6, 19, 16, 10, 9, 16, 6, 0, 16, 0, 4, 4, 0, 4, 16, 0, 0, 16, 9, 16, 9, 16, 16, 16, 3, 5, 6, 16, 6, 16, 0, 9, 16, 0, 3, 10, 6, 0, 3, 5, 16, 5, 0, 0, 0, 6, 6, 11, 6, 6, 16, 16, 10, 0, 16, 0, 16, 16, 0, 16, 0, 6, 16, 0, 0, 16, 0, 16, 16, 16, 0, 16, 6, 0, 5, 16, 0, 0, 16, 19, 5, 3, 0, 16, 1, 0, 16, 5, 0, 12, 5, 0, 4, 0, 16, 13, 13, 9, 13, 6, 16, 0, 6, 0, 0, 6, 12, 0, 16, 0, 0, 16, 0, 4, 16, 16, 6, 16, 4, 3, 0, 4, 9, 0, 0, 0, 19, 16, 3, 6, 0, 16, 5, 16, 16, 9, 10, 0, 5, 3, 0, 6, 16, 6, 16, 0, 0, 5, 0, 7, 5, 12, 6, 9, 0, 0, 5, 16, 0, 0, 0, 1, 0, 6, 0, 0, 0, 16, 16, 16, 16, 16, 0, 15, 16, 16, 13, 1, 16, 16, 6, 9, 0, 16, 6, 12, 16, 6, 7, 1, 16, 19, 5, 19, 16, 0, 6, 16, 0, 0, 10, 16, 16, 12, 15, 4, 16, 5, 16, 16, 0, 0, 4, 16, 1, 16, 6, 5, 5, 9, 9, 9, 4, 11, 0, 9, 4, 0, 16, 0, 17, 17, 0, 10, 0, 12, 0, 6, 6, 6, 16, 16, 3, 6, 16, 0, 0, 0, 3, 16, 4, 9, 0, 0, 6, 0, 0, 4, 6, 3, 0, 0, 0, 4, 5, 11, 16, 4, 4, 16, 0, 13, 6, 16, 0, 0, 0, 0, 6, 16, 0, 4, 0, 1, 9, 16, 5, 16, 0, 16, 6, 4, 16, 6, 0, 16, 16, 16, 16, 5, 16, 0, 16, 19, 0, 9, 12, 16, 0, 16, 0, 16, 0, 4, 3, 16, 6, 0, 4, 19, 5, 6, 6, 9, 5, 4, 0, 0, 0, 10, 5, 12, 12, 6, 3, 6, 16, 0, 0, 6, 19, 4, 4, 4, 16, 12, 16, 15, 6, 0, 16, 11, 6, 6, 4, 9, 16, 6, 0, 0, 16, 1, 1, 16, 16, 16, 0, 4, 19, 0, 16, 0, 16, 16, 3, 11, 0, 5, 6, 0, 0, 0, 0, 0, 4, 0, 6, 6, 16, 6, 0, 4, 19, 4, 16, 16, 6, 16, 6, 4, 16, 15, 6, 16, 0, 4, 16, 0, 6, 13, 16, 5, 16, 0, 6, 16, 16, 16, 0, 16, 0, 0, 6, 16, 16, 6, 11, 6, 16, 0, 6, 5, 6, 16, 16, 11, 5, 6, 16, 16, 0, 0, 3, 0, 19, 4, 5, 4, 16, 3, 10, 10, 0, 16, 5, 0, 5, 6, 0, 0, 16, 6, 0, 19, 6, 13, 16, 16, 6, 3, 0, 16, 6, 5, 0, 16, 6, 6, 16, 16, 0, 16, 4, 16, 0, 19, 16, 5, 16, 5, 5, 19, 16, 16, 9, 9, 0, 6, 4, 16, 6, 16, 0, 6, 9, 1, 6, 4, 6, 1, 16, 0, 16, 16, 16, 0, 0, 0, 0, 0, 0, 4, 0, 6, 16, 16, 16, 7, 4, 9, 16, 16, 16, 4, 0, 4, 4, 4, 3, 16, 16, 6, 0, 4, 1, 0, 4, 6, 5, 16, 19, 16, 16, 3, 16, 16, 16, 6, 13, 5, 6, 7, 4, 6, 3, 16, 16, 16, 16, 4, 1, 6, 5, 6, 6, 16, 6, 16, 0, 19, 16, 16, 6, 3, 5, 15, 16, 16, 16, 0, 0, 6, 12, 1, 16, 16, 3, 6, 0, 9, 16, 16, 16, 4, 0, 1, 6, 16, 6, 3, 0, 16, 0, 16, 0, 5, 3, 19, 9, 16, 6, 6, 0, 0, 4, 0, 0, 11, 5, 11, 6, 0, 0, 16, 16, 0, 16, 16, 0, 5, 0, 1, 4, 4, 0, 3, 0, 16, 0, 6, 4, 19, 6, 16, 0, 19, 0, 6, 0, 16, 4, 0, 16, 6, 3, 0, 16, 0, 0, 3, 16, 4, 0, 0, 6, 6, 16, 4, 6, 0, 16, 6, 16, 16, 16, 0, 0, 0, 0, 15, 0, 16, 16, 3, 0, 0, 6, 3, 16, 16, 16, 0, 0, 4, 0, 9, 0, 0, 16, 16, 16, 16, 3, 3, 3, 1, 19, 6, 4, 16, 16, 16, 0, 4, 0, 16, 16, 4, 3, 0, 3, 6, 16, 17, 17, 16, 0, 16, 0, 0, 5, 16, 4, 16, 16, 6, 16, 16, 16, 16, 3, 0, 0, 0, 6, 0, 3, 6, 16, 16, 16, 16, 3, 0, 6, 16, 19, 16, 16, 17, 0, 6, 1, 5, 16, 16, 16, 16, 6, 3, 5, 16, 0, 6, 16, 16, 6, 0, 16, 0, 16, 0, 0, 4, 4, 6, 12, 6, 16, 6, 6, 3, 15, 6, 0, 6, 6, 16, 16, 4, 16, 0, 16, 19, 19, 3, 19, 6, 16, 0, 4, 0, 6, 13, 13, 13, 13, 13, 13, 13, 13, 13, 1, 6, 5, 16, 16, 16, 6, 0, 3, 4, 0, 4, 5, 16, 0, 0, 4, 16, 0, 9, 0, 6, 9, 16, 0, 5, 9, 0, 16, 0, 6, 6, 0, 0, 6, 6, 0, 0, 5, 16, 0, 16, 6, 4, 0, 16, 0, 4, 6, 0, 4, 0, 0, 11, 16, 3, 0, 11, 6, 0, 5, 19, 4, 0, 0, 0, 16, 6, 16, 16, 16, 16, 0, 0, 3, 16, 0, 0, 15, 15, 15, 16, 0, 16, 16, 0, 0, 16, 16, 5, 5, 0, 0, 16, 0, 17, 16, 0, 0, 0, 1, 0, 0, 0, 16, 6, 4, 3, 0, 16, 16, 3, 0, 13, 0, 0, 0, 16, 9, 16, 16, 16, 16, 5, 0, 0, 0, 3, 16, 16, 6, 11, 6, 0, 0, 3, 4, 3, 16, 1, 16, 6, 6, 0, 0, 0, 0, 6, 9, 0, 4, 3, 0, 6, 16, 16, 0, 16, 16, 6, 6, 0, 0, 19, 0, 16, 5, 16, 6, 0, 3, 1, 1, 16, 0, 6, 4, 0, 9, 19, 4, 4, 0, 4, 16, 16, 5, 5, 6, 0, 0, 4, 19, 16, 6, 16, 9, 16, 19, 16, 0, 16, 6, 5, 16, 0, 11, 11, 6, 1, 5, 4, 6, 16, 13, 13, 0, 0, 6, 0, 0, 0, 19, 0, 16, 9, 3, 16, 16, 0, 0, 0, 6, 6, 0, 6, 6, 3, 6, 16, 5, 16, 16, 16, 0, 6, 4, 0, 0, 6, 16, 4, 0, 3, 6, 6, 16, 1, 5, 16, 16, 13, 16, 5, 0, 16, 16, 16, 16, 10, 6, 5, 16, 0, 16, 16, 16, 6, 1, 4, 16, 5, 16, 4, 0, 16, 3, 10, 6, 6, 16, 16, 16, 0, 6, 0, 6, 16, 16, 6, 6, 16, 0, 0, 16, 0, 16, 0, 3, 3, 0, 1, 0, 7, 5, 16, 16, 16, 16, 0, 4, 5, 0, 10, 0, 0, 1, 0, 15, 0, 16, 16, 16, 16, 19, 16, 0, 6, 11, 1, 19, 16, 0, 11, 0, 5, 6, 0, 16, 10, 0, 16, 4, 9, 16, 16, 4, 6, 0, 15, 0, 12, 1, 17, 6, 16, 0, 19, 5, 1, 19, 0, 6, 16, 0, 0, 0, 16, 6, 0, 16, 16, 0, 16, 6, 19, 16, 16, 16, 0, 6, 4, 6, 19, 6, 0, 0, 6, 16, 4, 4, 6, 10, 6, 16, 4, 0, 6, 6, 3, 1, 3, 16, 6, 0, 16, 0, 9, 3, 0, 3, 3, 16, 16, 0, 6, 16, 16, 16, 5, 0, 0, 0, 0, 0, 4, 0, 0, 5, 19, 13, 0, 6, 4, 4, 16, 16, 0, 7, 0, 16, 6, 0, 5, 16, 0, 0, 4, 0, 1, 0, 10, 16, 11, 16, 19, 16, 0, 3, 0, 5, 16, 16, 7, 0, 0, 0, 0, 10, 16, 16, 16, 19, 0, 0, 6, 16, 6, 16, 9, 0, 10, 10, 10, 0, 6, 16, 3, 4, 0, 0, 10, 16, 16, 16, 16, 3, 1, 0, 9, 16, 9, 9, 6, 16, 12, 0, 16, 3, 16, 9, 9, 3, 16, 0, 0, 19, 5, 16, 16, 16, 0, 0, 0, 16, 12, 16, 13, 16, 19, 4, 16, 0, 11, 0, 4, 4, 12, 0, 4, 1, 1, 6, 0, 0, 0, 0, 16, 5, 0, 16, 0, 6, 0, 12, 11, 10, 16, 16, 0, 3, 6, 0, 0, 6, 10, 10, 3, 0, 16, 6, 3, 16, 1, 16, 16, 12, 4, 15, 0, 16, 0, 0, 3, 0, 16, 16, 4, 15, 15, 15, 15, 15, 15, 0, 16, 12, 16, 6, 0, 0, 0, 6, 0, 0, 12, 6, 10, 0, 12, 16, 0, 6, 16, 3, 3, 1, 12, 3, 3, 3, 10, 16, 16, 0, 16, 0, 6, 0, 10, 16, 12, 16, 0, 13, 6, 19, 0, 16, 0, 16, 6, 3, 16, 0, 0, 6, 13, 16, 16, 0, 17, 17, 13, 4, 0, 16, 16, 16, 16, 6, 6, 16, 16, 16, 16, 16, 16, 5, 5, 16, 3, 5, 16, 4, 0, 3, 0, 0, 2, 0, 4, 0, 4, 16, 16, 4, 16, 5, 3, 4, 6, 0, 16, 16, 6, 6, 16, 0, 0, 6, 0, 5, 4, 3, 6, 4, 5, 0, 5, 13, 6, 16, 5, 5, 0, 0, 16, 0, 0, 0, 4, 16, 6, 16, 4, 6, 6, 3, 6, 2, 16, 11, 0, 0, 6, 16, 16, 6, 0, 0, 16, 16, 16, 0, 6, 0, 6, 4, 1, 0, 0, 6, 16, 0, 16, 0, 0, 0, 6, 6, 6, 0, 0, 0, 4, 19, 16, 16, 4, 3, 16, 3, 0, 6, 3, 0, 9, 0, 0, 16, 16, 5, 0, 4, 0, 0, 16, 16, 4, 0, 6, 4, 0, 0, 0, 6, 0, 16, 16, 11, 16, 16, 0, 6, 11, 0, 16, 16, 16, 9, 16, 16, 0, 5, 16, 15, 6, 6, 0, 6, 16, 16, 0, 16, 16, 0, 6, 11, 0, 0, 16, 16, 3, 16, 3, 0, 16, 0, 4, 5, 6, 16, 4, 0, 0, 0, 16, 0, 16, 3, 0, 16, 16, 16, 0, 6, 16, 16, 6, 16, 16, 16, 16, 0, 16, 3, 6, 0, 16, 0, 4, 0, 0, 0, 16, 16, 0, 6, 16, 3, 16, 16, 6, 7, 16, 6, 1, 16, 4, 4, 1, 13, 16, 0, 16, 16, 3, 6, 16, 16, 1, 0, 16, 16, 16, 0, 3, 0, 6, 6, 16, 16, 1, 16, 16, 16, 6, 0, 0, 0, 16, 6, 6, 6, 0, 0, 0, 3, 0, 7, 6, 16, 16, 6, 0, 16, 0, 0, 16, 16, 0, 4, 0, 0, 6, 3, 16, 16, 6, 6, 6, 6, 0, 3, 0, 0, 0, 16, 16, 16, 1, 0, 19, 16, 16, 0, 0, 0, 5, 6, 0, 19, 6, 9, 16, 6, 16, 16, 0, 16, 15, 0, 3, 16, 16, 0, 0, 0, 16, 16, 15, 6, 4, 6, 5, 19, 16, 0, 0, 0, 6, 4, 16, 16, 0, 6, 16, 9, 5, 16, 16, 16, 5, 6, 16, 6, 0, 0, 0, 3, 0, 16, 16, 16, 4, 3, 6, 0, 16, 16, 16, 16, 3, 4, 15, 0, 16, 6, 16, 0, 3, 4, 0, 0, 5, 16, 0, 0, 16, 0, 16, 0, 15, 16, 16, 16, 6, 16, 6, 16, 16, 4, 16, 6, 16, 6, 0, 16, 0, 0, 16, 0, 16, 5, 4, 16, 6, 3, 16, 0, 6, 16, 16, 16, 3, 0, 0, 16, 9, 6, 0, 6, 0, 0, 6, 0, 6, 16, 16, 16, 11, 13, 16, 0, 16, 16, 16, 16, 16, 11, 16, 16, 16, 15, 5, 4, 1, 16, 16, 16, 11, 6, 4, 16, 19, 0, 16, 9, 0, 16, 16, 0]\n"
          ]
        }
      ]
    },
    {
      "cell_type": "markdown",
      "metadata": {
        "id": "AIllqtq5sbDH"
      },
      "source": [
        ""
      ]
    },
    {
      "cell_type": "code",
      "metadata": {
        "id": "sc4N0xLGt2PO"
      },
      "source": [
        "kata = {0:\"墜落、転落\",\n",
        "        1:\"転倒\", \n",
        "        2:\"激突\", \n",
        "        3:\"飛来、落下\", \n",
        "        4:\"崩壊、倒壊\",\n",
        "        5:\"激突され\",\n",
        "        6:\"はさまれ、巻き込まれ\",\n",
        "        7:\"切れ、こすれ\",\n",
        "        8:\"踏み抜き\",\n",
        "        9:\"おぼれ\",\n",
        "        10:\"高温・低温の物との接触\",\n",
        "        11:\"有害物等との接触\",\n",
        "        12:\"感電\",\n",
        "        13:\"爆発\",\n",
        "        14:\"破裂\",\n",
        "        15:\"火災\",\n",
        "        16:\"交通事故（道路）\",\n",
        "        17:\"交通事故（その他）\",\n",
        "        18:\"その他\",\n",
        "        19:\"分類不能\",\n",
        "        }"
      ],
      "execution_count": 49,
      "outputs": []
    },
    {
      "cell_type": "code",
      "metadata": {
        "id": "2B6BCc_3r57l",
        "colab": {
          "base_uri": "https://localhost:8080/"
        },
        "outputId": "beb8b893-4561-455b-f8d0-709ad50b23c8"
      },
      "source": [
        "fbeta = fbeta_score(valid_labels , preds,average=None, beta=0.5)\n",
        "n = 0\n",
        "for x in fbeta:\n",
        "  print(kata[n],x)\n",
        "  n+=1"
      ],
      "execution_count": 50,
      "outputs": [
        {
          "output_type": "stream",
          "name": "stdout",
          "text": [
            "墜落、転落 0.9167172023448554\n",
            "転倒 0.6516290726817042\n",
            "激突 0.20833333333333331\n",
            "飛来、落下 0.7394002068252327\n",
            "崩壊、倒壊 0.7131345688960515\n",
            "激突され 0.5663881151346332\n",
            "はさまれ、巻き込まれ 0.8629825889477669\n",
            "切れ、こすれ 0.6666666666666666\n",
            "踏み抜き 0.0\n",
            "おぼれ 0.735981308411215\n",
            "高温・低温の物との接触 0.6227106227106227\n",
            "有害物等との接触 0.8565737051792829\n",
            "感電 0.9003831417624522\n",
            "爆発 0.9198113207547169\n",
            "破裂 0.6666666666666666\n",
            "火災 0.8588957055214724\n",
            "交通事故（道路） 0.9598983850480858\n",
            "交通事故（その他） 0.6956521739130435\n",
            "その他 0.7442348008385745\n",
            "分類不能 0.0\n"
          ]
        }
      ]
    },
    {
      "cell_type": "code",
      "metadata": {
        "id": "aNj6ZEW-23kI",
        "colab": {
          "base_uri": "https://localhost:8080/",
          "height": 1000
        },
        "outputId": "ea17000f-c1a1-4258-8393-78037536a6d3"
      },
      "source": [
        "# 入力テキスト\n",
        "text =r\"\"\" \n",
        "被災者が、移動式クレーンに取り付けた搭乗設備（高さ約10メートル）に乗って、伐木予定のヒノキの枝打ち作業を行っていた。休憩のために作業を中断し、地上に降りるため、被災者自ら移動式クレーンを操作してジブの格納を開始した際、バランスを崩し搭乗設備から地上に墜落した。被災者は病院に搬送されたが、その後死亡した。\n",
        "　ジブを格納する際、先端に取り付けた搭乗設備の水平機構（搭乗設備の水平を保つ機能）が無効になっていた。そのため、ジブの格納開始と同時に搭乗設備が大きく揺れ、被災者の上半身が木の枝に当たり、体勢を崩し、墜落したものと考えられる。被災者は墜落制止用器具を装着していたが、フックは掛けられていなかった。\n",
        "\"\"\"\n",
        "\n",
        "\n",
        "# モデルとトークナイザーの準備\n",
        "model = AutoModelForSequenceClassification.from_pretrained('/content/results/checkpoint-4000')    \n",
        "tokenizer = T5TokenizerFast.from_pretrained(model_name, do_lower_case=True)\n",
        "\n",
        "# テンソルに変換\n",
        "tokenized_text = tokenizer.tokenize(text)\n",
        "indexed_tokens = tokenizer.convert_tokens_to_ids(tokenized_text)\n",
        "tokens_tensor = torch.tensor([indexed_tokens])\n",
        "print(tokens_tensor)\n",
        "# 推論の実行\n",
        "\n",
        "model.eval()\n",
        "with torch.no_grad():\n",
        "   outputs = model(tokens_tensor)[0]\n",
        "   print(torch.argmax(outputs))"
      ],
      "execution_count": 45,
      "outputs": [
        {
          "output_type": "stream",
          "name": "stderr",
          "text": [
            "loading configuration file /content/results/checkpoint-4000/config.json\n",
            "Model config BertConfig {\n",
            "  \"_name_or_path\": \"cl-tohoku/bert-large-japanese\",\n",
            "  \"architectures\": [\n",
            "    \"BertForSequenceClassification\"\n",
            "  ],\n",
            "  \"attention_probs_dropout_prob\": 0.1,\n",
            "  \"classifier_dropout\": null,\n",
            "  \"hidden_act\": \"gelu\",\n",
            "  \"hidden_dropout_prob\": 0.1,\n",
            "  \"hidden_size\": 1024,\n",
            "  \"id2label\": {\n",
            "    \"0\": \"LABEL_0\",\n",
            "    \"1\": \"LABEL_1\",\n",
            "    \"2\": \"LABEL_2\",\n",
            "    \"3\": \"LABEL_3\",\n",
            "    \"4\": \"LABEL_4\",\n",
            "    \"5\": \"LABEL_5\",\n",
            "    \"6\": \"LABEL_6\",\n",
            "    \"7\": \"LABEL_7\",\n",
            "    \"8\": \"LABEL_8\",\n",
            "    \"9\": \"LABEL_9\",\n",
            "    \"10\": \"LABEL_10\",\n",
            "    \"11\": \"LABEL_11\",\n",
            "    \"12\": \"LABEL_12\",\n",
            "    \"13\": \"LABEL_13\",\n",
            "    \"14\": \"LABEL_14\",\n",
            "    \"15\": \"LABEL_15\",\n",
            "    \"16\": \"LABEL_16\",\n",
            "    \"17\": \"LABEL_17\",\n",
            "    \"18\": \"LABEL_18\",\n",
            "    \"19\": \"LABEL_19\",\n",
            "    \"20\": \"LABEL_20\"\n",
            "  },\n",
            "  \"initializer_range\": 0.02,\n",
            "  \"intermediate_size\": 4096,\n",
            "  \"label2id\": {\n",
            "    \"LABEL_0\": 0,\n",
            "    \"LABEL_1\": 1,\n",
            "    \"LABEL_10\": 10,\n",
            "    \"LABEL_11\": 11,\n",
            "    \"LABEL_12\": 12,\n",
            "    \"LABEL_13\": 13,\n",
            "    \"LABEL_14\": 14,\n",
            "    \"LABEL_15\": 15,\n",
            "    \"LABEL_16\": 16,\n",
            "    \"LABEL_17\": 17,\n",
            "    \"LABEL_18\": 18,\n",
            "    \"LABEL_19\": 19,\n",
            "    \"LABEL_2\": 2,\n",
            "    \"LABEL_20\": 20,\n",
            "    \"LABEL_3\": 3,\n",
            "    \"LABEL_4\": 4,\n",
            "    \"LABEL_5\": 5,\n",
            "    \"LABEL_6\": 6,\n",
            "    \"LABEL_7\": 7,\n",
            "    \"LABEL_8\": 8,\n",
            "    \"LABEL_9\": 9\n",
            "  },\n",
            "  \"layer_norm_eps\": 1e-12,\n",
            "  \"max_position_embeddings\": 512,\n",
            "  \"model_type\": \"bert\",\n",
            "  \"num_attention_heads\": 16,\n",
            "  \"num_hidden_layers\": 24,\n",
            "  \"pad_token_id\": 0,\n",
            "  \"position_embedding_type\": \"absolute\",\n",
            "  \"problem_type\": \"single_label_classification\",\n",
            "  \"tokenizer_class\": \"BertJapaneseTokenizer\",\n",
            "  \"torch_dtype\": \"float32\",\n",
            "  \"transformers_version\": \"4.11.3\",\n",
            "  \"type_vocab_size\": 2,\n",
            "  \"use_cache\": true,\n",
            "  \"vocab_size\": 32768\n",
            "}\n",
            "\n",
            "loading weights file /content/results/checkpoint-4000/pytorch_model.bin\n",
            "All model checkpoint weights were used when initializing BertForSequenceClassification.\n",
            "\n",
            "All the weights of BertForSequenceClassification were initialized from the model checkpoint at /content/results/checkpoint-4000.\n",
            "If your task is similar to the task the model of the checkpoint was trained on, you can already use BertForSequenceClassification for predictions without further training.\n",
            "loading file https://huggingface.co/cl-tohoku/bert-large-japanese/resolve/main/spiece.model from cache at None\n",
            "loading file https://huggingface.co/cl-tohoku/bert-large-japanese/resolve/main/tokenizer.json from cache at None\n",
            "loading file https://huggingface.co/cl-tohoku/bert-large-japanese/resolve/main/added_tokens.json from cache at None\n",
            "loading file https://huggingface.co/cl-tohoku/bert-large-japanese/resolve/main/special_tokens_map.json from cache at None\n",
            "loading file https://huggingface.co/cl-tohoku/bert-large-japanese/resolve/main/tokenizer_config.json from cache at /root/.cache/huggingface/transformers/ba3e6178ea496d4db8a3d9bc24f9b2e4c103d635b166729642024a19bae201dc.8e4e731c1d54dbc728a7894b3ad143b386987a5f85322fdc7685570a9ec962e3\n",
            "loading configuration file https://huggingface.co/cl-tohoku/bert-large-japanese/resolve/main/config.json from cache at /root/.cache/huggingface/transformers/d49f3356a181491359f3f12fe5d60f7441304c3a4796734cbc22de66c1765f0a.0c1afb078c78251713eee5aa225d29cf9899eb0f0bd8d2ba7c4967f586db290c\n",
            "Model config BertConfig {\n",
            "  \"architectures\": [\n",
            "    \"BertForMaskedLM\"\n",
            "  ],\n",
            "  \"attention_probs_dropout_prob\": 0.1,\n",
            "  \"classifier_dropout\": null,\n",
            "  \"hidden_act\": \"gelu\",\n",
            "  \"hidden_dropout_prob\": 0.1,\n",
            "  \"hidden_size\": 1024,\n",
            "  \"initializer_range\": 0.02,\n",
            "  \"intermediate_size\": 4096,\n",
            "  \"layer_norm_eps\": 1e-12,\n",
            "  \"max_position_embeddings\": 512,\n",
            "  \"model_type\": \"bert\",\n",
            "  \"num_attention_heads\": 16,\n",
            "  \"num_hidden_layers\": 24,\n",
            "  \"pad_token_id\": 0,\n",
            "  \"position_embedding_type\": \"absolute\",\n",
            "  \"tokenizer_class\": \"BertJapaneseTokenizer\",\n",
            "  \"transformers_version\": \"4.11.3\",\n",
            "  \"type_vocab_size\": 2,\n",
            "  \"use_cache\": true,\n",
            "  \"vocab_size\": 32768\n",
            "}\n",
            "\n",
            "The tokenizer class you load from this checkpoint is not the same type as the class this function is called from. It may result in unexpected tokenization. \n",
            "The tokenizer class you load from this checkpoint is 'BertJapaneseTokenizer'. \n",
            "The class this function is called from is 'T5Tokenizer'.\n"
          ]
        },
        {
          "output_type": "error",
          "ename": "TypeError",
          "evalue": "ignored",
          "traceback": [
            "\u001b[0;31m---------------------------------------------------------------------------\u001b[0m",
            "\u001b[0;31mTypeError\u001b[0m                                 Traceback (most recent call last)",
            "\u001b[0;32m<ipython-input-45-d794215f34bc>\u001b[0m in \u001b[0;36m<module>\u001b[0;34m()\u001b[0m\n\u001b[1;32m      8\u001b[0m \u001b[0;31m# モデルとトークナイザーの準備\u001b[0m\u001b[0;34m\u001b[0m\u001b[0;34m\u001b[0m\u001b[0;34m\u001b[0m\u001b[0m\n\u001b[1;32m      9\u001b[0m \u001b[0mmodel\u001b[0m \u001b[0;34m=\u001b[0m \u001b[0mAutoModelForSequenceClassification\u001b[0m\u001b[0;34m.\u001b[0m\u001b[0mfrom_pretrained\u001b[0m\u001b[0;34m(\u001b[0m\u001b[0;34m'/content/results/checkpoint-4000'\u001b[0m\u001b[0;34m)\u001b[0m\u001b[0;34m\u001b[0m\u001b[0;34m\u001b[0m\u001b[0m\n\u001b[0;32m---> 10\u001b[0;31m \u001b[0mtokenizer\u001b[0m \u001b[0;34m=\u001b[0m \u001b[0mT5TokenizerFast\u001b[0m\u001b[0;34m.\u001b[0m\u001b[0mfrom_pretrained\u001b[0m\u001b[0;34m(\u001b[0m\u001b[0mmodel_name\u001b[0m\u001b[0;34m,\u001b[0m \u001b[0mdo_lower_case\u001b[0m\u001b[0;34m=\u001b[0m\u001b[0;32mTrue\u001b[0m\u001b[0;34m)\u001b[0m\u001b[0;34m\u001b[0m\u001b[0;34m\u001b[0m\u001b[0m\n\u001b[0m\u001b[1;32m     11\u001b[0m \u001b[0;34m\u001b[0m\u001b[0m\n\u001b[1;32m     12\u001b[0m \u001b[0;31m# テンソルに変換\u001b[0m\u001b[0;34m\u001b[0m\u001b[0;34m\u001b[0m\u001b[0;34m\u001b[0m\u001b[0m\n",
            "\u001b[0;32m/usr/local/lib/python3.7/dist-packages/transformers/tokenization_utils_base.py\u001b[0m in \u001b[0;36mfrom_pretrained\u001b[0;34m(cls, pretrained_model_name_or_path, *init_inputs, **kwargs)\u001b[0m\n\u001b[1;32m   1747\u001b[0m             \u001b[0;34m*\u001b[0m\u001b[0minit_inputs\u001b[0m\u001b[0;34m,\u001b[0m\u001b[0;34m\u001b[0m\u001b[0;34m\u001b[0m\u001b[0m\n\u001b[1;32m   1748\u001b[0m             \u001b[0muse_auth_token\u001b[0m\u001b[0;34m=\u001b[0m\u001b[0muse_auth_token\u001b[0m\u001b[0;34m,\u001b[0m\u001b[0;34m\u001b[0m\u001b[0;34m\u001b[0m\u001b[0m\n\u001b[0;32m-> 1749\u001b[0;31m             \u001b[0;34m**\u001b[0m\u001b[0mkwargs\u001b[0m\u001b[0;34m,\u001b[0m\u001b[0;34m\u001b[0m\u001b[0;34m\u001b[0m\u001b[0m\n\u001b[0m\u001b[1;32m   1750\u001b[0m         )\n\u001b[1;32m   1751\u001b[0m \u001b[0;34m\u001b[0m\u001b[0m\n",
            "\u001b[0;32m/usr/local/lib/python3.7/dist-packages/transformers/tokenization_utils_base.py\u001b[0m in \u001b[0;36m_from_pretrained\u001b[0;34m(cls, resolved_vocab_files, pretrained_model_name_or_path, init_configuration, use_auth_token, *init_inputs, **kwargs)\u001b[0m\n\u001b[1;32m   1770\u001b[0m                 \u001b[0mcopy\u001b[0m\u001b[0;34m.\u001b[0m\u001b[0mdeepcopy\u001b[0m\u001b[0;34m(\u001b[0m\u001b[0minit_configuration\u001b[0m\u001b[0;34m)\u001b[0m\u001b[0;34m,\u001b[0m\u001b[0;34m\u001b[0m\u001b[0;34m\u001b[0m\u001b[0m\n\u001b[1;32m   1771\u001b[0m                 \u001b[0;34m*\u001b[0m\u001b[0minit_inputs\u001b[0m\u001b[0;34m,\u001b[0m\u001b[0;34m\u001b[0m\u001b[0;34m\u001b[0m\u001b[0m\n\u001b[0;32m-> 1772\u001b[0;31m                 \u001b[0;34m**\u001b[0m\u001b[0;34m(\u001b[0m\u001b[0mcopy\u001b[0m\u001b[0;34m.\u001b[0m\u001b[0mdeepcopy\u001b[0m\u001b[0;34m(\u001b[0m\u001b[0mkwargs\u001b[0m\u001b[0;34m)\u001b[0m\u001b[0;34m)\u001b[0m\u001b[0;34m,\u001b[0m\u001b[0;34m\u001b[0m\u001b[0;34m\u001b[0m\u001b[0m\n\u001b[0m\u001b[1;32m   1773\u001b[0m             )\n\u001b[1;32m   1774\u001b[0m         \u001b[0;32melse\u001b[0m\u001b[0;34m:\u001b[0m\u001b[0;34m\u001b[0m\u001b[0;34m\u001b[0m\u001b[0m\n",
            "\u001b[0;32m/usr/local/lib/python3.7/dist-packages/transformers/tokenization_utils_base.py\u001b[0m in \u001b[0;36m_from_pretrained\u001b[0;34m(cls, resolved_vocab_files, pretrained_model_name_or_path, init_configuration, use_auth_token, *init_inputs, **kwargs)\u001b[0m\n\u001b[1;32m   1869\u001b[0m         \u001b[0;31m# Instantiate tokenizer.\u001b[0m\u001b[0;34m\u001b[0m\u001b[0;34m\u001b[0m\u001b[0;34m\u001b[0m\u001b[0m\n\u001b[1;32m   1870\u001b[0m         \u001b[0;32mtry\u001b[0m\u001b[0;34m:\u001b[0m\u001b[0;34m\u001b[0m\u001b[0;34m\u001b[0m\u001b[0m\n\u001b[0;32m-> 1871\u001b[0;31m             \u001b[0mtokenizer\u001b[0m \u001b[0;34m=\u001b[0m \u001b[0mcls\u001b[0m\u001b[0;34m(\u001b[0m\u001b[0;34m*\u001b[0m\u001b[0minit_inputs\u001b[0m\u001b[0;34m,\u001b[0m \u001b[0;34m**\u001b[0m\u001b[0minit_kwargs\u001b[0m\u001b[0;34m)\u001b[0m\u001b[0;34m\u001b[0m\u001b[0;34m\u001b[0m\u001b[0m\n\u001b[0m\u001b[1;32m   1872\u001b[0m         \u001b[0;32mexcept\u001b[0m \u001b[0mOSError\u001b[0m\u001b[0;34m:\u001b[0m\u001b[0;34m\u001b[0m\u001b[0;34m\u001b[0m\u001b[0m\n\u001b[1;32m   1873\u001b[0m             raise OSError(\n",
            "\u001b[0;32m/usr/local/lib/python3.7/dist-packages/transformers/models/t5/tokenization_t5.py\u001b[0m in \u001b[0;36m__init__\u001b[0;34m(self, vocab_file, eos_token, unk_token, pad_token, extra_ids, additional_special_tokens, sp_model_kwargs, **kwargs)\u001b[0m\n\u001b[1;32m    146\u001b[0m \u001b[0;34m\u001b[0m\u001b[0m\n\u001b[1;32m    147\u001b[0m         \u001b[0mself\u001b[0m\u001b[0;34m.\u001b[0m\u001b[0msp_model\u001b[0m \u001b[0;34m=\u001b[0m \u001b[0mspm\u001b[0m\u001b[0;34m.\u001b[0m\u001b[0mSentencePieceProcessor\u001b[0m\u001b[0;34m(\u001b[0m\u001b[0;34m**\u001b[0m\u001b[0mself\u001b[0m\u001b[0;34m.\u001b[0m\u001b[0msp_model_kwargs\u001b[0m\u001b[0;34m)\u001b[0m\u001b[0;34m\u001b[0m\u001b[0;34m\u001b[0m\u001b[0m\n\u001b[0;32m--> 148\u001b[0;31m         \u001b[0mself\u001b[0m\u001b[0;34m.\u001b[0m\u001b[0msp_model\u001b[0m\u001b[0;34m.\u001b[0m\u001b[0mLoad\u001b[0m\u001b[0;34m(\u001b[0m\u001b[0mvocab_file\u001b[0m\u001b[0;34m)\u001b[0m\u001b[0;34m\u001b[0m\u001b[0;34m\u001b[0m\u001b[0m\n\u001b[0m\u001b[1;32m    149\u001b[0m \u001b[0;34m\u001b[0m\u001b[0m\n\u001b[1;32m    150\u001b[0m     \u001b[0;34m@\u001b[0m\u001b[0mproperty\u001b[0m\u001b[0;34m\u001b[0m\u001b[0;34m\u001b[0m\u001b[0m\n",
            "\u001b[0;32m/usr/local/lib/python3.7/dist-packages/sentencepiece/__init__.py\u001b[0m in \u001b[0;36mLoad\u001b[0;34m(self, model_file, model_proto)\u001b[0m\n\u001b[1;32m    365\u001b[0m       \u001b[0;32mif\u001b[0m \u001b[0mmodel_proto\u001b[0m\u001b[0;34m:\u001b[0m\u001b[0;34m\u001b[0m\u001b[0;34m\u001b[0m\u001b[0m\n\u001b[1;32m    366\u001b[0m         \u001b[0;32mreturn\u001b[0m \u001b[0mself\u001b[0m\u001b[0;34m.\u001b[0m\u001b[0mLoadFromSerializedProto\u001b[0m\u001b[0;34m(\u001b[0m\u001b[0mmodel_proto\u001b[0m\u001b[0;34m)\u001b[0m\u001b[0;34m\u001b[0m\u001b[0;34m\u001b[0m\u001b[0m\n\u001b[0;32m--> 367\u001b[0;31m       \u001b[0;32mreturn\u001b[0m \u001b[0mself\u001b[0m\u001b[0;34m.\u001b[0m\u001b[0mLoadFromFile\u001b[0m\u001b[0;34m(\u001b[0m\u001b[0mmodel_file\u001b[0m\u001b[0;34m)\u001b[0m\u001b[0;34m\u001b[0m\u001b[0;34m\u001b[0m\u001b[0m\n\u001b[0m\u001b[1;32m    368\u001b[0m \u001b[0;34m\u001b[0m\u001b[0m\n\u001b[1;32m    369\u001b[0m \u001b[0;34m\u001b[0m\u001b[0m\n",
            "\u001b[0;32m/usr/local/lib/python3.7/dist-packages/sentencepiece/__init__.py\u001b[0m in \u001b[0;36mLoadFromFile\u001b[0;34m(self, arg)\u001b[0m\n\u001b[1;32m    169\u001b[0m \u001b[0;34m\u001b[0m\u001b[0m\n\u001b[1;32m    170\u001b[0m     \u001b[0;32mdef\u001b[0m \u001b[0mLoadFromFile\u001b[0m\u001b[0;34m(\u001b[0m\u001b[0mself\u001b[0m\u001b[0;34m,\u001b[0m \u001b[0marg\u001b[0m\u001b[0;34m)\u001b[0m\u001b[0;34m:\u001b[0m\u001b[0;34m\u001b[0m\u001b[0;34m\u001b[0m\u001b[0m\n\u001b[0;32m--> 171\u001b[0;31m         \u001b[0;32mreturn\u001b[0m \u001b[0m_sentencepiece\u001b[0m\u001b[0;34m.\u001b[0m\u001b[0mSentencePieceProcessor_LoadFromFile\u001b[0m\u001b[0;34m(\u001b[0m\u001b[0mself\u001b[0m\u001b[0;34m,\u001b[0m \u001b[0marg\u001b[0m\u001b[0;34m)\u001b[0m\u001b[0;34m\u001b[0m\u001b[0;34m\u001b[0m\u001b[0m\n\u001b[0m\u001b[1;32m    172\u001b[0m \u001b[0;34m\u001b[0m\u001b[0m\n\u001b[1;32m    173\u001b[0m     \u001b[0;32mdef\u001b[0m \u001b[0mDecodeIdsWithCheck\u001b[0m\u001b[0;34m(\u001b[0m\u001b[0mself\u001b[0m\u001b[0;34m,\u001b[0m \u001b[0mids\u001b[0m\u001b[0;34m)\u001b[0m\u001b[0;34m:\u001b[0m\u001b[0;34m\u001b[0m\u001b[0;34m\u001b[0m\u001b[0m\n",
            "\u001b[0;31mTypeError\u001b[0m: not a string"
          ]
        }
      ]
    },
    {
      "cell_type": "markdown",
      "metadata": {
        "id": "YuwWreI5Njux"
      },
      "source": [
        "はさまれ、巻き込まれ事例\n",
        "https://anzeninfo.mhlw.go.jp/anzen_pg/SAI_DET.aspx?joho_no=101611"
      ]
    },
    {
      "cell_type": "code",
      "metadata": {
        "id": "VINLhKMfNPZp"
      },
      "source": [
        "import torch\n",
        "from transformers import BertJapaneseTokenizer, AutoModelForSequenceClassification\n",
        "\n",
        "# 入力テキスト\n",
        "text =r\"\"\" \n",
        "会社内倉庫で棚卸の準備作業として、被災者は鉄製の電動移動式棚の間で在庫管理の仕事を行っていた。離れた場所にいた別の作業員は、被災者が棚の間で作業中であることに気付かず、棚を操作したため、被災者は退避を試みたが間に合わず、棚のフレームに頭部をはさまれた。被災者は病院に搬送されたが、間もなく死亡した。\n",
        "　電動移動式棚の運転モードは、通常用の自動モードと異常時・保守点検用の手動モードの切り替え式であった。自動モードでは1つの棚の間が自動で全開になるが、手動モードでは、任意の棚を動かし、複数箇所の間を開けることができる。災害発生時、被災者は手動モードで棚を移動させ、棚の間で作業を行っており、その後、別の作業員は自動モードで棚の移動を行っている。\n",
        "　安全装置は、棚の入り口で人や障害物を検知するセンサーと、棚の作動時のメロディー音があった。センサーは、作動前に棚の間に入っていた作業者や障害物は検知せず、作動が可能な仕組みだった。メロディー音は、手動モードの場合には鳴らない仕組みだった。\n",
        "\"\"\"\n",
        "\n",
        "\n",
        "# モデルとトークナイザーの準備\n",
        "model = AutoModelForSequenceClassification.from_pretrained('output/')    \n",
        "tokenizer = BertJapaneseTokenizer.from_pretrained('cl-tohoku/bert-base-japanese-whole-word-masking') \n",
        "\n",
        "# テンソルに変換\n",
        "tokenized_text = tokenizer.tokenize(text)\n",
        "indexed_tokens = tokenizer.convert_tokens_to_ids(tokenized_text)\n",
        "tokens_tensor = torch.tensor([indexed_tokens])\n",
        "\n",
        "# 推論の実行\n",
        "\n",
        "model.eval()\n",
        "with torch.no_grad():\n",
        "   outputs = model(tokens_tensor)[0]\n",
        "   print(torch.argmax(outputs))"
      ],
      "execution_count": null,
      "outputs": []
    },
    {
      "cell_type": "markdown",
      "metadata": {
        "id": "YkTO2r2WJ8SE"
      },
      "source": [
        "実行結果と事故の型の対応\n",
        "\n",
        "0:墜落、転落\n",
        "\n",
        "1:転倒\n",
        "\n",
        "2:激突\n",
        "\n",
        "3:飛来、落下\n",
        "\n",
        "4:崩壊、倒壊\n",
        "\n",
        "5:激突され\n",
        "\n",
        "6:はさまれ、巻き込まれ\n",
        "\n",
        "7:切れ、こすれ\n",
        "\n",
        "8:踏み抜き\n",
        "\n",
        "9:おぼれ\n",
        "\n",
        "10:高温・低温の物との接触\n",
        "\n",
        "11:有害物等との接触\n",
        "\n",
        "12:感電\n",
        "\n",
        "13:爆発\n",
        "\n",
        "14:破裂\n",
        "\n",
        "15:火災\n",
        "\n",
        "16:交通事故（道路）\n",
        "\n",
        "17:交通事故（その他）\n",
        "\n",
        "18:動作の反動、無理な動作\n",
        "\n",
        "19:その他\n",
        "\n",
        "20:分類不能\n",
        "\n"
      ]
    }
  ]
}