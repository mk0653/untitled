{
  "nbformat": 4,
  "nbformat_minor": 5,
  "metadata": {
    "accelerator": "GPU",
    "colab": {
      "name": "Accident_type_classification_pretrain.ipynb",
      "provenance": [],
      "collapsed_sections": [],
      "machine_shape": "hm",
      "include_colab_link": true
    },
    "kernelspec": {
      "display_name": "Python 3",
      "language": "python",
      "name": "python3"
    },
    "language_info": {
      "codemirror_mode": {
        "name": "ipython",
        "version": 3
      },
      "file_extension": ".py",
      "mimetype": "text/x-python",
      "name": "python",
      "nbconvert_exporter": "python",
      "pygments_lexer": "ipython3",
      "version": "3.7.10"
    },
    "papermill": {
      "default_parameters": {},
      "duration": 962.269505,
      "end_time": "2021-06-29T07:34:50.481120",
      "environment_variables": {},
      "exception": null,
      "input_path": "__notebook__.ipynb",
      "output_path": "__notebook__.ipynb",
      "parameters": {},
      "start_time": "2021-06-29T07:18:48.211615",
      "version": "2.3.3"
    },
    "widgets": {
      "application/vnd.jupyter.widget-state+json": {
        "c63d58eac9004f59a4c9df274757e699": {
          "model_module": "@jupyter-widgets/controls",
          "model_name": "HBoxModel",
          "model_module_version": "1.5.0",
          "state": {
            "_view_name": "HBoxView",
            "_dom_classes": [],
            "_model_name": "HBoxModel",
            "_view_module": "@jupyter-widgets/controls",
            "_model_module_version": "1.5.0",
            "_view_count": null,
            "_view_module_version": "1.5.0",
            "box_style": "",
            "layout": "IPY_MODEL_a4eade9b30564bd2a866dca422b01eb5",
            "_model_module": "@jupyter-widgets/controls",
            "children": [
              "IPY_MODEL_475e5f3a7e7a4552b9ce7107f872b53a",
              "IPY_MODEL_9462b5a166b040bab4315877cb2a64bc",
              "IPY_MODEL_8becf08ec13545f88490c60645843377"
            ]
          }
        },
        "a4eade9b30564bd2a866dca422b01eb5": {
          "model_module": "@jupyter-widgets/base",
          "model_name": "LayoutModel",
          "model_module_version": "1.2.0",
          "state": {
            "_view_name": "LayoutView",
            "grid_template_rows": null,
            "right": null,
            "justify_content": null,
            "_view_module": "@jupyter-widgets/base",
            "overflow": null,
            "_model_module_version": "1.2.0",
            "_view_count": null,
            "flex_flow": null,
            "width": null,
            "min_width": null,
            "border": null,
            "align_items": null,
            "bottom": null,
            "_model_module": "@jupyter-widgets/base",
            "top": null,
            "grid_column": null,
            "overflow_y": null,
            "overflow_x": null,
            "grid_auto_flow": null,
            "grid_area": null,
            "grid_template_columns": null,
            "flex": null,
            "_model_name": "LayoutModel",
            "justify_items": null,
            "grid_row": null,
            "max_height": null,
            "align_content": null,
            "visibility": null,
            "align_self": null,
            "height": null,
            "min_height": null,
            "padding": null,
            "grid_auto_rows": null,
            "grid_gap": null,
            "max_width": null,
            "order": null,
            "_view_module_version": "1.2.0",
            "grid_template_areas": null,
            "object_position": null,
            "object_fit": null,
            "grid_auto_columns": null,
            "margin": null,
            "display": null,
            "left": null
          }
        },
        "475e5f3a7e7a4552b9ce7107f872b53a": {
          "model_module": "@jupyter-widgets/controls",
          "model_name": "HTMLModel",
          "model_module_version": "1.5.0",
          "state": {
            "_view_name": "HTMLView",
            "style": "IPY_MODEL_e181c3deef664f229886b93e5e967df1",
            "_dom_classes": [],
            "description": "",
            "_model_name": "HTMLModel",
            "placeholder": "​",
            "_view_module": "@jupyter-widgets/controls",
            "_model_module_version": "1.5.0",
            "value": "100%",
            "_view_count": null,
            "_view_module_version": "1.5.0",
            "description_tooltip": null,
            "_model_module": "@jupyter-widgets/controls",
            "layout": "IPY_MODEL_70046085eb894c3fa0c5e24bdce3df4b"
          }
        },
        "9462b5a166b040bab4315877cb2a64bc": {
          "model_module": "@jupyter-widgets/controls",
          "model_name": "FloatProgressModel",
          "model_module_version": "1.5.0",
          "state": {
            "_view_name": "ProgressView",
            "style": "IPY_MODEL_b74ffa37b51943929e3fb15639d43ea7",
            "_dom_classes": [],
            "description": "",
            "_model_name": "FloatProgressModel",
            "bar_style": "success",
            "max": 37637,
            "_view_module": "@jupyter-widgets/controls",
            "_model_module_version": "1.5.0",
            "value": 37637,
            "_view_count": null,
            "_view_module_version": "1.5.0",
            "orientation": "horizontal",
            "min": 0,
            "description_tooltip": null,
            "_model_module": "@jupyter-widgets/controls",
            "layout": "IPY_MODEL_b784e054a54c42a2b43dbaff06017b1d"
          }
        },
        "8becf08ec13545f88490c60645843377": {
          "model_module": "@jupyter-widgets/controls",
          "model_name": "HTMLModel",
          "model_module_version": "1.5.0",
          "state": {
            "_view_name": "HTMLView",
            "style": "IPY_MODEL_ee1b266f1d324b53a26efc34c4bed986",
            "_dom_classes": [],
            "description": "",
            "_model_name": "HTMLModel",
            "placeholder": "​",
            "_view_module": "@jupyter-widgets/controls",
            "_model_module_version": "1.5.0",
            "value": " 37637/37637 [00:00&lt;00:00, 92008.48it/s]",
            "_view_count": null,
            "_view_module_version": "1.5.0",
            "description_tooltip": null,
            "_model_module": "@jupyter-widgets/controls",
            "layout": "IPY_MODEL_f4c42945f12b4f7a88002089cbc1c606"
          }
        },
        "e181c3deef664f229886b93e5e967df1": {
          "model_module": "@jupyter-widgets/controls",
          "model_name": "DescriptionStyleModel",
          "model_module_version": "1.5.0",
          "state": {
            "_view_name": "StyleView",
            "_model_name": "DescriptionStyleModel",
            "description_width": "",
            "_view_module": "@jupyter-widgets/base",
            "_model_module_version": "1.5.0",
            "_view_count": null,
            "_view_module_version": "1.2.0",
            "_model_module": "@jupyter-widgets/controls"
          }
        },
        "70046085eb894c3fa0c5e24bdce3df4b": {
          "model_module": "@jupyter-widgets/base",
          "model_name": "LayoutModel",
          "model_module_version": "1.2.0",
          "state": {
            "_view_name": "LayoutView",
            "grid_template_rows": null,
            "right": null,
            "justify_content": null,
            "_view_module": "@jupyter-widgets/base",
            "overflow": null,
            "_model_module_version": "1.2.0",
            "_view_count": null,
            "flex_flow": null,
            "width": null,
            "min_width": null,
            "border": null,
            "align_items": null,
            "bottom": null,
            "_model_module": "@jupyter-widgets/base",
            "top": null,
            "grid_column": null,
            "overflow_y": null,
            "overflow_x": null,
            "grid_auto_flow": null,
            "grid_area": null,
            "grid_template_columns": null,
            "flex": null,
            "_model_name": "LayoutModel",
            "justify_items": null,
            "grid_row": null,
            "max_height": null,
            "align_content": null,
            "visibility": null,
            "align_self": null,
            "height": null,
            "min_height": null,
            "padding": null,
            "grid_auto_rows": null,
            "grid_gap": null,
            "max_width": null,
            "order": null,
            "_view_module_version": "1.2.0",
            "grid_template_areas": null,
            "object_position": null,
            "object_fit": null,
            "grid_auto_columns": null,
            "margin": null,
            "display": null,
            "left": null
          }
        },
        "b74ffa37b51943929e3fb15639d43ea7": {
          "model_module": "@jupyter-widgets/controls",
          "model_name": "ProgressStyleModel",
          "model_module_version": "1.5.0",
          "state": {
            "_view_name": "StyleView",
            "_model_name": "ProgressStyleModel",
            "description_width": "",
            "_view_module": "@jupyter-widgets/base",
            "_model_module_version": "1.5.0",
            "_view_count": null,
            "_view_module_version": "1.2.0",
            "bar_color": null,
            "_model_module": "@jupyter-widgets/controls"
          }
        },
        "b784e054a54c42a2b43dbaff06017b1d": {
          "model_module": "@jupyter-widgets/base",
          "model_name": "LayoutModel",
          "model_module_version": "1.2.0",
          "state": {
            "_view_name": "LayoutView",
            "grid_template_rows": null,
            "right": null,
            "justify_content": null,
            "_view_module": "@jupyter-widgets/base",
            "overflow": null,
            "_model_module_version": "1.2.0",
            "_view_count": null,
            "flex_flow": null,
            "width": null,
            "min_width": null,
            "border": null,
            "align_items": null,
            "bottom": null,
            "_model_module": "@jupyter-widgets/base",
            "top": null,
            "grid_column": null,
            "overflow_y": null,
            "overflow_x": null,
            "grid_auto_flow": null,
            "grid_area": null,
            "grid_template_columns": null,
            "flex": null,
            "_model_name": "LayoutModel",
            "justify_items": null,
            "grid_row": null,
            "max_height": null,
            "align_content": null,
            "visibility": null,
            "align_self": null,
            "height": null,
            "min_height": null,
            "padding": null,
            "grid_auto_rows": null,
            "grid_gap": null,
            "max_width": null,
            "order": null,
            "_view_module_version": "1.2.0",
            "grid_template_areas": null,
            "object_position": null,
            "object_fit": null,
            "grid_auto_columns": null,
            "margin": null,
            "display": null,
            "left": null
          }
        },
        "ee1b266f1d324b53a26efc34c4bed986": {
          "model_module": "@jupyter-widgets/controls",
          "model_name": "DescriptionStyleModel",
          "model_module_version": "1.5.0",
          "state": {
            "_view_name": "StyleView",
            "_model_name": "DescriptionStyleModel",
            "description_width": "",
            "_view_module": "@jupyter-widgets/base",
            "_model_module_version": "1.5.0",
            "_view_count": null,
            "_view_module_version": "1.2.0",
            "_model_module": "@jupyter-widgets/controls"
          }
        },
        "f4c42945f12b4f7a88002089cbc1c606": {
          "model_module": "@jupyter-widgets/base",
          "model_name": "LayoutModel",
          "model_module_version": "1.2.0",
          "state": {
            "_view_name": "LayoutView",
            "grid_template_rows": null,
            "right": null,
            "justify_content": null,
            "_view_module": "@jupyter-widgets/base",
            "overflow": null,
            "_model_module_version": "1.2.0",
            "_view_count": null,
            "flex_flow": null,
            "width": null,
            "min_width": null,
            "border": null,
            "align_items": null,
            "bottom": null,
            "_model_module": "@jupyter-widgets/base",
            "top": null,
            "grid_column": null,
            "overflow_y": null,
            "overflow_x": null,
            "grid_auto_flow": null,
            "grid_area": null,
            "grid_template_columns": null,
            "flex": null,
            "_model_name": "LayoutModel",
            "justify_items": null,
            "grid_row": null,
            "max_height": null,
            "align_content": null,
            "visibility": null,
            "align_self": null,
            "height": null,
            "min_height": null,
            "padding": null,
            "grid_auto_rows": null,
            "grid_gap": null,
            "max_width": null,
            "order": null,
            "_view_module_version": "1.2.0",
            "grid_template_areas": null,
            "object_position": null,
            "object_fit": null,
            "grid_auto_columns": null,
            "margin": null,
            "display": null,
            "left": null
          }
        }
      }
    }
  },
  "cells": [
    {
      "cell_type": "markdown",
      "metadata": {
        "id": "view-in-github",
        "colab_type": "text"
      },
      "source": [
        "<a href=\"https://colab.research.google.com/github/mk0653/untitled/blob/master/Accident%20type%20classification/Accident_type_classification_pretrain.ipynb\" target=\"_parent\"><img src=\"https://colab.research.google.com/assets/colab-badge.svg\" alt=\"Open In Colab\"/></a>"
      ]
    },
    {
      "cell_type": "code",
      "metadata": {
        "colab": {
          "base_uri": "https://localhost:8080/"
        },
        "id": "_TtGCf15RZD5",
        "outputId": "3aa38145-0a4c-4526-e6fd-a4d73419e4e4"
      },
      "source": [
        "from google.colab import drive\n",
        "drive.mount('/content/drive')"
      ],
      "id": "_TtGCf15RZD5",
      "execution_count": null,
      "outputs": [
        {
          "output_type": "stream",
          "name": "stdout",
          "text": [
            "Mounted at /content/drive\n"
          ]
        }
      ]
    },
    {
      "cell_type": "code",
      "metadata": {
        "colab": {
          "base_uri": "https://localhost:8080/"
        },
        "id": "GLIEW4LIPjla",
        "outputId": "566665f0-261f-467b-a8b0-859950c8e08a"
      },
      "source": [
        "!nvidia-smi"
      ],
      "id": "GLIEW4LIPjla",
      "execution_count": null,
      "outputs": [
        {
          "output_type": "stream",
          "name": "stdout",
          "text": [
            "Sat Oct 16 09:55:59 2021       \n",
            "+-----------------------------------------------------------------------------+\n",
            "| NVIDIA-SMI 470.74       Driver Version: 460.32.03    CUDA Version: 11.2     |\n",
            "|-------------------------------+----------------------+----------------------+\n",
            "| GPU  Name        Persistence-M| Bus-Id        Disp.A | Volatile Uncorr. ECC |\n",
            "| Fan  Temp  Perf  Pwr:Usage/Cap|         Memory-Usage | GPU-Util  Compute M. |\n",
            "|                               |                      |               MIG M. |\n",
            "|===============================+======================+======================|\n",
            "|   0  Tesla P100-PCIE...  Off  | 00000000:00:04.0 Off |                    0 |\n",
            "| N/A   38C    P0    26W / 250W |      0MiB / 16280MiB |      0%      Default |\n",
            "|                               |                      |                  N/A |\n",
            "+-------------------------------+----------------------+----------------------+\n",
            "                                                                               \n",
            "+-----------------------------------------------------------------------------+\n",
            "| Processes:                                                                  |\n",
            "|  GPU   GI   CI        PID   Type   Process name                  GPU Memory |\n",
            "|        ID   ID                                                   Usage      |\n",
            "|=============================================================================|\n",
            "|  No running processes found                                                 |\n",
            "+-----------------------------------------------------------------------------+\n"
          ]
        }
      ]
    },
    {
      "cell_type": "code",
      "metadata": {
        "id": "iDWI0uKSgVj8",
        "colab": {
          "base_uri": "https://localhost:8080/"
        },
        "outputId": "954f6373-c7aa-4c8a-af91-6c52c170ae70"
      },
      "source": [
        "!pip install sentencepiece"
      ],
      "id": "iDWI0uKSgVj8",
      "execution_count": null,
      "outputs": [
        {
          "output_type": "stream",
          "name": "stdout",
          "text": [
            "Collecting sentencepiece\n",
            "  Downloading sentencepiece-0.1.96-cp37-cp37m-manylinux_2_17_x86_64.manylinux2014_x86_64.whl (1.2 MB)\n",
            "\u001b[?25l\r\u001b[K     |▎                               | 10 kB 28.0 MB/s eta 0:00:01\r\u001b[K     |▌                               | 20 kB 34.0 MB/s eta 0:00:01\r\u001b[K     |▉                               | 30 kB 26.3 MB/s eta 0:00:01\r\u001b[K     |█                               | 40 kB 20.0 MB/s eta 0:00:01\r\u001b[K     |█▍                              | 51 kB 8.8 MB/s eta 0:00:01\r\u001b[K     |█▋                              | 61 kB 9.7 MB/s eta 0:00:01\r\u001b[K     |██                              | 71 kB 8.0 MB/s eta 0:00:01\r\u001b[K     |██▏                             | 81 kB 9.0 MB/s eta 0:00:01\r\u001b[K     |██▍                             | 92 kB 7.5 MB/s eta 0:00:01\r\u001b[K     |██▊                             | 102 kB 8.1 MB/s eta 0:00:01\r\u001b[K     |███                             | 112 kB 8.1 MB/s eta 0:00:01\r\u001b[K     |███▎                            | 122 kB 8.1 MB/s eta 0:00:01\r\u001b[K     |███▌                            | 133 kB 8.1 MB/s eta 0:00:01\r\u001b[K     |███▉                            | 143 kB 8.1 MB/s eta 0:00:01\r\u001b[K     |████                            | 153 kB 8.1 MB/s eta 0:00:01\r\u001b[K     |████▎                           | 163 kB 8.1 MB/s eta 0:00:01\r\u001b[K     |████▋                           | 174 kB 8.1 MB/s eta 0:00:01\r\u001b[K     |████▉                           | 184 kB 8.1 MB/s eta 0:00:01\r\u001b[K     |█████▏                          | 194 kB 8.1 MB/s eta 0:00:01\r\u001b[K     |█████▍                          | 204 kB 8.1 MB/s eta 0:00:01\r\u001b[K     |█████▊                          | 215 kB 8.1 MB/s eta 0:00:01\r\u001b[K     |██████                          | 225 kB 8.1 MB/s eta 0:00:01\r\u001b[K     |██████▏                         | 235 kB 8.1 MB/s eta 0:00:01\r\u001b[K     |██████▌                         | 245 kB 8.1 MB/s eta 0:00:01\r\u001b[K     |██████▊                         | 256 kB 8.1 MB/s eta 0:00:01\r\u001b[K     |███████                         | 266 kB 8.1 MB/s eta 0:00:01\r\u001b[K     |███████▎                        | 276 kB 8.1 MB/s eta 0:00:01\r\u001b[K     |███████▋                        | 286 kB 8.1 MB/s eta 0:00:01\r\u001b[K     |███████▉                        | 296 kB 8.1 MB/s eta 0:00:01\r\u001b[K     |████████                        | 307 kB 8.1 MB/s eta 0:00:01\r\u001b[K     |████████▍                       | 317 kB 8.1 MB/s eta 0:00:01\r\u001b[K     |████████▋                       | 327 kB 8.1 MB/s eta 0:00:01\r\u001b[K     |█████████                       | 337 kB 8.1 MB/s eta 0:00:01\r\u001b[K     |█████████▏                      | 348 kB 8.1 MB/s eta 0:00:01\r\u001b[K     |█████████▌                      | 358 kB 8.1 MB/s eta 0:00:01\r\u001b[K     |█████████▊                      | 368 kB 8.1 MB/s eta 0:00:01\r\u001b[K     |██████████                      | 378 kB 8.1 MB/s eta 0:00:01\r\u001b[K     |██████████▎                     | 389 kB 8.1 MB/s eta 0:00:01\r\u001b[K     |██████████▌                     | 399 kB 8.1 MB/s eta 0:00:01\r\u001b[K     |██████████▉                     | 409 kB 8.1 MB/s eta 0:00:01\r\u001b[K     |███████████                     | 419 kB 8.1 MB/s eta 0:00:01\r\u001b[K     |███████████▍                    | 430 kB 8.1 MB/s eta 0:00:01\r\u001b[K     |███████████▋                    | 440 kB 8.1 MB/s eta 0:00:01\r\u001b[K     |███████████▉                    | 450 kB 8.1 MB/s eta 0:00:01\r\u001b[K     |████████████▏                   | 460 kB 8.1 MB/s eta 0:00:01\r\u001b[K     |████████████▍                   | 471 kB 8.1 MB/s eta 0:00:01\r\u001b[K     |████████████▊                   | 481 kB 8.1 MB/s eta 0:00:01\r\u001b[K     |█████████████                   | 491 kB 8.1 MB/s eta 0:00:01\r\u001b[K     |█████████████▎                  | 501 kB 8.1 MB/s eta 0:00:01\r\u001b[K     |█████████████▌                  | 512 kB 8.1 MB/s eta 0:00:01\r\u001b[K     |█████████████▊                  | 522 kB 8.1 MB/s eta 0:00:01\r\u001b[K     |██████████████                  | 532 kB 8.1 MB/s eta 0:00:01\r\u001b[K     |██████████████▎                 | 542 kB 8.1 MB/s eta 0:00:01\r\u001b[K     |██████████████▋                 | 552 kB 8.1 MB/s eta 0:00:01\r\u001b[K     |██████████████▉                 | 563 kB 8.1 MB/s eta 0:00:01\r\u001b[K     |███████████████▏                | 573 kB 8.1 MB/s eta 0:00:01\r\u001b[K     |███████████████▍                | 583 kB 8.1 MB/s eta 0:00:01\r\u001b[K     |███████████████▋                | 593 kB 8.1 MB/s eta 0:00:01\r\u001b[K     |████████████████                | 604 kB 8.1 MB/s eta 0:00:01\r\u001b[K     |████████████████▏               | 614 kB 8.1 MB/s eta 0:00:01\r\u001b[K     |████████████████▌               | 624 kB 8.1 MB/s eta 0:00:01\r\u001b[K     |████████████████▊               | 634 kB 8.1 MB/s eta 0:00:01\r\u001b[K     |█████████████████               | 645 kB 8.1 MB/s eta 0:00:01\r\u001b[K     |█████████████████▎              | 655 kB 8.1 MB/s eta 0:00:01\r\u001b[K     |█████████████████▌              | 665 kB 8.1 MB/s eta 0:00:01\r\u001b[K     |█████████████████▉              | 675 kB 8.1 MB/s eta 0:00:01\r\u001b[K     |██████████████████              | 686 kB 8.1 MB/s eta 0:00:01\r\u001b[K     |██████████████████▍             | 696 kB 8.1 MB/s eta 0:00:01\r\u001b[K     |██████████████████▋             | 706 kB 8.1 MB/s eta 0:00:01\r\u001b[K     |███████████████████             | 716 kB 8.1 MB/s eta 0:00:01\r\u001b[K     |███████████████████▏            | 727 kB 8.1 MB/s eta 0:00:01\r\u001b[K     |███████████████████▍            | 737 kB 8.1 MB/s eta 0:00:01\r\u001b[K     |███████████████████▊            | 747 kB 8.1 MB/s eta 0:00:01\r\u001b[K     |████████████████████            | 757 kB 8.1 MB/s eta 0:00:01\r\u001b[K     |████████████████████▎           | 768 kB 8.1 MB/s eta 0:00:01\r\u001b[K     |████████████████████▌           | 778 kB 8.1 MB/s eta 0:00:01\r\u001b[K     |████████████████████▉           | 788 kB 8.1 MB/s eta 0:00:01\r\u001b[K     |█████████████████████           | 798 kB 8.1 MB/s eta 0:00:01\r\u001b[K     |█████████████████████▎          | 808 kB 8.1 MB/s eta 0:00:01\r\u001b[K     |█████████████████████▋          | 819 kB 8.1 MB/s eta 0:00:01\r\u001b[K     |█████████████████████▉          | 829 kB 8.1 MB/s eta 0:00:01\r\u001b[K     |██████████████████████▏         | 839 kB 8.1 MB/s eta 0:00:01\r\u001b[K     |██████████████████████▍         | 849 kB 8.1 MB/s eta 0:00:01\r\u001b[K     |██████████████████████▊         | 860 kB 8.1 MB/s eta 0:00:01\r\u001b[K     |███████████████████████         | 870 kB 8.1 MB/s eta 0:00:01\r\u001b[K     |███████████████████████▏        | 880 kB 8.1 MB/s eta 0:00:01\r\u001b[K     |███████████████████████▌        | 890 kB 8.1 MB/s eta 0:00:01\r\u001b[K     |███████████████████████▊        | 901 kB 8.1 MB/s eta 0:00:01\r\u001b[K     |████████████████████████        | 911 kB 8.1 MB/s eta 0:00:01\r\u001b[K     |████████████████████████▎       | 921 kB 8.1 MB/s eta 0:00:01\r\u001b[K     |████████████████████████▋       | 931 kB 8.1 MB/s eta 0:00:01\r\u001b[K     |████████████████████████▉       | 942 kB 8.1 MB/s eta 0:00:01\r\u001b[K     |█████████████████████████       | 952 kB 8.1 MB/s eta 0:00:01\r\u001b[K     |█████████████████████████▍      | 962 kB 8.1 MB/s eta 0:00:01\r\u001b[K     |█████████████████████████▋      | 972 kB 8.1 MB/s eta 0:00:01\r\u001b[K     |██████████████████████████      | 983 kB 8.1 MB/s eta 0:00:01\r\u001b[K     |██████████████████████████▏     | 993 kB 8.1 MB/s eta 0:00:01\r\u001b[K     |██████████████████████████▌     | 1.0 MB 8.1 MB/s eta 0:00:01\r\u001b[K     |██████████████████████████▊     | 1.0 MB 8.1 MB/s eta 0:00:01\r\u001b[K     |███████████████████████████     | 1.0 MB 8.1 MB/s eta 0:00:01\r\u001b[K     |███████████████████████████▎    | 1.0 MB 8.1 MB/s eta 0:00:01\r\u001b[K     |███████████████████████████▌    | 1.0 MB 8.1 MB/s eta 0:00:01\r\u001b[K     |███████████████████████████▉    | 1.1 MB 8.1 MB/s eta 0:00:01\r\u001b[K     |████████████████████████████    | 1.1 MB 8.1 MB/s eta 0:00:01\r\u001b[K     |████████████████████████████▍   | 1.1 MB 8.1 MB/s eta 0:00:01\r\u001b[K     |████████████████████████████▋   | 1.1 MB 8.1 MB/s eta 0:00:01\r\u001b[K     |████████████████████████████▉   | 1.1 MB 8.1 MB/s eta 0:00:01\r\u001b[K     |█████████████████████████████▏  | 1.1 MB 8.1 MB/s eta 0:00:01\r\u001b[K     |█████████████████████████████▍  | 1.1 MB 8.1 MB/s eta 0:00:01\r\u001b[K     |█████████████████████████████▊  | 1.1 MB 8.1 MB/s eta 0:00:01\r\u001b[K     |██████████████████████████████  | 1.1 MB 8.1 MB/s eta 0:00:01\r\u001b[K     |██████████████████████████████▎ | 1.1 MB 8.1 MB/s eta 0:00:01\r\u001b[K     |██████████████████████████████▌ | 1.2 MB 8.1 MB/s eta 0:00:01\r\u001b[K     |██████████████████████████████▊ | 1.2 MB 8.1 MB/s eta 0:00:01\r\u001b[K     |███████████████████████████████ | 1.2 MB 8.1 MB/s eta 0:00:01\r\u001b[K     |███████████████████████████████▎| 1.2 MB 8.1 MB/s eta 0:00:01\r\u001b[K     |███████████████████████████████▋| 1.2 MB 8.1 MB/s eta 0:00:01\r\u001b[K     |███████████████████████████████▉| 1.2 MB 8.1 MB/s eta 0:00:01\r\u001b[K     |████████████████████████████████| 1.2 MB 8.1 MB/s \n",
            "\u001b[?25hInstalling collected packages: sentencepiece\n",
            "Successfully installed sentencepiece-0.1.96\n"
          ]
        }
      ]
    },
    {
      "cell_type": "code",
      "metadata": {
        "id": "i-8Y4UkaTaUh",
        "colab": {
          "base_uri": "https://localhost:8080/"
        },
        "outputId": "0ed641de-58e2-4b71-dbef-ac99f4b3b964"
      },
      "source": [
        "!pip install transformers"
      ],
      "id": "i-8Y4UkaTaUh",
      "execution_count": null,
      "outputs": [
        {
          "output_type": "stream",
          "name": "stdout",
          "text": [
            "Collecting transformers\n",
            "  Downloading transformers-4.11.3-py3-none-any.whl (2.9 MB)\n",
            "\u001b[K     |████████████████████████████████| 2.9 MB 7.0 MB/s \n",
            "\u001b[?25hRequirement already satisfied: numpy>=1.17 in /usr/local/lib/python3.7/dist-packages (from transformers) (1.19.5)\n",
            "Requirement already satisfied: regex!=2019.12.17 in /usr/local/lib/python3.7/dist-packages (from transformers) (2019.12.20)\n",
            "Requirement already satisfied: importlib-metadata in /usr/local/lib/python3.7/dist-packages (from transformers) (4.8.1)\n",
            "Requirement already satisfied: filelock in /usr/local/lib/python3.7/dist-packages (from transformers) (3.3.0)\n",
            "Requirement already satisfied: packaging>=20.0 in /usr/local/lib/python3.7/dist-packages (from transformers) (21.0)\n",
            "Requirement already satisfied: requests in /usr/local/lib/python3.7/dist-packages (from transformers) (2.23.0)\n",
            "Requirement already satisfied: tqdm>=4.27 in /usr/local/lib/python3.7/dist-packages (from transformers) (4.62.3)\n",
            "Collecting sacremoses\n",
            "  Downloading sacremoses-0.0.46-py3-none-any.whl (895 kB)\n",
            "\u001b[K     |████████████████████████████████| 895 kB 68.5 MB/s \n",
            "\u001b[?25hCollecting pyyaml>=5.1\n",
            "  Downloading PyYAML-6.0-cp37-cp37m-manylinux_2_5_x86_64.manylinux1_x86_64.manylinux_2_12_x86_64.manylinux2010_x86_64.whl (596 kB)\n",
            "\u001b[K     |████████████████████████████████| 596 kB 58.5 MB/s \n",
            "\u001b[?25hCollecting huggingface-hub>=0.0.17\n",
            "  Downloading huggingface_hub-0.0.19-py3-none-any.whl (56 kB)\n",
            "\u001b[K     |████████████████████████████████| 56 kB 6.3 MB/s \n",
            "\u001b[?25hCollecting tokenizers<0.11,>=0.10.1\n",
            "  Downloading tokenizers-0.10.3-cp37-cp37m-manylinux_2_5_x86_64.manylinux1_x86_64.manylinux_2_12_x86_64.manylinux2010_x86_64.whl (3.3 MB)\n",
            "\u001b[K     |████████████████████████████████| 3.3 MB 55.0 MB/s \n",
            "\u001b[?25hRequirement already satisfied: typing-extensions in /usr/local/lib/python3.7/dist-packages (from huggingface-hub>=0.0.17->transformers) (3.7.4.3)\n",
            "Requirement already satisfied: pyparsing>=2.0.2 in /usr/local/lib/python3.7/dist-packages (from packaging>=20.0->transformers) (2.4.7)\n",
            "Requirement already satisfied: zipp>=0.5 in /usr/local/lib/python3.7/dist-packages (from importlib-metadata->transformers) (3.6.0)\n",
            "Requirement already satisfied: chardet<4,>=3.0.2 in /usr/local/lib/python3.7/dist-packages (from requests->transformers) (3.0.4)\n",
            "Requirement already satisfied: idna<3,>=2.5 in /usr/local/lib/python3.7/dist-packages (from requests->transformers) (2.10)\n",
            "Requirement already satisfied: certifi>=2017.4.17 in /usr/local/lib/python3.7/dist-packages (from requests->transformers) (2021.5.30)\n",
            "Requirement already satisfied: urllib3!=1.25.0,!=1.25.1,<1.26,>=1.21.1 in /usr/local/lib/python3.7/dist-packages (from requests->transformers) (1.24.3)\n",
            "Requirement already satisfied: six in /usr/local/lib/python3.7/dist-packages (from sacremoses->transformers) (1.15.0)\n",
            "Requirement already satisfied: click in /usr/local/lib/python3.7/dist-packages (from sacremoses->transformers) (7.1.2)\n",
            "Requirement already satisfied: joblib in /usr/local/lib/python3.7/dist-packages (from sacremoses->transformers) (1.0.1)\n",
            "Installing collected packages: pyyaml, tokenizers, sacremoses, huggingface-hub, transformers\n",
            "  Attempting uninstall: pyyaml\n",
            "    Found existing installation: PyYAML 3.13\n",
            "    Uninstalling PyYAML-3.13:\n",
            "      Successfully uninstalled PyYAML-3.13\n",
            "Successfully installed huggingface-hub-0.0.19 pyyaml-6.0 sacremoses-0.0.46 tokenizers-0.10.3 transformers-4.11.3\n"
          ]
        }
      ]
    },
    {
      "cell_type": "code",
      "metadata": {
        "id": "social-might"
      },
      "source": [
        "import pandas as pd\n",
        "\n",
        "import warnings\n",
        "warnings.filterwarnings('ignore')\n",
        "\n",
        "from transformers import (AutoModel,AutoModelForMaskedLM, \n",
        "                          AutoTokenizer, LineByLineTextDataset,\n",
        "                          DataCollatorForLanguageModeling,\n",
        "                          Trainer, TrainingArguments)"
      ],
      "id": "social-might",
      "execution_count": null,
      "outputs": []
    },
    {
      "cell_type": "code",
      "metadata": {
        "id": "zj2Gd4w4CtGZ"
      },
      "source": [
        "import re\n",
        "import os\n",
        "import urllib.request\n",
        "import unicodedata\n",
        "import nltk\n",
        "\n",
        "from bs4 import BeautifulSoup\n",
        "from collections import Counter\n",
        "from gensim import corpora\n",
        "from nltk.corpus import wordnet\n",
        "from tqdm.autonotebook import tqdm\n",
        "\n",
        "#記号の除去\n",
        "def clean_text(text):\n",
        "    replaced_text = text.lower()\n",
        "    replaced_text = re.sub(r'[【】]', ' ', replaced_text)       # 【】の除去\n",
        "    replaced_text = re.sub(r'[（）()]', ' ', replaced_text)     # （）の除去\n",
        "    replaced_text = re.sub(r'[［］\\[\\]]', ' ', replaced_text)   # ［］の除去\n",
        "    replaced_text = re.sub(r'[@＠]\\w+', '', replaced_text)  # メンションの除去\n",
        "    replaced_text = re.sub(\n",
        "        r'https?:\\/\\/.*?[\\r\\n ]', '', replaced_text)  # URLの除去\n",
        "    replaced_text = re.sub(r'　', ' ', replaced_text)  # 全角空白の除去\n",
        "    return replaced_text"
      ],
      "id": "zj2Gd4w4CtGZ",
      "execution_count": null,
      "outputs": []
    },
    {
      "cell_type": "code",
      "metadata": {
        "id": "static-niger",
        "colab": {
          "base_uri": "https://localhost:8080/",
          "height": 49,
          "referenced_widgets": [
            "c63d58eac9004f59a4c9df274757e699",
            "a4eade9b30564bd2a866dca422b01eb5",
            "475e5f3a7e7a4552b9ce7107f872b53a",
            "9462b5a166b040bab4315877cb2a64bc",
            "8becf08ec13545f88490c60645843377",
            "e181c3deef664f229886b93e5e967df1",
            "70046085eb894c3fa0c5e24bdce3df4b",
            "b74ffa37b51943929e3fb15639d43ea7",
            "b784e054a54c42a2b43dbaff06017b1d",
            "ee1b266f1d324b53a26efc34c4bed986",
            "f4c42945f12b4f7a88002089cbc1c606"
          ]
        },
        "outputId": "4402a36e-d5de-4c7d-9878-6f9dafb25e22"
      },
      "source": [
        "train_data = pd.read_csv('/content/drive/MyDrive/事故の型分類/sibou_db_h30_15_label.csv')\n",
        "add_train_data = pd.read_csv('/content/drive/MyDrive/事故の型分類/sibou_db_h14-5_label.csv')\n",
        "#add_train_data2 = pd.read_csv('/content/drive/MyDrive/事故の型分類/sisyou_db_h29_01-12_label.csv')\n",
        "\n",
        "data = pd.concat([train_data,add_train_data])\n",
        "train_texts = data[\"sentence\"].tolist()\n",
        "\n",
        "train_texts_clean = []\n",
        "for x in tqdm(range(len(train_texts))):\n",
        "  train_texts_clean.append(clean_text(train_texts[x]))\n",
        "\n",
        "data = train_texts_clean\n",
        "text  = '\\n'.join(data)\n",
        "with open('text.txt','w') as f:\n",
        "    f.write(text)"
      ],
      "id": "static-niger",
      "execution_count": null,
      "outputs": [
        {
          "output_type": "display_data",
          "data": {
            "application/vnd.jupyter.widget-view+json": {
              "model_id": "c63d58eac9004f59a4c9df274757e699",
              "version_minor": 0,
              "version_major": 2
            },
            "text/plain": [
              "  0%|          | 0/37637 [00:00<?, ?it/s]"
            ]
          },
          "metadata": {}
        }
      ]
    },
    {
      "cell_type": "code",
      "metadata": {
        "id": "Holog_ZkPci4",
        "colab": {
          "base_uri": "https://localhost:8080/"
        },
        "outputId": "4274f918-6e81-4d36-8db1-d89bfe6b316a"
      },
      "source": [
        "!pip install fugashi[unidic-lite]\n",
        "!pip install ipadic"
      ],
      "id": "Holog_ZkPci4",
      "execution_count": null,
      "outputs": [
        {
          "output_type": "stream",
          "name": "stdout",
          "text": [
            "Collecting fugashi[unidic-lite]\n",
            "  Downloading fugashi-1.1.1-cp37-cp37m-manylinux_2_5_x86_64.manylinux1_x86_64.whl (490 kB)\n",
            "\u001b[?25l\r\u001b[K     |▊                               | 10 kB 33.9 MB/s eta 0:00:01\r\u001b[K     |█▍                              | 20 kB 35.0 MB/s eta 0:00:01\r\u001b[K     |██                              | 30 kB 22.4 MB/s eta 0:00:01\r\u001b[K     |██▊                             | 40 kB 18.2 MB/s eta 0:00:01\r\u001b[K     |███▍                            | 51 kB 10.7 MB/s eta 0:00:01\r\u001b[K     |████                            | 61 kB 10.5 MB/s eta 0:00:01\r\u001b[K     |████▊                           | 71 kB 9.6 MB/s eta 0:00:01\r\u001b[K     |█████▍                          | 81 kB 10.7 MB/s eta 0:00:01\r\u001b[K     |██████                          | 92 kB 11.1 MB/s eta 0:00:01\r\u001b[K     |██████▊                         | 102 kB 10.0 MB/s eta 0:00:01\r\u001b[K     |███████▍                        | 112 kB 10.0 MB/s eta 0:00:01\r\u001b[K     |████████                        | 122 kB 10.0 MB/s eta 0:00:01\r\u001b[K     |████████▊                       | 133 kB 10.0 MB/s eta 0:00:01\r\u001b[K     |█████████▍                      | 143 kB 10.0 MB/s eta 0:00:01\r\u001b[K     |██████████                      | 153 kB 10.0 MB/s eta 0:00:01\r\u001b[K     |██████████▊                     | 163 kB 10.0 MB/s eta 0:00:01\r\u001b[K     |███████████▍                    | 174 kB 10.0 MB/s eta 0:00:01\r\u001b[K     |████████████                    | 184 kB 10.0 MB/s eta 0:00:01\r\u001b[K     |████████████▊                   | 194 kB 10.0 MB/s eta 0:00:01\r\u001b[K     |█████████████▍                  | 204 kB 10.0 MB/s eta 0:00:01\r\u001b[K     |██████████████                  | 215 kB 10.0 MB/s eta 0:00:01\r\u001b[K     |██████████████▊                 | 225 kB 10.0 MB/s eta 0:00:01\r\u001b[K     |███████████████▍                | 235 kB 10.0 MB/s eta 0:00:01\r\u001b[K     |████████████████                | 245 kB 10.0 MB/s eta 0:00:01\r\u001b[K     |████████████████▊               | 256 kB 10.0 MB/s eta 0:00:01\r\u001b[K     |█████████████████▍              | 266 kB 10.0 MB/s eta 0:00:01\r\u001b[K     |██████████████████              | 276 kB 10.0 MB/s eta 0:00:01\r\u001b[K     |██████████████████▊             | 286 kB 10.0 MB/s eta 0:00:01\r\u001b[K     |███████████████████▍            | 296 kB 10.0 MB/s eta 0:00:01\r\u001b[K     |████████████████████            | 307 kB 10.0 MB/s eta 0:00:01\r\u001b[K     |████████████████████▊           | 317 kB 10.0 MB/s eta 0:00:01\r\u001b[K     |█████████████████████▍          | 327 kB 10.0 MB/s eta 0:00:01\r\u001b[K     |██████████████████████          | 337 kB 10.0 MB/s eta 0:00:01\r\u001b[K     |██████████████████████▊         | 348 kB 10.0 MB/s eta 0:00:01\r\u001b[K     |███████████████████████▍        | 358 kB 10.0 MB/s eta 0:00:01\r\u001b[K     |████████████████████████        | 368 kB 10.0 MB/s eta 0:00:01\r\u001b[K     |████████████████████████▊       | 378 kB 10.0 MB/s eta 0:00:01\r\u001b[K     |█████████████████████████▍      | 389 kB 10.0 MB/s eta 0:00:01\r\u001b[K     |██████████████████████████      | 399 kB 10.0 MB/s eta 0:00:01\r\u001b[K     |██████████████████████████▊     | 409 kB 10.0 MB/s eta 0:00:01\r\u001b[K     |███████████████████████████▍    | 419 kB 10.0 MB/s eta 0:00:01\r\u001b[K     |████████████████████████████    | 430 kB 10.0 MB/s eta 0:00:01\r\u001b[K     |████████████████████████████▊   | 440 kB 10.0 MB/s eta 0:00:01\r\u001b[K     |█████████████████████████████▍  | 450 kB 10.0 MB/s eta 0:00:01\r\u001b[K     |██████████████████████████████  | 460 kB 10.0 MB/s eta 0:00:01\r\u001b[K     |██████████████████████████████▊ | 471 kB 10.0 MB/s eta 0:00:01\r\u001b[K     |███████████████████████████████▍| 481 kB 10.0 MB/s eta 0:00:01\r\u001b[K     |████████████████████████████████| 490 kB 10.0 MB/s \n",
            "\u001b[?25hCollecting unidic-lite\n",
            "  Downloading unidic-lite-1.0.8.tar.gz (47.4 MB)\n",
            "\u001b[K     |████████████████████████████████| 47.4 MB 88 kB/s \n",
            "\u001b[?25hBuilding wheels for collected packages: unidic-lite\n",
            "  Building wheel for unidic-lite (setup.py) ... \u001b[?25l\u001b[?25hdone\n",
            "  Created wheel for unidic-lite: filename=unidic_lite-1.0.8-py3-none-any.whl size=47658836 sha256=d47512447687fb54cb1de74f83d6da051efded921cd24bf2a7237bcc0963ec95\n",
            "  Stored in directory: /root/.cache/pip/wheels/de/69/b1/112140b599f2b13f609d485a99e357ba68df194d2079c5b1a2\n",
            "Successfully built unidic-lite\n",
            "Installing collected packages: unidic-lite, fugashi\n",
            "Successfully installed fugashi-1.1.1 unidic-lite-1.0.8\n",
            "Collecting ipadic\n",
            "  Downloading ipadic-1.0.0.tar.gz (13.4 MB)\n",
            "\u001b[K     |████████████████████████████████| 13.4 MB 8.2 MB/s \n",
            "\u001b[?25hBuilding wheels for collected packages: ipadic\n",
            "  Building wheel for ipadic (setup.py) ... \u001b[?25l\u001b[?25hdone\n",
            "  Created wheel for ipadic: filename=ipadic-1.0.0-py3-none-any.whl size=13556723 sha256=a3ca5620fcece54cb22000058d7a0afad41f7ee9a9f303e88e536eb890f42378\n",
            "  Stored in directory: /root/.cache/pip/wheels/33/8b/99/cf0d27191876637cd3639a560f93aa982d7855ce826c94348b\n",
            "Successfully built ipadic\n",
            "Installing collected packages: ipadic\n",
            "Successfully installed ipadic-1.0.0\n"
          ]
        }
      ]
    },
    {
      "cell_type": "code",
      "metadata": {
        "colab": {
          "base_uri": "https://localhost:8080/",
          "height": 216,
          "referenced_widgets": [
            "3f81b4b7426b451195a22989e9899073",
            "8edf48eb74664e3885f25a94c04c0074",
            "4b8d965d7b384c708503320e437e422b",
            "1bf4fda6c5ea40da9dfb72cdbf4da0e2"
          ]
        },
        "id": "olive-causing",
        "outputId": "c5fdfd36-d295-439e-fb01-b17d485cf6c8"
      },
      "source": [
        "#model_name = \"ALINEAR/albert-japanese-v2\"\n",
        "#model_name = \"rinna/japanese-roberta-base\"\n",
        "model_name = \"cl-tohoku/bert-large-japanese\"\n",
        "\n",
        "model = AutoModelForMaskedLM.from_pretrained(model_name)\n",
        "tokenizer = AutoTokenizer.from_pretrained(model_name)\n",
        "tokenizer.save_pretrained('/content/drive/MyDrive/bert-large');"
      ],
      "id": "olive-causing",
      "execution_count": null,
      "outputs": [
        {
          "output_type": "display_data",
          "data": {
            "application/vnd.jupyter.widget-view+json": {
              "model_id": "3f81b4b7426b451195a22989e9899073",
              "version_minor": 0,
              "version_major": 2
            },
            "text/plain": [
              "Downloading:   0%|          | 0.00/518 [00:00<?, ?B/s]"
            ]
          },
          "metadata": {}
        },
        {
          "output_type": "display_data",
          "data": {
            "application/vnd.jupyter.widget-view+json": {
              "model_id": "8edf48eb74664e3885f25a94c04c0074",
              "version_minor": 0,
              "version_major": 2
            },
            "text/plain": [
              "Downloading:   0%|          | 0.00/1.26G [00:00<?, ?B/s]"
            ]
          },
          "metadata": {}
        },
        {
          "output_type": "stream",
          "name": "stderr",
          "text": [
            "Some weights of the model checkpoint at cl-tohoku/bert-large-japanese were not used when initializing BertForMaskedLM: ['cls.seq_relationship.weight', 'cls.seq_relationship.bias']\n",
            "- This IS expected if you are initializing BertForMaskedLM from the checkpoint of a model trained on another task or with another architecture (e.g. initializing a BertForSequenceClassification model from a BertForPreTraining model).\n",
            "- This IS NOT expected if you are initializing BertForMaskedLM from the checkpoint of a model that you expect to be exactly identical (initializing a BertForSequenceClassification model from a BertForSequenceClassification model).\n"
          ]
        },
        {
          "output_type": "display_data",
          "data": {
            "application/vnd.jupyter.widget-view+json": {
              "model_id": "4b8d965d7b384c708503320e437e422b",
              "version_minor": 0,
              "version_major": 2
            },
            "text/plain": [
              "Downloading:   0%|          | 0.00/174 [00:00<?, ?B/s]"
            ]
          },
          "metadata": {}
        },
        {
          "output_type": "display_data",
          "data": {
            "application/vnd.jupyter.widget-view+json": {
              "model_id": "1bf4fda6c5ea40da9dfb72cdbf4da0e2",
              "version_minor": 0,
              "version_major": 2
            },
            "text/plain": [
              "Downloading:   0%|          | 0.00/230k [00:00<?, ?B/s]"
            ]
          },
          "metadata": {}
        }
      ]
    },
    {
      "cell_type": "markdown",
      "metadata": {
        "id": "br6DzA2CY1zr"
      },
      "source": [
        ""
      ],
      "id": "br6DzA2CY1zr"
    },
    {
      "cell_type": "code",
      "metadata": {
        "id": "natural-calvin"
      },
      "source": [
        "train_dataset = LineByLineTextDataset(\n",
        "    tokenizer=tokenizer,\n",
        "    file_path=\"text.txt\", #mention train text file here\n",
        "    block_size=256)\n",
        "\n",
        "valid_dataset = LineByLineTextDataset(\n",
        "    tokenizer=tokenizer,\n",
        "    file_path=\"text.txt\", #mention valid text file here\n",
        "    block_size=256)\n",
        "\n",
        "data_collator = DataCollatorForLanguageModeling(\n",
        "    tokenizer=tokenizer, mlm=True, mlm_probability=0.15)\n",
        "\n",
        "training_args = TrainingArguments(\n",
        "    output_dir=\"/content/drive/MyDrive/bert-large\", #select model path for checkpoint\n",
        "    overwrite_output_dir=True,\n",
        "    num_train_epochs=3,\n",
        "    per_device_train_batch_size=8,\n",
        "    per_device_eval_batch_size=8,\n",
        "    evaluation_strategy= 'steps',\n",
        "    save_total_limit=2,\n",
        "    eval_steps=2000,\n",
        "    save_steps= 2000,\n",
        "    logging_steps =2000,\n",
        "    metric_for_best_model='eval_loss',\n",
        "    greater_is_better=False,\n",
        "    load_best_model_at_end =True,\n",
        "    prediction_loss_only=True,\n",
        "    report_to = \"none\")\n",
        "\n",
        "trainer = Trainer(\n",
        "    model=model,\n",
        "    args=training_args,\n",
        "    data_collator=data_collator,\n",
        "    train_dataset=train_dataset,\n",
        "    eval_dataset=valid_dataset)"
      ],
      "id": "natural-calvin",
      "execution_count": null,
      "outputs": []
    },
    {
      "cell_type": "code",
      "metadata": {
        "id": "stylish-queue",
        "colab": {
          "base_uri": "https://localhost:8080/",
          "height": 1000
        },
        "outputId": "c3770ef8-8334-4116-a19e-7c6ae266cbc7"
      },
      "source": [
        "trainer.train()\n",
        "trainer.save_model(f'/content/drive/MyDrive/bert-large')"
      ],
      "id": "stylish-queue",
      "execution_count": null,
      "outputs": [
        {
          "output_type": "stream",
          "name": "stderr",
          "text": [
            "***** Running training *****\n",
            "  Num examples = 37663\n",
            "  Num Epochs = 3\n",
            "  Instantaneous batch size per device = 8\n",
            "  Total train batch size (w. parallel, distributed & accumulation) = 8\n",
            "  Gradient Accumulation steps = 1\n",
            "  Total optimization steps = 14124\n"
          ]
        },
        {
          "output_type": "display_data",
          "data": {
            "text/html": [
              "\n",
              "    <div>\n",
              "      \n",
              "      <progress value='14124' max='14124' style='width:300px; height:20px; vertical-align: middle;'></progress>\n",
              "      [14124/14124 2:24:55, Epoch 3/3]\n",
              "    </div>\n",
              "    <table border=\"1\" class=\"dataframe\">\n",
              "  <thead>\n",
              "    <tr style=\"text-align: left;\">\n",
              "      <th>Step</th>\n",
              "      <th>Training Loss</th>\n",
              "      <th>Validation Loss</th>\n",
              "    </tr>\n",
              "  </thead>\n",
              "  <tbody>\n",
              "    <tr>\n",
              "      <td>2000</td>\n",
              "      <td>1.413300</td>\n",
              "      <td>1.216065</td>\n",
              "    </tr>\n",
              "    <tr>\n",
              "      <td>4000</td>\n",
              "      <td>1.245800</td>\n",
              "      <td>1.109140</td>\n",
              "    </tr>\n",
              "    <tr>\n",
              "      <td>6000</td>\n",
              "      <td>1.138100</td>\n",
              "      <td>1.013524</td>\n",
              "    </tr>\n",
              "    <tr>\n",
              "      <td>8000</td>\n",
              "      <td>1.067600</td>\n",
              "      <td>0.944949</td>\n",
              "    </tr>\n",
              "    <tr>\n",
              "      <td>10000</td>\n",
              "      <td>0.995500</td>\n",
              "      <td>0.892672</td>\n",
              "    </tr>\n",
              "    <tr>\n",
              "      <td>12000</td>\n",
              "      <td>0.928300</td>\n",
              "      <td>0.844384</td>\n",
              "    </tr>\n",
              "    <tr>\n",
              "      <td>14000</td>\n",
              "      <td>0.887500</td>\n",
              "      <td>0.814495</td>\n",
              "    </tr>\n",
              "  </tbody>\n",
              "</table><p>"
            ],
            "text/plain": [
              "<IPython.core.display.HTML object>"
            ]
          },
          "metadata": {}
        },
        {
          "output_type": "stream",
          "name": "stderr",
          "text": [
            "***** Running Evaluation *****\n",
            "  Num examples = 37663\n",
            "  Batch size = 8\n",
            "Saving model checkpoint to /content/drive/MyDrive/bert-large/checkpoint-2000\n",
            "Configuration saved in /content/drive/MyDrive/bert-large/checkpoint-2000/config.json\n",
            "Model weights saved in /content/drive/MyDrive/bert-large/checkpoint-2000/pytorch_model.bin\n",
            "***** Running Evaluation *****\n",
            "  Num examples = 37663\n",
            "  Batch size = 8\n",
            "Saving model checkpoint to /content/drive/MyDrive/bert-large/checkpoint-4000\n",
            "Configuration saved in /content/drive/MyDrive/bert-large/checkpoint-4000/config.json\n",
            "Model weights saved in /content/drive/MyDrive/bert-large/checkpoint-4000/pytorch_model.bin\n",
            "***** Running Evaluation *****\n",
            "  Num examples = 37663\n",
            "  Batch size = 8\n",
            "Saving model checkpoint to /content/drive/MyDrive/bert-large/checkpoint-6000\n",
            "Configuration saved in /content/drive/MyDrive/bert-large/checkpoint-6000/config.json\n",
            "Model weights saved in /content/drive/MyDrive/bert-large/checkpoint-6000/pytorch_model.bin\n",
            "Deleting older checkpoint [/content/drive/MyDrive/bert-large/checkpoint-2000] due to args.save_total_limit\n",
            "***** Running Evaluation *****\n",
            "  Num examples = 37663\n",
            "  Batch size = 8\n",
            "Saving model checkpoint to /content/drive/MyDrive/bert-large/checkpoint-8000\n",
            "Configuration saved in /content/drive/MyDrive/bert-large/checkpoint-8000/config.json\n",
            "Model weights saved in /content/drive/MyDrive/bert-large/checkpoint-8000/pytorch_model.bin\n",
            "Deleting older checkpoint [/content/drive/MyDrive/bert-large/checkpoint-4000] due to args.save_total_limit\n",
            "***** Running Evaluation *****\n",
            "  Num examples = 37663\n",
            "  Batch size = 8\n",
            "Saving model checkpoint to /content/drive/MyDrive/bert-large/checkpoint-10000\n",
            "Configuration saved in /content/drive/MyDrive/bert-large/checkpoint-10000/config.json\n",
            "Model weights saved in /content/drive/MyDrive/bert-large/checkpoint-10000/pytorch_model.bin\n",
            "***** Running Evaluation *****\n",
            "  Num examples = 37663\n",
            "  Batch size = 8\n",
            "Saving model checkpoint to /content/drive/MyDrive/bert-large/checkpoint-12000\n",
            "Configuration saved in /content/drive/MyDrive/bert-large/checkpoint-12000/config.json\n",
            "Model weights saved in /content/drive/MyDrive/bert-large/checkpoint-12000/pytorch_model.bin\n",
            "***** Running Evaluation *****\n",
            "  Num examples = 37663\n",
            "  Batch size = 8\n",
            "Saving model checkpoint to /content/drive/MyDrive/bert-large/checkpoint-14000\n",
            "Configuration saved in /content/drive/MyDrive/bert-large/checkpoint-14000/config.json\n",
            "Model weights saved in /content/drive/MyDrive/bert-large/checkpoint-14000/pytorch_model.bin\n",
            "\n",
            "\n",
            "Training completed. Do not forget to share your model on huggingface.co/models =)\n",
            "\n",
            "\n",
            "Loading best model from /content/drive/MyDrive/bert-large/checkpoint-14000 (score: 0.8144949674606323).\n",
            "Saving model checkpoint to /content/drive/MyDrive/bert-large\n",
            "Configuration saved in /content/drive/MyDrive/bert-large/config.json\n",
            "Model weights saved in /content/drive/MyDrive/bert-large/pytorch_model.bin\n"
          ]
        }
      ]
    },
    {
      "cell_type": "code",
      "metadata": {
        "id": "noticed-potato"
      },
      "source": [
        ""
      ],
      "id": "noticed-potato",
      "execution_count": null,
      "outputs": []
    },
    {
      "cell_type": "markdown",
      "metadata": {
        "id": "-xywibZwTvc8"
      },
      "source": [
        "roberta base のスコア\n",
        "\n",
        "Step\tTraining Loss\tValidation Loss\tRuntime\tSamples Per Second\n",
        "\n",
        "200\tNo log\t1.441347\t32.183100\t88.276000\n",
        "\n",
        "400\tNo log\t1.383025\t32.088000\t88.538000\n",
        "\n",
        "600\t1.550100\t1.340914\t32.012800\t88.746000\n",
        "\n",
        "800\t1.550100\t1.319844\t32.065800\t88.599000"
      ],
      "id": "-xywibZwTvc8"
    }
  ]
}